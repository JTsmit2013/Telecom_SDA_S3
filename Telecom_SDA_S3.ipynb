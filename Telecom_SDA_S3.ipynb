{
 "cells": [
  {
   "cell_type": "markdown",
   "metadata": {},
   "source": [
    "# SDA Revenue Analysis of Megaline Prepaid Plans: Surf vs. Ultimate"
   ]
  },
  {
   "cell_type": "markdown",
   "metadata": {},
   "source": [
    "Megaline, a leading telecom operator, offers its customers two prepaid plans: Surf and Ultimate. The company seeks to optimize its advertising budget by identifying which plan generates more revenue. To achieve this,the project will conduct a detailed analysis of customer behavior using data from a sample of 500 clients in 2018.\n",
    "\n",
    "***This project involves:***\n",
    "\n",
    "1. Preparing and cleaning the data to ensure accurate analysis.\n",
    "2. Analyzing usage patterns, including calls, texts, and internet consumption, for each plan.\n",
    "3. Calculating monthly revenue per user, taking into account plan limits and additional charges.\n",
    "4. Testing hypotheses to identify statistically significant revenue differences between the plans and among various customer demographics.\n",
    "\n",
    "By the end of this project, it will provide actionable insights to help Megaline allocate its advertising resources effectively and enhance its revenue strategy."
   ]
  },
  {
   "cell_type": "markdown",
   "metadata": {},
   "source": [
    "***The 5 data frames that compose this project are:***\n",
    "\n",
    "**users_df**\n",
    "- includes data about: user ids, user name and age, user location, and type of plan\n",
    "\n",
    "**calls_df**\n",
    "- incudes data about amount and duration of user calls for specific dates\n",
    "\n",
    "**messages_df**\n",
    "- contains data on amount of user messages sent for specific dates\n",
    "\n",
    "**internet_df**\n",
    "- amount of internet used (mb) by user for specific dates\n",
    "\n",
    "**plans_df**\n",
    "- information on the two different plans for example what is included in the monthly plan and the orverage costs"
   ]
  },
  {
   "cell_type": "markdown",
   "metadata": {},
   "source": [
    "## Initialization"
   ]
  },
  {
   "cell_type": "code",
   "execution_count": null,
   "metadata": {},
   "outputs": [],
   "source": [
    "import pandas as pd\n",
    "import numpy as np\n",
    "import matplotlib.pyplot as plt\n",
    "from scipy import stats as st\n",
    "import math as mt\n",
    "import seaborn as sns"
   ]
  },
  {
   "cell_type": "markdown",
   "metadata": {},
   "source": [
    "## Load data"
   ]
  },
  {
   "cell_type": "code",
   "execution_count": 2,
   "metadata": {},
   "outputs": [],
   "source": [
    "users_df = pd.read_csv('/datasets/megaline_users.csv' )\n",
    "calls_df = pd.read_csv('/datasets/megaline_calls.csv')\n",
    "messages_df = pd.read_csv('/datasets/megaline_messages.csv')\n",
    "internet_df = pd.read_csv('/datasets/megaline_internet.csv')\n",
    "plans_df = pd.read_csv('/datasets/megaline_plans.csv')"
   ]
  },
  {
   "cell_type": "code",
   "execution_count": 3,
   "metadata": {},
   "outputs": [
    {
     "name": "stdout",
     "output_type": "stream",
     "text": [
      "500\n"
     ]
    }
   ],
   "source": [
    "# Merge unique user IDs from all data frames into one set\n",
    "combined_user_ids = set(users_df['user_id'].unique()) | set(calls_df['user_id'].unique()) | set(messages_df['user_id'].unique()) | set(internet_df['user_id'].unique())\n",
    "\n",
    "# Calculate the total number of unique user IDs\n",
    "total_unique_user_ids = len(combined_user_ids)\n",
    "\n",
    "print(total_unique_user_ids)"
   ]
  },
  {
   "cell_type": "markdown",
   "metadata": {},
   "source": [
    "***Take Away:***\n",
    "\n",
    "- There are different amounts of unique user_ids in all the data frames. However, there are in total 500 unique user_id's"
   ]
  },
  {
   "cell_type": "markdown",
   "metadata": {},
   "source": [
    "## Prepare the data"
   ]
  },
  {
   "cell_type": "markdown",
   "metadata": {},
   "source": [
    "## Plans"
   ]
  },
  {
   "cell_type": "code",
   "execution_count": 4,
   "metadata": {},
   "outputs": [
    {
     "name": "stdout",
     "output_type": "stream",
     "text": [
      "<class 'pandas.core.frame.DataFrame'>\n",
      "RangeIndex: 2 entries, 0 to 1\n",
      "Data columns (total 8 columns):\n",
      " #   Column                 Non-Null Count  Dtype  \n",
      "---  ------                 --------------  -----  \n",
      " 0   messages_included      2 non-null      int64  \n",
      " 1   mb_per_month_included  2 non-null      int64  \n",
      " 2   minutes_included       2 non-null      int64  \n",
      " 3   usd_monthly_pay        2 non-null      int64  \n",
      " 4   usd_per_gb             2 non-null      int64  \n",
      " 5   usd_per_message        2 non-null      float64\n",
      " 6   usd_per_minute         2 non-null      float64\n",
      " 7   plan_name              2 non-null      object \n",
      "dtypes: float64(2), int64(5), object(1)\n",
      "memory usage: 256.0+ bytes\n"
     ]
    }
   ],
   "source": [
    "plans_df.info()"
   ]
  },
  {
   "cell_type": "code",
   "execution_count": 5,
   "metadata": {},
   "outputs": [
    {
     "data": {
      "text/html": [
       "<div>\n",
       "<style scoped>\n",
       "    .dataframe tbody tr th:only-of-type {\n",
       "        vertical-align: middle;\n",
       "    }\n",
       "\n",
       "    .dataframe tbody tr th {\n",
       "        vertical-align: top;\n",
       "    }\n",
       "\n",
       "    .dataframe thead th {\n",
       "        text-align: right;\n",
       "    }\n",
       "</style>\n",
       "<table border=\"1\" class=\"dataframe\">\n",
       "  <thead>\n",
       "    <tr style=\"text-align: right;\">\n",
       "      <th></th>\n",
       "      <th>messages_included</th>\n",
       "      <th>mb_per_month_included</th>\n",
       "      <th>minutes_included</th>\n",
       "      <th>usd_monthly_pay</th>\n",
       "      <th>usd_per_gb</th>\n",
       "      <th>usd_per_message</th>\n",
       "      <th>usd_per_minute</th>\n",
       "      <th>plan_name</th>\n",
       "    </tr>\n",
       "  </thead>\n",
       "  <tbody>\n",
       "    <tr>\n",
       "      <th>0</th>\n",
       "      <td>50</td>\n",
       "      <td>15360</td>\n",
       "      <td>500</td>\n",
       "      <td>20</td>\n",
       "      <td>10</td>\n",
       "      <td>0.03</td>\n",
       "      <td>0.03</td>\n",
       "      <td>surf</td>\n",
       "    </tr>\n",
       "    <tr>\n",
       "      <th>1</th>\n",
       "      <td>1000</td>\n",
       "      <td>30720</td>\n",
       "      <td>3000</td>\n",
       "      <td>70</td>\n",
       "      <td>7</td>\n",
       "      <td>0.01</td>\n",
       "      <td>0.01</td>\n",
       "      <td>ultimate</td>\n",
       "    </tr>\n",
       "  </tbody>\n",
       "</table>\n",
       "</div>"
      ],
      "text/plain": [
       "   messages_included  mb_per_month_included  minutes_included  \\\n",
       "0                 50                  15360               500   \n",
       "1               1000                  30720              3000   \n",
       "\n",
       "   usd_monthly_pay  usd_per_gb  usd_per_message  usd_per_minute plan_name  \n",
       "0               20          10             0.03            0.03      surf  \n",
       "1               70           7             0.01            0.01  ultimate  "
      ]
     },
     "execution_count": 5,
     "metadata": {},
     "output_type": "execute_result"
    }
   ],
   "source": [
    "plans_df.head()"
   ]
  },
  {
   "cell_type": "markdown",
   "metadata": {},
   "source": [
    "### plans_df summary and changes:\n",
    "- plan data with no missing information"
   ]
  },
  {
   "cell_type": "markdown",
   "metadata": {},
   "source": [
    "## Users"
   ]
  },
  {
   "cell_type": "code",
   "execution_count": 6,
   "metadata": {},
   "outputs": [
    {
     "name": "stdout",
     "output_type": "stream",
     "text": [
      "<class 'pandas.core.frame.DataFrame'>\n",
      "RangeIndex: 500 entries, 0 to 499\n",
      "Data columns (total 8 columns):\n",
      " #   Column      Non-Null Count  Dtype \n",
      "---  ------      --------------  ----- \n",
      " 0   user_id     500 non-null    int64 \n",
      " 1   first_name  500 non-null    object\n",
      " 2   last_name   500 non-null    object\n",
      " 3   age         500 non-null    int64 \n",
      " 4   city        500 non-null    object\n",
      " 5   reg_date    500 non-null    object\n",
      " 6   plan        500 non-null    object\n",
      " 7   churn_date  34 non-null     object\n",
      "dtypes: int64(2), object(6)\n",
      "memory usage: 31.4+ KB\n"
     ]
    }
   ],
   "source": [
    "users_df.info()"
   ]
  },
  {
   "cell_type": "code",
   "execution_count": 7,
   "metadata": {},
   "outputs": [
    {
     "data": {
      "text/html": [
       "<div>\n",
       "<style scoped>\n",
       "    .dataframe tbody tr th:only-of-type {\n",
       "        vertical-align: middle;\n",
       "    }\n",
       "\n",
       "    .dataframe tbody tr th {\n",
       "        vertical-align: top;\n",
       "    }\n",
       "\n",
       "    .dataframe thead th {\n",
       "        text-align: right;\n",
       "    }\n",
       "</style>\n",
       "<table border=\"1\" class=\"dataframe\">\n",
       "  <thead>\n",
       "    <tr style=\"text-align: right;\">\n",
       "      <th></th>\n",
       "      <th>user_id</th>\n",
       "      <th>first_name</th>\n",
       "      <th>last_name</th>\n",
       "      <th>age</th>\n",
       "      <th>city</th>\n",
       "      <th>reg_date</th>\n",
       "      <th>plan</th>\n",
       "      <th>churn_date</th>\n",
       "    </tr>\n",
       "  </thead>\n",
       "  <tbody>\n",
       "    <tr>\n",
       "      <th>0</th>\n",
       "      <td>1000</td>\n",
       "      <td>Anamaria</td>\n",
       "      <td>Bauer</td>\n",
       "      <td>45</td>\n",
       "      <td>Atlanta-Sandy Springs-Roswell, GA MSA</td>\n",
       "      <td>2018-12-24</td>\n",
       "      <td>ultimate</td>\n",
       "      <td>NaN</td>\n",
       "    </tr>\n",
       "    <tr>\n",
       "      <th>1</th>\n",
       "      <td>1001</td>\n",
       "      <td>Mickey</td>\n",
       "      <td>Wilkerson</td>\n",
       "      <td>28</td>\n",
       "      <td>Seattle-Tacoma-Bellevue, WA MSA</td>\n",
       "      <td>2018-08-13</td>\n",
       "      <td>surf</td>\n",
       "      <td>NaN</td>\n",
       "    </tr>\n",
       "    <tr>\n",
       "      <th>2</th>\n",
       "      <td>1002</td>\n",
       "      <td>Carlee</td>\n",
       "      <td>Hoffman</td>\n",
       "      <td>36</td>\n",
       "      <td>Las Vegas-Henderson-Paradise, NV MSA</td>\n",
       "      <td>2018-10-21</td>\n",
       "      <td>surf</td>\n",
       "      <td>NaN</td>\n",
       "    </tr>\n",
       "    <tr>\n",
       "      <th>3</th>\n",
       "      <td>1003</td>\n",
       "      <td>Reynaldo</td>\n",
       "      <td>Jenkins</td>\n",
       "      <td>52</td>\n",
       "      <td>Tulsa, OK MSA</td>\n",
       "      <td>2018-01-28</td>\n",
       "      <td>surf</td>\n",
       "      <td>NaN</td>\n",
       "    </tr>\n",
       "    <tr>\n",
       "      <th>4</th>\n",
       "      <td>1004</td>\n",
       "      <td>Leonila</td>\n",
       "      <td>Thompson</td>\n",
       "      <td>40</td>\n",
       "      <td>Seattle-Tacoma-Bellevue, WA MSA</td>\n",
       "      <td>2018-05-23</td>\n",
       "      <td>surf</td>\n",
       "      <td>NaN</td>\n",
       "    </tr>\n",
       "  </tbody>\n",
       "</table>\n",
       "</div>"
      ],
      "text/plain": [
       "   user_id first_name  last_name  age                                   city  \\\n",
       "0     1000   Anamaria      Bauer   45  Atlanta-Sandy Springs-Roswell, GA MSA   \n",
       "1     1001     Mickey  Wilkerson   28        Seattle-Tacoma-Bellevue, WA MSA   \n",
       "2     1002     Carlee    Hoffman   36   Las Vegas-Henderson-Paradise, NV MSA   \n",
       "3     1003   Reynaldo    Jenkins   52                          Tulsa, OK MSA   \n",
       "4     1004    Leonila   Thompson   40        Seattle-Tacoma-Bellevue, WA MSA   \n",
       "\n",
       "     reg_date      plan churn_date  \n",
       "0  2018-12-24  ultimate        NaN  \n",
       "1  2018-08-13      surf        NaN  \n",
       "2  2018-10-21      surf        NaN  \n",
       "3  2018-01-28      surf        NaN  \n",
       "4  2018-05-23      surf        NaN  "
      ]
     },
     "metadata": {},
     "output_type": "display_data"
    }
   ],
   "source": [
    "display(users_df.head())"
   ]
  },
  {
   "cell_type": "markdown",
   "metadata": {},
   "source": [
    "### Fix Data"
   ]
  },
  {
   "cell_type": "code",
   "execution_count": null,
   "metadata": {},
   "outputs": [
    {
     "data": {
      "text/plain": [
       "0"
      ]
     },
     "execution_count": 8,
     "metadata": {},
     "output_type": "execute_result"
    }
   ],
   "source": [
    "users_df['user_id'].value_counts() # checking for duplicated user ids\n",
    "users_df.duplicated().sum() # checking for full line duplicatation\n",
    "users_df.duplicated(subset=['first_name','last_name']).sum() \n",
    "# checking for user name duplication to make sure each user is only in the system once"
   ]
  },
  {
   "cell_type": "markdown",
   "metadata": {},
   "source": [
    "### Enrich Data"
   ]
  },
  {
   "cell_type": "code",
   "execution_count": 9,
   "metadata": {},
   "outputs": [
    {
     "name": "stdout",
     "output_type": "stream",
     "text": [
      "<class 'pandas.core.frame.DataFrame'>\n",
      "RangeIndex: 500 entries, 0 to 499\n",
      "Data columns (total 8 columns):\n",
      " #   Column      Non-Null Count  Dtype         \n",
      "---  ------      --------------  -----         \n",
      " 0   user_id     500 non-null    int64         \n",
      " 1   first_name  500 non-null    object        \n",
      " 2   last_name   500 non-null    object        \n",
      " 3   age         500 non-null    int64         \n",
      " 4   city        500 non-null    object        \n",
      " 5   reg_date    500 non-null    datetime64[ns]\n",
      " 6   plan        500 non-null    object        \n",
      " 7   churn_date  34 non-null     datetime64[ns]\n",
      "dtypes: datetime64[ns](2), int64(2), object(4)\n",
      "memory usage: 31.4+ KB\n"
     ]
    }
   ],
   "source": [
    "#Change Dtype to dt instead of object for 'reg_date' and 'churn_date'\n",
    "users_df['reg_date'] = pd.to_datetime(users_df['reg_date'])\n",
    "users_df['churn_date'] = pd.to_datetime(users_df['churn_date'])\n",
    "users_df.info()"
   ]
  },
  {
   "cell_type": "markdown",
   "metadata": {},
   "source": [
    "### users_df summary and changes:\n",
    "- churn_date — the value is missing means the calling plan was being used when this database was extracted\n",
    "- only 34 customers have left this calling plan\n",
    "- no duplicate user ids\n",
    "- no complete duplicated rows\n",
    "- no duplicated first and last names / mean no users with mutiple user ids\n",
    "- changed Dtype to datetime instead of object for 'reg_date' and 'churn_date'"
   ]
  },
  {
   "cell_type": "markdown",
   "metadata": {},
   "source": [
    "## Calls"
   ]
  },
  {
   "cell_type": "code",
   "execution_count": 10,
   "metadata": {},
   "outputs": [
    {
     "name": "stdout",
     "output_type": "stream",
     "text": [
      "<class 'pandas.core.frame.DataFrame'>\n",
      "RangeIndex: 137735 entries, 0 to 137734\n",
      "Data columns (total 4 columns):\n",
      " #   Column     Non-Null Count   Dtype  \n",
      "---  ------     --------------   -----  \n",
      " 0   id         137735 non-null  object \n",
      " 1   user_id    137735 non-null  int64  \n",
      " 2   call_date  137735 non-null  object \n",
      " 3   duration   137735 non-null  float64\n",
      "dtypes: float64(1), int64(1), object(2)\n",
      "memory usage: 4.2+ MB\n"
     ]
    }
   ],
   "source": [
    "calls_df.info()"
   ]
  },
  {
   "cell_type": "code",
   "execution_count": 11,
   "metadata": {},
   "outputs": [
    {
     "data": {
      "text/html": [
       "<div>\n",
       "<style scoped>\n",
       "    .dataframe tbody tr th:only-of-type {\n",
       "        vertical-align: middle;\n",
       "    }\n",
       "\n",
       "    .dataframe tbody tr th {\n",
       "        vertical-align: top;\n",
       "    }\n",
       "\n",
       "    .dataframe thead th {\n",
       "        text-align: right;\n",
       "    }\n",
       "</style>\n",
       "<table border=\"1\" class=\"dataframe\">\n",
       "  <thead>\n",
       "    <tr style=\"text-align: right;\">\n",
       "      <th></th>\n",
       "      <th>id</th>\n",
       "      <th>user_id</th>\n",
       "      <th>call_date</th>\n",
       "      <th>duration</th>\n",
       "    </tr>\n",
       "  </thead>\n",
       "  <tbody>\n",
       "    <tr>\n",
       "      <th>0</th>\n",
       "      <td>1000_93</td>\n",
       "      <td>1000</td>\n",
       "      <td>2018-12-27</td>\n",
       "      <td>8.52</td>\n",
       "    </tr>\n",
       "    <tr>\n",
       "      <th>1</th>\n",
       "      <td>1000_145</td>\n",
       "      <td>1000</td>\n",
       "      <td>2018-12-27</td>\n",
       "      <td>13.66</td>\n",
       "    </tr>\n",
       "    <tr>\n",
       "      <th>2</th>\n",
       "      <td>1000_247</td>\n",
       "      <td>1000</td>\n",
       "      <td>2018-12-27</td>\n",
       "      <td>14.48</td>\n",
       "    </tr>\n",
       "    <tr>\n",
       "      <th>3</th>\n",
       "      <td>1000_309</td>\n",
       "      <td>1000</td>\n",
       "      <td>2018-12-28</td>\n",
       "      <td>5.76</td>\n",
       "    </tr>\n",
       "    <tr>\n",
       "      <th>4</th>\n",
       "      <td>1000_380</td>\n",
       "      <td>1000</td>\n",
       "      <td>2018-12-30</td>\n",
       "      <td>4.22</td>\n",
       "    </tr>\n",
       "  </tbody>\n",
       "</table>\n",
       "</div>"
      ],
      "text/plain": [
       "         id  user_id   call_date  duration\n",
       "0   1000_93     1000  2018-12-27      8.52\n",
       "1  1000_145     1000  2018-12-27     13.66\n",
       "2  1000_247     1000  2018-12-27     14.48\n",
       "3  1000_309     1000  2018-12-28      5.76\n",
       "4  1000_380     1000  2018-12-30      4.22"
      ]
     },
     "metadata": {},
     "output_type": "display_data"
    }
   ],
   "source": [
    "display(calls_df.head())"
   ]
  },
  {
   "cell_type": "markdown",
   "metadata": {},
   "source": [
    "### Fix data"
   ]
  },
  {
   "cell_type": "code",
   "execution_count": 12,
   "metadata": {},
   "outputs": [
    {
     "data": {
      "text/plain": [
       "0"
      ]
     },
     "execution_count": 12,
     "metadata": {},
     "output_type": "execute_result"
    }
   ],
   "source": [
    "calls_df.duplicated().sum() # checking fulling duplicated lines\n",
    "calls_df['id'].duplicated().sum() # checking to see if the id is duplicated"
   ]
  },
  {
   "cell_type": "markdown",
   "metadata": {},
   "source": [
    "### Enrich data"
   ]
  },
  {
   "cell_type": "code",
   "execution_count": 13,
   "metadata": {},
   "outputs": [
    {
     "name": "stdout",
     "output_type": "stream",
     "text": [
      "<class 'pandas.core.frame.DataFrame'>\n",
      "RangeIndex: 137735 entries, 0 to 137734\n",
      "Data columns (total 4 columns):\n",
      " #   Column     Non-Null Count   Dtype         \n",
      "---  ------     --------------   -----         \n",
      " 0   id         137735 non-null  object        \n",
      " 1   user_id    137735 non-null  int64         \n",
      " 2   call_date  137735 non-null  datetime64[ns]\n",
      " 3   duration   137735 non-null  float64       \n",
      "dtypes: datetime64[ns](1), float64(1), int64(1), object(1)\n",
      "memory usage: 4.2+ MB\n"
     ]
    }
   ],
   "source": [
    "# changing 'call_date' to datetime instead of object\n",
    "calls_df['call_date'] = pd.to_datetime(calls_df['call_date'])\n",
    "calls_df.info()\n",
    "\n",
    "#calls_df['call_date_month'] = calls_df['call_date'].dt.month_name()\n",
    "calls_df['call_month_num'] = calls_df['call_date'].dt.month\n",
    "# adding month name and number to make it easier to aggregate by month"
   ]
  },
  {
   "cell_type": "markdown",
   "metadata": {},
   "source": [
    "### calls_df summary and changes:\n",
    "\n",
    "- no null values in any columns\n",
    "- no fully duplicated lines\n",
    "- no duplicated calls in the data\n",
    "- changed Dtype of 'call_date' to datetime instead of object\n",
    "- added a month number data column to make it easier to veiw the calls by month\n"
   ]
  },
  {
   "cell_type": "markdown",
   "metadata": {},
   "source": [
    "## Messages"
   ]
  },
  {
   "cell_type": "code",
   "execution_count": 14,
   "metadata": {},
   "outputs": [
    {
     "name": "stdout",
     "output_type": "stream",
     "text": [
      "<class 'pandas.core.frame.DataFrame'>\n",
      "RangeIndex: 76051 entries, 0 to 76050\n",
      "Data columns (total 3 columns):\n",
      " #   Column        Non-Null Count  Dtype \n",
      "---  ------        --------------  ----- \n",
      " 0   id            76051 non-null  object\n",
      " 1   user_id       76051 non-null  int64 \n",
      " 2   message_date  76051 non-null  object\n",
      "dtypes: int64(1), object(2)\n",
      "memory usage: 1.7+ MB\n"
     ]
    }
   ],
   "source": [
    "messages_df.info()"
   ]
  },
  {
   "cell_type": "code",
   "execution_count": 15,
   "metadata": {},
   "outputs": [
    {
     "data": {
      "text/html": [
       "<div>\n",
       "<style scoped>\n",
       "    .dataframe tbody tr th:only-of-type {\n",
       "        vertical-align: middle;\n",
       "    }\n",
       "\n",
       "    .dataframe tbody tr th {\n",
       "        vertical-align: top;\n",
       "    }\n",
       "\n",
       "    .dataframe thead th {\n",
       "        text-align: right;\n",
       "    }\n",
       "</style>\n",
       "<table border=\"1\" class=\"dataframe\">\n",
       "  <thead>\n",
       "    <tr style=\"text-align: right;\">\n",
       "      <th></th>\n",
       "      <th>id</th>\n",
       "      <th>user_id</th>\n",
       "      <th>message_date</th>\n",
       "    </tr>\n",
       "  </thead>\n",
       "  <tbody>\n",
       "    <tr>\n",
       "      <th>0</th>\n",
       "      <td>1000_125</td>\n",
       "      <td>1000</td>\n",
       "      <td>2018-12-27</td>\n",
       "    </tr>\n",
       "    <tr>\n",
       "      <th>1</th>\n",
       "      <td>1000_160</td>\n",
       "      <td>1000</td>\n",
       "      <td>2018-12-31</td>\n",
       "    </tr>\n",
       "    <tr>\n",
       "      <th>2</th>\n",
       "      <td>1000_223</td>\n",
       "      <td>1000</td>\n",
       "      <td>2018-12-31</td>\n",
       "    </tr>\n",
       "    <tr>\n",
       "      <th>3</th>\n",
       "      <td>1000_251</td>\n",
       "      <td>1000</td>\n",
       "      <td>2018-12-27</td>\n",
       "    </tr>\n",
       "    <tr>\n",
       "      <th>4</th>\n",
       "      <td>1000_255</td>\n",
       "      <td>1000</td>\n",
       "      <td>2018-12-26</td>\n",
       "    </tr>\n",
       "  </tbody>\n",
       "</table>\n",
       "</div>"
      ],
      "text/plain": [
       "         id  user_id message_date\n",
       "0  1000_125     1000   2018-12-27\n",
       "1  1000_160     1000   2018-12-31\n",
       "2  1000_223     1000   2018-12-31\n",
       "3  1000_251     1000   2018-12-27\n",
       "4  1000_255     1000   2018-12-26"
      ]
     },
     "metadata": {},
     "output_type": "display_data"
    }
   ],
   "source": [
    "display(messages_df.head())"
   ]
  },
  {
   "cell_type": "markdown",
   "metadata": {},
   "source": [
    "### Fix data"
   ]
  },
  {
   "cell_type": "code",
   "execution_count": 16,
   "metadata": {},
   "outputs": [
    {
     "data": {
      "text/plain": [
       "0"
      ]
     },
     "execution_count": 16,
     "metadata": {},
     "output_type": "execute_result"
    }
   ],
   "source": [
    "messages_df.duplicated().sum() # checking for fully duplicated lines\n",
    "messages_df['id'].duplicated().sum() # checking for duplicated ids"
   ]
  },
  {
   "cell_type": "markdown",
   "metadata": {},
   "source": [
    "### Enrich data"
   ]
  },
  {
   "cell_type": "code",
   "execution_count": 17,
   "metadata": {},
   "outputs": [],
   "source": [
    "# changing 'call_date' to datetime instead of object\n",
    "messages_df['message_date'] = pd.to_datetime(messages_df['message_date'] )\n",
    "\n",
    "#messages_df['message_month'] = messages_df['message_date'].dt.month_name() \n",
    "messages_df['message_month_num'] = messages_df['message_date'].dt.month\n",
    "# adding month name to make it easier to aggregate by month"
   ]
  },
  {
   "cell_type": "markdown",
   "metadata": {},
   "source": [
    "### messages_df summary and changes:\n",
    "- no missing data\n",
    "- changed dtype to datetime instead of object for message_date\n",
    "- no fully duplicated lines\n",
    "- no duplicated call 'id's\n",
    "- added a month number column to make it easier to aggregate by month"
   ]
  },
  {
   "cell_type": "markdown",
   "metadata": {},
   "source": [
    "## Internet"
   ]
  },
  {
   "cell_type": "code",
   "execution_count": 18,
   "metadata": {},
   "outputs": [
    {
     "name": "stdout",
     "output_type": "stream",
     "text": [
      "<class 'pandas.core.frame.DataFrame'>\n",
      "RangeIndex: 104825 entries, 0 to 104824\n",
      "Data columns (total 4 columns):\n",
      " #   Column        Non-Null Count   Dtype  \n",
      "---  ------        --------------   -----  \n",
      " 0   id            104825 non-null  object \n",
      " 1   user_id       104825 non-null  int64  \n",
      " 2   session_date  104825 non-null  object \n",
      " 3   mb_used       104825 non-null  float64\n",
      "dtypes: float64(1), int64(1), object(2)\n",
      "memory usage: 3.2+ MB\n"
     ]
    }
   ],
   "source": [
    "internet_df.info()"
   ]
  },
  {
   "cell_type": "code",
   "execution_count": 19,
   "metadata": {},
   "outputs": [
    {
     "data": {
      "text/html": [
       "<div>\n",
       "<style scoped>\n",
       "    .dataframe tbody tr th:only-of-type {\n",
       "        vertical-align: middle;\n",
       "    }\n",
       "\n",
       "    .dataframe tbody tr th {\n",
       "        vertical-align: top;\n",
       "    }\n",
       "\n",
       "    .dataframe thead th {\n",
       "        text-align: right;\n",
       "    }\n",
       "</style>\n",
       "<table border=\"1\" class=\"dataframe\">\n",
       "  <thead>\n",
       "    <tr style=\"text-align: right;\">\n",
       "      <th></th>\n",
       "      <th>id</th>\n",
       "      <th>user_id</th>\n",
       "      <th>session_date</th>\n",
       "      <th>mb_used</th>\n",
       "    </tr>\n",
       "  </thead>\n",
       "  <tbody>\n",
       "    <tr>\n",
       "      <th>0</th>\n",
       "      <td>1000_13</td>\n",
       "      <td>1000</td>\n",
       "      <td>2018-12-29</td>\n",
       "      <td>89.86</td>\n",
       "    </tr>\n",
       "    <tr>\n",
       "      <th>1</th>\n",
       "      <td>1000_204</td>\n",
       "      <td>1000</td>\n",
       "      <td>2018-12-31</td>\n",
       "      <td>0.00</td>\n",
       "    </tr>\n",
       "    <tr>\n",
       "      <th>2</th>\n",
       "      <td>1000_379</td>\n",
       "      <td>1000</td>\n",
       "      <td>2018-12-28</td>\n",
       "      <td>660.40</td>\n",
       "    </tr>\n",
       "    <tr>\n",
       "      <th>3</th>\n",
       "      <td>1000_413</td>\n",
       "      <td>1000</td>\n",
       "      <td>2018-12-26</td>\n",
       "      <td>270.99</td>\n",
       "    </tr>\n",
       "    <tr>\n",
       "      <th>4</th>\n",
       "      <td>1000_442</td>\n",
       "      <td>1000</td>\n",
       "      <td>2018-12-27</td>\n",
       "      <td>880.22</td>\n",
       "    </tr>\n",
       "  </tbody>\n",
       "</table>\n",
       "</div>"
      ],
      "text/plain": [
       "         id  user_id session_date  mb_used\n",
       "0   1000_13     1000   2018-12-29    89.86\n",
       "1  1000_204     1000   2018-12-31     0.00\n",
       "2  1000_379     1000   2018-12-28   660.40\n",
       "3  1000_413     1000   2018-12-26   270.99\n",
       "4  1000_442     1000   2018-12-27   880.22"
      ]
     },
     "metadata": {},
     "output_type": "display_data"
    }
   ],
   "source": [
    "display(internet_df.head())"
   ]
  },
  {
   "cell_type": "markdown",
   "metadata": {},
   "source": [
    "### Fix data"
   ]
  },
  {
   "cell_type": "code",
   "execution_count": 20,
   "metadata": {},
   "outputs": [
    {
     "data": {
      "text/plain": [
       "0"
      ]
     },
     "execution_count": 20,
     "metadata": {},
     "output_type": "execute_result"
    }
   ],
   "source": [
    "internet_df.duplicated().sum() # checking for fully duplicated lines\n",
    "internet_df['id'].duplicated().sum() # checking for duplicated call 'id's\n"
   ]
  },
  {
   "cell_type": "markdown",
   "metadata": {},
   "source": [
    "### Enrich data"
   ]
  },
  {
   "cell_type": "code",
   "execution_count": 21,
   "metadata": {},
   "outputs": [],
   "source": [
    "# changing 'call_date' to datetime instead of object\n",
    "internet_df['session_date'] = pd.to_datetime(internet_df['session_date'])\n",
    "\n",
    "#internet_df['internet_month'] = internet_df['session_date'].dt.month_name() \n",
    "internet_df['internet_month_num'] = internet_df['session_date'].dt.month\n",
    "# adding month name to make it easier to aggregate by month"
   ]
  },
  {
   "cell_type": "markdown",
   "metadata": {},
   "source": [
    "### internet_df summary and changes:\n",
    "- no missing data\n",
    "- no fully duplicated lines\n",
    "- no duplicated call 'id's\n",
    "- changed Dtype of 'session_date' to datetime instead of object\n",
    "- added a month number column to make it easier to aggregate by month"
   ]
  },
  {
   "cell_type": "markdown",
   "metadata": {},
   "source": [
    "<div class=\"alert alert-info\" style=\"border-left: 7px solid blue\">\n",
    "<b>Looking into the zeros below.\n",
    "</b>\n",
    "</div>"
   ]
  },
  {
   "cell_type": "code",
   "execution_count": 22,
   "metadata": {},
   "outputs": [
    {
     "data": {
      "text/html": [
       "<div>\n",
       "<style scoped>\n",
       "    .dataframe tbody tr th:only-of-type {\n",
       "        vertical-align: middle;\n",
       "    }\n",
       "\n",
       "    .dataframe tbody tr th {\n",
       "        vertical-align: top;\n",
       "    }\n",
       "\n",
       "    .dataframe thead th {\n",
       "        text-align: right;\n",
       "    }\n",
       "</style>\n",
       "<table border=\"1\" class=\"dataframe\">\n",
       "  <thead>\n",
       "    <tr style=\"text-align: right;\">\n",
       "      <th></th>\n",
       "      <th>user_id</th>\n",
       "      <th>duration</th>\n",
       "      <th>call_month_num</th>\n",
       "    </tr>\n",
       "  </thead>\n",
       "  <tbody>\n",
       "    <tr>\n",
       "      <th>count</th>\n",
       "      <td>137735.000000</td>\n",
       "      <td>137735.000000</td>\n",
       "      <td>137735.000000</td>\n",
       "    </tr>\n",
       "    <tr>\n",
       "      <th>mean</th>\n",
       "      <td>1247.658046</td>\n",
       "      <td>6.745927</td>\n",
       "      <td>9.320797</td>\n",
       "    </tr>\n",
       "    <tr>\n",
       "      <th>std</th>\n",
       "      <td>139.416268</td>\n",
       "      <td>5.839241</td>\n",
       "      <td>2.412550</td>\n",
       "    </tr>\n",
       "    <tr>\n",
       "      <th>min</th>\n",
       "      <td>1000.000000</td>\n",
       "      <td>0.000000</td>\n",
       "      <td>1.000000</td>\n",
       "    </tr>\n",
       "    <tr>\n",
       "      <th>25%</th>\n",
       "      <td>1128.000000</td>\n",
       "      <td>1.290000</td>\n",
       "      <td>8.000000</td>\n",
       "    </tr>\n",
       "    <tr>\n",
       "      <th>50%</th>\n",
       "      <td>1247.000000</td>\n",
       "      <td>5.980000</td>\n",
       "      <td>10.000000</td>\n",
       "    </tr>\n",
       "    <tr>\n",
       "      <th>75%</th>\n",
       "      <td>1365.000000</td>\n",
       "      <td>10.690000</td>\n",
       "      <td>11.000000</td>\n",
       "    </tr>\n",
       "    <tr>\n",
       "      <th>max</th>\n",
       "      <td>1499.000000</td>\n",
       "      <td>37.600000</td>\n",
       "      <td>12.000000</td>\n",
       "    </tr>\n",
       "  </tbody>\n",
       "</table>\n",
       "</div>"
      ],
      "text/plain": [
       "             user_id       duration  call_month_num\n",
       "count  137735.000000  137735.000000   137735.000000\n",
       "mean     1247.658046       6.745927        9.320797\n",
       "std       139.416268       5.839241        2.412550\n",
       "min      1000.000000       0.000000        1.000000\n",
       "25%      1128.000000       1.290000        8.000000\n",
       "50%      1247.000000       5.980000       10.000000\n",
       "75%      1365.000000      10.690000       11.000000\n",
       "max      1499.000000      37.600000       12.000000"
      ]
     },
     "metadata": {},
     "output_type": "display_data"
    },
    {
     "name": "stdout",
     "output_type": "stream",
     "text": [
      "<class 'pandas.core.frame.DataFrame'>\n",
      "RangeIndex: 137735 entries, 0 to 137734\n",
      "Data columns (total 5 columns):\n",
      " #   Column          Non-Null Count   Dtype         \n",
      "---  ------          --------------   -----         \n",
      " 0   id              137735 non-null  object        \n",
      " 1   user_id         137735 non-null  int64         \n",
      " 2   call_date       137735 non-null  datetime64[ns]\n",
      " 3   duration        137735 non-null  float64       \n",
      " 4   call_month_num  137735 non-null  int64         \n",
      "dtypes: datetime64[ns](1), float64(1), int64(2), object(1)\n",
      "memory usage: 5.3+ MB\n"
     ]
    },
    {
     "data": {
      "text/plain": [
       "None"
      ]
     },
     "metadata": {},
     "output_type": "display_data"
    },
    {
     "name": "stdout",
     "output_type": "stream",
     "text": [
      "<class 'pandas.core.frame.DataFrame'>\n",
      "Int64Index: 26834 entries, 19 to 137725\n",
      "Data columns (total 5 columns):\n",
      " #   Column          Non-Null Count  Dtype         \n",
      "---  ------          --------------  -----         \n",
      " 0   id              26834 non-null  object        \n",
      " 1   user_id         26834 non-null  int64         \n",
      " 2   call_date       26834 non-null  datetime64[ns]\n",
      " 3   duration        26834 non-null  float64       \n",
      " 4   call_month_num  26834 non-null  int64         \n",
      "dtypes: datetime64[ns](1), float64(1), int64(2), object(1)\n",
      "memory usage: 1.2+ MB\n"
     ]
    },
    {
     "data": {
      "text/plain": [
       "None"
      ]
     },
     "metadata": {},
     "output_type": "display_data"
    },
    {
     "name": "stdout",
     "output_type": "stream",
     "text": [
      "19.482339274694162\n"
     ]
    },
    {
     "data": {
      "text/plain": [
       "array([1001, 1002, 1003, 1004, 1005, 1006, 1007, 1008, 1009, 1010, 1011,\n",
       "       1012, 1013, 1014, 1015, 1016, 1017, 1018, 1019, 1020, 1021, 1022,\n",
       "       1023, 1024, 1026, 1027, 1028, 1029, 1030, 1031, 1032, 1033, 1035,\n",
       "       1036, 1037, 1038, 1039, 1040, 1041, 1042, 1043, 1044, 1045, 1046,\n",
       "       1047, 1048, 1049, 1050, 1051, 1052, 1053, 1054, 1055, 1056, 1057,\n",
       "       1058, 1059, 1060, 1061, 1062, 1063, 1064, 1065, 1066, 1067, 1068,\n",
       "       1069, 1070, 1071, 1072, 1073, 1074, 1075, 1076, 1077, 1078, 1079,\n",
       "       1081, 1082, 1083, 1084, 1085, 1086, 1087, 1088, 1090, 1091, 1092,\n",
       "       1093, 1094, 1095, 1096, 1097, 1098, 1099, 1100, 1101, 1102, 1103,\n",
       "       1104, 1105, 1106, 1107, 1109, 1110, 1111, 1112, 1113, 1114, 1115,\n",
       "       1116, 1117, 1118, 1119, 1120, 1122, 1123, 1124, 1125, 1126, 1127,\n",
       "       1128, 1130, 1132, 1133, 1134, 1135, 1136, 1138, 1139, 1140, 1141,\n",
       "       1142, 1144, 1145, 1146, 1147, 1148, 1149, 1150, 1151, 1152, 1153,\n",
       "       1154, 1155, 1156, 1157, 1158, 1159, 1160, 1161, 1162, 1163, 1164,\n",
       "       1165, 1166, 1167, 1168, 1169, 1170, 1171, 1172, 1173, 1174, 1175,\n",
       "       1176, 1177, 1178, 1179, 1180, 1181, 1182, 1183, 1184, 1185, 1186,\n",
       "       1187, 1188, 1189, 1190, 1191, 1192, 1193, 1195, 1196, 1197, 1198,\n",
       "       1199, 1200, 1201, 1202, 1203, 1205, 1206, 1207, 1208, 1209, 1210,\n",
       "       1211, 1212, 1213, 1214, 1215, 1216, 1217, 1218, 1219, 1220, 1221,\n",
       "       1222, 1223, 1224, 1225, 1226, 1227, 1228, 1229, 1230, 1231, 1232,\n",
       "       1233, 1234, 1235, 1236, 1237, 1238, 1239, 1240, 1241, 1242, 1243,\n",
       "       1244, 1245, 1246, 1247, 1248, 1249, 1250, 1251, 1252, 1253, 1254,\n",
       "       1255, 1256, 1257, 1258, 1259, 1260, 1261, 1262, 1263, 1264, 1265,\n",
       "       1266, 1267, 1268, 1270, 1271, 1272, 1273, 1274, 1276, 1277, 1278,\n",
       "       1279, 1280, 1281, 1282, 1283, 1284, 1285, 1286, 1287, 1288, 1289,\n",
       "       1290, 1291, 1292, 1293, 1294, 1295, 1296, 1297, 1298, 1299, 1300,\n",
       "       1301, 1302, 1303, 1304, 1305, 1306, 1308, 1309, 1310, 1311, 1312,\n",
       "       1313, 1314, 1315, 1316, 1317, 1318, 1320, 1321, 1322, 1323, 1324,\n",
       "       1325, 1326, 1327, 1328, 1329, 1330, 1331, 1332, 1333, 1334, 1335,\n",
       "       1336, 1337, 1338, 1339, 1340, 1341, 1342, 1343, 1344, 1345, 1346,\n",
       "       1347, 1348, 1350, 1351, 1352, 1353, 1354, 1355, 1356, 1357, 1358,\n",
       "       1359, 1360, 1361, 1362, 1363, 1364, 1365, 1366, 1367, 1368, 1369,\n",
       "       1370, 1371, 1372, 1373, 1374, 1375, 1376, 1377, 1379, 1380, 1381,\n",
       "       1382, 1383, 1384, 1385, 1386, 1387, 1388, 1389, 1390, 1391, 1392,\n",
       "       1393, 1394, 1395, 1396, 1397, 1398, 1399, 1400, 1401, 1402, 1403,\n",
       "       1404, 1405, 1406, 1407, 1408, 1409, 1410, 1411, 1412, 1413, 1414,\n",
       "       1415, 1416, 1417, 1418, 1419, 1420, 1421, 1422, 1423, 1424, 1425,\n",
       "       1426, 1427, 1428, 1429, 1430, 1431, 1432, 1433, 1434, 1435, 1436,\n",
       "       1437, 1438, 1439, 1440, 1441, 1442, 1443, 1444, 1445, 1446, 1447,\n",
       "       1448, 1449, 1450, 1451, 1453, 1454, 1455, 1456, 1457, 1458, 1459,\n",
       "       1460, 1461, 1462, 1464, 1465, 1466, 1467, 1468, 1469, 1470, 1471,\n",
       "       1472, 1474, 1475, 1476, 1477, 1478, 1479, 1480, 1481, 1482, 1483,\n",
       "       1484, 1485, 1486, 1487, 1488, 1489, 1490, 1491, 1492, 1493, 1494,\n",
       "       1495, 1496, 1497, 1498, 1499])"
      ]
     },
     "metadata": {},
     "output_type": "display_data"
    }
   ],
   "source": [
    "display(calls_df.describe()) \n",
    "\n",
    "zero_calls_dur = calls_df[calls_df['duration']==0]\n",
    "display(calls_df.info())\n",
    "display(zero_calls_dur.info())\n",
    "\n",
    "percent_zero_calls = 26834/137735*100\n",
    "print(percent_zero_calls)\n",
    "display(zero_calls_dur['user_id'].unique())"
   ]
  },
  {
   "cell_type": "markdown",
   "metadata": {},
   "source": [
    "***Take Aways:***\n",
    "- 19% of the call duration data is zero. This could skew the data and analysis but it can't be ruled out that this is accurate data that users didn't make calls during some months considering the amount of users that made zero calls."
   ]
  },
  {
   "cell_type": "code",
   "execution_count": 23,
   "metadata": {},
   "outputs": [
    {
     "data": {
      "text/html": [
       "<div>\n",
       "<style scoped>\n",
       "    .dataframe tbody tr th:only-of-type {\n",
       "        vertical-align: middle;\n",
       "    }\n",
       "\n",
       "    .dataframe tbody tr th {\n",
       "        vertical-align: top;\n",
       "    }\n",
       "\n",
       "    .dataframe thead th {\n",
       "        text-align: right;\n",
       "    }\n",
       "</style>\n",
       "<table border=\"1\" class=\"dataframe\">\n",
       "  <thead>\n",
       "    <tr style=\"text-align: right;\">\n",
       "      <th></th>\n",
       "      <th>user_id</th>\n",
       "      <th>mb_used</th>\n",
       "      <th>internet_month_num</th>\n",
       "    </tr>\n",
       "  </thead>\n",
       "  <tbody>\n",
       "    <tr>\n",
       "      <th>count</th>\n",
       "      <td>104825.000000</td>\n",
       "      <td>104825.000000</td>\n",
       "      <td>104825.000000</td>\n",
       "    </tr>\n",
       "    <tr>\n",
       "      <th>mean</th>\n",
       "      <td>1242.496361</td>\n",
       "      <td>366.713701</td>\n",
       "      <td>9.342552</td>\n",
       "    </tr>\n",
       "    <tr>\n",
       "      <th>std</th>\n",
       "      <td>142.053913</td>\n",
       "      <td>277.170542</td>\n",
       "      <td>2.400404</td>\n",
       "    </tr>\n",
       "    <tr>\n",
       "      <th>min</th>\n",
       "      <td>1000.000000</td>\n",
       "      <td>0.000000</td>\n",
       "      <td>1.000000</td>\n",
       "    </tr>\n",
       "    <tr>\n",
       "      <th>25%</th>\n",
       "      <td>1122.000000</td>\n",
       "      <td>136.080000</td>\n",
       "      <td>8.000000</td>\n",
       "    </tr>\n",
       "    <tr>\n",
       "      <th>50%</th>\n",
       "      <td>1236.000000</td>\n",
       "      <td>343.980000</td>\n",
       "      <td>10.000000</td>\n",
       "    </tr>\n",
       "    <tr>\n",
       "      <th>75%</th>\n",
       "      <td>1367.000000</td>\n",
       "      <td>554.610000</td>\n",
       "      <td>11.000000</td>\n",
       "    </tr>\n",
       "    <tr>\n",
       "      <th>max</th>\n",
       "      <td>1499.000000</td>\n",
       "      <td>1693.470000</td>\n",
       "      <td>12.000000</td>\n",
       "    </tr>\n",
       "  </tbody>\n",
       "</table>\n",
       "</div>"
      ],
      "text/plain": [
       "             user_id        mb_used  internet_month_num\n",
       "count  104825.000000  104825.000000       104825.000000\n",
       "mean     1242.496361     366.713701            9.342552\n",
       "std       142.053913     277.170542            2.400404\n",
       "min      1000.000000       0.000000            1.000000\n",
       "25%      1122.000000     136.080000            8.000000\n",
       "50%      1236.000000     343.980000           10.000000\n",
       "75%      1367.000000     554.610000           11.000000\n",
       "max      1499.000000    1693.470000           12.000000"
      ]
     },
     "metadata": {},
     "output_type": "display_data"
    },
    {
     "name": "stdout",
     "output_type": "stream",
     "text": [
      "<class 'pandas.core.frame.DataFrame'>\n",
      "RangeIndex: 104825 entries, 0 to 104824\n",
      "Data columns (total 5 columns):\n",
      " #   Column              Non-Null Count   Dtype         \n",
      "---  ------              --------------   -----         \n",
      " 0   id                  104825 non-null  object        \n",
      " 1   user_id             104825 non-null  int64         \n",
      " 2   session_date        104825 non-null  datetime64[ns]\n",
      " 3   mb_used             104825 non-null  float64       \n",
      " 4   internet_month_num  104825 non-null  int64         \n",
      "dtypes: datetime64[ns](1), float64(1), int64(2), object(1)\n",
      "memory usage: 4.0+ MB\n"
     ]
    },
    {
     "data": {
      "text/plain": [
       "None"
      ]
     },
     "metadata": {},
     "output_type": "display_data"
    },
    {
     "name": "stdout",
     "output_type": "stream",
     "text": [
      "<class 'pandas.core.frame.DataFrame'>\n",
      "Int64Index: 13747 entries, 1 to 104823\n",
      "Data columns (total 5 columns):\n",
      " #   Column              Non-Null Count  Dtype         \n",
      "---  ------              --------------  -----         \n",
      " 0   id                  13747 non-null  object        \n",
      " 1   user_id             13747 non-null  int64         \n",
      " 2   session_date        13747 non-null  datetime64[ns]\n",
      " 3   mb_used             13747 non-null  float64       \n",
      " 4   internet_month_num  13747 non-null  int64         \n",
      "dtypes: datetime64[ns](1), float64(1), int64(2), object(1)\n",
      "memory usage: 644.4+ KB\n"
     ]
    },
    {
     "data": {
      "text/plain": [
       "None"
      ]
     },
     "metadata": {},
     "output_type": "display_data"
    },
    {
     "name": "stdout",
     "output_type": "stream",
     "text": [
      "13.11423801574052\n"
     ]
    },
    {
     "data": {
      "text/plain": [
       "array([1000, 1001, 1002, 1003, 1004, 1005, 1006, 1007, 1008, 1009, 1010,\n",
       "       1011, 1012, 1013, 1014, 1015, 1016, 1017, 1018, 1019, 1020, 1021,\n",
       "       1022, 1023, 1024, 1026, 1027, 1028, 1029, 1030, 1031, 1032, 1033,\n",
       "       1035, 1036, 1037, 1038, 1039, 1040, 1041, 1042, 1043, 1044, 1045,\n",
       "       1046, 1047, 1048, 1049, 1050, 1051, 1052, 1053, 1054, 1055, 1056,\n",
       "       1057, 1058, 1059, 1060, 1061, 1062, 1063, 1064, 1065, 1066, 1067,\n",
       "       1068, 1069, 1070, 1071, 1072, 1073, 1074, 1075, 1076, 1077, 1078,\n",
       "       1079, 1080, 1081, 1082, 1083, 1084, 1085, 1086, 1087, 1088, 1089,\n",
       "       1090, 1091, 1092, 1093, 1094, 1095, 1096, 1097, 1098, 1099, 1100,\n",
       "       1101, 1102, 1103, 1104, 1105, 1106, 1107, 1109, 1110, 1111, 1112,\n",
       "       1113, 1114, 1115, 1116, 1117, 1118, 1120, 1121, 1122, 1123, 1124,\n",
       "       1125, 1126, 1127, 1128, 1130, 1131, 1132, 1133, 1134, 1136, 1137,\n",
       "       1138, 1139, 1140, 1141, 1142, 1144, 1145, 1146, 1147, 1148, 1149,\n",
       "       1150, 1151, 1152, 1153, 1154, 1155, 1156, 1157, 1158, 1159, 1160,\n",
       "       1161, 1162, 1163, 1164, 1165, 1166, 1167, 1168, 1170, 1171, 1172,\n",
       "       1173, 1174, 1175, 1176, 1177, 1178, 1179, 1180, 1181, 1182, 1183,\n",
       "       1184, 1185, 1186, 1187, 1188, 1189, 1190, 1191, 1192, 1193, 1194,\n",
       "       1195, 1196, 1197, 1198, 1199, 1200, 1201, 1202, 1203, 1204, 1205,\n",
       "       1206, 1207, 1208, 1209, 1210, 1211, 1212, 1213, 1214, 1215, 1216,\n",
       "       1217, 1218, 1219, 1220, 1221, 1222, 1223, 1224, 1225, 1226, 1227,\n",
       "       1228, 1229, 1230, 1231, 1232, 1233, 1234, 1235, 1236, 1237, 1238,\n",
       "       1239, 1240, 1241, 1242, 1243, 1244, 1245, 1246, 1247, 1248, 1249,\n",
       "       1250, 1251, 1252, 1253, 1254, 1255, 1256, 1257, 1258, 1259, 1260,\n",
       "       1261, 1262, 1263, 1264, 1265, 1266, 1267, 1268, 1270, 1271, 1272,\n",
       "       1273, 1274, 1276, 1277, 1278, 1279, 1280, 1281, 1282, 1283, 1284,\n",
       "       1285, 1286, 1287, 1288, 1289, 1290, 1291, 1292, 1293, 1294, 1295,\n",
       "       1296, 1297, 1298, 1299, 1300, 1301, 1302, 1303, 1304, 1305, 1308,\n",
       "       1309, 1310, 1311, 1312, 1313, 1314, 1315, 1316, 1317, 1318, 1320,\n",
       "       1321, 1322, 1324, 1325, 1326, 1327, 1328, 1329, 1330, 1331, 1332,\n",
       "       1333, 1334, 1335, 1336, 1337, 1338, 1339, 1341, 1342, 1343, 1344,\n",
       "       1345, 1346, 1347, 1348, 1349, 1350, 1351, 1352, 1353, 1354, 1355,\n",
       "       1356, 1357, 1358, 1359, 1360, 1361, 1362, 1363, 1364, 1365, 1366,\n",
       "       1367, 1368, 1369, 1370, 1371, 1372, 1373, 1374, 1375, 1376, 1377,\n",
       "       1379, 1380, 1381, 1382, 1383, 1384, 1385, 1386, 1387, 1388, 1389,\n",
       "       1390, 1391, 1392, 1393, 1394, 1395, 1396, 1397, 1398, 1399, 1400,\n",
       "       1401, 1402, 1403, 1404, 1405, 1406, 1407, 1408, 1409, 1410, 1411,\n",
       "       1412, 1413, 1414, 1415, 1416, 1417, 1418, 1419, 1420, 1421, 1422,\n",
       "       1423, 1424, 1425, 1426, 1427, 1428, 1430, 1431, 1432, 1433, 1434,\n",
       "       1435, 1436, 1437, 1438, 1439, 1440, 1441, 1442, 1443, 1444, 1445,\n",
       "       1446, 1447, 1448, 1449, 1450, 1451, 1453, 1454, 1455, 1456, 1457,\n",
       "       1458, 1459, 1460, 1461, 1462, 1464, 1465, 1466, 1467, 1468, 1469,\n",
       "       1471, 1472, 1474, 1475, 1476, 1477, 1478, 1481, 1482, 1483, 1484,\n",
       "       1485, 1486, 1487, 1488, 1489, 1490, 1491, 1492, 1493, 1494, 1495,\n",
       "       1496, 1497, 1498, 1499])"
      ]
     },
     "metadata": {},
     "output_type": "display_data"
    }
   ],
   "source": [
    "display(internet_df.describe())\n",
    "\n",
    "zero_internet = internet_df[internet_df['mb_used']==0]\n",
    "display(internet_df.info())\n",
    "display(zero_internet.info())\n",
    "\n",
    "percent_zero_internet = 13747/104825*100\n",
    "print(percent_zero_internet)\n",
    "display(zero_internet['user_id'].unique())"
   ]
  },
  {
   "cell_type": "markdown",
   "metadata": {},
   "source": [
    "***Take Away:***\n",
    "- 13% of the internet data is zero. This could skew the data and analysis but it can't be ruled out that this is accurate data that users didn't use internet during some months considering the amount of users that made zero calls."
   ]
  },
  {
   "cell_type": "markdown",
   "metadata": {},
   "source": [
    "## Study plan conditions"
   ]
  },
  {
   "cell_type": "code",
   "execution_count": 24,
   "metadata": {},
   "outputs": [
    {
     "data": {
      "text/html": [
       "<div>\n",
       "<style scoped>\n",
       "    .dataframe tbody tr th:only-of-type {\n",
       "        vertical-align: middle;\n",
       "    }\n",
       "\n",
       "    .dataframe tbody tr th {\n",
       "        vertical-align: top;\n",
       "    }\n",
       "\n",
       "    .dataframe thead th {\n",
       "        text-align: right;\n",
       "    }\n",
       "</style>\n",
       "<table border=\"1\" class=\"dataframe\">\n",
       "  <thead>\n",
       "    <tr style=\"text-align: right;\">\n",
       "      <th></th>\n",
       "      <th>messages_included</th>\n",
       "      <th>mb_per_month_included</th>\n",
       "      <th>minutes_included</th>\n",
       "      <th>usd_monthly_pay</th>\n",
       "      <th>usd_per_gb</th>\n",
       "      <th>usd_per_message</th>\n",
       "      <th>usd_per_minute</th>\n",
       "      <th>plan_name</th>\n",
       "    </tr>\n",
       "  </thead>\n",
       "  <tbody>\n",
       "    <tr>\n",
       "      <th>0</th>\n",
       "      <td>50</td>\n",
       "      <td>15360</td>\n",
       "      <td>500</td>\n",
       "      <td>20</td>\n",
       "      <td>10</td>\n",
       "      <td>0.03</td>\n",
       "      <td>0.03</td>\n",
       "      <td>surf</td>\n",
       "    </tr>\n",
       "    <tr>\n",
       "      <th>1</th>\n",
       "      <td>1000</td>\n",
       "      <td>30720</td>\n",
       "      <td>3000</td>\n",
       "      <td>70</td>\n",
       "      <td>7</td>\n",
       "      <td>0.01</td>\n",
       "      <td>0.01</td>\n",
       "      <td>ultimate</td>\n",
       "    </tr>\n",
       "  </tbody>\n",
       "</table>\n",
       "</div>"
      ],
      "text/plain": [
       "   messages_included  mb_per_month_included  minutes_included  \\\n",
       "0                 50                  15360               500   \n",
       "1               1000                  30720              3000   \n",
       "\n",
       "   usd_monthly_pay  usd_per_gb  usd_per_message  usd_per_minute plan_name  \n",
       "0               20          10             0.03            0.03      surf  \n",
       "1               70           7             0.01            0.01  ultimate  "
      ]
     },
     "metadata": {},
     "output_type": "display_data"
    }
   ],
   "source": [
    "display(plans_df)"
   ]
  },
  {
   "cell_type": "markdown",
   "metadata": {},
   "source": [
    "## Aggregate data per user"
   ]
  },
  {
   "cell_type": "code",
   "execution_count": 25,
   "metadata": {
    "scrolled": true
   },
   "outputs": [
    {
     "data": {
      "text/html": [
       "<div>\n",
       "<style scoped>\n",
       "    .dataframe tbody tr th:only-of-type {\n",
       "        vertical-align: middle;\n",
       "    }\n",
       "\n",
       "    .dataframe tbody tr th {\n",
       "        vertical-align: top;\n",
       "    }\n",
       "\n",
       "    .dataframe thead th {\n",
       "        text-align: right;\n",
       "    }\n",
       "</style>\n",
       "<table border=\"1\" class=\"dataframe\">\n",
       "  <thead>\n",
       "    <tr style=\"text-align: right;\">\n",
       "      <th></th>\n",
       "      <th>user_id</th>\n",
       "      <th>month</th>\n",
       "      <th>num_calls</th>\n",
       "    </tr>\n",
       "  </thead>\n",
       "  <tbody>\n",
       "    <tr>\n",
       "      <th>0</th>\n",
       "      <td>1000</td>\n",
       "      <td>12</td>\n",
       "      <td>16</td>\n",
       "    </tr>\n",
       "    <tr>\n",
       "      <th>1</th>\n",
       "      <td>1001</td>\n",
       "      <td>8</td>\n",
       "      <td>27</td>\n",
       "    </tr>\n",
       "    <tr>\n",
       "      <th>2</th>\n",
       "      <td>1001</td>\n",
       "      <td>9</td>\n",
       "      <td>49</td>\n",
       "    </tr>\n",
       "    <tr>\n",
       "      <th>3</th>\n",
       "      <td>1001</td>\n",
       "      <td>10</td>\n",
       "      <td>65</td>\n",
       "    </tr>\n",
       "    <tr>\n",
       "      <th>4</th>\n",
       "      <td>1001</td>\n",
       "      <td>11</td>\n",
       "      <td>64</td>\n",
       "    </tr>\n",
       "  </tbody>\n",
       "</table>\n",
       "</div>"
      ],
      "text/plain": [
       "   user_id  month  num_calls\n",
       "0     1000     12         16\n",
       "1     1001      8         27\n",
       "2     1001      9         49\n",
       "3     1001     10         65\n",
       "4     1001     11         64"
      ]
     },
     "metadata": {},
     "output_type": "display_data"
    },
    {
     "name": "stdout",
     "output_type": "stream",
     "text": [
      "<class 'pandas.core.frame.DataFrame'>\n",
      "RangeIndex: 2258 entries, 0 to 2257\n",
      "Data columns (total 3 columns):\n",
      " #   Column     Non-Null Count  Dtype\n",
      "---  ------     --------------  -----\n",
      " 0   user_id    2258 non-null   int64\n",
      " 1   month      2258 non-null   int64\n",
      " 2   num_calls  2258 non-null   int64\n",
      "dtypes: int64(3)\n",
      "memory usage: 53.0 KB\n"
     ]
    }
   ],
   "source": [
    "# Calculate the number of calls made by each user per month. Save the result.\n",
    "calls_per_month = calls_df.groupby(['user_id', 'call_month_num',]).size().reset_index(name='num_calls')\n",
    "calls_per_month.rename(columns={'call_month_num': 'month'}, inplace=True)\n",
    "display(calls_per_month.head())\n",
    "calls_per_month.info()"
   ]
  },
  {
   "cell_type": "code",
   "execution_count": 26,
   "metadata": {},
   "outputs": [
    {
     "data": {
      "text/html": [
       "<div>\n",
       "<style scoped>\n",
       "    .dataframe tbody tr th:only-of-type {\n",
       "        vertical-align: middle;\n",
       "    }\n",
       "\n",
       "    .dataframe tbody tr th {\n",
       "        vertical-align: top;\n",
       "    }\n",
       "\n",
       "    .dataframe thead th {\n",
       "        text-align: right;\n",
       "    }\n",
       "</style>\n",
       "<table border=\"1\" class=\"dataframe\">\n",
       "  <thead>\n",
       "    <tr style=\"text-align: right;\">\n",
       "      <th></th>\n",
       "      <th>id</th>\n",
       "      <th>user_id</th>\n",
       "      <th>call_date</th>\n",
       "      <th>duration</th>\n",
       "      <th>call_month_num</th>\n",
       "      <th>rounded_call_duration</th>\n",
       "    </tr>\n",
       "  </thead>\n",
       "  <tbody>\n",
       "    <tr>\n",
       "      <th>0</th>\n",
       "      <td>1000_93</td>\n",
       "      <td>1000</td>\n",
       "      <td>2018-12-27</td>\n",
       "      <td>8.52</td>\n",
       "      <td>12</td>\n",
       "      <td>9</td>\n",
       "    </tr>\n",
       "    <tr>\n",
       "      <th>1</th>\n",
       "      <td>1000_145</td>\n",
       "      <td>1000</td>\n",
       "      <td>2018-12-27</td>\n",
       "      <td>13.66</td>\n",
       "      <td>12</td>\n",
       "      <td>14</td>\n",
       "    </tr>\n",
       "    <tr>\n",
       "      <th>2</th>\n",
       "      <td>1000_247</td>\n",
       "      <td>1000</td>\n",
       "      <td>2018-12-27</td>\n",
       "      <td>14.48</td>\n",
       "      <td>12</td>\n",
       "      <td>15</td>\n",
       "    </tr>\n",
       "    <tr>\n",
       "      <th>3</th>\n",
       "      <td>1000_309</td>\n",
       "      <td>1000</td>\n",
       "      <td>2018-12-28</td>\n",
       "      <td>5.76</td>\n",
       "      <td>12</td>\n",
       "      <td>6</td>\n",
       "    </tr>\n",
       "    <tr>\n",
       "      <th>4</th>\n",
       "      <td>1000_380</td>\n",
       "      <td>1000</td>\n",
       "      <td>2018-12-30</td>\n",
       "      <td>4.22</td>\n",
       "      <td>12</td>\n",
       "      <td>5</td>\n",
       "    </tr>\n",
       "  </tbody>\n",
       "</table>\n",
       "</div>"
      ],
      "text/plain": [
       "         id  user_id  call_date  duration  call_month_num  \\\n",
       "0   1000_93     1000 2018-12-27      8.52              12   \n",
       "1  1000_145     1000 2018-12-27     13.66              12   \n",
       "2  1000_247     1000 2018-12-27     14.48              12   \n",
       "3  1000_309     1000 2018-12-28      5.76              12   \n",
       "4  1000_380     1000 2018-12-30      4.22              12   \n",
       "\n",
       "   rounded_call_duration  \n",
       "0                      9  \n",
       "1                     14  \n",
       "2                     15  \n",
       "3                      6  \n",
       "4                      5  "
      ]
     },
     "metadata": {},
     "output_type": "display_data"
    },
    {
     "data": {
      "text/html": [
       "<div>\n",
       "<style scoped>\n",
       "    .dataframe tbody tr th:only-of-type {\n",
       "        vertical-align: middle;\n",
       "    }\n",
       "\n",
       "    .dataframe tbody tr th {\n",
       "        vertical-align: top;\n",
       "    }\n",
       "\n",
       "    .dataframe thead th {\n",
       "        text-align: right;\n",
       "    }\n",
       "</style>\n",
       "<table border=\"1\" class=\"dataframe\">\n",
       "  <thead>\n",
       "    <tr style=\"text-align: right;\">\n",
       "      <th></th>\n",
       "      <th>user_id</th>\n",
       "      <th>month</th>\n",
       "      <th>duration</th>\n",
       "      <th>rounded_call_duration</th>\n",
       "    </tr>\n",
       "  </thead>\n",
       "  <tbody>\n",
       "    <tr>\n",
       "      <th>0</th>\n",
       "      <td>1000</td>\n",
       "      <td>12</td>\n",
       "      <td>116.83</td>\n",
       "      <td>124</td>\n",
       "    </tr>\n",
       "    <tr>\n",
       "      <th>1</th>\n",
       "      <td>1001</td>\n",
       "      <td>8</td>\n",
       "      <td>171.14</td>\n",
       "      <td>182</td>\n",
       "    </tr>\n",
       "    <tr>\n",
       "      <th>2</th>\n",
       "      <td>1001</td>\n",
       "      <td>9</td>\n",
       "      <td>297.69</td>\n",
       "      <td>315</td>\n",
       "    </tr>\n",
       "    <tr>\n",
       "      <th>3</th>\n",
       "      <td>1001</td>\n",
       "      <td>10</td>\n",
       "      <td>374.11</td>\n",
       "      <td>393</td>\n",
       "    </tr>\n",
       "    <tr>\n",
       "      <th>4</th>\n",
       "      <td>1001</td>\n",
       "      <td>11</td>\n",
       "      <td>404.59</td>\n",
       "      <td>426</td>\n",
       "    </tr>\n",
       "  </tbody>\n",
       "</table>\n",
       "</div>"
      ],
      "text/plain": [
       "   user_id  month  duration  rounded_call_duration\n",
       "0     1000     12    116.83                    124\n",
       "1     1001      8    171.14                    182\n",
       "2     1001      9    297.69                    315\n",
       "3     1001     10    374.11                    393\n",
       "4     1001     11    404.59                    426"
      ]
     },
     "metadata": {},
     "output_type": "display_data"
    },
    {
     "name": "stdout",
     "output_type": "stream",
     "text": [
      "<class 'pandas.core.frame.DataFrame'>\n",
      "RangeIndex: 2258 entries, 0 to 2257\n",
      "Data columns (total 4 columns):\n",
      " #   Column                 Non-Null Count  Dtype  \n",
      "---  ------                 --------------  -----  \n",
      " 0   user_id                2258 non-null   int64  \n",
      " 1   month                  2258 non-null   int64  \n",
      " 2   duration               2258 non-null   float64\n",
      " 3   rounded_call_duration  2258 non-null   int64  \n",
      "dtypes: float64(1), int64(3)\n",
      "memory usage: 70.7 KB\n"
     ]
    }
   ],
   "source": [
    "# Calculate the amount of minutes spent by each user per month. Save the result.\n",
    "# rounds up each call to nearest minute\n",
    "calls_df['rounded_call_duration'] = calls_df['duration'].apply(lambda x: mt.ceil(x))\n",
    "display(calls_df.head())\n",
    "\n",
    "min_per_month = calls_df.groupby(['user_id', 'call_month_num']).agg({'duration':'sum','rounded_call_duration':'sum'})#.reset_index(name='min_calls')\n",
    "min_per_month = min_per_month.reset_index()\n",
    "min_per_month.rename(columns={'call_month_num': 'month'}, inplace=True)\n",
    "display(min_per_month.head())\n",
    "min_per_month.info()"
   ]
  },
  {
   "cell_type": "code",
   "execution_count": 27,
   "metadata": {},
   "outputs": [
    {
     "data": {
      "text/html": [
       "<div>\n",
       "<style scoped>\n",
       "    .dataframe tbody tr th:only-of-type {\n",
       "        vertical-align: middle;\n",
       "    }\n",
       "\n",
       "    .dataframe tbody tr th {\n",
       "        vertical-align: top;\n",
       "    }\n",
       "\n",
       "    .dataframe thead th {\n",
       "        text-align: right;\n",
       "    }\n",
       "</style>\n",
       "<table border=\"1\" class=\"dataframe\">\n",
       "  <thead>\n",
       "    <tr style=\"text-align: right;\">\n",
       "      <th></th>\n",
       "      <th>user_id</th>\n",
       "      <th>month</th>\n",
       "      <th>message_count</th>\n",
       "    </tr>\n",
       "  </thead>\n",
       "  <tbody>\n",
       "    <tr>\n",
       "      <th>0</th>\n",
       "      <td>1000</td>\n",
       "      <td>12</td>\n",
       "      <td>11</td>\n",
       "    </tr>\n",
       "    <tr>\n",
       "      <th>1</th>\n",
       "      <td>1001</td>\n",
       "      <td>8</td>\n",
       "      <td>30</td>\n",
       "    </tr>\n",
       "    <tr>\n",
       "      <th>2</th>\n",
       "      <td>1001</td>\n",
       "      <td>9</td>\n",
       "      <td>44</td>\n",
       "    </tr>\n",
       "    <tr>\n",
       "      <th>3</th>\n",
       "      <td>1001</td>\n",
       "      <td>10</td>\n",
       "      <td>53</td>\n",
       "    </tr>\n",
       "    <tr>\n",
       "      <th>4</th>\n",
       "      <td>1001</td>\n",
       "      <td>11</td>\n",
       "      <td>36</td>\n",
       "    </tr>\n",
       "  </tbody>\n",
       "</table>\n",
       "</div>"
      ],
      "text/plain": [
       "   user_id  month  message_count\n",
       "0     1000     12             11\n",
       "1     1001      8             30\n",
       "2     1001      9             44\n",
       "3     1001     10             53\n",
       "4     1001     11             36"
      ]
     },
     "metadata": {},
     "output_type": "display_data"
    },
    {
     "name": "stdout",
     "output_type": "stream",
     "text": [
      "<class 'pandas.core.frame.DataFrame'>\n",
      "RangeIndex: 1806 entries, 0 to 1805\n",
      "Data columns (total 3 columns):\n",
      " #   Column         Non-Null Count  Dtype\n",
      "---  ------         --------------  -----\n",
      " 0   user_id        1806 non-null   int64\n",
      " 1   month          1806 non-null   int64\n",
      " 2   message_count  1806 non-null   int64\n",
      "dtypes: int64(3)\n",
      "memory usage: 42.5 KB\n"
     ]
    }
   ],
   "source": [
    "# Calculate the number of messages sent by each user per month. Save the result.\n",
    "message_per_month = messages_df.groupby(['user_id', 'message_month_num']).size().reset_index(name='message_count')\n",
    "message_per_month.rename(columns={'message_month_num':'month'}, inplace=True)\n",
    "\n",
    "display(message_per_month.head())\n",
    "message_per_month.info()"
   ]
  },
  {
   "cell_type": "code",
   "execution_count": 28,
   "metadata": {},
   "outputs": [
    {
     "data": {
      "text/html": [
       "<div>\n",
       "<style scoped>\n",
       "    .dataframe tbody tr th:only-of-type {\n",
       "        vertical-align: middle;\n",
       "    }\n",
       "\n",
       "    .dataframe tbody tr th {\n",
       "        vertical-align: top;\n",
       "    }\n",
       "\n",
       "    .dataframe thead th {\n",
       "        text-align: right;\n",
       "    }\n",
       "</style>\n",
       "<table border=\"1\" class=\"dataframe\">\n",
       "  <thead>\n",
       "    <tr style=\"text-align: right;\">\n",
       "      <th></th>\n",
       "      <th>user_id</th>\n",
       "      <th>internet_month_num</th>\n",
       "      <th>mb_per_month</th>\n",
       "    </tr>\n",
       "  </thead>\n",
       "  <tbody>\n",
       "    <tr>\n",
       "      <th>0</th>\n",
       "      <td>1000</td>\n",
       "      <td>12</td>\n",
       "      <td>1902</td>\n",
       "    </tr>\n",
       "    <tr>\n",
       "      <th>1</th>\n",
       "      <td>1001</td>\n",
       "      <td>8</td>\n",
       "      <td>6920</td>\n",
       "    </tr>\n",
       "    <tr>\n",
       "      <th>2</th>\n",
       "      <td>1001</td>\n",
       "      <td>9</td>\n",
       "      <td>13315</td>\n",
       "    </tr>\n",
       "    <tr>\n",
       "      <th>3</th>\n",
       "      <td>1001</td>\n",
       "      <td>10</td>\n",
       "      <td>22331</td>\n",
       "    </tr>\n",
       "    <tr>\n",
       "      <th>4</th>\n",
       "      <td>1001</td>\n",
       "      <td>11</td>\n",
       "      <td>18505</td>\n",
       "    </tr>\n",
       "  </tbody>\n",
       "</table>\n",
       "</div>"
      ],
      "text/plain": [
       "   user_id  internet_month_num  mb_per_month\n",
       "0     1000                  12          1902\n",
       "1     1001                   8          6920\n",
       "2     1001                   9         13315\n",
       "3     1001                  10         22331\n",
       "4     1001                  11         18505"
      ]
     },
     "metadata": {},
     "output_type": "display_data"
    },
    {
     "data": {
      "text/html": [
       "<div>\n",
       "<style scoped>\n",
       "    .dataframe tbody tr th:only-of-type {\n",
       "        vertical-align: middle;\n",
       "    }\n",
       "\n",
       "    .dataframe tbody tr th {\n",
       "        vertical-align: top;\n",
       "    }\n",
       "\n",
       "    .dataframe thead th {\n",
       "        text-align: right;\n",
       "    }\n",
       "</style>\n",
       "<table border=\"1\" class=\"dataframe\">\n",
       "  <thead>\n",
       "    <tr style=\"text-align: right;\">\n",
       "      <th></th>\n",
       "      <th>user_id</th>\n",
       "      <th>month</th>\n",
       "      <th>mb_per_month</th>\n",
       "      <th>gb_month</th>\n",
       "    </tr>\n",
       "  </thead>\n",
       "  <tbody>\n",
       "    <tr>\n",
       "      <th>0</th>\n",
       "      <td>1000</td>\n",
       "      <td>12</td>\n",
       "      <td>1902</td>\n",
       "      <td>2</td>\n",
       "    </tr>\n",
       "    <tr>\n",
       "      <th>1</th>\n",
       "      <td>1001</td>\n",
       "      <td>8</td>\n",
       "      <td>6920</td>\n",
       "      <td>7</td>\n",
       "    </tr>\n",
       "    <tr>\n",
       "      <th>2</th>\n",
       "      <td>1001</td>\n",
       "      <td>9</td>\n",
       "      <td>13315</td>\n",
       "      <td>14</td>\n",
       "    </tr>\n",
       "    <tr>\n",
       "      <th>3</th>\n",
       "      <td>1001</td>\n",
       "      <td>10</td>\n",
       "      <td>22331</td>\n",
       "      <td>22</td>\n",
       "    </tr>\n",
       "    <tr>\n",
       "      <th>4</th>\n",
       "      <td>1001</td>\n",
       "      <td>11</td>\n",
       "      <td>18505</td>\n",
       "      <td>19</td>\n",
       "    </tr>\n",
       "  </tbody>\n",
       "</table>\n",
       "</div>"
      ],
      "text/plain": [
       "   user_id  month  mb_per_month  gb_month\n",
       "0     1000     12          1902         2\n",
       "1     1001      8          6920         7\n",
       "2     1001      9         13315        14\n",
       "3     1001     10         22331        22\n",
       "4     1001     11         18505        19"
      ]
     },
     "metadata": {},
     "output_type": "display_data"
    },
    {
     "name": "stdout",
     "output_type": "stream",
     "text": [
      "<class 'pandas.core.frame.DataFrame'>\n",
      "RangeIndex: 2277 entries, 0 to 2276\n",
      "Data columns (total 4 columns):\n",
      " #   Column        Non-Null Count  Dtype\n",
      "---  ------        --------------  -----\n",
      " 0   user_id       2277 non-null   int64\n",
      " 1   month         2277 non-null   int64\n",
      " 2   mb_per_month  2277 non-null   int64\n",
      " 3   gb_month      2277 non-null   int64\n",
      "dtypes: int64(4)\n",
      "memory usage: 71.3 KB\n"
     ]
    }
   ],
   "source": [
    "# Calculate the volume of internet traffic used by each user per month. Save the result.\n",
    "internet_per_month = internet_df.groupby(['user_id', 'internet_month_num'])['mb_used'].sum().reset_index(name='mb_per_month')\n",
    "# rounds end of month numbers up\n",
    "internet_per_month['mb_per_month'] = internet_per_month['mb_per_month'].apply(lambda x: mt.ceil(x))\n",
    "\n",
    "display(internet_per_month.head())\n",
    "\n",
    "#the total for the month is rounded up. \n",
    "#If someone uses 1025 megabytes this month, they will be charged for 2 gigabytes.\n",
    "internet_per_month['gb_month'] = internet_per_month['mb_per_month'].apply(lambda x: mt.ceil(x / 1024))\n",
    "\n",
    "internet_per_month.rename(columns={'internet_month_num': 'month'}, inplace=True)\n",
    "display(internet_per_month.head())\n",
    "internet_per_month.info()"
   ]
  },
  {
   "cell_type": "code",
   "execution_count": 29,
   "metadata": {
    "scrolled": false
   },
   "outputs": [
    {
     "name": "stdout",
     "output_type": "stream",
     "text": [
      "<class 'pandas.core.frame.DataFrame'>\n",
      "RangeIndex: 500 entries, 0 to 499\n",
      "Data columns (total 8 columns):\n",
      " #   Column      Non-Null Count  Dtype         \n",
      "---  ------      --------------  -----         \n",
      " 0   user_id     500 non-null    int64         \n",
      " 1   first_name  500 non-null    object        \n",
      " 2   last_name   500 non-null    object        \n",
      " 3   age         500 non-null    int64         \n",
      " 4   city        500 non-null    object        \n",
      " 5   reg_date    500 non-null    datetime64[ns]\n",
      " 6   plan        500 non-null    object        \n",
      " 7   churn_date  34 non-null     datetime64[ns]\n",
      "dtypes: datetime64[ns](2), int64(2), object(4)\n",
      "memory usage: 31.4+ KB\n"
     ]
    },
    {
     "data": {
      "text/plain": [
       "None"
      ]
     },
     "metadata": {},
     "output_type": "display_data"
    },
    {
     "name": "stdout",
     "output_type": "stream",
     "text": [
      "<class 'pandas.core.frame.DataFrame'>\n",
      "Int64Index: 2277 entries, 0 to 2276\n",
      "Data columns (total 10 columns):\n",
      " #   Column      Non-Null Count  Dtype         \n",
      "---  ------      --------------  -----         \n",
      " 0   user_id     2277 non-null   int64         \n",
      " 1   first_name  2277 non-null   object        \n",
      " 2   last_name   2277 non-null   object        \n",
      " 3   age         2277 non-null   int64         \n",
      " 4   city        2277 non-null   object        \n",
      " 5   reg_date    2277 non-null   datetime64[ns]\n",
      " 6   plan        2277 non-null   object        \n",
      " 7   churn_date  160 non-null    datetime64[ns]\n",
      " 8   month       2258 non-null   float64       \n",
      " 9   num_calls   2258 non-null   float64       \n",
      "dtypes: datetime64[ns](2), float64(2), int64(2), object(4)\n",
      "memory usage: 195.7+ KB\n"
     ]
    },
    {
     "data": {
      "text/plain": [
       "None"
      ]
     },
     "metadata": {},
     "output_type": "display_data"
    },
    {
     "name": "stdout",
     "output_type": "stream",
     "text": [
      "<class 'pandas.core.frame.DataFrame'>\n",
      "Int64Index: 2277 entries, 0 to 2276\n",
      "Data columns (total 12 columns):\n",
      " #   Column                 Non-Null Count  Dtype         \n",
      "---  ------                 --------------  -----         \n",
      " 0   user_id                2277 non-null   int64         \n",
      " 1   first_name             2277 non-null   object        \n",
      " 2   last_name              2277 non-null   object        \n",
      " 3   age                    2277 non-null   int64         \n",
      " 4   city                   2277 non-null   object        \n",
      " 5   reg_date               2277 non-null   datetime64[ns]\n",
      " 6   plan                   2277 non-null   object        \n",
      " 7   churn_date             160 non-null    datetime64[ns]\n",
      " 8   month                  2258 non-null   float64       \n",
      " 9   num_calls              2258 non-null   float64       \n",
      " 10  duration               2258 non-null   float64       \n",
      " 11  rounded_call_duration  2258 non-null   float64       \n",
      "dtypes: datetime64[ns](2), float64(4), int64(2), object(4)\n",
      "memory usage: 231.3+ KB\n"
     ]
    },
    {
     "data": {
      "text/plain": [
       "None"
      ]
     },
     "metadata": {},
     "output_type": "display_data"
    },
    {
     "name": "stdout",
     "output_type": "stream",
     "text": [
      "<class 'pandas.core.frame.DataFrame'>\n",
      "Int64Index: 2310 entries, 0 to 2309\n",
      "Data columns (total 13 columns):\n",
      " #   Column                 Non-Null Count  Dtype         \n",
      "---  ------                 --------------  -----         \n",
      " 0   user_id                2310 non-null   int64         \n",
      " 1   first_name             2277 non-null   object        \n",
      " 2   last_name              2277 non-null   object        \n",
      " 3   age                    2277 non-null   float64       \n",
      " 4   city                   2277 non-null   object        \n",
      " 5   reg_date               2277 non-null   datetime64[ns]\n",
      " 6   plan                   2277 non-null   object        \n",
      " 7   churn_date             160 non-null    datetime64[ns]\n",
      " 8   month                  2291 non-null   float64       \n",
      " 9   num_calls              2258 non-null   float64       \n",
      " 10  duration               2258 non-null   float64       \n",
      " 11  rounded_call_duration  2258 non-null   float64       \n",
      " 12  message_count          1806 non-null   float64       \n",
      "dtypes: datetime64[ns](2), float64(6), int64(1), object(4)\n",
      "memory usage: 252.7+ KB\n"
     ]
    },
    {
     "data": {
      "text/plain": [
       "None"
      ]
     },
     "metadata": {},
     "output_type": "display_data"
    },
    {
     "data": {
      "text/html": [
       "<div>\n",
       "<style scoped>\n",
       "    .dataframe tbody tr th:only-of-type {\n",
       "        vertical-align: middle;\n",
       "    }\n",
       "\n",
       "    .dataframe tbody tr th {\n",
       "        vertical-align: top;\n",
       "    }\n",
       "\n",
       "    .dataframe thead th {\n",
       "        text-align: right;\n",
       "    }\n",
       "</style>\n",
       "<table border=\"1\" class=\"dataframe\">\n",
       "  <thead>\n",
       "    <tr style=\"text-align: right;\">\n",
       "      <th></th>\n",
       "      <th>user_id</th>\n",
       "      <th>first_name</th>\n",
       "      <th>last_name</th>\n",
       "      <th>age</th>\n",
       "      <th>city</th>\n",
       "      <th>reg_date</th>\n",
       "      <th>plan</th>\n",
       "      <th>churn_date</th>\n",
       "      <th>month</th>\n",
       "      <th>num_calls</th>\n",
       "      <th>duration</th>\n",
       "      <th>rounded_call_duration</th>\n",
       "      <th>message_count</th>\n",
       "    </tr>\n",
       "  </thead>\n",
       "  <tbody>\n",
       "    <tr>\n",
       "      <th>2277</th>\n",
       "      <td>1028</td>\n",
       "      <td>NaN</td>\n",
       "      <td>NaN</td>\n",
       "      <td>NaN</td>\n",
       "      <td>NaN</td>\n",
       "      <td>NaT</td>\n",
       "      <td>NaN</td>\n",
       "      <td>NaT</td>\n",
       "      <td>2.0</td>\n",
       "      <td>NaN</td>\n",
       "      <td>NaN</td>\n",
       "      <td>NaN</td>\n",
       "      <td>12.0</td>\n",
       "    </tr>\n",
       "    <tr>\n",
       "      <th>2278</th>\n",
       "      <td>1080</td>\n",
       "      <td>NaN</td>\n",
       "      <td>NaN</td>\n",
       "      <td>NaN</td>\n",
       "      <td>NaN</td>\n",
       "      <td>NaT</td>\n",
       "      <td>NaN</td>\n",
       "      <td>NaT</td>\n",
       "      <td>8.0</td>\n",
       "      <td>NaN</td>\n",
       "      <td>NaN</td>\n",
       "      <td>NaN</td>\n",
       "      <td>31.0</td>\n",
       "    </tr>\n",
       "    <tr>\n",
       "      <th>2279</th>\n",
       "      <td>1080</td>\n",
       "      <td>NaN</td>\n",
       "      <td>NaN</td>\n",
       "      <td>NaN</td>\n",
       "      <td>NaN</td>\n",
       "      <td>NaT</td>\n",
       "      <td>NaN</td>\n",
       "      <td>NaT</td>\n",
       "      <td>9.0</td>\n",
       "      <td>NaN</td>\n",
       "      <td>NaN</td>\n",
       "      <td>NaN</td>\n",
       "      <td>64.0</td>\n",
       "    </tr>\n",
       "    <tr>\n",
       "      <th>2280</th>\n",
       "      <td>1080</td>\n",
       "      <td>NaN</td>\n",
       "      <td>NaN</td>\n",
       "      <td>NaN</td>\n",
       "      <td>NaN</td>\n",
       "      <td>NaT</td>\n",
       "      <td>NaN</td>\n",
       "      <td>NaT</td>\n",
       "      <td>10.0</td>\n",
       "      <td>NaN</td>\n",
       "      <td>NaN</td>\n",
       "      <td>NaN</td>\n",
       "      <td>59.0</td>\n",
       "    </tr>\n",
       "    <tr>\n",
       "      <th>2281</th>\n",
       "      <td>1080</td>\n",
       "      <td>NaN</td>\n",
       "      <td>NaN</td>\n",
       "      <td>NaN</td>\n",
       "      <td>NaN</td>\n",
       "      <td>NaT</td>\n",
       "      <td>NaN</td>\n",
       "      <td>NaT</td>\n",
       "      <td>11.0</td>\n",
       "      <td>NaN</td>\n",
       "      <td>NaN</td>\n",
       "      <td>NaN</td>\n",
       "      <td>50.0</td>\n",
       "    </tr>\n",
       "    <tr>\n",
       "      <th>2282</th>\n",
       "      <td>1080</td>\n",
       "      <td>NaN</td>\n",
       "      <td>NaN</td>\n",
       "      <td>NaN</td>\n",
       "      <td>NaN</td>\n",
       "      <td>NaT</td>\n",
       "      <td>NaN</td>\n",
       "      <td>NaT</td>\n",
       "      <td>12.0</td>\n",
       "      <td>NaN</td>\n",
       "      <td>NaN</td>\n",
       "      <td>NaN</td>\n",
       "      <td>61.0</td>\n",
       "    </tr>\n",
       "    <tr>\n",
       "      <th>2283</th>\n",
       "      <td>1089</td>\n",
       "      <td>NaN</td>\n",
       "      <td>NaN</td>\n",
       "      <td>NaN</td>\n",
       "      <td>NaN</td>\n",
       "      <td>NaT</td>\n",
       "      <td>NaN</td>\n",
       "      <td>NaT</td>\n",
       "      <td>12.0</td>\n",
       "      <td>NaN</td>\n",
       "      <td>NaN</td>\n",
       "      <td>NaN</td>\n",
       "      <td>27.0</td>\n",
       "    </tr>\n",
       "    <tr>\n",
       "      <th>2284</th>\n",
       "      <td>1121</td>\n",
       "      <td>NaN</td>\n",
       "      <td>NaN</td>\n",
       "      <td>NaN</td>\n",
       "      <td>NaN</td>\n",
       "      <td>NaT</td>\n",
       "      <td>NaN</td>\n",
       "      <td>NaT</td>\n",
       "      <td>11.0</td>\n",
       "      <td>NaN</td>\n",
       "      <td>NaN</td>\n",
       "      <td>NaN</td>\n",
       "      <td>1.0</td>\n",
       "    </tr>\n",
       "    <tr>\n",
       "      <th>2285</th>\n",
       "      <td>1121</td>\n",
       "      <td>NaN</td>\n",
       "      <td>NaN</td>\n",
       "      <td>NaN</td>\n",
       "      <td>NaN</td>\n",
       "      <td>NaT</td>\n",
       "      <td>NaN</td>\n",
       "      <td>NaT</td>\n",
       "      <td>12.0</td>\n",
       "      <td>NaN</td>\n",
       "      <td>NaN</td>\n",
       "      <td>NaN</td>\n",
       "      <td>97.0</td>\n",
       "    </tr>\n",
       "    <tr>\n",
       "      <th>2286</th>\n",
       "      <td>1131</td>\n",
       "      <td>NaN</td>\n",
       "      <td>NaN</td>\n",
       "      <td>NaN</td>\n",
       "      <td>NaN</td>\n",
       "      <td>NaT</td>\n",
       "      <td>NaN</td>\n",
       "      <td>NaT</td>\n",
       "      <td>5.0</td>\n",
       "      <td>NaN</td>\n",
       "      <td>NaN</td>\n",
       "      <td>NaN</td>\n",
       "      <td>18.0</td>\n",
       "    </tr>\n",
       "    <tr>\n",
       "      <th>2287</th>\n",
       "      <td>1131</td>\n",
       "      <td>NaN</td>\n",
       "      <td>NaN</td>\n",
       "      <td>NaN</td>\n",
       "      <td>NaN</td>\n",
       "      <td>NaT</td>\n",
       "      <td>NaN</td>\n",
       "      <td>NaT</td>\n",
       "      <td>6.0</td>\n",
       "      <td>NaN</td>\n",
       "      <td>NaN</td>\n",
       "      <td>NaN</td>\n",
       "      <td>27.0</td>\n",
       "    </tr>\n",
       "    <tr>\n",
       "      <th>2288</th>\n",
       "      <td>1131</td>\n",
       "      <td>NaN</td>\n",
       "      <td>NaN</td>\n",
       "      <td>NaN</td>\n",
       "      <td>NaN</td>\n",
       "      <td>NaT</td>\n",
       "      <td>NaN</td>\n",
       "      <td>NaT</td>\n",
       "      <td>7.0</td>\n",
       "      <td>NaN</td>\n",
       "      <td>NaN</td>\n",
       "      <td>NaN</td>\n",
       "      <td>28.0</td>\n",
       "    </tr>\n",
       "    <tr>\n",
       "      <th>2289</th>\n",
       "      <td>1131</td>\n",
       "      <td>NaN</td>\n",
       "      <td>NaN</td>\n",
       "      <td>NaN</td>\n",
       "      <td>NaN</td>\n",
       "      <td>NaT</td>\n",
       "      <td>NaN</td>\n",
       "      <td>NaT</td>\n",
       "      <td>8.0</td>\n",
       "      <td>NaN</td>\n",
       "      <td>NaN</td>\n",
       "      <td>NaN</td>\n",
       "      <td>33.0</td>\n",
       "    </tr>\n",
       "    <tr>\n",
       "      <th>2290</th>\n",
       "      <td>1131</td>\n",
       "      <td>NaN</td>\n",
       "      <td>NaN</td>\n",
       "      <td>NaN</td>\n",
       "      <td>NaN</td>\n",
       "      <td>NaT</td>\n",
       "      <td>NaN</td>\n",
       "      <td>NaT</td>\n",
       "      <td>9.0</td>\n",
       "      <td>NaN</td>\n",
       "      <td>NaN</td>\n",
       "      <td>NaN</td>\n",
       "      <td>26.0</td>\n",
       "    </tr>\n",
       "    <tr>\n",
       "      <th>2291</th>\n",
       "      <td>1131</td>\n",
       "      <td>NaN</td>\n",
       "      <td>NaN</td>\n",
       "      <td>NaN</td>\n",
       "      <td>NaN</td>\n",
       "      <td>NaT</td>\n",
       "      <td>NaN</td>\n",
       "      <td>NaT</td>\n",
       "      <td>10.0</td>\n",
       "      <td>NaN</td>\n",
       "      <td>NaN</td>\n",
       "      <td>NaN</td>\n",
       "      <td>31.0</td>\n",
       "    </tr>\n",
       "    <tr>\n",
       "      <th>2292</th>\n",
       "      <td>1131</td>\n",
       "      <td>NaN</td>\n",
       "      <td>NaN</td>\n",
       "      <td>NaN</td>\n",
       "      <td>NaN</td>\n",
       "      <td>NaT</td>\n",
       "      <td>NaN</td>\n",
       "      <td>NaT</td>\n",
       "      <td>11.0</td>\n",
       "      <td>NaN</td>\n",
       "      <td>NaN</td>\n",
       "      <td>NaN</td>\n",
       "      <td>20.0</td>\n",
       "    </tr>\n",
       "    <tr>\n",
       "      <th>2293</th>\n",
       "      <td>1131</td>\n",
       "      <td>NaN</td>\n",
       "      <td>NaN</td>\n",
       "      <td>NaN</td>\n",
       "      <td>NaN</td>\n",
       "      <td>NaT</td>\n",
       "      <td>NaN</td>\n",
       "      <td>NaT</td>\n",
       "      <td>12.0</td>\n",
       "      <td>NaN</td>\n",
       "      <td>NaN</td>\n",
       "      <td>NaN</td>\n",
       "      <td>33.0</td>\n",
       "    </tr>\n",
       "    <tr>\n",
       "      <th>2294</th>\n",
       "      <td>1137</td>\n",
       "      <td>NaN</td>\n",
       "      <td>NaN</td>\n",
       "      <td>NaN</td>\n",
       "      <td>NaN</td>\n",
       "      <td>NaT</td>\n",
       "      <td>NaN</td>\n",
       "      <td>NaT</td>\n",
       "      <td>10.0</td>\n",
       "      <td>NaN</td>\n",
       "      <td>NaN</td>\n",
       "      <td>NaN</td>\n",
       "      <td>48.0</td>\n",
       "    </tr>\n",
       "    <tr>\n",
       "      <th>2295</th>\n",
       "      <td>1137</td>\n",
       "      <td>NaN</td>\n",
       "      <td>NaN</td>\n",
       "      <td>NaN</td>\n",
       "      <td>NaN</td>\n",
       "      <td>NaT</td>\n",
       "      <td>NaN</td>\n",
       "      <td>NaT</td>\n",
       "      <td>11.0</td>\n",
       "      <td>NaN</td>\n",
       "      <td>NaN</td>\n",
       "      <td>NaN</td>\n",
       "      <td>64.0</td>\n",
       "    </tr>\n",
       "    <tr>\n",
       "      <th>2296</th>\n",
       "      <td>1137</td>\n",
       "      <td>NaN</td>\n",
       "      <td>NaN</td>\n",
       "      <td>NaN</td>\n",
       "      <td>NaN</td>\n",
       "      <td>NaT</td>\n",
       "      <td>NaN</td>\n",
       "      <td>NaT</td>\n",
       "      <td>12.0</td>\n",
       "      <td>NaN</td>\n",
       "      <td>NaN</td>\n",
       "      <td>NaN</td>\n",
       "      <td>56.0</td>\n",
       "    </tr>\n",
       "    <tr>\n",
       "      <th>2297</th>\n",
       "      <td>1194</td>\n",
       "      <td>NaN</td>\n",
       "      <td>NaN</td>\n",
       "      <td>NaN</td>\n",
       "      <td>NaN</td>\n",
       "      <td>NaT</td>\n",
       "      <td>NaN</td>\n",
       "      <td>NaT</td>\n",
       "      <td>8.0</td>\n",
       "      <td>NaN</td>\n",
       "      <td>NaN</td>\n",
       "      <td>NaN</td>\n",
       "      <td>10.0</td>\n",
       "    </tr>\n",
       "    <tr>\n",
       "      <th>2298</th>\n",
       "      <td>1194</td>\n",
       "      <td>NaN</td>\n",
       "      <td>NaN</td>\n",
       "      <td>NaN</td>\n",
       "      <td>NaN</td>\n",
       "      <td>NaT</td>\n",
       "      <td>NaN</td>\n",
       "      <td>NaT</td>\n",
       "      <td>9.0</td>\n",
       "      <td>NaN</td>\n",
       "      <td>NaN</td>\n",
       "      <td>NaN</td>\n",
       "      <td>76.0</td>\n",
       "    </tr>\n",
       "    <tr>\n",
       "      <th>2299</th>\n",
       "      <td>1194</td>\n",
       "      <td>NaN</td>\n",
       "      <td>NaN</td>\n",
       "      <td>NaN</td>\n",
       "      <td>NaN</td>\n",
       "      <td>NaT</td>\n",
       "      <td>NaN</td>\n",
       "      <td>NaT</td>\n",
       "      <td>10.0</td>\n",
       "      <td>NaN</td>\n",
       "      <td>NaN</td>\n",
       "      <td>NaN</td>\n",
       "      <td>88.0</td>\n",
       "    </tr>\n",
       "    <tr>\n",
       "      <th>2300</th>\n",
       "      <td>1194</td>\n",
       "      <td>NaN</td>\n",
       "      <td>NaN</td>\n",
       "      <td>NaN</td>\n",
       "      <td>NaN</td>\n",
       "      <td>NaT</td>\n",
       "      <td>NaN</td>\n",
       "      <td>NaT</td>\n",
       "      <td>11.0</td>\n",
       "      <td>NaN</td>\n",
       "      <td>NaN</td>\n",
       "      <td>NaN</td>\n",
       "      <td>62.0</td>\n",
       "    </tr>\n",
       "    <tr>\n",
       "      <th>2301</th>\n",
       "      <td>1194</td>\n",
       "      <td>NaN</td>\n",
       "      <td>NaN</td>\n",
       "      <td>NaN</td>\n",
       "      <td>NaN</td>\n",
       "      <td>NaT</td>\n",
       "      <td>NaN</td>\n",
       "      <td>NaT</td>\n",
       "      <td>12.0</td>\n",
       "      <td>NaN</td>\n",
       "      <td>NaN</td>\n",
       "      <td>NaN</td>\n",
       "      <td>56.0</td>\n",
       "    </tr>\n",
       "    <tr>\n",
       "      <th>2302</th>\n",
       "      <td>1204</td>\n",
       "      <td>NaN</td>\n",
       "      <td>NaN</td>\n",
       "      <td>NaN</td>\n",
       "      <td>NaN</td>\n",
       "      <td>NaT</td>\n",
       "      <td>NaN</td>\n",
       "      <td>NaT</td>\n",
       "      <td>11.0</td>\n",
       "      <td>NaN</td>\n",
       "      <td>NaN</td>\n",
       "      <td>NaN</td>\n",
       "      <td>42.0</td>\n",
       "    </tr>\n",
       "    <tr>\n",
       "      <th>2303</th>\n",
       "      <td>1204</td>\n",
       "      <td>NaN</td>\n",
       "      <td>NaN</td>\n",
       "      <td>NaN</td>\n",
       "      <td>NaN</td>\n",
       "      <td>NaT</td>\n",
       "      <td>NaN</td>\n",
       "      <td>NaT</td>\n",
       "      <td>12.0</td>\n",
       "      <td>NaN</td>\n",
       "      <td>NaN</td>\n",
       "      <td>NaN</td>\n",
       "      <td>78.0</td>\n",
       "    </tr>\n",
       "    <tr>\n",
       "      <th>2304</th>\n",
       "      <td>1224</td>\n",
       "      <td>NaN</td>\n",
       "      <td>NaN</td>\n",
       "      <td>NaN</td>\n",
       "      <td>NaN</td>\n",
       "      <td>NaT</td>\n",
       "      <td>NaN</td>\n",
       "      <td>NaT</td>\n",
       "      <td>6.0</td>\n",
       "      <td>NaN</td>\n",
       "      <td>NaN</td>\n",
       "      <td>NaN</td>\n",
       "      <td>5.0</td>\n",
       "    </tr>\n",
       "    <tr>\n",
       "      <th>2305</th>\n",
       "      <td>1349</td>\n",
       "      <td>NaN</td>\n",
       "      <td>NaN</td>\n",
       "      <td>NaN</td>\n",
       "      <td>NaN</td>\n",
       "      <td>NaT</td>\n",
       "      <td>NaN</td>\n",
       "      <td>NaT</td>\n",
       "      <td>10.0</td>\n",
       "      <td>NaN</td>\n",
       "      <td>NaN</td>\n",
       "      <td>NaN</td>\n",
       "      <td>76.0</td>\n",
       "    </tr>\n",
       "    <tr>\n",
       "      <th>2306</th>\n",
       "      <td>1349</td>\n",
       "      <td>NaN</td>\n",
       "      <td>NaN</td>\n",
       "      <td>NaN</td>\n",
       "      <td>NaN</td>\n",
       "      <td>NaT</td>\n",
       "      <td>NaN</td>\n",
       "      <td>NaT</td>\n",
       "      <td>11.0</td>\n",
       "      <td>NaN</td>\n",
       "      <td>NaN</td>\n",
       "      <td>NaN</td>\n",
       "      <td>72.0</td>\n",
       "    </tr>\n",
       "    <tr>\n",
       "      <th>2307</th>\n",
       "      <td>1349</td>\n",
       "      <td>NaN</td>\n",
       "      <td>NaN</td>\n",
       "      <td>NaN</td>\n",
       "      <td>NaN</td>\n",
       "      <td>NaT</td>\n",
       "      <td>NaN</td>\n",
       "      <td>NaT</td>\n",
       "      <td>12.0</td>\n",
       "      <td>NaN</td>\n",
       "      <td>NaN</td>\n",
       "      <td>NaN</td>\n",
       "      <td>61.0</td>\n",
       "    </tr>\n",
       "    <tr>\n",
       "      <th>2308</th>\n",
       "      <td>1361</td>\n",
       "      <td>NaN</td>\n",
       "      <td>NaN</td>\n",
       "      <td>NaN</td>\n",
       "      <td>NaN</td>\n",
       "      <td>NaT</td>\n",
       "      <td>NaN</td>\n",
       "      <td>NaT</td>\n",
       "      <td>5.0</td>\n",
       "      <td>NaN</td>\n",
       "      <td>NaN</td>\n",
       "      <td>NaN</td>\n",
       "      <td>2.0</td>\n",
       "    </tr>\n",
       "    <tr>\n",
       "      <th>2309</th>\n",
       "      <td>1482</td>\n",
       "      <td>NaN</td>\n",
       "      <td>NaN</td>\n",
       "      <td>NaN</td>\n",
       "      <td>NaN</td>\n",
       "      <td>NaT</td>\n",
       "      <td>NaN</td>\n",
       "      <td>NaT</td>\n",
       "      <td>10.0</td>\n",
       "      <td>NaN</td>\n",
       "      <td>NaN</td>\n",
       "      <td>NaN</td>\n",
       "      <td>2.0</td>\n",
       "    </tr>\n",
       "  </tbody>\n",
       "</table>\n",
       "</div>"
      ],
      "text/plain": [
       "      user_id first_name last_name  age city reg_date plan churn_date  month  \\\n",
       "2277     1028        NaN       NaN  NaN  NaN      NaT  NaN        NaT    2.0   \n",
       "2278     1080        NaN       NaN  NaN  NaN      NaT  NaN        NaT    8.0   \n",
       "2279     1080        NaN       NaN  NaN  NaN      NaT  NaN        NaT    9.0   \n",
       "2280     1080        NaN       NaN  NaN  NaN      NaT  NaN        NaT   10.0   \n",
       "2281     1080        NaN       NaN  NaN  NaN      NaT  NaN        NaT   11.0   \n",
       "2282     1080        NaN       NaN  NaN  NaN      NaT  NaN        NaT   12.0   \n",
       "2283     1089        NaN       NaN  NaN  NaN      NaT  NaN        NaT   12.0   \n",
       "2284     1121        NaN       NaN  NaN  NaN      NaT  NaN        NaT   11.0   \n",
       "2285     1121        NaN       NaN  NaN  NaN      NaT  NaN        NaT   12.0   \n",
       "2286     1131        NaN       NaN  NaN  NaN      NaT  NaN        NaT    5.0   \n",
       "2287     1131        NaN       NaN  NaN  NaN      NaT  NaN        NaT    6.0   \n",
       "2288     1131        NaN       NaN  NaN  NaN      NaT  NaN        NaT    7.0   \n",
       "2289     1131        NaN       NaN  NaN  NaN      NaT  NaN        NaT    8.0   \n",
       "2290     1131        NaN       NaN  NaN  NaN      NaT  NaN        NaT    9.0   \n",
       "2291     1131        NaN       NaN  NaN  NaN      NaT  NaN        NaT   10.0   \n",
       "2292     1131        NaN       NaN  NaN  NaN      NaT  NaN        NaT   11.0   \n",
       "2293     1131        NaN       NaN  NaN  NaN      NaT  NaN        NaT   12.0   \n",
       "2294     1137        NaN       NaN  NaN  NaN      NaT  NaN        NaT   10.0   \n",
       "2295     1137        NaN       NaN  NaN  NaN      NaT  NaN        NaT   11.0   \n",
       "2296     1137        NaN       NaN  NaN  NaN      NaT  NaN        NaT   12.0   \n",
       "2297     1194        NaN       NaN  NaN  NaN      NaT  NaN        NaT    8.0   \n",
       "2298     1194        NaN       NaN  NaN  NaN      NaT  NaN        NaT    9.0   \n",
       "2299     1194        NaN       NaN  NaN  NaN      NaT  NaN        NaT   10.0   \n",
       "2300     1194        NaN       NaN  NaN  NaN      NaT  NaN        NaT   11.0   \n",
       "2301     1194        NaN       NaN  NaN  NaN      NaT  NaN        NaT   12.0   \n",
       "2302     1204        NaN       NaN  NaN  NaN      NaT  NaN        NaT   11.0   \n",
       "2303     1204        NaN       NaN  NaN  NaN      NaT  NaN        NaT   12.0   \n",
       "2304     1224        NaN       NaN  NaN  NaN      NaT  NaN        NaT    6.0   \n",
       "2305     1349        NaN       NaN  NaN  NaN      NaT  NaN        NaT   10.0   \n",
       "2306     1349        NaN       NaN  NaN  NaN      NaT  NaN        NaT   11.0   \n",
       "2307     1349        NaN       NaN  NaN  NaN      NaT  NaN        NaT   12.0   \n",
       "2308     1361        NaN       NaN  NaN  NaN      NaT  NaN        NaT    5.0   \n",
       "2309     1482        NaN       NaN  NaN  NaN      NaT  NaN        NaT   10.0   \n",
       "\n",
       "      num_calls  duration  rounded_call_duration  message_count  \n",
       "2277        NaN       NaN                    NaN           12.0  \n",
       "2278        NaN       NaN                    NaN           31.0  \n",
       "2279        NaN       NaN                    NaN           64.0  \n",
       "2280        NaN       NaN                    NaN           59.0  \n",
       "2281        NaN       NaN                    NaN           50.0  \n",
       "2282        NaN       NaN                    NaN           61.0  \n",
       "2283        NaN       NaN                    NaN           27.0  \n",
       "2284        NaN       NaN                    NaN            1.0  \n",
       "2285        NaN       NaN                    NaN           97.0  \n",
       "2286        NaN       NaN                    NaN           18.0  \n",
       "2287        NaN       NaN                    NaN           27.0  \n",
       "2288        NaN       NaN                    NaN           28.0  \n",
       "2289        NaN       NaN                    NaN           33.0  \n",
       "2290        NaN       NaN                    NaN           26.0  \n",
       "2291        NaN       NaN                    NaN           31.0  \n",
       "2292        NaN       NaN                    NaN           20.0  \n",
       "2293        NaN       NaN                    NaN           33.0  \n",
       "2294        NaN       NaN                    NaN           48.0  \n",
       "2295        NaN       NaN                    NaN           64.0  \n",
       "2296        NaN       NaN                    NaN           56.0  \n",
       "2297        NaN       NaN                    NaN           10.0  \n",
       "2298        NaN       NaN                    NaN           76.0  \n",
       "2299        NaN       NaN                    NaN           88.0  \n",
       "2300        NaN       NaN                    NaN           62.0  \n",
       "2301        NaN       NaN                    NaN           56.0  \n",
       "2302        NaN       NaN                    NaN           42.0  \n",
       "2303        NaN       NaN                    NaN           78.0  \n",
       "2304        NaN       NaN                    NaN            5.0  \n",
       "2305        NaN       NaN                    NaN           76.0  \n",
       "2306        NaN       NaN                    NaN           72.0  \n",
       "2307        NaN       NaN                    NaN           61.0  \n",
       "2308        NaN       NaN                    NaN            2.0  \n",
       "2309        NaN       NaN                    NaN            2.0  "
      ]
     },
     "metadata": {},
     "output_type": "display_data"
    },
    {
     "name": "stdout",
     "output_type": "stream",
     "text": [
      "<class 'pandas.core.frame.DataFrame'>\n",
      "Int64Index: 2312 entries, 0 to 2311\n",
      "Data columns (total 15 columns):\n",
      " #   Column                 Non-Null Count  Dtype         \n",
      "---  ------                 --------------  -----         \n",
      " 0   user_id                2312 non-null   int64         \n",
      " 1   first_name             2277 non-null   object        \n",
      " 2   last_name              2277 non-null   object        \n",
      " 3   age                    2277 non-null   float64       \n",
      " 4   city                   2277 non-null   object        \n",
      " 5   reg_date               2277 non-null   datetime64[ns]\n",
      " 6   plan                   2277 non-null   object        \n",
      " 7   churn_date             160 non-null    datetime64[ns]\n",
      " 8   month                  2293 non-null   float64       \n",
      " 9   num_calls              2258 non-null   float64       \n",
      " 10  duration               2258 non-null   float64       \n",
      " 11  rounded_call_duration  2258 non-null   float64       \n",
      " 12  message_count          1806 non-null   float64       \n",
      " 13  mb_per_month           2277 non-null   float64       \n",
      " 14  gb_month               2277 non-null   float64       \n",
      "dtypes: datetime64[ns](2), float64(8), int64(1), object(4)\n",
      "memory usage: 289.0+ KB\n"
     ]
    },
    {
     "data": {
      "text/plain": [
       "None"
      ]
     },
     "metadata": {},
     "output_type": "display_data"
    },
    {
     "data": {
      "text/html": [
       "<div>\n",
       "<style scoped>\n",
       "    .dataframe tbody tr th:only-of-type {\n",
       "        vertical-align: middle;\n",
       "    }\n",
       "\n",
       "    .dataframe tbody tr th {\n",
       "        vertical-align: top;\n",
       "    }\n",
       "\n",
       "    .dataframe thead th {\n",
       "        text-align: right;\n",
       "    }\n",
       "</style>\n",
       "<table border=\"1\" class=\"dataframe\">\n",
       "  <thead>\n",
       "    <tr style=\"text-align: right;\">\n",
       "      <th></th>\n",
       "      <th>user_id</th>\n",
       "      <th>first_name</th>\n",
       "      <th>last_name</th>\n",
       "      <th>age</th>\n",
       "      <th>city</th>\n",
       "      <th>reg_date</th>\n",
       "      <th>plan</th>\n",
       "      <th>churn_date</th>\n",
       "      <th>month</th>\n",
       "      <th>num_calls</th>\n",
       "      <th>duration</th>\n",
       "      <th>rounded_call_duration</th>\n",
       "      <th>message_count</th>\n",
       "      <th>mb_per_month</th>\n",
       "      <th>gb_month</th>\n",
       "    </tr>\n",
       "  </thead>\n",
       "  <tbody>\n",
       "    <tr>\n",
       "      <th>2277</th>\n",
       "      <td>1028</td>\n",
       "      <td>NaN</td>\n",
       "      <td>NaN</td>\n",
       "      <td>NaN</td>\n",
       "      <td>NaN</td>\n",
       "      <td>NaT</td>\n",
       "      <td>NaN</td>\n",
       "      <td>NaT</td>\n",
       "      <td>2.0</td>\n",
       "      <td>NaN</td>\n",
       "      <td>NaN</td>\n",
       "      <td>NaN</td>\n",
       "      <td>12.0</td>\n",
       "      <td>12592.0</td>\n",
       "      <td>13.0</td>\n",
       "    </tr>\n",
       "    <tr>\n",
       "      <th>2278</th>\n",
       "      <td>1080</td>\n",
       "      <td>NaN</td>\n",
       "      <td>NaN</td>\n",
       "      <td>NaN</td>\n",
       "      <td>NaN</td>\n",
       "      <td>NaT</td>\n",
       "      <td>NaN</td>\n",
       "      <td>NaT</td>\n",
       "      <td>8.0</td>\n",
       "      <td>NaN</td>\n",
       "      <td>NaN</td>\n",
       "      <td>NaN</td>\n",
       "      <td>31.0</td>\n",
       "      <td>20520.0</td>\n",
       "      <td>21.0</td>\n",
       "    </tr>\n",
       "    <tr>\n",
       "      <th>2279</th>\n",
       "      <td>1080</td>\n",
       "      <td>NaN</td>\n",
       "      <td>NaN</td>\n",
       "      <td>NaN</td>\n",
       "      <td>NaN</td>\n",
       "      <td>NaT</td>\n",
       "      <td>NaN</td>\n",
       "      <td>NaT</td>\n",
       "      <td>9.0</td>\n",
       "      <td>NaN</td>\n",
       "      <td>NaN</td>\n",
       "      <td>NaN</td>\n",
       "      <td>64.0</td>\n",
       "      <td>25500.0</td>\n",
       "      <td>25.0</td>\n",
       "    </tr>\n",
       "    <tr>\n",
       "      <th>2280</th>\n",
       "      <td>1080</td>\n",
       "      <td>NaN</td>\n",
       "      <td>NaN</td>\n",
       "      <td>NaN</td>\n",
       "      <td>NaN</td>\n",
       "      <td>NaT</td>\n",
       "      <td>NaN</td>\n",
       "      <td>NaT</td>\n",
       "      <td>10.0</td>\n",
       "      <td>NaN</td>\n",
       "      <td>NaN</td>\n",
       "      <td>NaN</td>\n",
       "      <td>59.0</td>\n",
       "      <td>30162.0</td>\n",
       "      <td>30.0</td>\n",
       "    </tr>\n",
       "    <tr>\n",
       "      <th>2281</th>\n",
       "      <td>1080</td>\n",
       "      <td>NaN</td>\n",
       "      <td>NaN</td>\n",
       "      <td>NaN</td>\n",
       "      <td>NaN</td>\n",
       "      <td>NaT</td>\n",
       "      <td>NaN</td>\n",
       "      <td>NaT</td>\n",
       "      <td>11.0</td>\n",
       "      <td>NaN</td>\n",
       "      <td>NaN</td>\n",
       "      <td>NaN</td>\n",
       "      <td>50.0</td>\n",
       "      <td>33560.0</td>\n",
       "      <td>33.0</td>\n",
       "    </tr>\n",
       "    <tr>\n",
       "      <th>2282</th>\n",
       "      <td>1080</td>\n",
       "      <td>NaN</td>\n",
       "      <td>NaN</td>\n",
       "      <td>NaN</td>\n",
       "      <td>NaN</td>\n",
       "      <td>NaT</td>\n",
       "      <td>NaN</td>\n",
       "      <td>NaT</td>\n",
       "      <td>12.0</td>\n",
       "      <td>NaN</td>\n",
       "      <td>NaN</td>\n",
       "      <td>NaN</td>\n",
       "      <td>61.0</td>\n",
       "      <td>24544.0</td>\n",
       "      <td>24.0</td>\n",
       "    </tr>\n",
       "    <tr>\n",
       "      <th>2283</th>\n",
       "      <td>1089</td>\n",
       "      <td>NaN</td>\n",
       "      <td>NaN</td>\n",
       "      <td>NaN</td>\n",
       "      <td>NaN</td>\n",
       "      <td>NaT</td>\n",
       "      <td>NaN</td>\n",
       "      <td>NaT</td>\n",
       "      <td>12.0</td>\n",
       "      <td>NaN</td>\n",
       "      <td>NaN</td>\n",
       "      <td>NaN</td>\n",
       "      <td>27.0</td>\n",
       "      <td>16598.0</td>\n",
       "      <td>17.0</td>\n",
       "    </tr>\n",
       "    <tr>\n",
       "      <th>2284</th>\n",
       "      <td>1121</td>\n",
       "      <td>NaN</td>\n",
       "      <td>NaN</td>\n",
       "      <td>NaN</td>\n",
       "      <td>NaN</td>\n",
       "      <td>NaT</td>\n",
       "      <td>NaN</td>\n",
       "      <td>NaT</td>\n",
       "      <td>11.0</td>\n",
       "      <td>NaN</td>\n",
       "      <td>NaN</td>\n",
       "      <td>NaN</td>\n",
       "      <td>1.0</td>\n",
       "      <td>1237.0</td>\n",
       "      <td>2.0</td>\n",
       "    </tr>\n",
       "    <tr>\n",
       "      <th>2285</th>\n",
       "      <td>1121</td>\n",
       "      <td>NaN</td>\n",
       "      <td>NaN</td>\n",
       "      <td>NaN</td>\n",
       "      <td>NaN</td>\n",
       "      <td>NaT</td>\n",
       "      <td>NaN</td>\n",
       "      <td>NaT</td>\n",
       "      <td>12.0</td>\n",
       "      <td>NaN</td>\n",
       "      <td>NaN</td>\n",
       "      <td>NaN</td>\n",
       "      <td>97.0</td>\n",
       "      <td>66864.0</td>\n",
       "      <td>66.0</td>\n",
       "    </tr>\n",
       "    <tr>\n",
       "      <th>2286</th>\n",
       "      <td>1131</td>\n",
       "      <td>NaN</td>\n",
       "      <td>NaN</td>\n",
       "      <td>NaN</td>\n",
       "      <td>NaN</td>\n",
       "      <td>NaT</td>\n",
       "      <td>NaN</td>\n",
       "      <td>NaT</td>\n",
       "      <td>5.0</td>\n",
       "      <td>NaN</td>\n",
       "      <td>NaN</td>\n",
       "      <td>NaN</td>\n",
       "      <td>18.0</td>\n",
       "      <td>6469.0</td>\n",
       "      <td>7.0</td>\n",
       "    </tr>\n",
       "    <tr>\n",
       "      <th>2287</th>\n",
       "      <td>1131</td>\n",
       "      <td>NaN</td>\n",
       "      <td>NaN</td>\n",
       "      <td>NaN</td>\n",
       "      <td>NaN</td>\n",
       "      <td>NaT</td>\n",
       "      <td>NaN</td>\n",
       "      <td>NaT</td>\n",
       "      <td>6.0</td>\n",
       "      <td>NaN</td>\n",
       "      <td>NaN</td>\n",
       "      <td>NaN</td>\n",
       "      <td>27.0</td>\n",
       "      <td>14638.0</td>\n",
       "      <td>15.0</td>\n",
       "    </tr>\n",
       "    <tr>\n",
       "      <th>2288</th>\n",
       "      <td>1131</td>\n",
       "      <td>NaN</td>\n",
       "      <td>NaN</td>\n",
       "      <td>NaN</td>\n",
       "      <td>NaN</td>\n",
       "      <td>NaT</td>\n",
       "      <td>NaN</td>\n",
       "      <td>NaT</td>\n",
       "      <td>7.0</td>\n",
       "      <td>NaN</td>\n",
       "      <td>NaN</td>\n",
       "      <td>NaN</td>\n",
       "      <td>28.0</td>\n",
       "      <td>16565.0</td>\n",
       "      <td>17.0</td>\n",
       "    </tr>\n",
       "    <tr>\n",
       "      <th>2289</th>\n",
       "      <td>1131</td>\n",
       "      <td>NaN</td>\n",
       "      <td>NaN</td>\n",
       "      <td>NaN</td>\n",
       "      <td>NaN</td>\n",
       "      <td>NaT</td>\n",
       "      <td>NaN</td>\n",
       "      <td>NaT</td>\n",
       "      <td>8.0</td>\n",
       "      <td>NaN</td>\n",
       "      <td>NaN</td>\n",
       "      <td>NaN</td>\n",
       "      <td>33.0</td>\n",
       "      <td>12272.0</td>\n",
       "      <td>12.0</td>\n",
       "    </tr>\n",
       "    <tr>\n",
       "      <th>2290</th>\n",
       "      <td>1131</td>\n",
       "      <td>NaN</td>\n",
       "      <td>NaN</td>\n",
       "      <td>NaN</td>\n",
       "      <td>NaN</td>\n",
       "      <td>NaT</td>\n",
       "      <td>NaN</td>\n",
       "      <td>NaT</td>\n",
       "      <td>9.0</td>\n",
       "      <td>NaN</td>\n",
       "      <td>NaN</td>\n",
       "      <td>NaN</td>\n",
       "      <td>26.0</td>\n",
       "      <td>15595.0</td>\n",
       "      <td>16.0</td>\n",
       "    </tr>\n",
       "    <tr>\n",
       "      <th>2291</th>\n",
       "      <td>1131</td>\n",
       "      <td>NaN</td>\n",
       "      <td>NaN</td>\n",
       "      <td>NaN</td>\n",
       "      <td>NaN</td>\n",
       "      <td>NaT</td>\n",
       "      <td>NaN</td>\n",
       "      <td>NaT</td>\n",
       "      <td>10.0</td>\n",
       "      <td>NaN</td>\n",
       "      <td>NaN</td>\n",
       "      <td>NaN</td>\n",
       "      <td>31.0</td>\n",
       "      <td>21293.0</td>\n",
       "      <td>21.0</td>\n",
       "    </tr>\n",
       "    <tr>\n",
       "      <th>2292</th>\n",
       "      <td>1131</td>\n",
       "      <td>NaN</td>\n",
       "      <td>NaN</td>\n",
       "      <td>NaN</td>\n",
       "      <td>NaN</td>\n",
       "      <td>NaT</td>\n",
       "      <td>NaN</td>\n",
       "      <td>NaT</td>\n",
       "      <td>11.0</td>\n",
       "      <td>NaN</td>\n",
       "      <td>NaN</td>\n",
       "      <td>NaN</td>\n",
       "      <td>20.0</td>\n",
       "      <td>13698.0</td>\n",
       "      <td>14.0</td>\n",
       "    </tr>\n",
       "    <tr>\n",
       "      <th>2293</th>\n",
       "      <td>1131</td>\n",
       "      <td>NaN</td>\n",
       "      <td>NaN</td>\n",
       "      <td>NaN</td>\n",
       "      <td>NaN</td>\n",
       "      <td>NaT</td>\n",
       "      <td>NaN</td>\n",
       "      <td>NaT</td>\n",
       "      <td>12.0</td>\n",
       "      <td>NaN</td>\n",
       "      <td>NaN</td>\n",
       "      <td>NaN</td>\n",
       "      <td>33.0</td>\n",
       "      <td>15213.0</td>\n",
       "      <td>15.0</td>\n",
       "    </tr>\n",
       "    <tr>\n",
       "      <th>2294</th>\n",
       "      <td>1137</td>\n",
       "      <td>NaN</td>\n",
       "      <td>NaN</td>\n",
       "      <td>NaN</td>\n",
       "      <td>NaN</td>\n",
       "      <td>NaT</td>\n",
       "      <td>NaN</td>\n",
       "      <td>NaT</td>\n",
       "      <td>10.0</td>\n",
       "      <td>NaN</td>\n",
       "      <td>NaN</td>\n",
       "      <td>NaN</td>\n",
       "      <td>48.0</td>\n",
       "      <td>7003.0</td>\n",
       "      <td>7.0</td>\n",
       "    </tr>\n",
       "    <tr>\n",
       "      <th>2295</th>\n",
       "      <td>1137</td>\n",
       "      <td>NaN</td>\n",
       "      <td>NaN</td>\n",
       "      <td>NaN</td>\n",
       "      <td>NaN</td>\n",
       "      <td>NaT</td>\n",
       "      <td>NaN</td>\n",
       "      <td>NaT</td>\n",
       "      <td>11.0</td>\n",
       "      <td>NaN</td>\n",
       "      <td>NaN</td>\n",
       "      <td>NaN</td>\n",
       "      <td>64.0</td>\n",
       "      <td>3085.0</td>\n",
       "      <td>4.0</td>\n",
       "    </tr>\n",
       "    <tr>\n",
       "      <th>2296</th>\n",
       "      <td>1137</td>\n",
       "      <td>NaN</td>\n",
       "      <td>NaN</td>\n",
       "      <td>NaN</td>\n",
       "      <td>NaN</td>\n",
       "      <td>NaT</td>\n",
       "      <td>NaN</td>\n",
       "      <td>NaT</td>\n",
       "      <td>12.0</td>\n",
       "      <td>NaN</td>\n",
       "      <td>NaN</td>\n",
       "      <td>NaN</td>\n",
       "      <td>56.0</td>\n",
       "      <td>6746.0</td>\n",
       "      <td>7.0</td>\n",
       "    </tr>\n",
       "    <tr>\n",
       "      <th>2297</th>\n",
       "      <td>1194</td>\n",
       "      <td>NaN</td>\n",
       "      <td>NaN</td>\n",
       "      <td>NaN</td>\n",
       "      <td>NaN</td>\n",
       "      <td>NaT</td>\n",
       "      <td>NaN</td>\n",
       "      <td>NaT</td>\n",
       "      <td>8.0</td>\n",
       "      <td>NaN</td>\n",
       "      <td>NaN</td>\n",
       "      <td>NaN</td>\n",
       "      <td>10.0</td>\n",
       "      <td>5705.0</td>\n",
       "      <td>6.0</td>\n",
       "    </tr>\n",
       "    <tr>\n",
       "      <th>2298</th>\n",
       "      <td>1194</td>\n",
       "      <td>NaN</td>\n",
       "      <td>NaN</td>\n",
       "      <td>NaN</td>\n",
       "      <td>NaN</td>\n",
       "      <td>NaT</td>\n",
       "      <td>NaN</td>\n",
       "      <td>NaT</td>\n",
       "      <td>9.0</td>\n",
       "      <td>NaN</td>\n",
       "      <td>NaN</td>\n",
       "      <td>NaN</td>\n",
       "      <td>76.0</td>\n",
       "      <td>37299.0</td>\n",
       "      <td>37.0</td>\n",
       "    </tr>\n",
       "    <tr>\n",
       "      <th>2299</th>\n",
       "      <td>1194</td>\n",
       "      <td>NaN</td>\n",
       "      <td>NaN</td>\n",
       "      <td>NaN</td>\n",
       "      <td>NaN</td>\n",
       "      <td>NaT</td>\n",
       "      <td>NaN</td>\n",
       "      <td>NaT</td>\n",
       "      <td>10.0</td>\n",
       "      <td>NaN</td>\n",
       "      <td>NaN</td>\n",
       "      <td>NaN</td>\n",
       "      <td>88.0</td>\n",
       "      <td>31539.0</td>\n",
       "      <td>31.0</td>\n",
       "    </tr>\n",
       "    <tr>\n",
       "      <th>2300</th>\n",
       "      <td>1194</td>\n",
       "      <td>NaN</td>\n",
       "      <td>NaN</td>\n",
       "      <td>NaN</td>\n",
       "      <td>NaN</td>\n",
       "      <td>NaT</td>\n",
       "      <td>NaN</td>\n",
       "      <td>NaT</td>\n",
       "      <td>11.0</td>\n",
       "      <td>NaN</td>\n",
       "      <td>NaN</td>\n",
       "      <td>NaN</td>\n",
       "      <td>62.0</td>\n",
       "      <td>42867.0</td>\n",
       "      <td>42.0</td>\n",
       "    </tr>\n",
       "    <tr>\n",
       "      <th>2301</th>\n",
       "      <td>1194</td>\n",
       "      <td>NaN</td>\n",
       "      <td>NaN</td>\n",
       "      <td>NaN</td>\n",
       "      <td>NaN</td>\n",
       "      <td>NaT</td>\n",
       "      <td>NaN</td>\n",
       "      <td>NaT</td>\n",
       "      <td>12.0</td>\n",
       "      <td>NaN</td>\n",
       "      <td>NaN</td>\n",
       "      <td>NaN</td>\n",
       "      <td>56.0</td>\n",
       "      <td>31089.0</td>\n",
       "      <td>31.0</td>\n",
       "    </tr>\n",
       "    <tr>\n",
       "      <th>2302</th>\n",
       "      <td>1204</td>\n",
       "      <td>NaN</td>\n",
       "      <td>NaN</td>\n",
       "      <td>NaN</td>\n",
       "      <td>NaN</td>\n",
       "      <td>NaT</td>\n",
       "      <td>NaN</td>\n",
       "      <td>NaT</td>\n",
       "      <td>11.0</td>\n",
       "      <td>NaN</td>\n",
       "      <td>NaN</td>\n",
       "      <td>NaN</td>\n",
       "      <td>42.0</td>\n",
       "      <td>21347.0</td>\n",
       "      <td>21.0</td>\n",
       "    </tr>\n",
       "    <tr>\n",
       "      <th>2303</th>\n",
       "      <td>1204</td>\n",
       "      <td>NaN</td>\n",
       "      <td>NaN</td>\n",
       "      <td>NaN</td>\n",
       "      <td>NaN</td>\n",
       "      <td>NaT</td>\n",
       "      <td>NaN</td>\n",
       "      <td>NaT</td>\n",
       "      <td>12.0</td>\n",
       "      <td>NaN</td>\n",
       "      <td>NaN</td>\n",
       "      <td>NaN</td>\n",
       "      <td>78.0</td>\n",
       "      <td>36731.0</td>\n",
       "      <td>36.0</td>\n",
       "    </tr>\n",
       "    <tr>\n",
       "      <th>2304</th>\n",
       "      <td>1224</td>\n",
       "      <td>NaN</td>\n",
       "      <td>NaN</td>\n",
       "      <td>NaN</td>\n",
       "      <td>NaN</td>\n",
       "      <td>NaT</td>\n",
       "      <td>NaN</td>\n",
       "      <td>NaT</td>\n",
       "      <td>6.0</td>\n",
       "      <td>NaN</td>\n",
       "      <td>NaN</td>\n",
       "      <td>NaN</td>\n",
       "      <td>5.0</td>\n",
       "      <td>2967.0</td>\n",
       "      <td>3.0</td>\n",
       "    </tr>\n",
       "    <tr>\n",
       "      <th>2305</th>\n",
       "      <td>1349</td>\n",
       "      <td>NaN</td>\n",
       "      <td>NaN</td>\n",
       "      <td>NaN</td>\n",
       "      <td>NaN</td>\n",
       "      <td>NaT</td>\n",
       "      <td>NaN</td>\n",
       "      <td>NaT</td>\n",
       "      <td>10.0</td>\n",
       "      <td>NaN</td>\n",
       "      <td>NaN</td>\n",
       "      <td>NaN</td>\n",
       "      <td>76.0</td>\n",
       "      <td>13094.0</td>\n",
       "      <td>13.0</td>\n",
       "    </tr>\n",
       "    <tr>\n",
       "      <th>2306</th>\n",
       "      <td>1349</td>\n",
       "      <td>NaN</td>\n",
       "      <td>NaN</td>\n",
       "      <td>NaN</td>\n",
       "      <td>NaN</td>\n",
       "      <td>NaT</td>\n",
       "      <td>NaN</td>\n",
       "      <td>NaT</td>\n",
       "      <td>11.0</td>\n",
       "      <td>NaN</td>\n",
       "      <td>NaN</td>\n",
       "      <td>NaN</td>\n",
       "      <td>72.0</td>\n",
       "      <td>17129.0</td>\n",
       "      <td>17.0</td>\n",
       "    </tr>\n",
       "    <tr>\n",
       "      <th>2307</th>\n",
       "      <td>1349</td>\n",
       "      <td>NaN</td>\n",
       "      <td>NaN</td>\n",
       "      <td>NaN</td>\n",
       "      <td>NaN</td>\n",
       "      <td>NaT</td>\n",
       "      <td>NaN</td>\n",
       "      <td>NaT</td>\n",
       "      <td>12.0</td>\n",
       "      <td>NaN</td>\n",
       "      <td>NaN</td>\n",
       "      <td>NaN</td>\n",
       "      <td>61.0</td>\n",
       "      <td>13040.0</td>\n",
       "      <td>13.0</td>\n",
       "    </tr>\n",
       "    <tr>\n",
       "      <th>2308</th>\n",
       "      <td>1361</td>\n",
       "      <td>NaN</td>\n",
       "      <td>NaN</td>\n",
       "      <td>NaN</td>\n",
       "      <td>NaN</td>\n",
       "      <td>NaT</td>\n",
       "      <td>NaN</td>\n",
       "      <td>NaT</td>\n",
       "      <td>5.0</td>\n",
       "      <td>NaN</td>\n",
       "      <td>NaN</td>\n",
       "      <td>NaN</td>\n",
       "      <td>2.0</td>\n",
       "      <td>1520.0</td>\n",
       "      <td>2.0</td>\n",
       "    </tr>\n",
       "    <tr>\n",
       "      <th>2309</th>\n",
       "      <td>1482</td>\n",
       "      <td>NaN</td>\n",
       "      <td>NaN</td>\n",
       "      <td>NaN</td>\n",
       "      <td>NaN</td>\n",
       "      <td>NaT</td>\n",
       "      <td>NaN</td>\n",
       "      <td>NaT</td>\n",
       "      <td>10.0</td>\n",
       "      <td>NaN</td>\n",
       "      <td>NaN</td>\n",
       "      <td>NaN</td>\n",
       "      <td>2.0</td>\n",
       "      <td>NaN</td>\n",
       "      <td>NaN</td>\n",
       "    </tr>\n",
       "    <tr>\n",
       "      <th>2310</th>\n",
       "      <td>1108</td>\n",
       "      <td>NaN</td>\n",
       "      <td>NaN</td>\n",
       "      <td>NaN</td>\n",
       "      <td>NaN</td>\n",
       "      <td>NaT</td>\n",
       "      <td>NaN</td>\n",
       "      <td>NaT</td>\n",
       "      <td>12.0</td>\n",
       "      <td>NaN</td>\n",
       "      <td>NaN</td>\n",
       "      <td>NaN</td>\n",
       "      <td>NaN</td>\n",
       "      <td>234.0</td>\n",
       "      <td>1.0</td>\n",
       "    </tr>\n",
       "    <tr>\n",
       "      <th>2311</th>\n",
       "      <td>1311</td>\n",
       "      <td>NaN</td>\n",
       "      <td>NaN</td>\n",
       "      <td>NaN</td>\n",
       "      <td>NaN</td>\n",
       "      <td>NaT</td>\n",
       "      <td>NaN</td>\n",
       "      <td>NaT</td>\n",
       "      <td>6.0</td>\n",
       "      <td>NaN</td>\n",
       "      <td>NaN</td>\n",
       "      <td>NaN</td>\n",
       "      <td>NaN</td>\n",
       "      <td>1499.0</td>\n",
       "      <td>2.0</td>\n",
       "    </tr>\n",
       "  </tbody>\n",
       "</table>\n",
       "</div>"
      ],
      "text/plain": [
       "      user_id first_name last_name  age city reg_date plan churn_date  month  \\\n",
       "2277     1028        NaN       NaN  NaN  NaN      NaT  NaN        NaT    2.0   \n",
       "2278     1080        NaN       NaN  NaN  NaN      NaT  NaN        NaT    8.0   \n",
       "2279     1080        NaN       NaN  NaN  NaN      NaT  NaN        NaT    9.0   \n",
       "2280     1080        NaN       NaN  NaN  NaN      NaT  NaN        NaT   10.0   \n",
       "2281     1080        NaN       NaN  NaN  NaN      NaT  NaN        NaT   11.0   \n",
       "2282     1080        NaN       NaN  NaN  NaN      NaT  NaN        NaT   12.0   \n",
       "2283     1089        NaN       NaN  NaN  NaN      NaT  NaN        NaT   12.0   \n",
       "2284     1121        NaN       NaN  NaN  NaN      NaT  NaN        NaT   11.0   \n",
       "2285     1121        NaN       NaN  NaN  NaN      NaT  NaN        NaT   12.0   \n",
       "2286     1131        NaN       NaN  NaN  NaN      NaT  NaN        NaT    5.0   \n",
       "2287     1131        NaN       NaN  NaN  NaN      NaT  NaN        NaT    6.0   \n",
       "2288     1131        NaN       NaN  NaN  NaN      NaT  NaN        NaT    7.0   \n",
       "2289     1131        NaN       NaN  NaN  NaN      NaT  NaN        NaT    8.0   \n",
       "2290     1131        NaN       NaN  NaN  NaN      NaT  NaN        NaT    9.0   \n",
       "2291     1131        NaN       NaN  NaN  NaN      NaT  NaN        NaT   10.0   \n",
       "2292     1131        NaN       NaN  NaN  NaN      NaT  NaN        NaT   11.0   \n",
       "2293     1131        NaN       NaN  NaN  NaN      NaT  NaN        NaT   12.0   \n",
       "2294     1137        NaN       NaN  NaN  NaN      NaT  NaN        NaT   10.0   \n",
       "2295     1137        NaN       NaN  NaN  NaN      NaT  NaN        NaT   11.0   \n",
       "2296     1137        NaN       NaN  NaN  NaN      NaT  NaN        NaT   12.0   \n",
       "2297     1194        NaN       NaN  NaN  NaN      NaT  NaN        NaT    8.0   \n",
       "2298     1194        NaN       NaN  NaN  NaN      NaT  NaN        NaT    9.0   \n",
       "2299     1194        NaN       NaN  NaN  NaN      NaT  NaN        NaT   10.0   \n",
       "2300     1194        NaN       NaN  NaN  NaN      NaT  NaN        NaT   11.0   \n",
       "2301     1194        NaN       NaN  NaN  NaN      NaT  NaN        NaT   12.0   \n",
       "2302     1204        NaN       NaN  NaN  NaN      NaT  NaN        NaT   11.0   \n",
       "2303     1204        NaN       NaN  NaN  NaN      NaT  NaN        NaT   12.0   \n",
       "2304     1224        NaN       NaN  NaN  NaN      NaT  NaN        NaT    6.0   \n",
       "2305     1349        NaN       NaN  NaN  NaN      NaT  NaN        NaT   10.0   \n",
       "2306     1349        NaN       NaN  NaN  NaN      NaT  NaN        NaT   11.0   \n",
       "2307     1349        NaN       NaN  NaN  NaN      NaT  NaN        NaT   12.0   \n",
       "2308     1361        NaN       NaN  NaN  NaN      NaT  NaN        NaT    5.0   \n",
       "2309     1482        NaN       NaN  NaN  NaN      NaT  NaN        NaT   10.0   \n",
       "2310     1108        NaN       NaN  NaN  NaN      NaT  NaN        NaT   12.0   \n",
       "2311     1311        NaN       NaN  NaN  NaN      NaT  NaN        NaT    6.0   \n",
       "\n",
       "      num_calls  duration  rounded_call_duration  message_count  mb_per_month  \\\n",
       "2277        NaN       NaN                    NaN           12.0       12592.0   \n",
       "2278        NaN       NaN                    NaN           31.0       20520.0   \n",
       "2279        NaN       NaN                    NaN           64.0       25500.0   \n",
       "2280        NaN       NaN                    NaN           59.0       30162.0   \n",
       "2281        NaN       NaN                    NaN           50.0       33560.0   \n",
       "2282        NaN       NaN                    NaN           61.0       24544.0   \n",
       "2283        NaN       NaN                    NaN           27.0       16598.0   \n",
       "2284        NaN       NaN                    NaN            1.0        1237.0   \n",
       "2285        NaN       NaN                    NaN           97.0       66864.0   \n",
       "2286        NaN       NaN                    NaN           18.0        6469.0   \n",
       "2287        NaN       NaN                    NaN           27.0       14638.0   \n",
       "2288        NaN       NaN                    NaN           28.0       16565.0   \n",
       "2289        NaN       NaN                    NaN           33.0       12272.0   \n",
       "2290        NaN       NaN                    NaN           26.0       15595.0   \n",
       "2291        NaN       NaN                    NaN           31.0       21293.0   \n",
       "2292        NaN       NaN                    NaN           20.0       13698.0   \n",
       "2293        NaN       NaN                    NaN           33.0       15213.0   \n",
       "2294        NaN       NaN                    NaN           48.0        7003.0   \n",
       "2295        NaN       NaN                    NaN           64.0        3085.0   \n",
       "2296        NaN       NaN                    NaN           56.0        6746.0   \n",
       "2297        NaN       NaN                    NaN           10.0        5705.0   \n",
       "2298        NaN       NaN                    NaN           76.0       37299.0   \n",
       "2299        NaN       NaN                    NaN           88.0       31539.0   \n",
       "2300        NaN       NaN                    NaN           62.0       42867.0   \n",
       "2301        NaN       NaN                    NaN           56.0       31089.0   \n",
       "2302        NaN       NaN                    NaN           42.0       21347.0   \n",
       "2303        NaN       NaN                    NaN           78.0       36731.0   \n",
       "2304        NaN       NaN                    NaN            5.0        2967.0   \n",
       "2305        NaN       NaN                    NaN           76.0       13094.0   \n",
       "2306        NaN       NaN                    NaN           72.0       17129.0   \n",
       "2307        NaN       NaN                    NaN           61.0       13040.0   \n",
       "2308        NaN       NaN                    NaN            2.0        1520.0   \n",
       "2309        NaN       NaN                    NaN            2.0           NaN   \n",
       "2310        NaN       NaN                    NaN            NaN         234.0   \n",
       "2311        NaN       NaN                    NaN            NaN        1499.0   \n",
       "\n",
       "      gb_month  \n",
       "2277      13.0  \n",
       "2278      21.0  \n",
       "2279      25.0  \n",
       "2280      30.0  \n",
       "2281      33.0  \n",
       "2282      24.0  \n",
       "2283      17.0  \n",
       "2284       2.0  \n",
       "2285      66.0  \n",
       "2286       7.0  \n",
       "2287      15.0  \n",
       "2288      17.0  \n",
       "2289      12.0  \n",
       "2290      16.0  \n",
       "2291      21.0  \n",
       "2292      14.0  \n",
       "2293      15.0  \n",
       "2294       7.0  \n",
       "2295       4.0  \n",
       "2296       7.0  \n",
       "2297       6.0  \n",
       "2298      37.0  \n",
       "2299      31.0  \n",
       "2300      42.0  \n",
       "2301      31.0  \n",
       "2302      21.0  \n",
       "2303      36.0  \n",
       "2304       3.0  \n",
       "2305      13.0  \n",
       "2306      17.0  \n",
       "2307      13.0  \n",
       "2308       2.0  \n",
       "2309       NaN  \n",
       "2310       1.0  \n",
       "2311       2.0  "
      ]
     },
     "metadata": {},
     "output_type": "display_data"
    },
    {
     "name": "stdout",
     "output_type": "stream",
     "text": [
      "<class 'pandas.core.frame.DataFrame'>\n",
      "Int64Index: 2312 entries, 0 to 2311\n",
      "Data columns (total 9 columns):\n",
      " #   Column                 Non-Null Count  Dtype  \n",
      "---  ------                 --------------  -----  \n",
      " 0   user_id                2312 non-null   int64  \n",
      " 1   month                  2293 non-null   float64\n",
      " 2   plan                   2277 non-null   object \n",
      " 3   city                   2277 non-null   object \n",
      " 4   num_calls              2258 non-null   float64\n",
      " 5   rounded_call_duration  2258 non-null   float64\n",
      " 6   message_count          1806 non-null   float64\n",
      " 7   mb_per_month           2277 non-null   float64\n",
      " 8   gb_month               2277 non-null   float64\n",
      "dtypes: float64(6), int64(1), object(2)\n",
      "memory usage: 180.6+ KB\n"
     ]
    },
    {
     "data": {
      "text/plain": [
       "None"
      ]
     },
     "metadata": {},
     "output_type": "display_data"
    },
    {
     "data": {
      "text/html": [
       "<div>\n",
       "<style scoped>\n",
       "    .dataframe tbody tr th:only-of-type {\n",
       "        vertical-align: middle;\n",
       "    }\n",
       "\n",
       "    .dataframe tbody tr th {\n",
       "        vertical-align: top;\n",
       "    }\n",
       "\n",
       "    .dataframe thead th {\n",
       "        text-align: right;\n",
       "    }\n",
       "</style>\n",
       "<table border=\"1\" class=\"dataframe\">\n",
       "  <thead>\n",
       "    <tr style=\"text-align: right;\">\n",
       "      <th></th>\n",
       "      <th>user_id</th>\n",
       "      <th>month</th>\n",
       "      <th>plan</th>\n",
       "      <th>city</th>\n",
       "      <th>num_calls</th>\n",
       "      <th>rounded_call_duration</th>\n",
       "      <th>message_count</th>\n",
       "      <th>mb_per_month</th>\n",
       "      <th>gb_month</th>\n",
       "    </tr>\n",
       "  </thead>\n",
       "  <tbody>\n",
       "    <tr>\n",
       "      <th>0</th>\n",
       "      <td>1000</td>\n",
       "      <td>12.0</td>\n",
       "      <td>ultimate</td>\n",
       "      <td>Atlanta-Sandy Springs-Roswell, GA MSA</td>\n",
       "      <td>16.0</td>\n",
       "      <td>124.0</td>\n",
       "      <td>11.0</td>\n",
       "      <td>1902.0</td>\n",
       "      <td>2.0</td>\n",
       "    </tr>\n",
       "    <tr>\n",
       "      <th>1</th>\n",
       "      <td>1001</td>\n",
       "      <td>8.0</td>\n",
       "      <td>surf</td>\n",
       "      <td>Seattle-Tacoma-Bellevue, WA MSA</td>\n",
       "      <td>27.0</td>\n",
       "      <td>182.0</td>\n",
       "      <td>30.0</td>\n",
       "      <td>6920.0</td>\n",
       "      <td>7.0</td>\n",
       "    </tr>\n",
       "    <tr>\n",
       "      <th>2</th>\n",
       "      <td>1001</td>\n",
       "      <td>9.0</td>\n",
       "      <td>surf</td>\n",
       "      <td>Seattle-Tacoma-Bellevue, WA MSA</td>\n",
       "      <td>49.0</td>\n",
       "      <td>315.0</td>\n",
       "      <td>44.0</td>\n",
       "      <td>13315.0</td>\n",
       "      <td>14.0</td>\n",
       "    </tr>\n",
       "    <tr>\n",
       "      <th>3</th>\n",
       "      <td>1001</td>\n",
       "      <td>10.0</td>\n",
       "      <td>surf</td>\n",
       "      <td>Seattle-Tacoma-Bellevue, WA MSA</td>\n",
       "      <td>65.0</td>\n",
       "      <td>393.0</td>\n",
       "      <td>53.0</td>\n",
       "      <td>22331.0</td>\n",
       "      <td>22.0</td>\n",
       "    </tr>\n",
       "    <tr>\n",
       "      <th>4</th>\n",
       "      <td>1001</td>\n",
       "      <td>11.0</td>\n",
       "      <td>surf</td>\n",
       "      <td>Seattle-Tacoma-Bellevue, WA MSA</td>\n",
       "      <td>64.0</td>\n",
       "      <td>426.0</td>\n",
       "      <td>36.0</td>\n",
       "      <td>18505.0</td>\n",
       "      <td>19.0</td>\n",
       "    </tr>\n",
       "  </tbody>\n",
       "</table>\n",
       "</div>"
      ],
      "text/plain": [
       "   user_id  month      plan                                   city  num_calls  \\\n",
       "0     1000   12.0  ultimate  Atlanta-Sandy Springs-Roswell, GA MSA       16.0   \n",
       "1     1001    8.0      surf        Seattle-Tacoma-Bellevue, WA MSA       27.0   \n",
       "2     1001    9.0      surf        Seattle-Tacoma-Bellevue, WA MSA       49.0   \n",
       "3     1001   10.0      surf        Seattle-Tacoma-Bellevue, WA MSA       65.0   \n",
       "4     1001   11.0      surf        Seattle-Tacoma-Bellevue, WA MSA       64.0   \n",
       "\n",
       "   rounded_call_duration  message_count  mb_per_month  gb_month  \n",
       "0                  124.0           11.0        1902.0       2.0  \n",
       "1                  182.0           30.0        6920.0       7.0  \n",
       "2                  315.0           44.0       13315.0      14.0  \n",
       "3                  393.0           53.0       22331.0      22.0  \n",
       "4                  426.0           36.0       18505.0      19.0  "
      ]
     },
     "metadata": {},
     "output_type": "display_data"
    }
   ],
   "source": [
    "# Merge the data for calls, minutes, messages, internet based on user_id and month\n",
    "display(users_df.info()) #'plan' no null values\n",
    "\n",
    "data_per_month = users_df.merge(calls_per_month, on='user_id', how='outer', suffixes=('_users', '_calls'))\n",
    "display(data_per_month.info()) #'plan' no null values\n",
    "\n",
    "data_per_month = data_per_month.merge(min_per_month, on=['user_id', 'month'], how='outer', suffixes=('_users', '_minutes'))\n",
    "display(data_per_month.info())#'plan' no null values\n",
    "\n",
    "data_per_month = data_per_month.merge(message_per_month, on=['user_id', 'month'], how='outer', suffixes=('_users', '_messages'))\n",
    "display(data_per_month.info()) # null values in 'plan' (33)\n",
    "# Check where the 'plan' is still NaN\n",
    "display(data_per_month[data_per_month['plan'].isna()])\n",
    "\n",
    "data_per_month = data_per_month.merge(internet_per_month, on=['user_id', 'month'], how='outer', suffixes=('_users', '_internet'))\n",
    "display(data_per_month.info()) # # null values in 'plan' (35)\n",
    "# Check where the 'plan' is still NaN\n",
    "display(data_per_month[data_per_month['plan'].isna()])\n",
    "\n",
    "data_per_month = data_per_month[['user_id','month','plan','city','num_calls','rounded_call_duration','message_count','mb_per_month','gb_month']] \n",
    "display(data_per_month.info())\n",
    "\n",
    "display(data_per_month.head())    "
   ]
  },
  {
   "cell_type": "code",
   "execution_count": 30,
   "metadata": {},
   "outputs": [
    {
     "name": "stdout",
     "output_type": "stream",
     "text": [
      "<class 'pandas.core.frame.DataFrame'>\n",
      "Int64Index: 2312 entries, 0 to 2311\n",
      "Data columns (total 9 columns):\n",
      " #   Column                 Non-Null Count  Dtype  \n",
      "---  ------                 --------------  -----  \n",
      " 0   user_id                2312 non-null   int64  \n",
      " 1   month                  2293 non-null   float64\n",
      " 2   plan                   2312 non-null   object \n",
      " 3   city                   2277 non-null   object \n",
      " 4   num_calls              2258 non-null   float64\n",
      " 5   rounded_call_duration  2258 non-null   float64\n",
      " 6   message_count          1806 non-null   float64\n",
      " 7   mb_per_month           2277 non-null   float64\n",
      " 8   gb_month               2277 non-null   float64\n",
      "dtypes: float64(6), int64(1), object(2)\n",
      "memory usage: 180.6+ KB\n"
     ]
    },
    {
     "data": {
      "text/plain": [
       "None"
      ]
     },
     "metadata": {},
     "output_type": "display_data"
    }
   ],
   "source": [
    "# Group the users_df by 'user_id' and get the mode of 'plan' for each user\n",
    "user_plan_mode = users_df.groupby('user_id')['plan'].agg(lambda x: x.mode().iloc[0])\n",
    "\n",
    "# Map the mode values to the missing 'plan' values based on 'user_id'\n",
    "data_per_month['plan'] = data_per_month.apply(lambda row: user_plan_mode[row['user_id']] if pd.isna(row['plan']) else row['plan'], axis=1)\n",
    "\n",
    "# Display the data after filling missing values in 'plan'\n",
    "display(data_per_month.info())"
   ]
  },
  {
   "cell_type": "markdown",
   "metadata": {},
   "source": [
    "## Taking out null values in data_per_month"
   ]
  },
  {
   "cell_type": "code",
   "execution_count": 31,
   "metadata": {},
   "outputs": [
    {
     "name": "stdout",
     "output_type": "stream",
     "text": [
      "<class 'pandas.core.frame.DataFrame'>\n",
      "Int64Index: 2312 entries, 0 to 2311\n",
      "Data columns (total 9 columns):\n",
      " #   Column                 Non-Null Count  Dtype  \n",
      "---  ------                 --------------  -----  \n",
      " 0   user_id                2312 non-null   int64  \n",
      " 1   month                  2293 non-null   float64\n",
      " 2   plan                   2312 non-null   object \n",
      " 3   city                   2277 non-null   object \n",
      " 4   num_calls              2312 non-null   float64\n",
      " 5   rounded_call_duration  2312 non-null   float64\n",
      " 6   message_count          2312 non-null   float64\n",
      " 7   mb_per_month           2312 non-null   float64\n",
      " 8   gb_month               2312 non-null   float64\n",
      "dtypes: float64(6), int64(1), object(2)\n",
      "memory usage: 180.6+ KB\n"
     ]
    }
   ],
   "source": [
    "data_per_month[['num_calls','rounded_call_duration','message_count','mb_per_month','gb_month']] = data_per_month[['num_calls','rounded_call_duration','message_count','mb_per_month','gb_month']].fillna(0)\n",
    "data_per_month.info()"
   ]
  },
  {
   "cell_type": "markdown",
   "metadata": {},
   "source": [
    "After merging the months column changed to a float type. Looking into this data below, shows these 19 user ids have no data in them except for the plan. Below also looking into churn customers"
   ]
  },
  {
   "cell_type": "markdown",
   "metadata": {},
   "source": [
    "## Changes in D-type of month column\n",
    "\n",
    "There are null values in the month column after merging the data"
   ]
  },
  {
   "cell_type": "code",
   "execution_count": 32,
   "metadata": {},
   "outputs": [
    {
     "data": {
      "text/html": [
       "<div>\n",
       "<style scoped>\n",
       "    .dataframe tbody tr th:only-of-type {\n",
       "        vertical-align: middle;\n",
       "    }\n",
       "\n",
       "    .dataframe tbody tr th {\n",
       "        vertical-align: top;\n",
       "    }\n",
       "\n",
       "    .dataframe thead th {\n",
       "        text-align: right;\n",
       "    }\n",
       "</style>\n",
       "<table border=\"1\" class=\"dataframe\">\n",
       "  <thead>\n",
       "    <tr style=\"text-align: right;\">\n",
       "      <th></th>\n",
       "      <th>user_id</th>\n",
       "      <th>month</th>\n",
       "      <th>plan</th>\n",
       "      <th>city</th>\n",
       "      <th>num_calls</th>\n",
       "      <th>rounded_call_duration</th>\n",
       "      <th>message_count</th>\n",
       "      <th>mb_per_month</th>\n",
       "      <th>gb_month</th>\n",
       "    </tr>\n",
       "  </thead>\n",
       "  <tbody>\n",
       "    <tr>\n",
       "      <th>86</th>\n",
       "      <td>1025</td>\n",
       "      <td>NaN</td>\n",
       "      <td>ultimate</td>\n",
       "      <td>Atlanta-Sandy Springs-Roswell, GA MSA</td>\n",
       "      <td>0.0</td>\n",
       "      <td>0.0</td>\n",
       "      <td>0.0</td>\n",
       "      <td>0.0</td>\n",
       "      <td>0.0</td>\n",
       "    </tr>\n",
       "    <tr>\n",
       "      <th>381</th>\n",
       "      <td>1080</td>\n",
       "      <td>NaN</td>\n",
       "      <td>surf</td>\n",
       "      <td>New York-Newark-Jersey City, NY-NJ-PA MSA</td>\n",
       "      <td>0.0</td>\n",
       "      <td>0.0</td>\n",
       "      <td>0.0</td>\n",
       "      <td>0.0</td>\n",
       "      <td>0.0</td>\n",
       "    </tr>\n",
       "    <tr>\n",
       "      <th>422</th>\n",
       "      <td>1089</td>\n",
       "      <td>NaN</td>\n",
       "      <td>surf</td>\n",
       "      <td>Philadelphia-Camden-Wilmington, PA-NJ-DE-MD MSA</td>\n",
       "      <td>0.0</td>\n",
       "      <td>0.0</td>\n",
       "      <td>0.0</td>\n",
       "      <td>0.0</td>\n",
       "      <td>0.0</td>\n",
       "    </tr>\n",
       "    <tr>\n",
       "      <th>503</th>\n",
       "      <td>1108</td>\n",
       "      <td>NaN</td>\n",
       "      <td>ultimate</td>\n",
       "      <td>Salt Lake City, UT MSA</td>\n",
       "      <td>0.0</td>\n",
       "      <td>0.0</td>\n",
       "      <td>0.0</td>\n",
       "      <td>0.0</td>\n",
       "      <td>0.0</td>\n",
       "    </tr>\n",
       "    <tr>\n",
       "      <th>565</th>\n",
       "      <td>1121</td>\n",
       "      <td>NaN</td>\n",
       "      <td>surf</td>\n",
       "      <td>Miami-Fort Lauderdale-West Palm Beach, FL MSA</td>\n",
       "      <td>0.0</td>\n",
       "      <td>0.0</td>\n",
       "      <td>0.0</td>\n",
       "      <td>0.0</td>\n",
       "      <td>0.0</td>\n",
       "    </tr>\n",
       "    <tr>\n",
       "      <th>606</th>\n",
       "      <td>1129</td>\n",
       "      <td>NaN</td>\n",
       "      <td>surf</td>\n",
       "      <td>Baton Rouge, LA MSA</td>\n",
       "      <td>0.0</td>\n",
       "      <td>0.0</td>\n",
       "      <td>0.0</td>\n",
       "      <td>0.0</td>\n",
       "      <td>0.0</td>\n",
       "    </tr>\n",
       "    <tr>\n",
       "      <th>611</th>\n",
       "      <td>1131</td>\n",
       "      <td>NaN</td>\n",
       "      <td>surf</td>\n",
       "      <td>Los Angeles-Long Beach-Anaheim, CA MSA</td>\n",
       "      <td>0.0</td>\n",
       "      <td>0.0</td>\n",
       "      <td>0.0</td>\n",
       "      <td>0.0</td>\n",
       "      <td>0.0</td>\n",
       "    </tr>\n",
       "    <tr>\n",
       "      <th>635</th>\n",
       "      <td>1137</td>\n",
       "      <td>NaN</td>\n",
       "      <td>surf</td>\n",
       "      <td>Chicago-Naperville-Elgin, IL-IN-WI MSA</td>\n",
       "      <td>0.0</td>\n",
       "      <td>0.0</td>\n",
       "      <td>0.0</td>\n",
       "      <td>0.0</td>\n",
       "      <td>0.0</td>\n",
       "    </tr>\n",
       "    <tr>\n",
       "      <th>667</th>\n",
       "      <td>1143</td>\n",
       "      <td>NaN</td>\n",
       "      <td>surf</td>\n",
       "      <td>Cincinnati, OH-KY-IN MSA</td>\n",
       "      <td>0.0</td>\n",
       "      <td>0.0</td>\n",
       "      <td>0.0</td>\n",
       "      <td>0.0</td>\n",
       "      <td>0.0</td>\n",
       "    </tr>\n",
       "    <tr>\n",
       "      <th>918</th>\n",
       "      <td>1194</td>\n",
       "      <td>NaN</td>\n",
       "      <td>surf</td>\n",
       "      <td>San Jose-Sunnyvale-Santa Clara, CA MSA</td>\n",
       "      <td>0.0</td>\n",
       "      <td>0.0</td>\n",
       "      <td>0.0</td>\n",
       "      <td>0.0</td>\n",
       "      <td>0.0</td>\n",
       "    </tr>\n",
       "    <tr>\n",
       "      <th>968</th>\n",
       "      <td>1204</td>\n",
       "      <td>NaN</td>\n",
       "      <td>ultimate</td>\n",
       "      <td>Chicago-Naperville-Elgin, IL-IN-WI MSA</td>\n",
       "      <td>0.0</td>\n",
       "      <td>0.0</td>\n",
       "      <td>0.0</td>\n",
       "      <td>0.0</td>\n",
       "      <td>0.0</td>\n",
       "    </tr>\n",
       "    <tr>\n",
       "      <th>1264</th>\n",
       "      <td>1269</td>\n",
       "      <td>NaN</td>\n",
       "      <td>ultimate</td>\n",
       "      <td>Dallas-Fort Worth-Arlington, TX MSA</td>\n",
       "      <td>0.0</td>\n",
       "      <td>0.0</td>\n",
       "      <td>0.0</td>\n",
       "      <td>0.0</td>\n",
       "      <td>0.0</td>\n",
       "    </tr>\n",
       "    <tr>\n",
       "      <th>1276</th>\n",
       "      <td>1275</td>\n",
       "      <td>NaN</td>\n",
       "      <td>ultimate</td>\n",
       "      <td>New York-Newark-Jersey City, NY-NJ-PA MSA</td>\n",
       "      <td>0.0</td>\n",
       "      <td>0.0</td>\n",
       "      <td>0.0</td>\n",
       "      <td>0.0</td>\n",
       "      <td>0.0</td>\n",
       "    </tr>\n",
       "    <tr>\n",
       "      <th>1397</th>\n",
       "      <td>1307</td>\n",
       "      <td>NaN</td>\n",
       "      <td>surf</td>\n",
       "      <td>Boston-Cambridge-Newton, MA-NH MSA</td>\n",
       "      <td>0.0</td>\n",
       "      <td>0.0</td>\n",
       "      <td>0.0</td>\n",
       "      <td>0.0</td>\n",
       "      <td>0.0</td>\n",
       "    </tr>\n",
       "    <tr>\n",
       "      <th>1444</th>\n",
       "      <td>1319</td>\n",
       "      <td>NaN</td>\n",
       "      <td>surf</td>\n",
       "      <td>Colorado Springs, CO MSA</td>\n",
       "      <td>0.0</td>\n",
       "      <td>0.0</td>\n",
       "      <td>0.0</td>\n",
       "      <td>0.0</td>\n",
       "      <td>0.0</td>\n",
       "    </tr>\n",
       "    <tr>\n",
       "      <th>1594</th>\n",
       "      <td>1349</td>\n",
       "      <td>NaN</td>\n",
       "      <td>surf</td>\n",
       "      <td>Boston-Cambridge-Newton, MA-NH MSA</td>\n",
       "      <td>0.0</td>\n",
       "      <td>0.0</td>\n",
       "      <td>0.0</td>\n",
       "      <td>0.0</td>\n",
       "      <td>0.0</td>\n",
       "    </tr>\n",
       "    <tr>\n",
       "      <th>1737</th>\n",
       "      <td>1378</td>\n",
       "      <td>NaN</td>\n",
       "      <td>surf</td>\n",
       "      <td>Denver-Aurora-Lakewood, CO MSA</td>\n",
       "      <td>0.0</td>\n",
       "      <td>0.0</td>\n",
       "      <td>0.0</td>\n",
       "      <td>0.0</td>\n",
       "      <td>0.0</td>\n",
       "    </tr>\n",
       "    <tr>\n",
       "      <th>2114</th>\n",
       "      <td>1463</td>\n",
       "      <td>NaN</td>\n",
       "      <td>ultimate</td>\n",
       "      <td>Atlanta-Sandy Springs-Roswell, GA MSA</td>\n",
       "      <td>0.0</td>\n",
       "      <td>0.0</td>\n",
       "      <td>0.0</td>\n",
       "      <td>0.0</td>\n",
       "      <td>0.0</td>\n",
       "    </tr>\n",
       "    <tr>\n",
       "      <th>2164</th>\n",
       "      <td>1473</td>\n",
       "      <td>NaN</td>\n",
       "      <td>surf</td>\n",
       "      <td>Louisville/Jefferson County, KY-IN MSA</td>\n",
       "      <td>0.0</td>\n",
       "      <td>0.0</td>\n",
       "      <td>0.0</td>\n",
       "      <td>0.0</td>\n",
       "      <td>0.0</td>\n",
       "    </tr>\n",
       "  </tbody>\n",
       "</table>\n",
       "</div>"
      ],
      "text/plain": [
       "      user_id  month      plan  \\\n",
       "86       1025    NaN  ultimate   \n",
       "381      1080    NaN      surf   \n",
       "422      1089    NaN      surf   \n",
       "503      1108    NaN  ultimate   \n",
       "565      1121    NaN      surf   \n",
       "606      1129    NaN      surf   \n",
       "611      1131    NaN      surf   \n",
       "635      1137    NaN      surf   \n",
       "667      1143    NaN      surf   \n",
       "918      1194    NaN      surf   \n",
       "968      1204    NaN  ultimate   \n",
       "1264     1269    NaN  ultimate   \n",
       "1276     1275    NaN  ultimate   \n",
       "1397     1307    NaN      surf   \n",
       "1444     1319    NaN      surf   \n",
       "1594     1349    NaN      surf   \n",
       "1737     1378    NaN      surf   \n",
       "2114     1463    NaN  ultimate   \n",
       "2164     1473    NaN      surf   \n",
       "\n",
       "                                                 city  num_calls  \\\n",
       "86              Atlanta-Sandy Springs-Roswell, GA MSA        0.0   \n",
       "381         New York-Newark-Jersey City, NY-NJ-PA MSA        0.0   \n",
       "422   Philadelphia-Camden-Wilmington, PA-NJ-DE-MD MSA        0.0   \n",
       "503                            Salt Lake City, UT MSA        0.0   \n",
       "565     Miami-Fort Lauderdale-West Palm Beach, FL MSA        0.0   \n",
       "606                               Baton Rouge, LA MSA        0.0   \n",
       "611            Los Angeles-Long Beach-Anaheim, CA MSA        0.0   \n",
       "635            Chicago-Naperville-Elgin, IL-IN-WI MSA        0.0   \n",
       "667                          Cincinnati, OH-KY-IN MSA        0.0   \n",
       "918            San Jose-Sunnyvale-Santa Clara, CA MSA        0.0   \n",
       "968            Chicago-Naperville-Elgin, IL-IN-WI MSA        0.0   \n",
       "1264              Dallas-Fort Worth-Arlington, TX MSA        0.0   \n",
       "1276        New York-Newark-Jersey City, NY-NJ-PA MSA        0.0   \n",
       "1397               Boston-Cambridge-Newton, MA-NH MSA        0.0   \n",
       "1444                         Colorado Springs, CO MSA        0.0   \n",
       "1594               Boston-Cambridge-Newton, MA-NH MSA        0.0   \n",
       "1737                   Denver-Aurora-Lakewood, CO MSA        0.0   \n",
       "2114            Atlanta-Sandy Springs-Roswell, GA MSA        0.0   \n",
       "2164           Louisville/Jefferson County, KY-IN MSA        0.0   \n",
       "\n",
       "      rounded_call_duration  message_count  mb_per_month  gb_month  \n",
       "86                      0.0            0.0           0.0       0.0  \n",
       "381                     0.0            0.0           0.0       0.0  \n",
       "422                     0.0            0.0           0.0       0.0  \n",
       "503                     0.0            0.0           0.0       0.0  \n",
       "565                     0.0            0.0           0.0       0.0  \n",
       "606                     0.0            0.0           0.0       0.0  \n",
       "611                     0.0            0.0           0.0       0.0  \n",
       "635                     0.0            0.0           0.0       0.0  \n",
       "667                     0.0            0.0           0.0       0.0  \n",
       "918                     0.0            0.0           0.0       0.0  \n",
       "968                     0.0            0.0           0.0       0.0  \n",
       "1264                    0.0            0.0           0.0       0.0  \n",
       "1276                    0.0            0.0           0.0       0.0  \n",
       "1397                    0.0            0.0           0.0       0.0  \n",
       "1444                    0.0            0.0           0.0       0.0  \n",
       "1594                    0.0            0.0           0.0       0.0  \n",
       "1737                    0.0            0.0           0.0       0.0  \n",
       "2114                    0.0            0.0           0.0       0.0  \n",
       "2164                    0.0            0.0           0.0       0.0  "
      ]
     },
     "metadata": {},
     "output_type": "display_data"
    },
    {
     "data": {
      "text/plain": [
       "user_id                  19\n",
       "month                     0\n",
       "plan                     19\n",
       "city                     19\n",
       "num_calls                19\n",
       "rounded_call_duration    19\n",
       "message_count            19\n",
       "mb_per_month             19\n",
       "gb_month                 19\n",
       "dtype: int64"
      ]
     },
     "metadata": {},
     "output_type": "display_data"
    },
    {
     "data": {
      "text/html": [
       "<div>\n",
       "<style scoped>\n",
       "    .dataframe tbody tr th:only-of-type {\n",
       "        vertical-align: middle;\n",
       "    }\n",
       "\n",
       "    .dataframe tbody tr th {\n",
       "        vertical-align: top;\n",
       "    }\n",
       "\n",
       "    .dataframe thead th {\n",
       "        text-align: right;\n",
       "    }\n",
       "</style>\n",
       "<table border=\"1\" class=\"dataframe\">\n",
       "  <thead>\n",
       "    <tr style=\"text-align: right;\">\n",
       "      <th></th>\n",
       "      <th>user_id</th>\n",
       "      <th>month</th>\n",
       "      <th>plan</th>\n",
       "      <th>city</th>\n",
       "      <th>num_calls</th>\n",
       "      <th>rounded_call_duration</th>\n",
       "      <th>message_count</th>\n",
       "      <th>mb_per_month</th>\n",
       "      <th>gb_month</th>\n",
       "    </tr>\n",
       "  </thead>\n",
       "  <tbody>\n",
       "    <tr>\n",
       "      <th>86</th>\n",
       "      <td>1025</td>\n",
       "      <td>NaN</td>\n",
       "      <td>ultimate</td>\n",
       "      <td>Atlanta-Sandy Springs-Roswell, GA MSA</td>\n",
       "      <td>0.0</td>\n",
       "      <td>0.0</td>\n",
       "      <td>0.0</td>\n",
       "      <td>0.0</td>\n",
       "      <td>0.0</td>\n",
       "    </tr>\n",
       "  </tbody>\n",
       "</table>\n",
       "</div>"
      ],
      "text/plain": [
       "    user_id  month      plan                                   city  \\\n",
       "86     1025    NaN  ultimate  Atlanta-Sandy Springs-Roswell, GA MSA   \n",
       "\n",
       "    num_calls  rounded_call_duration  message_count  mb_per_month  gb_month  \n",
       "86        0.0                    0.0            0.0           0.0       0.0  "
      ]
     },
     "metadata": {},
     "output_type": "display_data"
    }
   ],
   "source": [
    "month_null_lines = data_per_month[data_per_month['month'].isna()]\n",
    "display(month_null_lines)\n",
    "display(month_null_lines.count())\n",
    "display(data_per_month[data_per_month['user_id']==1025])\n",
    "users_null = month_null_lines['user_id'].unique()"
   ]
  },
  {
   "cell_type": "markdown",
   "metadata": {},
   "source": [
    "## Churn data users\n",
    "\n",
    "Churn data users are users that exited the plan during this year.\n",
    "Below they are being compared to the users that didn't have any usage."
   ]
  },
  {
   "cell_type": "code",
   "execution_count": 33,
   "metadata": {},
   "outputs": [
    {
     "data": {
      "text/html": [
       "<div>\n",
       "<style scoped>\n",
       "    .dataframe tbody tr th:only-of-type {\n",
       "        vertical-align: middle;\n",
       "    }\n",
       "\n",
       "    .dataframe tbody tr th {\n",
       "        vertical-align: top;\n",
       "    }\n",
       "\n",
       "    .dataframe thead th {\n",
       "        text-align: right;\n",
       "    }\n",
       "</style>\n",
       "<table border=\"1\" class=\"dataframe\">\n",
       "  <thead>\n",
       "    <tr style=\"text-align: right;\">\n",
       "      <th></th>\n",
       "      <th>user_id</th>\n",
       "      <th>month</th>\n",
       "      <th>plan</th>\n",
       "      <th>city</th>\n",
       "      <th>num_calls</th>\n",
       "      <th>rounded_call_duration</th>\n",
       "      <th>message_count</th>\n",
       "      <th>mb_per_month</th>\n",
       "      <th>gb_month</th>\n",
       "    </tr>\n",
       "  </thead>\n",
       "  <tbody>\n",
       "    <tr>\n",
       "      <th>86</th>\n",
       "      <td>1025</td>\n",
       "      <td>NaN</td>\n",
       "      <td>ultimate</td>\n",
       "      <td>Atlanta-Sandy Springs-Roswell, GA MSA</td>\n",
       "      <td>0.0</td>\n",
       "      <td>0.0</td>\n",
       "      <td>0.0</td>\n",
       "      <td>0.0</td>\n",
       "      <td>0.0</td>\n",
       "    </tr>\n",
       "    <tr>\n",
       "      <th>381</th>\n",
       "      <td>1080</td>\n",
       "      <td>NaN</td>\n",
       "      <td>surf</td>\n",
       "      <td>New York-Newark-Jersey City, NY-NJ-PA MSA</td>\n",
       "      <td>0.0</td>\n",
       "      <td>0.0</td>\n",
       "      <td>0.0</td>\n",
       "      <td>0.0</td>\n",
       "      <td>0.0</td>\n",
       "    </tr>\n",
       "    <tr>\n",
       "      <th>422</th>\n",
       "      <td>1089</td>\n",
       "      <td>NaN</td>\n",
       "      <td>surf</td>\n",
       "      <td>Philadelphia-Camden-Wilmington, PA-NJ-DE-MD MSA</td>\n",
       "      <td>0.0</td>\n",
       "      <td>0.0</td>\n",
       "      <td>0.0</td>\n",
       "      <td>0.0</td>\n",
       "      <td>0.0</td>\n",
       "    </tr>\n",
       "    <tr>\n",
       "      <th>503</th>\n",
       "      <td>1108</td>\n",
       "      <td>NaN</td>\n",
       "      <td>ultimate</td>\n",
       "      <td>Salt Lake City, UT MSA</td>\n",
       "      <td>0.0</td>\n",
       "      <td>0.0</td>\n",
       "      <td>0.0</td>\n",
       "      <td>0.0</td>\n",
       "      <td>0.0</td>\n",
       "    </tr>\n",
       "    <tr>\n",
       "      <th>565</th>\n",
       "      <td>1121</td>\n",
       "      <td>NaN</td>\n",
       "      <td>surf</td>\n",
       "      <td>Miami-Fort Lauderdale-West Palm Beach, FL MSA</td>\n",
       "      <td>0.0</td>\n",
       "      <td>0.0</td>\n",
       "      <td>0.0</td>\n",
       "      <td>0.0</td>\n",
       "      <td>0.0</td>\n",
       "    </tr>\n",
       "    <tr>\n",
       "      <th>606</th>\n",
       "      <td>1129</td>\n",
       "      <td>NaN</td>\n",
       "      <td>surf</td>\n",
       "      <td>Baton Rouge, LA MSA</td>\n",
       "      <td>0.0</td>\n",
       "      <td>0.0</td>\n",
       "      <td>0.0</td>\n",
       "      <td>0.0</td>\n",
       "      <td>0.0</td>\n",
       "    </tr>\n",
       "    <tr>\n",
       "      <th>611</th>\n",
       "      <td>1131</td>\n",
       "      <td>NaN</td>\n",
       "      <td>surf</td>\n",
       "      <td>Los Angeles-Long Beach-Anaheim, CA MSA</td>\n",
       "      <td>0.0</td>\n",
       "      <td>0.0</td>\n",
       "      <td>0.0</td>\n",
       "      <td>0.0</td>\n",
       "      <td>0.0</td>\n",
       "    </tr>\n",
       "    <tr>\n",
       "      <th>635</th>\n",
       "      <td>1137</td>\n",
       "      <td>NaN</td>\n",
       "      <td>surf</td>\n",
       "      <td>Chicago-Naperville-Elgin, IL-IN-WI MSA</td>\n",
       "      <td>0.0</td>\n",
       "      <td>0.0</td>\n",
       "      <td>0.0</td>\n",
       "      <td>0.0</td>\n",
       "      <td>0.0</td>\n",
       "    </tr>\n",
       "    <tr>\n",
       "      <th>667</th>\n",
       "      <td>1143</td>\n",
       "      <td>NaN</td>\n",
       "      <td>surf</td>\n",
       "      <td>Cincinnati, OH-KY-IN MSA</td>\n",
       "      <td>0.0</td>\n",
       "      <td>0.0</td>\n",
       "      <td>0.0</td>\n",
       "      <td>0.0</td>\n",
       "      <td>0.0</td>\n",
       "    </tr>\n",
       "    <tr>\n",
       "      <th>918</th>\n",
       "      <td>1194</td>\n",
       "      <td>NaN</td>\n",
       "      <td>surf</td>\n",
       "      <td>San Jose-Sunnyvale-Santa Clara, CA MSA</td>\n",
       "      <td>0.0</td>\n",
       "      <td>0.0</td>\n",
       "      <td>0.0</td>\n",
       "      <td>0.0</td>\n",
       "      <td>0.0</td>\n",
       "    </tr>\n",
       "    <tr>\n",
       "      <th>968</th>\n",
       "      <td>1204</td>\n",
       "      <td>NaN</td>\n",
       "      <td>ultimate</td>\n",
       "      <td>Chicago-Naperville-Elgin, IL-IN-WI MSA</td>\n",
       "      <td>0.0</td>\n",
       "      <td>0.0</td>\n",
       "      <td>0.0</td>\n",
       "      <td>0.0</td>\n",
       "      <td>0.0</td>\n",
       "    </tr>\n",
       "    <tr>\n",
       "      <th>1264</th>\n",
       "      <td>1269</td>\n",
       "      <td>NaN</td>\n",
       "      <td>ultimate</td>\n",
       "      <td>Dallas-Fort Worth-Arlington, TX MSA</td>\n",
       "      <td>0.0</td>\n",
       "      <td>0.0</td>\n",
       "      <td>0.0</td>\n",
       "      <td>0.0</td>\n",
       "      <td>0.0</td>\n",
       "    </tr>\n",
       "    <tr>\n",
       "      <th>1276</th>\n",
       "      <td>1275</td>\n",
       "      <td>NaN</td>\n",
       "      <td>ultimate</td>\n",
       "      <td>New York-Newark-Jersey City, NY-NJ-PA MSA</td>\n",
       "      <td>0.0</td>\n",
       "      <td>0.0</td>\n",
       "      <td>0.0</td>\n",
       "      <td>0.0</td>\n",
       "      <td>0.0</td>\n",
       "    </tr>\n",
       "    <tr>\n",
       "      <th>1397</th>\n",
       "      <td>1307</td>\n",
       "      <td>NaN</td>\n",
       "      <td>surf</td>\n",
       "      <td>Boston-Cambridge-Newton, MA-NH MSA</td>\n",
       "      <td>0.0</td>\n",
       "      <td>0.0</td>\n",
       "      <td>0.0</td>\n",
       "      <td>0.0</td>\n",
       "      <td>0.0</td>\n",
       "    </tr>\n",
       "    <tr>\n",
       "      <th>1444</th>\n",
       "      <td>1319</td>\n",
       "      <td>NaN</td>\n",
       "      <td>surf</td>\n",
       "      <td>Colorado Springs, CO MSA</td>\n",
       "      <td>0.0</td>\n",
       "      <td>0.0</td>\n",
       "      <td>0.0</td>\n",
       "      <td>0.0</td>\n",
       "      <td>0.0</td>\n",
       "    </tr>\n",
       "    <tr>\n",
       "      <th>1594</th>\n",
       "      <td>1349</td>\n",
       "      <td>NaN</td>\n",
       "      <td>surf</td>\n",
       "      <td>Boston-Cambridge-Newton, MA-NH MSA</td>\n",
       "      <td>0.0</td>\n",
       "      <td>0.0</td>\n",
       "      <td>0.0</td>\n",
       "      <td>0.0</td>\n",
       "      <td>0.0</td>\n",
       "    </tr>\n",
       "    <tr>\n",
       "      <th>1737</th>\n",
       "      <td>1378</td>\n",
       "      <td>NaN</td>\n",
       "      <td>surf</td>\n",
       "      <td>Denver-Aurora-Lakewood, CO MSA</td>\n",
       "      <td>0.0</td>\n",
       "      <td>0.0</td>\n",
       "      <td>0.0</td>\n",
       "      <td>0.0</td>\n",
       "      <td>0.0</td>\n",
       "    </tr>\n",
       "    <tr>\n",
       "      <th>2114</th>\n",
       "      <td>1463</td>\n",
       "      <td>NaN</td>\n",
       "      <td>ultimate</td>\n",
       "      <td>Atlanta-Sandy Springs-Roswell, GA MSA</td>\n",
       "      <td>0.0</td>\n",
       "      <td>0.0</td>\n",
       "      <td>0.0</td>\n",
       "      <td>0.0</td>\n",
       "      <td>0.0</td>\n",
       "    </tr>\n",
       "    <tr>\n",
       "      <th>2164</th>\n",
       "      <td>1473</td>\n",
       "      <td>NaN</td>\n",
       "      <td>surf</td>\n",
       "      <td>Louisville/Jefferson County, KY-IN MSA</td>\n",
       "      <td>0.0</td>\n",
       "      <td>0.0</td>\n",
       "      <td>0.0</td>\n",
       "      <td>0.0</td>\n",
       "      <td>0.0</td>\n",
       "    </tr>\n",
       "  </tbody>\n",
       "</table>\n",
       "</div>"
      ],
      "text/plain": [
       "      user_id  month      plan  \\\n",
       "86       1025    NaN  ultimate   \n",
       "381      1080    NaN      surf   \n",
       "422      1089    NaN      surf   \n",
       "503      1108    NaN  ultimate   \n",
       "565      1121    NaN      surf   \n",
       "606      1129    NaN      surf   \n",
       "611      1131    NaN      surf   \n",
       "635      1137    NaN      surf   \n",
       "667      1143    NaN      surf   \n",
       "918      1194    NaN      surf   \n",
       "968      1204    NaN  ultimate   \n",
       "1264     1269    NaN  ultimate   \n",
       "1276     1275    NaN  ultimate   \n",
       "1397     1307    NaN      surf   \n",
       "1444     1319    NaN      surf   \n",
       "1594     1349    NaN      surf   \n",
       "1737     1378    NaN      surf   \n",
       "2114     1463    NaN  ultimate   \n",
       "2164     1473    NaN      surf   \n",
       "\n",
       "                                                 city  num_calls  \\\n",
       "86              Atlanta-Sandy Springs-Roswell, GA MSA        0.0   \n",
       "381         New York-Newark-Jersey City, NY-NJ-PA MSA        0.0   \n",
       "422   Philadelphia-Camden-Wilmington, PA-NJ-DE-MD MSA        0.0   \n",
       "503                            Salt Lake City, UT MSA        0.0   \n",
       "565     Miami-Fort Lauderdale-West Palm Beach, FL MSA        0.0   \n",
       "606                               Baton Rouge, LA MSA        0.0   \n",
       "611            Los Angeles-Long Beach-Anaheim, CA MSA        0.0   \n",
       "635            Chicago-Naperville-Elgin, IL-IN-WI MSA        0.0   \n",
       "667                          Cincinnati, OH-KY-IN MSA        0.0   \n",
       "918            San Jose-Sunnyvale-Santa Clara, CA MSA        0.0   \n",
       "968            Chicago-Naperville-Elgin, IL-IN-WI MSA        0.0   \n",
       "1264              Dallas-Fort Worth-Arlington, TX MSA        0.0   \n",
       "1276        New York-Newark-Jersey City, NY-NJ-PA MSA        0.0   \n",
       "1397               Boston-Cambridge-Newton, MA-NH MSA        0.0   \n",
       "1444                         Colorado Springs, CO MSA        0.0   \n",
       "1594               Boston-Cambridge-Newton, MA-NH MSA        0.0   \n",
       "1737                   Denver-Aurora-Lakewood, CO MSA        0.0   \n",
       "2114            Atlanta-Sandy Springs-Roswell, GA MSA        0.0   \n",
       "2164           Louisville/Jefferson County, KY-IN MSA        0.0   \n",
       "\n",
       "      rounded_call_duration  message_count  mb_per_month  gb_month  \n",
       "86                      0.0            0.0           0.0       0.0  \n",
       "381                     0.0            0.0           0.0       0.0  \n",
       "422                     0.0            0.0           0.0       0.0  \n",
       "503                     0.0            0.0           0.0       0.0  \n",
       "565                     0.0            0.0           0.0       0.0  \n",
       "606                     0.0            0.0           0.0       0.0  \n",
       "611                     0.0            0.0           0.0       0.0  \n",
       "635                     0.0            0.0           0.0       0.0  \n",
       "667                     0.0            0.0           0.0       0.0  \n",
       "918                     0.0            0.0           0.0       0.0  \n",
       "968                     0.0            0.0           0.0       0.0  \n",
       "1264                    0.0            0.0           0.0       0.0  \n",
       "1276                    0.0            0.0           0.0       0.0  \n",
       "1397                    0.0            0.0           0.0       0.0  \n",
       "1444                    0.0            0.0           0.0       0.0  \n",
       "1594                    0.0            0.0           0.0       0.0  \n",
       "1737                    0.0            0.0           0.0       0.0  \n",
       "2114                    0.0            0.0           0.0       0.0  \n",
       "2164                    0.0            0.0           0.0       0.0  "
      ]
     },
     "metadata": {},
     "output_type": "display_data"
    },
    {
     "name": "stdout",
     "output_type": "stream",
     "text": [
      "Common user IDs with NaN month and churn date:\n"
     ]
    },
    {
     "data": {
      "text/html": [
       "<div>\n",
       "<style scoped>\n",
       "    .dataframe tbody tr th:only-of-type {\n",
       "        vertical-align: middle;\n",
       "    }\n",
       "\n",
       "    .dataframe tbody tr th {\n",
       "        vertical-align: top;\n",
       "    }\n",
       "\n",
       "    .dataframe thead th {\n",
       "        text-align: right;\n",
       "    }\n",
       "</style>\n",
       "<table border=\"1\" class=\"dataframe\">\n",
       "  <thead>\n",
       "    <tr style=\"text-align: right;\">\n",
       "      <th></th>\n",
       "      <th>user_id</th>\n",
       "      <th>first_name</th>\n",
       "      <th>last_name</th>\n",
       "      <th>age</th>\n",
       "      <th>city</th>\n",
       "      <th>reg_date</th>\n",
       "      <th>plan</th>\n",
       "      <th>churn_date</th>\n",
       "    </tr>\n",
       "  </thead>\n",
       "  <tbody>\n",
       "    <tr>\n",
       "      <th>129</th>\n",
       "      <td>1129</td>\n",
       "      <td>Marin</td>\n",
       "      <td>Bolton</td>\n",
       "      <td>70</td>\n",
       "      <td>Baton Rouge, LA MSA</td>\n",
       "      <td>2018-11-10</td>\n",
       "      <td>surf</td>\n",
       "      <td>2018-12-27</td>\n",
       "    </tr>\n",
       "    <tr>\n",
       "      <th>269</th>\n",
       "      <td>1269</td>\n",
       "      <td>Irving</td>\n",
       "      <td>Thompson</td>\n",
       "      <td>39</td>\n",
       "      <td>Dallas-Fort Worth-Arlington, TX MSA</td>\n",
       "      <td>2018-09-13</td>\n",
       "      <td>ultimate</td>\n",
       "      <td>2018-12-15</td>\n",
       "    </tr>\n",
       "  </tbody>\n",
       "</table>\n",
       "</div>"
      ],
      "text/plain": [
       "     user_id first_name last_name  age                                 city  \\\n",
       "129     1129      Marin    Bolton   70                  Baton Rouge, LA MSA   \n",
       "269     1269     Irving  Thompson   39  Dallas-Fort Worth-Arlington, TX MSA   \n",
       "\n",
       "      reg_date      plan churn_date  \n",
       "129 2018-11-10      surf 2018-12-27  \n",
       "269 2018-09-13  ultimate 2018-12-15  "
      ]
     },
     "metadata": {},
     "output_type": "display_data"
    }
   ],
   "source": [
    "churn_users = users_df[users_df['churn_date'].isna() == False]\n",
    "\n",
    "# Display rows from month_null_lines\n",
    "display(month_null_lines)\n",
    "\n",
    "# Find common user IDs with a churn date and NaN month\n",
    "common_user_ids = churn_users[churn_users['user_id'].isin(month_null_lines['user_id'])]\n",
    "\n",
    "# Display the common user IDs\n",
    "print(\"Common user IDs with NaN month and churn date:\")\n",
    "display(common_user_ids)"
   ]
  },
  {
   "cell_type": "markdown",
   "metadata": {},
   "source": [
    "***Take Away:***\n",
    "- Based on the calculations  made above in sections 1.18 , 1.21 , and 1.22. Users that display Nan values in the month column are taken out of the data frame. The Churn users are being kept in."
   ]
  },
  {
   "cell_type": "markdown",
   "metadata": {},
   "source": [
    "There are some null values due to not all 500 user ids being represented in each original data frame."
   ]
  },
  {
   "cell_type": "code",
   "execution_count": 34,
   "metadata": {},
   "outputs": [
    {
     "name": "stdout",
     "output_type": "stream",
     "text": [
      "<class 'pandas.core.frame.DataFrame'>\n",
      "Int64Index: 2293 entries, 0 to 2311\n",
      "Data columns (total 9 columns):\n",
      " #   Column                 Non-Null Count  Dtype  \n",
      "---  ------                 --------------  -----  \n",
      " 0   user_id                2293 non-null   int64  \n",
      " 1   month                  2293 non-null   float64\n",
      " 2   plan                   2293 non-null   object \n",
      " 3   city                   2258 non-null   object \n",
      " 4   num_calls              2293 non-null   float64\n",
      " 5   rounded_call_duration  2293 non-null   float64\n",
      " 6   message_count          2293 non-null   float64\n",
      " 7   mb_per_month           2293 non-null   float64\n",
      " 8   gb_month               2293 non-null   float64\n",
      "dtypes: float64(6), int64(1), object(2)\n",
      "memory usage: 179.1+ KB\n"
     ]
    },
    {
     "data": {
      "text/html": [
       "<div>\n",
       "<style scoped>\n",
       "    .dataframe tbody tr th:only-of-type {\n",
       "        vertical-align: middle;\n",
       "    }\n",
       "\n",
       "    .dataframe tbody tr th {\n",
       "        vertical-align: top;\n",
       "    }\n",
       "\n",
       "    .dataframe thead th {\n",
       "        text-align: right;\n",
       "    }\n",
       "</style>\n",
       "<table border=\"1\" class=\"dataframe\">\n",
       "  <thead>\n",
       "    <tr style=\"text-align: right;\">\n",
       "      <th></th>\n",
       "      <th>user_id</th>\n",
       "      <th>month</th>\n",
       "      <th>plan</th>\n",
       "      <th>city</th>\n",
       "      <th>num_calls</th>\n",
       "      <th>rounded_call_duration</th>\n",
       "      <th>message_count</th>\n",
       "      <th>mb_per_month</th>\n",
       "      <th>gb_month</th>\n",
       "    </tr>\n",
       "  </thead>\n",
       "  <tbody>\n",
       "  </tbody>\n",
       "</table>\n",
       "</div>"
      ],
      "text/plain": [
       "Empty DataFrame\n",
       "Columns: [user_id, month, plan, city, num_calls, rounded_call_duration, message_count, mb_per_month, gb_month]\n",
       "Index: []"
      ]
     },
     "metadata": {},
     "output_type": "display_data"
    },
    {
     "data": {
      "text/html": [
       "<div>\n",
       "<style scoped>\n",
       "    .dataframe tbody tr th:only-of-type {\n",
       "        vertical-align: middle;\n",
       "    }\n",
       "\n",
       "    .dataframe tbody tr th {\n",
       "        vertical-align: top;\n",
       "    }\n",
       "\n",
       "    .dataframe thead th {\n",
       "        text-align: right;\n",
       "    }\n",
       "</style>\n",
       "<table border=\"1\" class=\"dataframe\">\n",
       "  <thead>\n",
       "    <tr style=\"text-align: right;\">\n",
       "      <th></th>\n",
       "      <th>user_id</th>\n",
       "      <th>month</th>\n",
       "      <th>plan</th>\n",
       "      <th>city</th>\n",
       "      <th>num_calls</th>\n",
       "      <th>rounded_call_duration</th>\n",
       "      <th>message_count</th>\n",
       "      <th>mb_per_month</th>\n",
       "      <th>gb_month</th>\n",
       "    </tr>\n",
       "  </thead>\n",
       "  <tbody>\n",
       "    <tr>\n",
       "      <th>95</th>\n",
       "      <td>1028</td>\n",
       "      <td>3.0</td>\n",
       "      <td>ultimate</td>\n",
       "      <td>Philadelphia-Camden-Wilmington, PA-NJ-DE-MD MSA</td>\n",
       "      <td>6.0</td>\n",
       "      <td>39.0</td>\n",
       "      <td>66.0</td>\n",
       "      <td>36062.0</td>\n",
       "      <td>36.0</td>\n",
       "    </tr>\n",
       "    <tr>\n",
       "      <th>96</th>\n",
       "      <td>1028</td>\n",
       "      <td>4.0</td>\n",
       "      <td>ultimate</td>\n",
       "      <td>Philadelphia-Camden-Wilmington, PA-NJ-DE-MD MSA</td>\n",
       "      <td>7.0</td>\n",
       "      <td>53.0</td>\n",
       "      <td>77.0</td>\n",
       "      <td>37762.0</td>\n",
       "      <td>37.0</td>\n",
       "    </tr>\n",
       "    <tr>\n",
       "      <th>97</th>\n",
       "      <td>1028</td>\n",
       "      <td>5.0</td>\n",
       "      <td>ultimate</td>\n",
       "      <td>Philadelphia-Camden-Wilmington, PA-NJ-DE-MD MSA</td>\n",
       "      <td>8.0</td>\n",
       "      <td>67.0</td>\n",
       "      <td>84.0</td>\n",
       "      <td>32908.0</td>\n",
       "      <td>33.0</td>\n",
       "    </tr>\n",
       "    <tr>\n",
       "      <th>98</th>\n",
       "      <td>1028</td>\n",
       "      <td>6.0</td>\n",
       "      <td>ultimate</td>\n",
       "      <td>Philadelphia-Camden-Wilmington, PA-NJ-DE-MD MSA</td>\n",
       "      <td>11.0</td>\n",
       "      <td>49.0</td>\n",
       "      <td>66.0</td>\n",
       "      <td>37908.0</td>\n",
       "      <td>38.0</td>\n",
       "    </tr>\n",
       "    <tr>\n",
       "      <th>99</th>\n",
       "      <td>1028</td>\n",
       "      <td>7.0</td>\n",
       "      <td>ultimate</td>\n",
       "      <td>Philadelphia-Camden-Wilmington, PA-NJ-DE-MD MSA</td>\n",
       "      <td>6.0</td>\n",
       "      <td>53.0</td>\n",
       "      <td>85.0</td>\n",
       "      <td>38827.0</td>\n",
       "      <td>38.0</td>\n",
       "    </tr>\n",
       "    <tr>\n",
       "      <th>100</th>\n",
       "      <td>1028</td>\n",
       "      <td>8.0</td>\n",
       "      <td>ultimate</td>\n",
       "      <td>Philadelphia-Camden-Wilmington, PA-NJ-DE-MD MSA</td>\n",
       "      <td>9.0</td>\n",
       "      <td>76.0</td>\n",
       "      <td>74.0</td>\n",
       "      <td>40389.0</td>\n",
       "      <td>40.0</td>\n",
       "    </tr>\n",
       "    <tr>\n",
       "      <th>101</th>\n",
       "      <td>1028</td>\n",
       "      <td>9.0</td>\n",
       "      <td>ultimate</td>\n",
       "      <td>Philadelphia-Camden-Wilmington, PA-NJ-DE-MD MSA</td>\n",
       "      <td>6.0</td>\n",
       "      <td>37.0</td>\n",
       "      <td>68.0</td>\n",
       "      <td>26564.0</td>\n",
       "      <td>26.0</td>\n",
       "    </tr>\n",
       "    <tr>\n",
       "      <th>102</th>\n",
       "      <td>1028</td>\n",
       "      <td>10.0</td>\n",
       "      <td>ultimate</td>\n",
       "      <td>Philadelphia-Camden-Wilmington, PA-NJ-DE-MD MSA</td>\n",
       "      <td>6.0</td>\n",
       "      <td>39.0</td>\n",
       "      <td>73.0</td>\n",
       "      <td>46596.0</td>\n",
       "      <td>46.0</td>\n",
       "    </tr>\n",
       "    <tr>\n",
       "      <th>103</th>\n",
       "      <td>1028</td>\n",
       "      <td>11.0</td>\n",
       "      <td>ultimate</td>\n",
       "      <td>Philadelphia-Camden-Wilmington, PA-NJ-DE-MD MSA</td>\n",
       "      <td>8.0</td>\n",
       "      <td>69.0</td>\n",
       "      <td>77.0</td>\n",
       "      <td>42953.0</td>\n",
       "      <td>42.0</td>\n",
       "    </tr>\n",
       "    <tr>\n",
       "      <th>104</th>\n",
       "      <td>1028</td>\n",
       "      <td>12.0</td>\n",
       "      <td>ultimate</td>\n",
       "      <td>Philadelphia-Camden-Wilmington, PA-NJ-DE-MD MSA</td>\n",
       "      <td>6.0</td>\n",
       "      <td>43.0</td>\n",
       "      <td>74.0</td>\n",
       "      <td>37604.0</td>\n",
       "      <td>37.0</td>\n",
       "    </tr>\n",
       "    <tr>\n",
       "      <th>2277</th>\n",
       "      <td>1028</td>\n",
       "      <td>2.0</td>\n",
       "      <td>ultimate</td>\n",
       "      <td>NaN</td>\n",
       "      <td>0.0</td>\n",
       "      <td>0.0</td>\n",
       "      <td>12.0</td>\n",
       "      <td>12592.0</td>\n",
       "      <td>13.0</td>\n",
       "    </tr>\n",
       "  </tbody>\n",
       "</table>\n",
       "</div>"
      ],
      "text/plain": [
       "      user_id  month      plan  \\\n",
       "95       1028    3.0  ultimate   \n",
       "96       1028    4.0  ultimate   \n",
       "97       1028    5.0  ultimate   \n",
       "98       1028    6.0  ultimate   \n",
       "99       1028    7.0  ultimate   \n",
       "100      1028    8.0  ultimate   \n",
       "101      1028    9.0  ultimate   \n",
       "102      1028   10.0  ultimate   \n",
       "103      1028   11.0  ultimate   \n",
       "104      1028   12.0  ultimate   \n",
       "2277     1028    2.0  ultimate   \n",
       "\n",
       "                                                 city  num_calls  \\\n",
       "95    Philadelphia-Camden-Wilmington, PA-NJ-DE-MD MSA        6.0   \n",
       "96    Philadelphia-Camden-Wilmington, PA-NJ-DE-MD MSA        7.0   \n",
       "97    Philadelphia-Camden-Wilmington, PA-NJ-DE-MD MSA        8.0   \n",
       "98    Philadelphia-Camden-Wilmington, PA-NJ-DE-MD MSA       11.0   \n",
       "99    Philadelphia-Camden-Wilmington, PA-NJ-DE-MD MSA        6.0   \n",
       "100   Philadelphia-Camden-Wilmington, PA-NJ-DE-MD MSA        9.0   \n",
       "101   Philadelphia-Camden-Wilmington, PA-NJ-DE-MD MSA        6.0   \n",
       "102   Philadelphia-Camden-Wilmington, PA-NJ-DE-MD MSA        6.0   \n",
       "103   Philadelphia-Camden-Wilmington, PA-NJ-DE-MD MSA        8.0   \n",
       "104   Philadelphia-Camden-Wilmington, PA-NJ-DE-MD MSA        6.0   \n",
       "2277                                              NaN        0.0   \n",
       "\n",
       "      rounded_call_duration  message_count  mb_per_month  gb_month  \n",
       "95                     39.0           66.0       36062.0      36.0  \n",
       "96                     53.0           77.0       37762.0      37.0  \n",
       "97                     67.0           84.0       32908.0      33.0  \n",
       "98                     49.0           66.0       37908.0      38.0  \n",
       "99                     53.0           85.0       38827.0      38.0  \n",
       "100                    76.0           74.0       40389.0      40.0  \n",
       "101                    37.0           68.0       26564.0      26.0  \n",
       "102                    39.0           73.0       46596.0      46.0  \n",
       "103                    69.0           77.0       42953.0      42.0  \n",
       "104                    43.0           74.0       37604.0      37.0  \n",
       "2277                    0.0           12.0       12592.0      13.0  "
      ]
     },
     "metadata": {},
     "output_type": "display_data"
    }
   ],
   "source": [
    "# Drop rows where the 'month' column has null values\n",
    "data_per_month = data_per_month.dropna(subset=['month'])\n",
    "data_per_month.info()\n",
    "\n",
    "display(data_per_month[data_per_month['plan'].isna()])\n",
    "display(data_per_month[data_per_month['user_id']==1028])"
   ]
  },
  {
   "cell_type": "markdown",
   "metadata": {},
   "source": [
    "## null values in city column"
   ]
  },
  {
   "cell_type": "code",
   "execution_count": 35,
   "metadata": {},
   "outputs": [
    {
     "data": {
      "text/html": [
       "<div>\n",
       "<style scoped>\n",
       "    .dataframe tbody tr th:only-of-type {\n",
       "        vertical-align: middle;\n",
       "    }\n",
       "\n",
       "    .dataframe tbody tr th {\n",
       "        vertical-align: top;\n",
       "    }\n",
       "\n",
       "    .dataframe thead th {\n",
       "        text-align: right;\n",
       "    }\n",
       "</style>\n",
       "<table border=\"1\" class=\"dataframe\">\n",
       "  <thead>\n",
       "    <tr style=\"text-align: right;\">\n",
       "      <th></th>\n",
       "      <th>user_id</th>\n",
       "      <th>month</th>\n",
       "      <th>plan</th>\n",
       "      <th>city</th>\n",
       "      <th>num_calls</th>\n",
       "      <th>rounded_call_duration</th>\n",
       "      <th>message_count</th>\n",
       "      <th>mb_per_month</th>\n",
       "      <th>gb_month</th>\n",
       "    </tr>\n",
       "  </thead>\n",
       "  <tbody>\n",
       "    <tr>\n",
       "      <th>2277</th>\n",
       "      <td>1028</td>\n",
       "      <td>2.0</td>\n",
       "      <td>ultimate</td>\n",
       "      <td>NaN</td>\n",
       "      <td>0.0</td>\n",
       "      <td>0.0</td>\n",
       "      <td>12.0</td>\n",
       "      <td>12592.0</td>\n",
       "      <td>13.0</td>\n",
       "    </tr>\n",
       "    <tr>\n",
       "      <th>2278</th>\n",
       "      <td>1080</td>\n",
       "      <td>8.0</td>\n",
       "      <td>surf</td>\n",
       "      <td>NaN</td>\n",
       "      <td>0.0</td>\n",
       "      <td>0.0</td>\n",
       "      <td>31.0</td>\n",
       "      <td>20520.0</td>\n",
       "      <td>21.0</td>\n",
       "    </tr>\n",
       "    <tr>\n",
       "      <th>2279</th>\n",
       "      <td>1080</td>\n",
       "      <td>9.0</td>\n",
       "      <td>surf</td>\n",
       "      <td>NaN</td>\n",
       "      <td>0.0</td>\n",
       "      <td>0.0</td>\n",
       "      <td>64.0</td>\n",
       "      <td>25500.0</td>\n",
       "      <td>25.0</td>\n",
       "    </tr>\n",
       "    <tr>\n",
       "      <th>2280</th>\n",
       "      <td>1080</td>\n",
       "      <td>10.0</td>\n",
       "      <td>surf</td>\n",
       "      <td>NaN</td>\n",
       "      <td>0.0</td>\n",
       "      <td>0.0</td>\n",
       "      <td>59.0</td>\n",
       "      <td>30162.0</td>\n",
       "      <td>30.0</td>\n",
       "    </tr>\n",
       "    <tr>\n",
       "      <th>2281</th>\n",
       "      <td>1080</td>\n",
       "      <td>11.0</td>\n",
       "      <td>surf</td>\n",
       "      <td>NaN</td>\n",
       "      <td>0.0</td>\n",
       "      <td>0.0</td>\n",
       "      <td>50.0</td>\n",
       "      <td>33560.0</td>\n",
       "      <td>33.0</td>\n",
       "    </tr>\n",
       "    <tr>\n",
       "      <th>2282</th>\n",
       "      <td>1080</td>\n",
       "      <td>12.0</td>\n",
       "      <td>surf</td>\n",
       "      <td>NaN</td>\n",
       "      <td>0.0</td>\n",
       "      <td>0.0</td>\n",
       "      <td>61.0</td>\n",
       "      <td>24544.0</td>\n",
       "      <td>24.0</td>\n",
       "    </tr>\n",
       "    <tr>\n",
       "      <th>2283</th>\n",
       "      <td>1089</td>\n",
       "      <td>12.0</td>\n",
       "      <td>surf</td>\n",
       "      <td>NaN</td>\n",
       "      <td>0.0</td>\n",
       "      <td>0.0</td>\n",
       "      <td>27.0</td>\n",
       "      <td>16598.0</td>\n",
       "      <td>17.0</td>\n",
       "    </tr>\n",
       "    <tr>\n",
       "      <th>2284</th>\n",
       "      <td>1121</td>\n",
       "      <td>11.0</td>\n",
       "      <td>surf</td>\n",
       "      <td>NaN</td>\n",
       "      <td>0.0</td>\n",
       "      <td>0.0</td>\n",
       "      <td>1.0</td>\n",
       "      <td>1237.0</td>\n",
       "      <td>2.0</td>\n",
       "    </tr>\n",
       "    <tr>\n",
       "      <th>2285</th>\n",
       "      <td>1121</td>\n",
       "      <td>12.0</td>\n",
       "      <td>surf</td>\n",
       "      <td>NaN</td>\n",
       "      <td>0.0</td>\n",
       "      <td>0.0</td>\n",
       "      <td>97.0</td>\n",
       "      <td>66864.0</td>\n",
       "      <td>66.0</td>\n",
       "    </tr>\n",
       "    <tr>\n",
       "      <th>2286</th>\n",
       "      <td>1131</td>\n",
       "      <td>5.0</td>\n",
       "      <td>surf</td>\n",
       "      <td>NaN</td>\n",
       "      <td>0.0</td>\n",
       "      <td>0.0</td>\n",
       "      <td>18.0</td>\n",
       "      <td>6469.0</td>\n",
       "      <td>7.0</td>\n",
       "    </tr>\n",
       "    <tr>\n",
       "      <th>2287</th>\n",
       "      <td>1131</td>\n",
       "      <td>6.0</td>\n",
       "      <td>surf</td>\n",
       "      <td>NaN</td>\n",
       "      <td>0.0</td>\n",
       "      <td>0.0</td>\n",
       "      <td>27.0</td>\n",
       "      <td>14638.0</td>\n",
       "      <td>15.0</td>\n",
       "    </tr>\n",
       "    <tr>\n",
       "      <th>2288</th>\n",
       "      <td>1131</td>\n",
       "      <td>7.0</td>\n",
       "      <td>surf</td>\n",
       "      <td>NaN</td>\n",
       "      <td>0.0</td>\n",
       "      <td>0.0</td>\n",
       "      <td>28.0</td>\n",
       "      <td>16565.0</td>\n",
       "      <td>17.0</td>\n",
       "    </tr>\n",
       "    <tr>\n",
       "      <th>2289</th>\n",
       "      <td>1131</td>\n",
       "      <td>8.0</td>\n",
       "      <td>surf</td>\n",
       "      <td>NaN</td>\n",
       "      <td>0.0</td>\n",
       "      <td>0.0</td>\n",
       "      <td>33.0</td>\n",
       "      <td>12272.0</td>\n",
       "      <td>12.0</td>\n",
       "    </tr>\n",
       "    <tr>\n",
       "      <th>2290</th>\n",
       "      <td>1131</td>\n",
       "      <td>9.0</td>\n",
       "      <td>surf</td>\n",
       "      <td>NaN</td>\n",
       "      <td>0.0</td>\n",
       "      <td>0.0</td>\n",
       "      <td>26.0</td>\n",
       "      <td>15595.0</td>\n",
       "      <td>16.0</td>\n",
       "    </tr>\n",
       "    <tr>\n",
       "      <th>2291</th>\n",
       "      <td>1131</td>\n",
       "      <td>10.0</td>\n",
       "      <td>surf</td>\n",
       "      <td>NaN</td>\n",
       "      <td>0.0</td>\n",
       "      <td>0.0</td>\n",
       "      <td>31.0</td>\n",
       "      <td>21293.0</td>\n",
       "      <td>21.0</td>\n",
       "    </tr>\n",
       "    <tr>\n",
       "      <th>2292</th>\n",
       "      <td>1131</td>\n",
       "      <td>11.0</td>\n",
       "      <td>surf</td>\n",
       "      <td>NaN</td>\n",
       "      <td>0.0</td>\n",
       "      <td>0.0</td>\n",
       "      <td>20.0</td>\n",
       "      <td>13698.0</td>\n",
       "      <td>14.0</td>\n",
       "    </tr>\n",
       "    <tr>\n",
       "      <th>2293</th>\n",
       "      <td>1131</td>\n",
       "      <td>12.0</td>\n",
       "      <td>surf</td>\n",
       "      <td>NaN</td>\n",
       "      <td>0.0</td>\n",
       "      <td>0.0</td>\n",
       "      <td>33.0</td>\n",
       "      <td>15213.0</td>\n",
       "      <td>15.0</td>\n",
       "    </tr>\n",
       "    <tr>\n",
       "      <th>2294</th>\n",
       "      <td>1137</td>\n",
       "      <td>10.0</td>\n",
       "      <td>surf</td>\n",
       "      <td>NaN</td>\n",
       "      <td>0.0</td>\n",
       "      <td>0.0</td>\n",
       "      <td>48.0</td>\n",
       "      <td>7003.0</td>\n",
       "      <td>7.0</td>\n",
       "    </tr>\n",
       "    <tr>\n",
       "      <th>2295</th>\n",
       "      <td>1137</td>\n",
       "      <td>11.0</td>\n",
       "      <td>surf</td>\n",
       "      <td>NaN</td>\n",
       "      <td>0.0</td>\n",
       "      <td>0.0</td>\n",
       "      <td>64.0</td>\n",
       "      <td>3085.0</td>\n",
       "      <td>4.0</td>\n",
       "    </tr>\n",
       "    <tr>\n",
       "      <th>2296</th>\n",
       "      <td>1137</td>\n",
       "      <td>12.0</td>\n",
       "      <td>surf</td>\n",
       "      <td>NaN</td>\n",
       "      <td>0.0</td>\n",
       "      <td>0.0</td>\n",
       "      <td>56.0</td>\n",
       "      <td>6746.0</td>\n",
       "      <td>7.0</td>\n",
       "    </tr>\n",
       "    <tr>\n",
       "      <th>2297</th>\n",
       "      <td>1194</td>\n",
       "      <td>8.0</td>\n",
       "      <td>surf</td>\n",
       "      <td>NaN</td>\n",
       "      <td>0.0</td>\n",
       "      <td>0.0</td>\n",
       "      <td>10.0</td>\n",
       "      <td>5705.0</td>\n",
       "      <td>6.0</td>\n",
       "    </tr>\n",
       "    <tr>\n",
       "      <th>2298</th>\n",
       "      <td>1194</td>\n",
       "      <td>9.0</td>\n",
       "      <td>surf</td>\n",
       "      <td>NaN</td>\n",
       "      <td>0.0</td>\n",
       "      <td>0.0</td>\n",
       "      <td>76.0</td>\n",
       "      <td>37299.0</td>\n",
       "      <td>37.0</td>\n",
       "    </tr>\n",
       "    <tr>\n",
       "      <th>2299</th>\n",
       "      <td>1194</td>\n",
       "      <td>10.0</td>\n",
       "      <td>surf</td>\n",
       "      <td>NaN</td>\n",
       "      <td>0.0</td>\n",
       "      <td>0.0</td>\n",
       "      <td>88.0</td>\n",
       "      <td>31539.0</td>\n",
       "      <td>31.0</td>\n",
       "    </tr>\n",
       "    <tr>\n",
       "      <th>2300</th>\n",
       "      <td>1194</td>\n",
       "      <td>11.0</td>\n",
       "      <td>surf</td>\n",
       "      <td>NaN</td>\n",
       "      <td>0.0</td>\n",
       "      <td>0.0</td>\n",
       "      <td>62.0</td>\n",
       "      <td>42867.0</td>\n",
       "      <td>42.0</td>\n",
       "    </tr>\n",
       "    <tr>\n",
       "      <th>2301</th>\n",
       "      <td>1194</td>\n",
       "      <td>12.0</td>\n",
       "      <td>surf</td>\n",
       "      <td>NaN</td>\n",
       "      <td>0.0</td>\n",
       "      <td>0.0</td>\n",
       "      <td>56.0</td>\n",
       "      <td>31089.0</td>\n",
       "      <td>31.0</td>\n",
       "    </tr>\n",
       "    <tr>\n",
       "      <th>2302</th>\n",
       "      <td>1204</td>\n",
       "      <td>11.0</td>\n",
       "      <td>ultimate</td>\n",
       "      <td>NaN</td>\n",
       "      <td>0.0</td>\n",
       "      <td>0.0</td>\n",
       "      <td>42.0</td>\n",
       "      <td>21347.0</td>\n",
       "      <td>21.0</td>\n",
       "    </tr>\n",
       "    <tr>\n",
       "      <th>2303</th>\n",
       "      <td>1204</td>\n",
       "      <td>12.0</td>\n",
       "      <td>ultimate</td>\n",
       "      <td>NaN</td>\n",
       "      <td>0.0</td>\n",
       "      <td>0.0</td>\n",
       "      <td>78.0</td>\n",
       "      <td>36731.0</td>\n",
       "      <td>36.0</td>\n",
       "    </tr>\n",
       "    <tr>\n",
       "      <th>2304</th>\n",
       "      <td>1224</td>\n",
       "      <td>6.0</td>\n",
       "      <td>ultimate</td>\n",
       "      <td>NaN</td>\n",
       "      <td>0.0</td>\n",
       "      <td>0.0</td>\n",
       "      <td>5.0</td>\n",
       "      <td>2967.0</td>\n",
       "      <td>3.0</td>\n",
       "    </tr>\n",
       "    <tr>\n",
       "      <th>2305</th>\n",
       "      <td>1349</td>\n",
       "      <td>10.0</td>\n",
       "      <td>surf</td>\n",
       "      <td>NaN</td>\n",
       "      <td>0.0</td>\n",
       "      <td>0.0</td>\n",
       "      <td>76.0</td>\n",
       "      <td>13094.0</td>\n",
       "      <td>13.0</td>\n",
       "    </tr>\n",
       "    <tr>\n",
       "      <th>2306</th>\n",
       "      <td>1349</td>\n",
       "      <td>11.0</td>\n",
       "      <td>surf</td>\n",
       "      <td>NaN</td>\n",
       "      <td>0.0</td>\n",
       "      <td>0.0</td>\n",
       "      <td>72.0</td>\n",
       "      <td>17129.0</td>\n",
       "      <td>17.0</td>\n",
       "    </tr>\n",
       "    <tr>\n",
       "      <th>2307</th>\n",
       "      <td>1349</td>\n",
       "      <td>12.0</td>\n",
       "      <td>surf</td>\n",
       "      <td>NaN</td>\n",
       "      <td>0.0</td>\n",
       "      <td>0.0</td>\n",
       "      <td>61.0</td>\n",
       "      <td>13040.0</td>\n",
       "      <td>13.0</td>\n",
       "    </tr>\n",
       "    <tr>\n",
       "      <th>2308</th>\n",
       "      <td>1361</td>\n",
       "      <td>5.0</td>\n",
       "      <td>surf</td>\n",
       "      <td>NaN</td>\n",
       "      <td>0.0</td>\n",
       "      <td>0.0</td>\n",
       "      <td>2.0</td>\n",
       "      <td>1520.0</td>\n",
       "      <td>2.0</td>\n",
       "    </tr>\n",
       "    <tr>\n",
       "      <th>2309</th>\n",
       "      <td>1482</td>\n",
       "      <td>10.0</td>\n",
       "      <td>ultimate</td>\n",
       "      <td>NaN</td>\n",
       "      <td>0.0</td>\n",
       "      <td>0.0</td>\n",
       "      <td>2.0</td>\n",
       "      <td>0.0</td>\n",
       "      <td>0.0</td>\n",
       "    </tr>\n",
       "    <tr>\n",
       "      <th>2310</th>\n",
       "      <td>1108</td>\n",
       "      <td>12.0</td>\n",
       "      <td>ultimate</td>\n",
       "      <td>NaN</td>\n",
       "      <td>0.0</td>\n",
       "      <td>0.0</td>\n",
       "      <td>0.0</td>\n",
       "      <td>234.0</td>\n",
       "      <td>1.0</td>\n",
       "    </tr>\n",
       "    <tr>\n",
       "      <th>2311</th>\n",
       "      <td>1311</td>\n",
       "      <td>6.0</td>\n",
       "      <td>ultimate</td>\n",
       "      <td>NaN</td>\n",
       "      <td>0.0</td>\n",
       "      <td>0.0</td>\n",
       "      <td>0.0</td>\n",
       "      <td>1499.0</td>\n",
       "      <td>2.0</td>\n",
       "    </tr>\n",
       "  </tbody>\n",
       "</table>\n",
       "</div>"
      ],
      "text/plain": [
       "      user_id  month      plan city  num_calls  rounded_call_duration  \\\n",
       "2277     1028    2.0  ultimate  NaN        0.0                    0.0   \n",
       "2278     1080    8.0      surf  NaN        0.0                    0.0   \n",
       "2279     1080    9.0      surf  NaN        0.0                    0.0   \n",
       "2280     1080   10.0      surf  NaN        0.0                    0.0   \n",
       "2281     1080   11.0      surf  NaN        0.0                    0.0   \n",
       "2282     1080   12.0      surf  NaN        0.0                    0.0   \n",
       "2283     1089   12.0      surf  NaN        0.0                    0.0   \n",
       "2284     1121   11.0      surf  NaN        0.0                    0.0   \n",
       "2285     1121   12.0      surf  NaN        0.0                    0.0   \n",
       "2286     1131    5.0      surf  NaN        0.0                    0.0   \n",
       "2287     1131    6.0      surf  NaN        0.0                    0.0   \n",
       "2288     1131    7.0      surf  NaN        0.0                    0.0   \n",
       "2289     1131    8.0      surf  NaN        0.0                    0.0   \n",
       "2290     1131    9.0      surf  NaN        0.0                    0.0   \n",
       "2291     1131   10.0      surf  NaN        0.0                    0.0   \n",
       "2292     1131   11.0      surf  NaN        0.0                    0.0   \n",
       "2293     1131   12.0      surf  NaN        0.0                    0.0   \n",
       "2294     1137   10.0      surf  NaN        0.0                    0.0   \n",
       "2295     1137   11.0      surf  NaN        0.0                    0.0   \n",
       "2296     1137   12.0      surf  NaN        0.0                    0.0   \n",
       "2297     1194    8.0      surf  NaN        0.0                    0.0   \n",
       "2298     1194    9.0      surf  NaN        0.0                    0.0   \n",
       "2299     1194   10.0      surf  NaN        0.0                    0.0   \n",
       "2300     1194   11.0      surf  NaN        0.0                    0.0   \n",
       "2301     1194   12.0      surf  NaN        0.0                    0.0   \n",
       "2302     1204   11.0  ultimate  NaN        0.0                    0.0   \n",
       "2303     1204   12.0  ultimate  NaN        0.0                    0.0   \n",
       "2304     1224    6.0  ultimate  NaN        0.0                    0.0   \n",
       "2305     1349   10.0      surf  NaN        0.0                    0.0   \n",
       "2306     1349   11.0      surf  NaN        0.0                    0.0   \n",
       "2307     1349   12.0      surf  NaN        0.0                    0.0   \n",
       "2308     1361    5.0      surf  NaN        0.0                    0.0   \n",
       "2309     1482   10.0  ultimate  NaN        0.0                    0.0   \n",
       "2310     1108   12.0  ultimate  NaN        0.0                    0.0   \n",
       "2311     1311    6.0  ultimate  NaN        0.0                    0.0   \n",
       "\n",
       "      message_count  mb_per_month  gb_month  \n",
       "2277           12.0       12592.0      13.0  \n",
       "2278           31.0       20520.0      21.0  \n",
       "2279           64.0       25500.0      25.0  \n",
       "2280           59.0       30162.0      30.0  \n",
       "2281           50.0       33560.0      33.0  \n",
       "2282           61.0       24544.0      24.0  \n",
       "2283           27.0       16598.0      17.0  \n",
       "2284            1.0        1237.0       2.0  \n",
       "2285           97.0       66864.0      66.0  \n",
       "2286           18.0        6469.0       7.0  \n",
       "2287           27.0       14638.0      15.0  \n",
       "2288           28.0       16565.0      17.0  \n",
       "2289           33.0       12272.0      12.0  \n",
       "2290           26.0       15595.0      16.0  \n",
       "2291           31.0       21293.0      21.0  \n",
       "2292           20.0       13698.0      14.0  \n",
       "2293           33.0       15213.0      15.0  \n",
       "2294           48.0        7003.0       7.0  \n",
       "2295           64.0        3085.0       4.0  \n",
       "2296           56.0        6746.0       7.0  \n",
       "2297           10.0        5705.0       6.0  \n",
       "2298           76.0       37299.0      37.0  \n",
       "2299           88.0       31539.0      31.0  \n",
       "2300           62.0       42867.0      42.0  \n",
       "2301           56.0       31089.0      31.0  \n",
       "2302           42.0       21347.0      21.0  \n",
       "2303           78.0       36731.0      36.0  \n",
       "2304            5.0        2967.0       3.0  \n",
       "2305           76.0       13094.0      13.0  \n",
       "2306           72.0       17129.0      17.0  \n",
       "2307           61.0       13040.0      13.0  \n",
       "2308            2.0        1520.0       2.0  \n",
       "2309            2.0           0.0       0.0  \n",
       "2310            0.0         234.0       1.0  \n",
       "2311            0.0        1499.0       2.0  "
      ]
     },
     "metadata": {},
     "output_type": "display_data"
    }
   ],
   "source": [
    "display(data_per_month[data_per_month['city'].isna()])"
   ]
  },
  {
   "cell_type": "code",
   "execution_count": 36,
   "metadata": {},
   "outputs": [
    {
     "name": "stdout",
     "output_type": "stream",
     "text": [
      "<class 'pandas.core.frame.DataFrame'>\n",
      "Int64Index: 2293 entries, 0 to 2311\n",
      "Data columns (total 9 columns):\n",
      " #   Column                 Non-Null Count  Dtype  \n",
      "---  ------                 --------------  -----  \n",
      " 0   user_id                2293 non-null   int64  \n",
      " 1   month                  2293 non-null   float64\n",
      " 2   plan                   2293 non-null   object \n",
      " 3   city                   2293 non-null   object \n",
      " 4   num_calls              2293 non-null   float64\n",
      " 5   rounded_call_duration  2293 non-null   float64\n",
      " 6   message_count          2293 non-null   float64\n",
      " 7   mb_per_month           2293 non-null   float64\n",
      " 8   gb_month               2293 non-null   float64\n",
      "dtypes: float64(6), int64(1), object(2)\n",
      "memory usage: 179.1+ KB\n"
     ]
    },
    {
     "data": {
      "text/plain": [
       "None"
      ]
     },
     "metadata": {},
     "output_type": "display_data"
    }
   ],
   "source": [
    "# Group the users_df by 'user_id' and get the mode of 'city' for each user\n",
    "user_city_mode = users_df.groupby('user_id')['city'].agg(lambda x: x.mode().iloc[0])\n",
    "\n",
    "# Map the mode values to the missing 'city' values based on 'user_id'\n",
    "data_per_month['city'] = data_per_month.apply(lambda row: user_city_mode[row['user_id']] if pd.isna(row['city']) else row['city'], axis=1)\n",
    "\n",
    "# Display the data after filling missing values in 'city'\n",
    "display(data_per_month.info())"
   ]
  },
  {
   "cell_type": "markdown",
   "metadata": {},
   "source": [
    "***Take Away:***\n",
    "- The data was manually manipulated to get rid of all Null values that were caused when mergering occured."
   ]
  },
  {
   "cell_type": "markdown",
   "metadata": {},
   "source": [
    "## displaying plan data frame"
   ]
  },
  {
   "cell_type": "code",
   "execution_count": 37,
   "metadata": {},
   "outputs": [
    {
     "data": {
      "text/html": [
       "<div>\n",
       "<style scoped>\n",
       "    .dataframe tbody tr th:only-of-type {\n",
       "        vertical-align: middle;\n",
       "    }\n",
       "\n",
       "    .dataframe tbody tr th {\n",
       "        vertical-align: top;\n",
       "    }\n",
       "\n",
       "    .dataframe thead th {\n",
       "        text-align: right;\n",
       "    }\n",
       "</style>\n",
       "<table border=\"1\" class=\"dataframe\">\n",
       "  <thead>\n",
       "    <tr style=\"text-align: right;\">\n",
       "      <th></th>\n",
       "      <th>messages_included</th>\n",
       "      <th>mb_per_month_included</th>\n",
       "      <th>minutes_included</th>\n",
       "      <th>usd_monthly_pay</th>\n",
       "      <th>usd_per_gb</th>\n",
       "      <th>usd_per_message</th>\n",
       "      <th>usd_per_minute</th>\n",
       "      <th>plan_name</th>\n",
       "    </tr>\n",
       "  </thead>\n",
       "  <tbody>\n",
       "    <tr>\n",
       "      <th>0</th>\n",
       "      <td>50</td>\n",
       "      <td>15360</td>\n",
       "      <td>500</td>\n",
       "      <td>20</td>\n",
       "      <td>10</td>\n",
       "      <td>0.03</td>\n",
       "      <td>0.03</td>\n",
       "      <td>surf</td>\n",
       "    </tr>\n",
       "    <tr>\n",
       "      <th>1</th>\n",
       "      <td>1000</td>\n",
       "      <td>30720</td>\n",
       "      <td>3000</td>\n",
       "      <td>70</td>\n",
       "      <td>7</td>\n",
       "      <td>0.01</td>\n",
       "      <td>0.01</td>\n",
       "      <td>ultimate</td>\n",
       "    </tr>\n",
       "  </tbody>\n",
       "</table>\n",
       "</div>"
      ],
      "text/plain": [
       "   messages_included  mb_per_month_included  minutes_included  \\\n",
       "0                 50                  15360               500   \n",
       "1               1000                  30720              3000   \n",
       "\n",
       "   usd_monthly_pay  usd_per_gb  usd_per_message  usd_per_minute plan_name  \n",
       "0               20          10             0.03            0.03      surf  \n",
       "1               70           7             0.01            0.01  ultimate  "
      ]
     },
     "metadata": {},
     "output_type": "display_data"
    }
   ],
   "source": [
    "# Add the plan information\n",
    "display(plans_df)"
   ]
  },
  {
   "cell_type": "markdown",
   "metadata": {},
   "source": [
    "#### Surf plan\n",
    "\n",
    "- Monthly charge $20\n",
    "\n",
    "- 500 monthly minutes, 50 texts, and 15 GB of data\n",
    "- After exceeding the package limits:\n",
    "- 1 minute: 3 cents\n",
    "- 1 text message: 3 cents\n",
    "- 1 GB of data: $10\n",
    "\n",
    "#### Ultimate\n",
    "\n",
    "- Monthly charge $70\n",
    "\n",
    "- 3000 monthly minutes, 1000 text messages, and 30 GB of data\n",
    "- After exceeding the package limits:\n",
    "- 1 minute: 1 cent\n",
    "- 1 text message: 1 cent\n",
    "- 1 GB of data: $7"
   ]
  },
  {
   "cell_type": "code",
   "execution_count": 38,
   "metadata": {},
   "outputs": [
    {
     "data": {
      "text/html": [
       "<div>\n",
       "<style scoped>\n",
       "    .dataframe tbody tr th:only-of-type {\n",
       "        vertical-align: middle;\n",
       "    }\n",
       "\n",
       "    .dataframe tbody tr th {\n",
       "        vertical-align: top;\n",
       "    }\n",
       "\n",
       "    .dataframe thead th {\n",
       "        text-align: right;\n",
       "    }\n",
       "</style>\n",
       "<table border=\"1\" class=\"dataframe\">\n",
       "  <thead>\n",
       "    <tr style=\"text-align: right;\">\n",
       "      <th></th>\n",
       "      <th>user_id</th>\n",
       "      <th>month</th>\n",
       "      <th>plan</th>\n",
       "      <th>city</th>\n",
       "      <th>num_calls</th>\n",
       "      <th>rounded_call_duration</th>\n",
       "      <th>message_count</th>\n",
       "      <th>mb_per_month</th>\n",
       "      <th>gb_month</th>\n",
       "      <th>monthly_revenue</th>\n",
       "    </tr>\n",
       "  </thead>\n",
       "  <tbody>\n",
       "    <tr>\n",
       "      <th>0</th>\n",
       "      <td>1000</td>\n",
       "      <td>12.0</td>\n",
       "      <td>ultimate</td>\n",
       "      <td>Atlanta-Sandy Springs-Roswell, GA MSA</td>\n",
       "      <td>16.0</td>\n",
       "      <td>124.0</td>\n",
       "      <td>11.0</td>\n",
       "      <td>1902.0</td>\n",
       "      <td>2.0</td>\n",
       "      <td>70.00</td>\n",
       "    </tr>\n",
       "    <tr>\n",
       "      <th>1</th>\n",
       "      <td>1001</td>\n",
       "      <td>8.0</td>\n",
       "      <td>surf</td>\n",
       "      <td>Seattle-Tacoma-Bellevue, WA MSA</td>\n",
       "      <td>27.0</td>\n",
       "      <td>182.0</td>\n",
       "      <td>30.0</td>\n",
       "      <td>6920.0</td>\n",
       "      <td>7.0</td>\n",
       "      <td>20.00</td>\n",
       "    </tr>\n",
       "    <tr>\n",
       "      <th>2</th>\n",
       "      <td>1001</td>\n",
       "      <td>9.0</td>\n",
       "      <td>surf</td>\n",
       "      <td>Seattle-Tacoma-Bellevue, WA MSA</td>\n",
       "      <td>49.0</td>\n",
       "      <td>315.0</td>\n",
       "      <td>44.0</td>\n",
       "      <td>13315.0</td>\n",
       "      <td>14.0</td>\n",
       "      <td>20.00</td>\n",
       "    </tr>\n",
       "    <tr>\n",
       "      <th>3</th>\n",
       "      <td>1001</td>\n",
       "      <td>10.0</td>\n",
       "      <td>surf</td>\n",
       "      <td>Seattle-Tacoma-Bellevue, WA MSA</td>\n",
       "      <td>65.0</td>\n",
       "      <td>393.0</td>\n",
       "      <td>53.0</td>\n",
       "      <td>22331.0</td>\n",
       "      <td>22.0</td>\n",
       "      <td>90.09</td>\n",
       "    </tr>\n",
       "    <tr>\n",
       "      <th>4</th>\n",
       "      <td>1001</td>\n",
       "      <td>11.0</td>\n",
       "      <td>surf</td>\n",
       "      <td>Seattle-Tacoma-Bellevue, WA MSA</td>\n",
       "      <td>64.0</td>\n",
       "      <td>426.0</td>\n",
       "      <td>36.0</td>\n",
       "      <td>18505.0</td>\n",
       "      <td>19.0</td>\n",
       "      <td>60.00</td>\n",
       "    </tr>\n",
       "  </tbody>\n",
       "</table>\n",
       "</div>"
      ],
      "text/plain": [
       "   user_id  month      plan                                   city  num_calls  \\\n",
       "0     1000   12.0  ultimate  Atlanta-Sandy Springs-Roswell, GA MSA       16.0   \n",
       "1     1001    8.0      surf        Seattle-Tacoma-Bellevue, WA MSA       27.0   \n",
       "2     1001    9.0      surf        Seattle-Tacoma-Bellevue, WA MSA       49.0   \n",
       "3     1001   10.0      surf        Seattle-Tacoma-Bellevue, WA MSA       65.0   \n",
       "4     1001   11.0      surf        Seattle-Tacoma-Bellevue, WA MSA       64.0   \n",
       "\n",
       "   rounded_call_duration  message_count  mb_per_month  gb_month  \\\n",
       "0                  124.0           11.0        1902.0       2.0   \n",
       "1                  182.0           30.0        6920.0       7.0   \n",
       "2                  315.0           44.0       13315.0      14.0   \n",
       "3                  393.0           53.0       22331.0      22.0   \n",
       "4                  426.0           36.0       18505.0      19.0   \n",
       "\n",
       "   monthly_revenue  \n",
       "0            70.00  \n",
       "1            20.00  \n",
       "2            20.00  \n",
       "3            90.09  \n",
       "4            60.00  "
      ]
     },
     "metadata": {},
     "output_type": "display_data"
    }
   ],
   "source": [
    "# Create functions to calculate monthly revenue for each plan\n",
    "def calculate_surf_revenue(duration_calls, message_count, gb_month):\n",
    "    surf_calls = 500\n",
    "    surf_message = 50\n",
    "    surf_gb = 15\n",
    "    \n",
    "    # Calculate the exceeding amounts for calls, messages, and data\n",
    "    exceeding_call_time = max(0, duration_calls - surf_calls)\n",
    "    exceeding_messages = max(0, message_count - surf_message)\n",
    "    exceeding_gb = max(0, gb_month - surf_gb)\n",
    "    \n",
    "    # Calculate the revenue based on exceeding amounts\n",
    "    revenue = exceeding_messages * 0.03 + exceeding_call_time * 0.03 + exceeding_gb * 10 + 20\n",
    "    return revenue\n",
    "\n",
    "def calculate_ultimate_revenue(duration_calls, message_count, gb_month):\n",
    "    ult_calls = 3000\n",
    "    ult_message = 1000\n",
    "    ult_gb = 30\n",
    "    \n",
    "    # Calculate the exceeding amounts for calls, messages, and data\n",
    "    exceeding_call_time = max(0, duration_calls - ult_calls)\n",
    "    exceeding_messages = max(0, message_count - ult_message)\n",
    "    exceeding_gb = max(0, gb_month - ult_gb)\n",
    "    \n",
    "    # Calculate the revenue based on exceeding amounts\n",
    "    revenue = exceeding_messages * 0.01 + exceeding_call_time * 0.01 + exceeding_gb * 7 + 70\n",
    "    return revenue\n",
    "\n",
    "# Apply the corresponding function based on the plan for each row\n",
    "data_per_month['monthly_revenue'] = data_per_month.apply(lambda row: calculate_surf_revenue(row['rounded_call_duration'], row['message_count'], row['gb_month']) if row['plan'] == 'surf' else calculate_ultimate_revenue(row['rounded_call_duration'], row['message_count'], row['gb_month']), axis=1)\n",
    "\n",
    "# Display the DataFrame with the new 'monthly_revenue' column\n",
    "display(data_per_month.head())"
   ]
  },
  {
   "cell_type": "markdown",
   "metadata": {},
   "source": [
    "The above code calculates the monthly revenue based on the plan and the exceeding calls, gb, and messages for each user per month."
   ]
  },
  {
   "cell_type": "markdown",
   "metadata": {},
   "source": [
    "## Study user behaviour"
   ]
  },
  {
   "cell_type": "markdown",
   "metadata": {},
   "source": [
    "### Statistics Function "
   ]
  },
  {
   "cell_type": "code",
   "execution_count": 39,
   "metadata": {},
   "outputs": [],
   "source": [
    "def calculate_plan_statistics(column_name):\n",
    "    # Separate the data by plan\n",
    "    ultimate_plan = data_per_month[data_per_month['plan'] == 'ultimate']\n",
    "    surf_plan = data_per_month[data_per_month['plan'] == 'surf']\n",
    "\n",
    "    # Calculate the statistics for the ultimate plan\n",
    "    ultimate_mean = ultimate_plan[column_name].mean()\n",
    "    ultimate_var = ultimate_plan[column_name].var()\n",
    "    ultimate_std = ultimate_plan[column_name].std()\n",
    "\n",
    "    # Calculate the statistics for the surf plan\n",
    "    surf_mean = surf_plan[column_name].mean()\n",
    "    surf_var = surf_plan[column_name].var()\n",
    "    surf_std = surf_plan[column_name].std()\n",
    "\n",
    "    # Print the results for the Surf plan\n",
    "    print(f\"Surf Plan - {column_name}:\")\n",
    "    print(\"Mean:\", surf_mean)\n",
    "    print(\"Variance:\", surf_var)\n",
    "    print(\"Standard Deviation:\", surf_std)\n",
    "    \n",
    "    # Print the results for the Ultimate plan\n",
    "    print(f\"Ultimate Plan - {column_name}:\")\n",
    "    print(\"Mean:\", ultimate_mean)\n",
    "    print(\"Variance:\", ultimate_var)\n",
    "    print(\"Standard Deviation:\", ultimate_std)\n",
    "    \n",
    "    # Plot histograms for Surf and Ultimate plans on the same plot\n",
    "    plt.figure(figsize=(12, 6))\n",
    "    sns.histplot(surf_plan[column_name], bins=25, color='lightgreen', label='Surf', kde=True, alpha=0.5)\n",
    "    sns.histplot(ultimate_plan[column_name], bins=25, color='skyblue', label='Ultimate', kde=True, alpha=0.5)\n",
    "    plt.title(f'Distribution of Monthly {column_name.replace(\"_\", \" \").title()} by Plan')\n",
    "    plt.xlabel(column_name.replace('_', ' ').title())\n",
    "    plt.ylabel('Usage Per Month')\n",
    "    plt.legend()\n",
    "    plt.grid(True)\n",
    "    plt.show()\n",
    "\n",
    "    # Plot boxplots for Surf and Ultimate plans on the same plot\n",
    "    plt.figure(figsize=(10, 6))\n",
    "    sns.boxplot(x=data_per_month['plan'], y=data_per_month[column_name], palette={\"surf\": \"lightgreen\", \"ultimate\": \"skyblue\"})\n",
    "    plt.title(f'Distribution of Monthly {column_name.replace(\"_\", \" \").title()} by Plan')\n",
    "    plt.xlabel('Plan')\n",
    "    plt.ylabel(column_name.replace('_', ' ').title())\n",
    "    plt.grid(True)\n",
    "    plt.show()"
   ]
  },
  {
   "cell_type": "markdown",
   "metadata": {},
   "source": [
    "## Monthly Call Duration by Plan"
   ]
  },
  {
   "cell_type": "code",
   "execution_count": 40,
   "metadata": {},
   "outputs": [
    {
     "name": "stdout",
     "output_type": "stream",
     "text": [
      "Surf Plan - rounded_call_duration:\n",
      "Mean: 428.7495232040687\n",
      "Variance: 54968.27946065038\n",
      "Standard Deviation: 234.4531498202794\n",
      "Ultimate Plan - rounded_call_duration:\n",
      "Mean: 430.45\n",
      "Variance: 57844.46481223922\n",
      "Standard Deviation: 240.50876244378128\n"
     ]
    },
    {
     "data": {
      "image/png": "[encoded data removed]",
      "text/plain": [
       "<Figure size 1200x600 with 1 Axes>"
      ]
     },
     "metadata": {},
     "output_type": "display_data"
    },
    {
     "data": {
      "image/png": "[encoded data removed]",
      "text/plain": [
       "<Figure size 1000x600 with 1 Axes>"
      ]
     },
     "metadata": {},
     "output_type": "display_data"
    }
   ],
   "source": [
    "calculate_plan_statistics('rounded_call_duration')"
   ]
  },
  {
   "cell_type": "markdown",
   "metadata": {},
   "source": [
    "### Surf and Ultimate Monthly call Duration\n",
    "\n",
    "Based on the box plots, histograms, and calculations of the standard deviation, variance, and mean for both plans, the users behave pretty similarly. Both are right skewed with outlier data at the higher amount of calling minutes per month. Additionally, both have a considerable amount of users that didn't make many calls at all."
   ]
  },
  {
   "cell_type": "markdown",
   "metadata": {},
   "source": [
    "## Monthly Message Amounts by Plan"
   ]
  },
  {
   "cell_type": "code",
   "execution_count": 41,
   "metadata": {},
   "outputs": [
    {
     "name": "stdout",
     "output_type": "stream",
     "text": [
      "Surf Plan - message_count:\n",
      "Mean: 31.15956770502225\n",
      "Variance: 1126.7245219504066\n",
      "Standard Deviation: 33.566717473569064\n",
      "Ultimate Plan - message_count:\n",
      "Mean: 37.55138888888889\n",
      "Variance: 1208.756743548138\n",
      "Standard Deviation: 34.76717911404574\n"
     ]
    },
    {
     "data": {
      "image/png": "[encoded data removed]",
      "text/plain": [
       "<Figure size 1200x600 with 1 Axes>"
      ]
     },
     "metadata": {},
     "output_type": "display_data"
    },
    {
     "data": {
      "image/png": "[encoded data removed]",
      "text/plain": [
       "<Figure size 1000x600 with 1 Axes>"
      ]
     },
     "metadata": {},
     "output_type": "display_data"
    }
   ],
   "source": [
    "calculate_plan_statistics('message_count')"
   ]
  },
  {
   "cell_type": "markdown",
   "metadata": {},
   "source": [
    "### Monthly Messages per Plan\n",
    "\n",
    "Based on the box plots, histograms, and calculations of the standard deviation, variance, and mean for both plans, the users behave pretty similarly. Both are right skewed with outlier data at the higher end of messages per month. Additionally, both have a considerable amount of users that didn't send many messages at all.\n",
    "\n",
    "However, the data shows that the surf users send less messages on average and have more high outliers."
   ]
  },
  {
   "cell_type": "markdown",
   "metadata": {},
   "source": [
    "## Internet Usage "
   ]
  },
  {
   "cell_type": "code",
   "execution_count": 42,
   "metadata": {},
   "outputs": [
    {
     "name": "stdout",
     "output_type": "stream",
     "text": [
      "Surf Plan - mb_per_month:\n",
      "Mean: 16558.77685950413\n",
      "Variance: 64216445.45971862\n",
      "Standard Deviation: 8013.516422876952\n",
      "Ultimate Plan - mb_per_month:\n",
      "Mean: 17215.202777777777\n",
      "Variance: 61652123.608337194\n",
      "Standard Deviation: 7851.886627323219\n"
     ]
    },
    {
     "data": {
      "image/png": "[encoded data removed]",
      "text/plain": [
       "<Figure size 1200x600 with 1 Axes>"
      ]
     },
     "metadata": {},
     "output_type": "display_data"
    },
    {
     "data": {
      "image/png": "[encoded data removed]",
      "text/plain": [
       "<Figure size 1000x600 with 1 Axes>"
      ]
     },
     "metadata": {},
     "output_type": "display_data"
    }
   ],
   "source": [
    "calculate_plan_statistics('mb_per_month')"
   ]
  },
  {
   "cell_type": "markdown",
   "metadata": {},
   "source": [
    "### Monthly Internet Usage by Plan\n",
    "\n",
    "Based on the box plots, histograms, and calculations of the standard deviation, variance, and mean for both plans, the users behave pretty similarly. Both are slightly right skewed but closer to a normal bell curve with outlier data at the higher amount of internet usage per month. There is a smaller amount of users that didn't use any internet at all."
   ]
  },
  {
   "cell_type": "markdown",
   "metadata": {},
   "source": [
    "## Revenue by Plan"
   ]
  },
  {
   "cell_type": "code",
   "execution_count": 43,
   "metadata": {},
   "outputs": [],
   "source": [
    "surf_monthly = data_per_month[data_per_month['plan'] == 'surf']\n",
    "ultimate_monthly = data_per_month[data_per_month['plan'] == 'ultimate']"
   ]
  },
  {
   "cell_type": "code",
   "execution_count": 44,
   "metadata": {},
   "outputs": [
    {
     "data": {
      "text/html": [
       "<div>\n",
       "<style scoped>\n",
       "    .dataframe tbody tr th:only-of-type {\n",
       "        vertical-align: middle;\n",
       "    }\n",
       "\n",
       "    .dataframe tbody tr th {\n",
       "        vertical-align: top;\n",
       "    }\n",
       "\n",
       "    .dataframe thead th {\n",
       "        text-align: right;\n",
       "    }\n",
       "</style>\n",
       "<table border=\"1\" class=\"dataframe\">\n",
       "  <thead>\n",
       "    <tr style=\"text-align: right;\">\n",
       "      <th></th>\n",
       "      <th>month</th>\n",
       "      <th>monthly_revenue</th>\n",
       "      <th>month_number</th>\n",
       "    </tr>\n",
       "  </thead>\n",
       "  <tbody>\n",
       "    <tr>\n",
       "      <th>0</th>\n",
       "      <td>4.0</td>\n",
       "      <td>1533.0</td>\n",
       "      <td>April</td>\n",
       "    </tr>\n",
       "    <tr>\n",
       "      <th>1</th>\n",
       "      <td>8.0</td>\n",
       "      <td>5173.0</td>\n",
       "      <td>August</td>\n",
       "    </tr>\n",
       "    <tr>\n",
       "      <th>2</th>\n",
       "      <td>12.0</td>\n",
       "      <td>11067.0</td>\n",
       "      <td>December</td>\n",
       "    </tr>\n",
       "    <tr>\n",
       "      <th>3</th>\n",
       "      <td>2.0</td>\n",
       "      <td>490.0</td>\n",
       "      <td>February</td>\n",
       "    </tr>\n",
       "    <tr>\n",
       "      <th>4</th>\n",
       "      <td>1.0</td>\n",
       "      <td>280.0</td>\n",
       "      <td>January</td>\n",
       "    </tr>\n",
       "    <tr>\n",
       "      <th>5</th>\n",
       "      <td>7.0</td>\n",
       "      <td>4242.0</td>\n",
       "      <td>July</td>\n",
       "    </tr>\n",
       "    <tr>\n",
       "      <th>6</th>\n",
       "      <td>6.0</td>\n",
       "      <td>3367.0</td>\n",
       "      <td>June</td>\n",
       "    </tr>\n",
       "    <tr>\n",
       "      <th>7</th>\n",
       "      <td>3.0</td>\n",
       "      <td>896.0</td>\n",
       "      <td>March</td>\n",
       "    </tr>\n",
       "    <tr>\n",
       "      <th>8</th>\n",
       "      <td>5.0</td>\n",
       "      <td>2051.0</td>\n",
       "      <td>May</td>\n",
       "    </tr>\n",
       "    <tr>\n",
       "      <th>9</th>\n",
       "      <td>11.0</td>\n",
       "      <td>9107.0</td>\n",
       "      <td>November</td>\n",
       "    </tr>\n",
       "    <tr>\n",
       "      <th>10</th>\n",
       "      <td>10.0</td>\n",
       "      <td>7665.0</td>\n",
       "      <td>October</td>\n",
       "    </tr>\n",
       "    <tr>\n",
       "      <th>11</th>\n",
       "      <td>9.0</td>\n",
       "      <td>6195.0</td>\n",
       "      <td>September</td>\n",
       "    </tr>\n",
       "  </tbody>\n",
       "</table>\n",
       "</div>"
      ],
      "text/plain": [
       "    month  monthly_revenue month_number\n",
       "0     4.0           1533.0        April\n",
       "1     8.0           5173.0       August\n",
       "2    12.0          11067.0     December\n",
       "3     2.0            490.0     February\n",
       "4     1.0            280.0      January\n",
       "5     7.0           4242.0         July\n",
       "6     6.0           3367.0         June\n",
       "7     3.0            896.0        March\n",
       "8     5.0           2051.0          May\n",
       "9    11.0           9107.0     November\n",
       "10   10.0           7665.0      October\n",
       "11    9.0           6195.0    September"
      ]
     },
     "metadata": {},
     "output_type": "display_data"
    }
   ],
   "source": [
    "# Group by month and sum revenue counts\n",
    "ult_revenue = ultimate_monthly.groupby(['month'])['monthly_revenue'].sum().reset_index()\n",
    "\n",
    "# Mapping of month names to month numbers\n",
    "month_mapping = {\n",
    "    1: 'January',\n",
    "    2: 'February',\n",
    "    3: 'March',\n",
    "    4: 'April',\n",
    "    5: 'May',\n",
    "    6: 'June',\n",
    "    7: 'July',\n",
    "    8: 'August',\n",
    "    9: 'September',\n",
    "    10: 'October',\n",
    "    11: 'November',\n",
    "    12: 'December'\n",
    "}\n",
    "\n",
    "# Add the month_number column using the mapping\n",
    "ult_revenue['month_number'] = ult_revenue['month'].map(month_mapping)\n",
    "\n",
    "# Sort by month_number\n",
    "ult_revenue = ult_revenue.sort_values(by='month_number').reset_index(drop=True)\n",
    "display(ult_revenue)"
   ]
  },
  {
   "cell_type": "code",
   "execution_count": 45,
   "metadata": {},
   "outputs": [
    {
     "data": {
      "text/html": [
       "<div>\n",
       "<style scoped>\n",
       "    .dataframe tbody tr th:only-of-type {\n",
       "        vertical-align: middle;\n",
       "    }\n",
       "\n",
       "    .dataframe tbody tr th {\n",
       "        vertical-align: top;\n",
       "    }\n",
       "\n",
       "    .dataframe thead th {\n",
       "        text-align: right;\n",
       "    }\n",
       "</style>\n",
       "<table border=\"1\" class=\"dataframe\">\n",
       "  <thead>\n",
       "    <tr style=\"text-align: right;\">\n",
       "      <th></th>\n",
       "      <th>month</th>\n",
       "      <th>monthly_revenue</th>\n",
       "      <th>month_number</th>\n",
       "    </tr>\n",
       "  </thead>\n",
       "  <tbody>\n",
       "    <tr>\n",
       "      <th>0</th>\n",
       "      <td>4.0</td>\n",
       "      <td>2035.53</td>\n",
       "      <td>April</td>\n",
       "    </tr>\n",
       "    <tr>\n",
       "      <th>1</th>\n",
       "      <td>8.0</td>\n",
       "      <td>10356.85</td>\n",
       "      <td>August</td>\n",
       "    </tr>\n",
       "    <tr>\n",
       "      <th>2</th>\n",
       "      <td>12.0</td>\n",
       "      <td>22437.14</td>\n",
       "      <td>December</td>\n",
       "    </tr>\n",
       "    <tr>\n",
       "      <th>3</th>\n",
       "      <td>2.0</td>\n",
       "      <td>309.57</td>\n",
       "      <td>February</td>\n",
       "    </tr>\n",
       "    <tr>\n",
       "      <th>4</th>\n",
       "      <td>1.0</td>\n",
       "      <td>40.00</td>\n",
       "      <td>January</td>\n",
       "    </tr>\n",
       "    <tr>\n",
       "      <th>5</th>\n",
       "      <td>7.0</td>\n",
       "      <td>7583.56</td>\n",
       "      <td>July</td>\n",
       "    </tr>\n",
       "    <tr>\n",
       "      <th>6</th>\n",
       "      <td>6.0</td>\n",
       "      <td>4779.80</td>\n",
       "      <td>June</td>\n",
       "    </tr>\n",
       "    <tr>\n",
       "      <th>7</th>\n",
       "      <td>3.0</td>\n",
       "      <td>1056.65</td>\n",
       "      <td>March</td>\n",
       "    </tr>\n",
       "    <tr>\n",
       "      <th>8</th>\n",
       "      <td>5.0</td>\n",
       "      <td>3667.37</td>\n",
       "      <td>May</td>\n",
       "    </tr>\n",
       "    <tr>\n",
       "      <th>9</th>\n",
       "      <td>11.0</td>\n",
       "      <td>16415.21</td>\n",
       "      <td>November</td>\n",
       "    </tr>\n",
       "    <tr>\n",
       "      <th>10</th>\n",
       "      <td>10.0</td>\n",
       "      <td>15504.83</td>\n",
       "      <td>October</td>\n",
       "    </tr>\n",
       "    <tr>\n",
       "      <th>11</th>\n",
       "      <td>9.0</td>\n",
       "      <td>11304.67</td>\n",
       "      <td>September</td>\n",
       "    </tr>\n",
       "  </tbody>\n",
       "</table>\n",
       "</div>"
      ],
      "text/plain": [
       "    month  monthly_revenue month_number\n",
       "0     4.0          2035.53        April\n",
       "1     8.0         10356.85       August\n",
       "2    12.0         22437.14     December\n",
       "3     2.0           309.57     February\n",
       "4     1.0            40.00      January\n",
       "5     7.0          7583.56         July\n",
       "6     6.0          4779.80         June\n",
       "7     3.0          1056.65        March\n",
       "8     5.0          3667.37          May\n",
       "9    11.0         16415.21     November\n",
       "10   10.0         15504.83      October\n",
       "11    9.0         11304.67    September"
      ]
     },
     "metadata": {},
     "output_type": "display_data"
    }
   ],
   "source": [
    "# Group by month and sum revenue counts\n",
    "surf_revenue = surf_monthly.groupby(['month'])['monthly_revenue'].sum().reset_index()\n",
    "\n",
    "# Mapping of month names to month numbers\n",
    "month_mapping = {\n",
    "    1: 'January',\n",
    "    2: 'February',\n",
    "    3: 'March',\n",
    "    4: 'April',\n",
    "    5: 'May',\n",
    "    6: 'June',\n",
    "    7: 'July',\n",
    "    8: 'August',\n",
    "    9: 'September',\n",
    "    10: 'October',\n",
    "    11: 'November',\n",
    "    12: 'December'\n",
    "}\n",
    "\n",
    "# Add the month_number column using the mapping\n",
    "surf_revenue['month_number'] = surf_revenue['month'].map(month_mapping)\n",
    "\n",
    "# Sort by month_number\n",
    "surf_revenue = surf_revenue.sort_values(by='month_number').reset_index(drop=True)\n",
    "display(surf_revenue)"
   ]
  },
  {
   "cell_type": "code",
   "execution_count": 46,
   "metadata": {},
   "outputs": [
    {
     "data": {
      "image/png": "[encoded data removed]",
      "text/plain": [
       "<Figure size 1000x600 with 1 Axes>"
      ]
     },
     "metadata": {},
     "output_type": "display_data"
    }
   ],
   "source": [
    "# Plotting the bar plot\n",
    "plt.figure(figsize=(10, 6))\n",
    "plt.bar(surf_revenue['month'], surf_revenue['monthly_revenue'], label='Surf', alpha=0.7)\n",
    "plt.bar(ult_revenue['month'], ult_revenue['monthly_revenue'], label='Ultimate', alpha=0.5)\n",
    "\n",
    "plt.xlabel('Month')\n",
    "plt.ylabel('Amount of mb of internet used')\n",
    "plt.title('Frequency of internet per Plan per Month(mb)')\n",
    "plt.xticks(rotation=45)\n",
    "plt.legend()\n",
    "plt.tight_layout()\n",
    "plt.show()"
   ]
  },
  {
   "cell_type": "code",
   "execution_count": 47,
   "metadata": {},
   "outputs": [
    {
     "name": "stdout",
     "output_type": "stream",
     "text": [
      "Ultimate Plan - Mean Revenue: 4338.833333333333\n",
      "Ultimate Plan - Variance of Revenue: 12764516.333333332\n",
      "\n",
      "Surf Plan - Mean Revenue: 7957.598333333335\n",
      "Surf Plan - Variance of Revenue: 53420670.28970612\n"
     ]
    }
   ],
   "source": [
    "# Compare the amount of messages by users per plan\n",
    "\n",
    "# Calculate the mean and the variance of the monthly call duration\n",
    "ultimate_mean_rev = ult_revenue['monthly_revenue'].mean()\n",
    "ultimate_var_rev = ult_revenue['monthly_revenue'].var()\n",
    "\n",
    "surf_mean_rev = surf_revenue['monthly_revenue'].mean()\n",
    "surf_var_rev = surf_revenue['monthly_revenue'].var()\n",
    "\n",
    "print(\"Ultimate Plan - Mean Revenue:\", ultimate_mean_rev)\n",
    "print(\"Ultimate Plan - Variance of Revenue:\", ultimate_var_rev)\n",
    "\n",
    "print(\"\\nSurf Plan - Mean Revenue:\", surf_mean_rev)\n",
    "print(\"Surf Plan - Variance of Revenue:\", surf_var_rev)"
   ]
  },
  {
   "cell_type": "code",
   "execution_count": 48,
   "metadata": {},
   "outputs": [
    {
     "data": {
      "image/png": "[encoded data removed]",
      "text/plain": [
       "<Figure size 640x480 with 1 Axes>"
      ]
     },
     "metadata": {},
     "output_type": "display_data"
    }
   ],
   "source": [
    "# Plot a boxplot to visualize the distribution of the monthly call duration\n",
    "\n",
    "fig, ax = plt.subplots()\n",
    "\n",
    "# Plot boxplot for ultimate plan\n",
    "ax.boxplot(ult_revenue['monthly_revenue'], positions=[1], labels=['Ultimate'])\n",
    "\n",
    "# Plot boxplot for surf plan\n",
    "ax.boxplot(surf_revenue['monthly_revenue'], positions=[2], labels=['Surf'])\n",
    "\n",
    "# Set labels and title\n",
    "ax.set_xlabel('Plan')\n",
    "ax.set_ylabel('Monthly Revenue')\n",
    "ax.set_title('Distribution of Monthly Revenue')\n",
    "\n",
    "# Show plot\n",
    "plt.show()"
   ]
  },
  {
   "cell_type": "markdown",
   "metadata": {},
   "source": [
    "Again, the Surf plan has a larger right skew than the ultimate plan."
   ]
  },
  {
   "cell_type": "markdown",
   "metadata": {},
   "source": [
    "## Test statistical hypotheses"
   ]
  },
  {
   "cell_type": "markdown",
   "metadata": {},
   "source": [
    "### Surf vs Ultimate Users"
   ]
  },
  {
   "cell_type": "markdown",
   "metadata": {},
   "source": [
    "\n",
    "***H0:**** There is no difference in the revenues of the ultimate plan users and the surf plan users.\n",
    "\n",
    "***H1:*** There is a differenece in revenue between the two plan users.\n",
    "\n",
    "An independent t-test will be conducted on the the two data sets because the simple question of are they the same or not is all we desire.\n"
   ]
  },
  {
   "cell_type": "code",
   "execution_count": 49,
   "metadata": {},
   "outputs": [
    {
     "name": "stdout",
     "output_type": "stream",
     "text": [
      "p-value:  0.13760614119010917\n",
      "We can't reject the null hypothesis\n"
     ]
    }
   ],
   "source": [
    "# Test the hypotheses\n",
    "results = st.ttest_ind(ult_revenue['monthly_revenue'], surf_revenue['monthly_revenue'])\n",
    "\n",
    "alpha =0.05\n",
    "print('p-value: ', results.pvalue)\n",
    "\n",
    "\n",
    "if results.pvalue < alpha:\n",
    "    print(\"We reject the null hypothesis\")\n",
    "else:\n",
    "    print(\"We can't reject the null hypothesis\")\n"
   ]
  },
  {
   "cell_type": "markdown",
   "metadata": {},
   "source": [
    "### NY-NJ Users\n",
    "Tested the hypothesis that the average revenue from users in the NY-NJ area is different from that of the users from the other regions."
   ]
  },
  {
   "cell_type": "code",
   "execution_count": 50,
   "metadata": {},
   "outputs": [
    {
     "data": {
      "text/html": [
       "<div>\n",
       "<style scoped>\n",
       "    .dataframe tbody tr th:only-of-type {\n",
       "        vertical-align: middle;\n",
       "    }\n",
       "\n",
       "    .dataframe tbody tr th {\n",
       "        vertical-align: top;\n",
       "    }\n",
       "\n",
       "    .dataframe thead th {\n",
       "        text-align: right;\n",
       "    }\n",
       "</style>\n",
       "<table border=\"1\" class=\"dataframe\">\n",
       "  <thead>\n",
       "    <tr style=\"text-align: right;\">\n",
       "      <th></th>\n",
       "      <th>user_id</th>\n",
       "      <th>month</th>\n",
       "      <th>plan</th>\n",
       "      <th>city</th>\n",
       "      <th>num_calls</th>\n",
       "      <th>rounded_call_duration</th>\n",
       "      <th>message_count</th>\n",
       "      <th>mb_per_month</th>\n",
       "      <th>gb_month</th>\n",
       "      <th>monthly_revenue</th>\n",
       "    </tr>\n",
       "  </thead>\n",
       "  <tbody>\n",
       "    <tr>\n",
       "      <th>1</th>\n",
       "      <td>1001</td>\n",
       "      <td>8.0</td>\n",
       "      <td>surf</td>\n",
       "      <td>Seattle-Tacoma-Bellevue, WA MSA</td>\n",
       "      <td>27.0</td>\n",
       "      <td>182.0</td>\n",
       "      <td>30.0</td>\n",
       "      <td>6920.0</td>\n",
       "      <td>7.0</td>\n",
       "      <td>20.00</td>\n",
       "    </tr>\n",
       "    <tr>\n",
       "      <th>2</th>\n",
       "      <td>1001</td>\n",
       "      <td>9.0</td>\n",
       "      <td>surf</td>\n",
       "      <td>Seattle-Tacoma-Bellevue, WA MSA</td>\n",
       "      <td>49.0</td>\n",
       "      <td>315.0</td>\n",
       "      <td>44.0</td>\n",
       "      <td>13315.0</td>\n",
       "      <td>14.0</td>\n",
       "      <td>20.00</td>\n",
       "    </tr>\n",
       "    <tr>\n",
       "      <th>3</th>\n",
       "      <td>1001</td>\n",
       "      <td>10.0</td>\n",
       "      <td>surf</td>\n",
       "      <td>Seattle-Tacoma-Bellevue, WA MSA</td>\n",
       "      <td>65.0</td>\n",
       "      <td>393.0</td>\n",
       "      <td>53.0</td>\n",
       "      <td>22331.0</td>\n",
       "      <td>22.0</td>\n",
       "      <td>90.09</td>\n",
       "    </tr>\n",
       "    <tr>\n",
       "      <th>4</th>\n",
       "      <td>1001</td>\n",
       "      <td>11.0</td>\n",
       "      <td>surf</td>\n",
       "      <td>Seattle-Tacoma-Bellevue, WA MSA</td>\n",
       "      <td>64.0</td>\n",
       "      <td>426.0</td>\n",
       "      <td>36.0</td>\n",
       "      <td>18505.0</td>\n",
       "      <td>19.0</td>\n",
       "      <td>60.00</td>\n",
       "    </tr>\n",
       "    <tr>\n",
       "      <th>5</th>\n",
       "      <td>1001</td>\n",
       "      <td>12.0</td>\n",
       "      <td>surf</td>\n",
       "      <td>Seattle-Tacoma-Bellevue, WA MSA</td>\n",
       "      <td>56.0</td>\n",
       "      <td>412.0</td>\n",
       "      <td>44.0</td>\n",
       "      <td>19370.0</td>\n",
       "      <td>19.0</td>\n",
       "      <td>60.00</td>\n",
       "    </tr>\n",
       "  </tbody>\n",
       "</table>\n",
       "</div>"
      ],
      "text/plain": [
       "   user_id  month  plan                             city  num_calls  \\\n",
       "1     1001    8.0  surf  Seattle-Tacoma-Bellevue, WA MSA       27.0   \n",
       "2     1001    9.0  surf  Seattle-Tacoma-Bellevue, WA MSA       49.0   \n",
       "3     1001   10.0  surf  Seattle-Tacoma-Bellevue, WA MSA       65.0   \n",
       "4     1001   11.0  surf  Seattle-Tacoma-Bellevue, WA MSA       64.0   \n",
       "5     1001   12.0  surf  Seattle-Tacoma-Bellevue, WA MSA       56.0   \n",
       "\n",
       "   rounded_call_duration  message_count  mb_per_month  gb_month  \\\n",
       "1                  182.0           30.0        6920.0       7.0   \n",
       "2                  315.0           44.0       13315.0      14.0   \n",
       "3                  393.0           53.0       22331.0      22.0   \n",
       "4                  426.0           36.0       18505.0      19.0   \n",
       "5                  412.0           44.0       19370.0      19.0   \n",
       "\n",
       "   monthly_revenue  \n",
       "1            20.00  \n",
       "2            20.00  \n",
       "3            90.09  \n",
       "4            60.00  \n",
       "5            60.00  "
      ]
     },
     "metadata": {},
     "output_type": "display_data"
    },
    {
     "data": {
      "text/html": [
       "<div>\n",
       "<style scoped>\n",
       "    .dataframe tbody tr th:only-of-type {\n",
       "        vertical-align: middle;\n",
       "    }\n",
       "\n",
       "    .dataframe tbody tr th {\n",
       "        vertical-align: top;\n",
       "    }\n",
       "\n",
       "    .dataframe thead th {\n",
       "        text-align: right;\n",
       "    }\n",
       "</style>\n",
       "<table border=\"1\" class=\"dataframe\">\n",
       "  <thead>\n",
       "    <tr style=\"text-align: right;\">\n",
       "      <th></th>\n",
       "      <th>user_id</th>\n",
       "      <th>month</th>\n",
       "      <th>plan</th>\n",
       "      <th>city</th>\n",
       "      <th>num_calls</th>\n",
       "      <th>rounded_call_duration</th>\n",
       "      <th>message_count</th>\n",
       "      <th>mb_per_month</th>\n",
       "      <th>gb_month</th>\n",
       "      <th>monthly_revenue</th>\n",
       "    </tr>\n",
       "  </thead>\n",
       "  <tbody>\n",
       "    <tr>\n",
       "      <th>0</th>\n",
       "      <td>1000</td>\n",
       "      <td>12.0</td>\n",
       "      <td>ultimate</td>\n",
       "      <td>Atlanta-Sandy Springs-Roswell, GA MSA</td>\n",
       "      <td>16.0</td>\n",
       "      <td>124.0</td>\n",
       "      <td>11.0</td>\n",
       "      <td>1902.0</td>\n",
       "      <td>2.0</td>\n",
       "      <td>70.0</td>\n",
       "    </tr>\n",
       "    <tr>\n",
       "      <th>19</th>\n",
       "      <td>1006</td>\n",
       "      <td>11.0</td>\n",
       "      <td>ultimate</td>\n",
       "      <td>San Francisco-Oakland-Berkeley, CA MSA</td>\n",
       "      <td>2.0</td>\n",
       "      <td>10.0</td>\n",
       "      <td>15.0</td>\n",
       "      <td>2069.0</td>\n",
       "      <td>3.0</td>\n",
       "      <td>70.0</td>\n",
       "    </tr>\n",
       "    <tr>\n",
       "      <th>20</th>\n",
       "      <td>1006</td>\n",
       "      <td>12.0</td>\n",
       "      <td>ultimate</td>\n",
       "      <td>San Francisco-Oakland-Berkeley, CA MSA</td>\n",
       "      <td>9.0</td>\n",
       "      <td>59.0</td>\n",
       "      <td>139.0</td>\n",
       "      <td>32119.0</td>\n",
       "      <td>32.0</td>\n",
       "      <td>84.0</td>\n",
       "    </tr>\n",
       "    <tr>\n",
       "      <th>26</th>\n",
       "      <td>1008</td>\n",
       "      <td>10.0</td>\n",
       "      <td>ultimate</td>\n",
       "      <td>Orlando-Kissimmee-Sanford, FL MSA</td>\n",
       "      <td>71.0</td>\n",
       "      <td>476.0</td>\n",
       "      <td>21.0</td>\n",
       "      <td>17107.0</td>\n",
       "      <td>17.0</td>\n",
       "      <td>70.0</td>\n",
       "    </tr>\n",
       "    <tr>\n",
       "      <th>27</th>\n",
       "      <td>1008</td>\n",
       "      <td>11.0</td>\n",
       "      <td>ultimate</td>\n",
       "      <td>Orlando-Kissimmee-Sanford, FL MSA</td>\n",
       "      <td>63.0</td>\n",
       "      <td>446.0</td>\n",
       "      <td>37.0</td>\n",
       "      <td>23677.0</td>\n",
       "      <td>24.0</td>\n",
       "      <td>70.0</td>\n",
       "    </tr>\n",
       "  </tbody>\n",
       "</table>\n",
       "</div>"
      ],
      "text/plain": [
       "    user_id  month      plan                                    city  \\\n",
       "0      1000   12.0  ultimate   Atlanta-Sandy Springs-Roswell, GA MSA   \n",
       "19     1006   11.0  ultimate  San Francisco-Oakland-Berkeley, CA MSA   \n",
       "20     1006   12.0  ultimate  San Francisco-Oakland-Berkeley, CA MSA   \n",
       "26     1008   10.0  ultimate       Orlando-Kissimmee-Sanford, FL MSA   \n",
       "27     1008   11.0  ultimate       Orlando-Kissimmee-Sanford, FL MSA   \n",
       "\n",
       "    num_calls  rounded_call_duration  message_count  mb_per_month  gb_month  \\\n",
       "0        16.0                  124.0           11.0        1902.0       2.0   \n",
       "19        2.0                   10.0           15.0        2069.0       3.0   \n",
       "20        9.0                   59.0          139.0       32119.0      32.0   \n",
       "26       71.0                  476.0           21.0       17107.0      17.0   \n",
       "27       63.0                  446.0           37.0       23677.0      24.0   \n",
       "\n",
       "    monthly_revenue  \n",
       "0              70.0  \n",
       "19             70.0  \n",
       "20             84.0  \n",
       "26             70.0  \n",
       "27             70.0  "
      ]
     },
     "metadata": {},
     "output_type": "display_data"
    }
   ],
   "source": [
    "display(surf_monthly.head())\n",
    "display(ultimate_monthly.head())"
   ]
  },
  {
   "cell_type": "code",
   "execution_count": 51,
   "metadata": {},
   "outputs": [
    {
     "data": {
      "text/plain": [
       "array(['New York-Newark-Jersey City, NY-NJ-PA MSA',\n",
       "       'Philadelphia-Camden-Wilmington, PA-NJ-DE-MD MSA',\n",
       "       'Buffalo-Cheektowaga, NY MSA', 'Albany-Schenectady-Troy, NY MSA',\n",
       "       'Rochester, NY MSA'], dtype=object)"
      ]
     },
     "metadata": {},
     "output_type": "display_data"
    }
   ],
   "source": [
    "surf_rev_njny = surf_monthly[['user_id', 'month', 'city', 'monthly_revenue']]\n",
    "surf_rev_rest = surf_monthly[['user_id', 'month', 'city', 'monthly_revenue']]\n",
    "\n",
    "# Select rows with 'NJ' or 'NY' in the city column\n",
    "surf_rev_njny = surf_rev_njny[surf_rev_njny['city'].str.contains('NJ|NY')]\n",
    "\n",
    "# Select rows with cities other than 'NJ' and 'NY'\n",
    "surf_rev_rest = surf_rev_rest[~surf_rev_rest['city'].str.contains('NJ|NY')]\n",
    "\n",
    "display(surf_rev_njny['city'].unique())"
   ]
  },
  {
   "cell_type": "code",
   "execution_count": 52,
   "metadata": {},
   "outputs": [],
   "source": [
    "ult_rev_njny = ultimate_monthly[['user_id', 'month', 'city', 'monthly_revenue']]\n",
    "ult_rev_rest = ultimate_monthly[['user_id', 'month', 'city', 'monthly_revenue']]\n",
    "\n",
    "# Select rows with 'NJ' or 'NY' in the city column\n",
    "ult_rev_njny = ult_rev_njny[ult_rev_njny['city'].str.contains('NJ|NY')]\n",
    "\n",
    "# Select rows with cities other than 'NJ' and 'NY'\n",
    "ult_rev_rest = ult_rev_rest[~ult_rev_rest['city'].str.contains('NJ|NY')]"
   ]
  },
  {
   "cell_type": "markdown",
   "metadata": {},
   "source": [
    "THe NJ-NY data has 'Philadelphia-Camden-Wilmington, PA-NJ-DE-MD MSA' as one of the cities. Which will be included in the NJ-NY data because it has NJ in it's description.\n",
    "\n",
    "The surf and ultimate plan were seperately studied."
   ]
  },
  {
   "cell_type": "markdown",
   "metadata": {},
   "source": [
    "***H0:*** There is no difference in the revenues of the ultimate plan users in NJ-NY area compared to elsewhere.\n",
    "\n",
    "***H1:*** There is a differenece in revenue between NJ-NY users and elsewhere.\n",
    "\n",
    "An independent t-test will be conducted on the the two data sets because the simple question of are they the same or not is all we desire.\n"
   ]
  },
  {
   "cell_type": "code",
   "execution_count": 53,
   "metadata": {},
   "outputs": [
    {
     "name": "stdout",
     "output_type": "stream",
     "text": [
      "p-value:  6.735356776146324e-10\n",
      "We reject the null hypothesis\n"
     ]
    }
   ],
   "source": [
    "# Test the hypotheses\n",
    "results = st.ttest_ind(ult_rev_njny['monthly_revenue'], ult_rev_rest['monthly_revenue'])\n",
    "\n",
    "alpha =0.05\n",
    "print('p-value: ', results.pvalue)\n",
    "\n",
    "\n",
    "if results.pvalue < alpha:\n",
    "    print(\"We reject the null hypothesis\")\n",
    "else:\n",
    "    print(\"We can't reject the null hypothesis\")\n"
   ]
  },
  {
   "cell_type": "markdown",
   "metadata": {},
   "source": [
    "\n",
    "***H0:*** There is no difference in the revenues of the surf plan users in NJ-NY area compared to elsewhere.\n",
    "\n",
    "***H1:*** There is a differenece in revenue between NJ-NY users and elsewhere.\n",
    "\n",
    "An independent t-test will be conducted on the the two data sets because the simple question of are they the same or not is all we desire."
   ]
  },
  {
   "cell_type": "code",
   "execution_count": 54,
   "metadata": {},
   "outputs": [
    {
     "name": "stdout",
     "output_type": "stream",
     "text": [
      "p-value:  0.12835184685674497\n",
      "We can't reject the null hypothesis\n"
     ]
    }
   ],
   "source": [
    "# Test the hypotheses\n",
    "results = st.ttest_ind(surf_rev_njny['monthly_revenue'], surf_rev_rest['monthly_revenue'])\n",
    "\n",
    "alpha =0.05\n",
    "print('p-value: ', results.pvalue)\n",
    "\n",
    "\n",
    "if results.pvalue < alpha:\n",
    "    print(\"We reject the null hypothesis\")\n",
    "else:\n",
    "    print(\"We can't reject the null hypothesis\")\n"
   ]
  },
  {
   "cell_type": "markdown",
   "metadata": {},
   "source": [
    "Based on the t-test, we can reject that the revenue is the same for the ultimate data. There is a different amount of revenue form the people who live in NY or NJ than the rest of the users. However, the opposite can be said of the users in the surf plan. The revenue cannot be said to be different between the people who live in NY and NJ and the rest of the users."
   ]
  },
  {
   "cell_type": "markdown",
   "metadata": {},
   "source": [
    "## Conclusion\n",
    "\n",
    "Based on the analysis, the following conclusions and recommendations can be made:\n",
    "\n",
    "Revenue Comparison:\n",
    "\n",
    "- The t-test results indicate that the overall revenue from both plans is statistically similar. Conclusively its no possible to say that one plan generates more revenue than the other across the entire population.\n",
    "- However, in specific regions like NY-NJ, there is a noticeable difference in revenue, with one plan potentially outperforming the other.\n",
    "\n",
    "\n",
    "User Behavior:\n",
    "\n",
    "- Users on the Surf plan tend to use fewer messages and data compared to Ultimate plan users.\n",
    "- The Ultimate plan users generally have higher call durations, message counts, and data usage, which might suggest a preference for heavy usage customers.\n",
    "\n",
    "Plan Recommendations:\n",
    "\n",
    "- For users in regions like NY-NJ, consider promoting the plan that generates higher revenue in these areas.\n",
    "- Given the heavy usage patterns, the Ultimate plan might be more suitable for users with high data and call needs.\n",
    "- For lighter users or those more cost-sensitive, the Surf plan could be a better fit.\n"
   ]
  }
 ],
 "metadata": {
  "ExecuteTimeLog": [
   {
    "duration": 828,
    "start_time": "2021-11-16T09:21:11.304Z"
   },
   {
    "duration": 893,
    "start_time": "2021-11-16T09:21:17.728Z"
   },
   {
    "duration": 1150,
    "start_time": "2021-11-16T09:21:29.568Z"
   },
   {
    "duration": 3,
    "start_time": "2021-11-16T09:24:14.495Z"
   },
   {
    "duration": 120,
    "start_time": "2021-11-16T09:24:46.630Z"
   },
   {
    "duration": 3,
    "start_time": "2021-11-16T09:28:27.882Z"
   },
   {
    "duration": 4,
    "start_time": "2021-11-16T09:29:54.281Z"
   },
   {
    "duration": 3,
    "start_time": "2021-11-16T09:30:45.936Z"
   },
   {
    "duration": 4,
    "start_time": "2021-11-16T09:31:06.300Z"
   },
   {
    "duration": 113,
    "start_time": "2021-11-16T09:31:37.208Z"
   },
   {
    "duration": 143,
    "start_time": "2021-11-16T09:31:48.656Z"
   },
   {
    "duration": 98,
    "start_time": "2021-11-16T09:31:55.678Z"
   },
   {
    "duration": 3,
    "start_time": "2021-11-16T09:32:08.535Z"
   },
   {
    "duration": 111,
    "start_time": "2021-11-16T09:32:10.120Z"
   },
   {
    "duration": 3,
    "start_time": "2021-11-16T09:32:15.732Z"
   },
   {
    "duration": 4,
    "start_time": "2021-11-16T09:32:29.423Z"
   },
   {
    "duration": 3,
    "start_time": "2021-11-16T10:03:03.074Z"
   },
   {
    "duration": 3,
    "start_time": "2021-11-16T10:10:01.288Z"
   },
   {
    "duration": 3,
    "start_time": "2021-11-16T10:10:46.923Z"
   },
   {
    "duration": 121,
    "start_time": "2021-11-16T10:37:46.494Z"
   },
   {
    "duration": 125,
    "start_time": "2021-11-16T10:38:20.632Z"
   },
   {
    "duration": 112,
    "start_time": "2021-11-16T10:46:53.001Z"
   },
   {
    "duration": 110,
    "start_time": "2021-11-16T10:48:25.775Z"
   },
   {
    "duration": 3,
    "start_time": "2021-11-16T10:50:18.720Z"
   },
   {
    "duration": 4,
    "start_time": "2021-11-16T10:50:37.649Z"
   },
   {
    "duration": 2,
    "start_time": "2021-11-16T10:50:51.884Z"
   },
   {
    "duration": 3,
    "start_time": "2021-11-16T10:51:56.237Z"
   },
   {
    "duration": 101,
    "start_time": "2021-11-16T10:53:13.791Z"
   },
   {
    "duration": 3,
    "start_time": "2021-11-16T10:55:59.186Z"
   },
   {
    "duration": 3,
    "start_time": "2021-11-16T10:56:10.751Z"
   },
   {
    "duration": 3,
    "start_time": "2021-11-16T10:56:49.038Z"
   },
   {
    "duration": 3,
    "start_time": "2021-11-16T10:56:49.174Z"
   },
   {
    "duration": 4,
    "start_time": "2021-11-16T10:56:49.414Z"
   },
   {
    "duration": 3,
    "start_time": "2021-11-16T10:56:49.680Z"
   },
   {
    "duration": 3,
    "start_time": "2021-11-16T10:56:50.370Z"
   },
   {
    "duration": 114,
    "start_time": "2021-11-16T10:59:34.518Z"
   },
   {
    "duration": 3,
    "start_time": "2021-11-16T11:01:41.201Z"
   },
   {
    "duration": 116,
    "start_time": "2021-11-16T11:01:48.754Z"
   },
   {
    "duration": 3,
    "start_time": "2021-11-16T11:02:16.685Z"
   },
   {
    "duration": 3,
    "start_time": "2021-11-16T11:02:19.479Z"
   },
   {
    "duration": 3,
    "start_time": "2021-11-16T11:02:47.067Z"
   },
   {
    "duration": 3,
    "start_time": "2021-11-16T11:02:49.353Z"
   },
   {
    "duration": 3,
    "start_time": "2021-11-16T11:03:07.835Z"
   },
   {
    "duration": 3,
    "start_time": "2021-11-16T11:03:07.953Z"
   },
   {
    "duration": 112,
    "start_time": "2021-11-16T11:07:52.072Z"
   },
   {
    "duration": 187,
    "start_time": "2021-11-16T11:09:23.468Z"
   },
   {
    "duration": 4,
    "start_time": "2021-11-16T11:10:01.455Z"
   },
   {
    "duration": 3,
    "start_time": "2021-11-16T11:10:05.069Z"
   },
   {
    "duration": 4,
    "start_time": "2021-11-16T11:10:13.376Z"
   },
   {
    "duration": 3,
    "start_time": "2021-11-16T11:10:14.434Z"
   },
   {
    "duration": 3,
    "start_time": "2021-11-16T11:10:22.853Z"
   },
   {
    "duration": 4,
    "start_time": "2021-11-16T11:27:29.279Z"
   },
   {
    "duration": 4,
    "start_time": "2021-11-16T11:29:08.919Z"
   },
   {
    "duration": 118,
    "start_time": "2021-11-16T11:29:46.703Z"
   },
   {
    "duration": 437,
    "start_time": "2021-11-16T11:36:02.181Z"
   },
   {
    "duration": 157,
    "start_time": "2021-11-16T11:36:14.388Z"
   },
   {
    "duration": 207,
    "start_time": "2021-11-16T11:47:15.898Z"
   },
   {
    "duration": 3,
    "start_time": "2021-11-16T11:53:52.092Z"
   },
   {
    "duration": 3,
    "start_time": "2021-11-16T11:53:52.236Z"
   },
   {
    "duration": 3,
    "start_time": "2021-11-16T11:59:12.005Z"
   },
   {
    "duration": 112,
    "start_time": "2021-11-16T12:00:33.446Z"
   },
   {
    "duration": 3,
    "start_time": "2021-11-16T12:02:14.453Z"
   },
   {
    "duration": 3,
    "start_time": "2021-11-16T12:02:39.512Z"
   },
   {
    "duration": 106,
    "start_time": "2021-11-16T12:03:03.460Z"
   },
   {
    "duration": 3,
    "start_time": "2021-11-17T20:37:21.139Z"
   },
   {
    "duration": 3,
    "start_time": "2021-11-17T20:37:22.229Z"
   },
   {
    "duration": 3,
    "start_time": "2021-11-17T20:38:38.806Z"
   },
   {
    "duration": 3,
    "start_time": "2021-11-17T20:38:41.958Z"
   },
   {
    "duration": 3,
    "start_time": "2021-11-17T20:43:46.551Z"
   },
   {
    "duration": 4,
    "start_time": "2021-11-17T20:58:21.835Z"
   },
   {
    "duration": 3,
    "start_time": "2021-11-17T20:59:21.872Z"
   },
   {
    "duration": 4,
    "start_time": "2021-11-17T20:59:45.352Z"
   },
   {
    "duration": 4,
    "start_time": "2021-11-17T20:59:49.646Z"
   },
   {
    "duration": 159,
    "start_time": "2021-11-17T21:02:26.949Z"
   },
   {
    "duration": 3,
    "start_time": "2021-11-17T21:03:53.461Z"
   },
   {
    "duration": 3,
    "start_time": "2021-11-17T21:03:53.694Z"
   },
   {
    "duration": 3,
    "start_time": "2021-11-17T21:05:28.145Z"
   },
   {
    "duration": 116,
    "start_time": "2021-11-17T21:05:57.787Z"
   },
   {
    "duration": 3,
    "start_time": "2021-11-17T21:06:37.993Z"
   },
   {
    "duration": 3,
    "start_time": "2021-11-17T21:06:38.261Z"
   },
   {
    "duration": 3,
    "start_time": "2021-11-17T21:11:54.358Z"
   },
   {
    "duration": 3,
    "start_time": "2021-11-17T21:12:43.846Z"
   },
   {
    "duration": 4,
    "start_time": "2021-11-17T21:13:08.773Z"
   },
   {
    "duration": 3,
    "start_time": "2021-11-17T21:14:44.441Z"
   },
   {
    "duration": 3,
    "start_time": "2021-11-17T21:15:42.059Z"
   },
   {
    "duration": 4,
    "start_time": "2021-11-17T21:15:51.995Z"
   },
   {
    "duration": 3,
    "start_time": "2021-11-17T21:15:53.923Z"
   },
   {
    "duration": 3,
    "start_time": "2021-11-17T21:15:55.282Z"
   },
   {
    "duration": 3,
    "start_time": "2021-11-17T21:16:28.492Z"
   },
   {
    "duration": 3,
    "start_time": "2021-11-17T21:16:32.603Z"
   },
   {
    "duration": 3,
    "start_time": "2021-11-17T21:17:06.941Z"
   },
   {
    "duration": 98,
    "start_time": "2021-11-17T21:18:05.733Z"
   },
   {
    "duration": 4,
    "start_time": "2021-11-17T21:21:35.255Z"
   },
   {
    "duration": 3,
    "start_time": "2021-11-17T21:21:37.804Z"
   },
   {
    "duration": 4,
    "start_time": "2021-11-17T21:23:06.071Z"
   },
   {
    "duration": 3,
    "start_time": "2021-11-17T21:23:24.799Z"
   },
   {
    "duration": 3,
    "start_time": "2021-11-17T21:23:32.591Z"
   },
   {
    "duration": 98,
    "start_time": "2021-11-17T21:28:31.559Z"
   },
   {
    "duration": 3,
    "start_time": "2021-11-17T21:28:45.448Z"
   },
   {
    "duration": 3,
    "start_time": "2021-11-17T21:29:17.303Z"
   },
   {
    "duration": 3,
    "start_time": "2021-11-17T21:29:29.617Z"
   },
   {
    "duration": 3,
    "start_time": "2021-11-17T21:29:32.681Z"
   },
   {
    "duration": 3,
    "start_time": "2021-11-17T21:36:11.474Z"
   },
   {
    "duration": 3,
    "start_time": "2021-11-17T21:36:14.791Z"
   },
   {
    "duration": 3,
    "start_time": "2021-11-17T21:36:53.943Z"
   },
   {
    "duration": 3,
    "start_time": "2021-11-17T21:36:56.165Z"
   },
   {
    "duration": 4,
    "start_time": "2021-11-17T21:37:16.590Z"
   },
   {
    "duration": 3,
    "start_time": "2021-11-17T21:37:22.702Z"
   },
   {
    "duration": 4,
    "start_time": "2021-11-17T21:38:03.479Z"
   },
   {
    "duration": 3,
    "start_time": "2021-11-17T21:38:08.601Z"
   },
   {
    "duration": 3,
    "start_time": "2021-11-17T21:38:12.928Z"
   },
   {
    "duration": 3,
    "start_time": "2021-11-17T21:38:48.896Z"
   },
   {
    "duration": 2,
    "start_time": "2021-11-17T21:38:49.171Z"
   },
   {
    "duration": 4,
    "start_time": "2021-11-17T21:39:57.889Z"
   },
   {
    "duration": 3,
    "start_time": "2021-11-17T21:39:58.057Z"
   },
   {
    "duration": 3,
    "start_time": "2021-11-17T21:41:20.108Z"
   },
   {
    "duration": 3,
    "start_time": "2021-11-17T21:41:20.629Z"
   },
   {
    "duration": 3,
    "start_time": "2021-11-17T21:42:49.136Z"
   },
   {
    "duration": 3,
    "start_time": "2021-11-17T21:43:15.137Z"
   },
   {
    "duration": 4,
    "start_time": "2021-11-17T21:43:16.766Z"
   },
   {
    "duration": 4,
    "start_time": "2021-11-17T21:43:31.711Z"
   },
   {
    "duration": 3,
    "start_time": "2021-11-17T21:43:36.312Z"
   },
   {
    "duration": 4,
    "start_time": "2021-11-17T21:45:08.825Z"
   },
   {
    "duration": 4,
    "start_time": "2021-11-17T21:45:10.119Z"
   },
   {
    "duration": 4,
    "start_time": "2021-11-17T21:45:13.748Z"
   },
   {
    "duration": 3,
    "start_time": "2021-11-17T21:45:22.219Z"
   },
   {
    "duration": 3,
    "start_time": "2021-11-17T21:45:33.412Z"
   },
   {
    "duration": 2,
    "start_time": "2021-11-17T21:46:01.885Z"
   },
   {
    "duration": 3,
    "start_time": "2021-11-17T21:46:03.628Z"
   },
   {
    "duration": 107,
    "start_time": "2021-11-17T21:47:32.512Z"
   },
   {
    "duration": 103,
    "start_time": "2021-11-17T21:50:36.243Z"
   },
   {
    "duration": 3,
    "start_time": "2021-11-18T06:28:31.440Z"
   },
   {
    "duration": 3,
    "start_time": "2021-11-18T06:29:00.168Z"
   },
   {
    "duration": 3,
    "start_time": "2021-11-18T06:31:27.008Z"
   },
   {
    "duration": 2,
    "start_time": "2021-11-18T06:35:34.288Z"
   },
   {
    "duration": 2,
    "start_time": "2021-11-18T06:38:04.527Z"
   },
   {
    "duration": 4756,
    "start_time": "2024-05-23T16:27:12.734Z"
   },
   {
    "duration": 8,
    "start_time": "2024-05-23T16:27:17.493Z"
   },
   {
    "duration": 458,
    "start_time": "2024-05-23T16:28:41.625Z"
   },
   {
    "duration": 387,
    "start_time": "2024-05-23T16:29:22.906Z"
   },
   {
    "duration": 17,
    "start_time": "2024-05-23T16:30:22.515Z"
   },
   {
    "duration": 25,
    "start_time": "2024-05-23T16:30:48.218Z"
   },
   {
    "duration": 15,
    "start_time": "2024-05-23T16:30:55.164Z"
   },
   {
    "duration": 25,
    "start_time": "2024-05-23T16:33:27.323Z"
   },
   {
    "duration": 32,
    "start_time": "2024-05-23T16:34:33.955Z"
   },
   {
    "duration": 27,
    "start_time": "2024-05-23T16:35:09.411Z"
   },
   {
    "duration": 31,
    "start_time": "2024-05-23T16:35:13.073Z"
   },
   {
    "duration": 23,
    "start_time": "2024-05-23T16:35:22.367Z"
   },
   {
    "duration": 28,
    "start_time": "2024-05-23T16:35:27.803Z"
   },
   {
    "duration": 3,
    "start_time": "2024-05-23T16:36:16.177Z"
   },
   {
    "duration": 26,
    "start_time": "2024-05-23T16:36:22.765Z"
   },
   {
    "duration": 26,
    "start_time": "2024-05-23T16:37:08.835Z"
   },
   {
    "duration": 27,
    "start_time": "2024-05-23T16:37:18.896Z"
   },
   {
    "duration": 50,
    "start_time": "2024-05-23T16:37:32.825Z"
   },
   {
    "duration": 28,
    "start_time": "2024-05-23T16:38:41.267Z"
   },
   {
    "duration": 34,
    "start_time": "2024-05-23T16:39:00.244Z"
   },
   {
    "duration": 6,
    "start_time": "2024-05-23T16:40:04.237Z"
   },
   {
    "duration": 856,
    "start_time": "2024-05-23T16:40:09.253Z"
   },
   {
    "duration": 32,
    "start_time": "2024-05-23T16:40:22.687Z"
   },
   {
    "duration": 45,
    "start_time": "2024-05-23T16:40:54.029Z"
   },
   {
    "duration": 40,
    "start_time": "2024-05-23T16:41:00.716Z"
   },
   {
    "duration": 40,
    "start_time": "2024-05-23T16:41:07.851Z"
   },
   {
    "duration": 36,
    "start_time": "2024-05-23T16:41:12.013Z"
   },
   {
    "duration": 33,
    "start_time": "2024-05-23T16:41:32.208Z"
   },
   {
    "duration": 64,
    "start_time": "2024-05-23T16:43:55.287Z"
   },
   {
    "duration": 32,
    "start_time": "2024-05-23T16:44:03.261Z"
   },
   {
    "duration": 32,
    "start_time": "2024-05-23T16:44:11.461Z"
   },
   {
    "duration": 34,
    "start_time": "2024-05-23T16:47:24.186Z"
   },
   {
    "duration": 86,
    "start_time": "2024-05-23T16:49:14.271Z"
   },
   {
    "duration": 83,
    "start_time": "2024-05-23T16:49:24.672Z"
   },
   {
    "duration": 53,
    "start_time": "2024-05-23T16:50:42.465Z"
   },
   {
    "duration": 39,
    "start_time": "2024-05-23T16:55:19.571Z"
   },
   {
    "duration": 36,
    "start_time": "2024-05-23T16:55:42.739Z"
   },
   {
    "duration": 37,
    "start_time": "2024-05-23T16:55:53.301Z"
   },
   {
    "duration": 39,
    "start_time": "2024-05-23T16:56:35.985Z"
   },
   {
    "duration": 46,
    "start_time": "2024-05-23T16:56:51.549Z"
   },
   {
    "duration": 45,
    "start_time": "2024-05-23T16:57:24.901Z"
   },
   {
    "duration": 32,
    "start_time": "2024-05-23T16:59:19.538Z"
   },
   {
    "duration": 83,
    "start_time": "2024-05-23T17:00:02.446Z"
   },
   {
    "duration": 101,
    "start_time": "2024-05-23T17:00:14.489Z"
   },
   {
    "duration": 63,
    "start_time": "2024-05-23T17:00:25.486Z"
   },
   {
    "duration": 33,
    "start_time": "2024-05-23T17:13:26.225Z"
   },
   {
    "duration": 51,
    "start_time": "2024-05-23T17:15:16.515Z"
   },
   {
    "duration": 7,
    "start_time": "2024-05-23T17:15:21.547Z"
   },
   {
    "duration": 49,
    "start_time": "2024-05-23T17:15:24.297Z"
   },
   {
    "duration": 6,
    "start_time": "2024-05-23T17:15:59.490Z"
   },
   {
    "duration": 58,
    "start_time": "2024-05-23T17:16:02.191Z"
   },
   {
    "duration": 65,
    "start_time": "2024-05-23T17:16:58.028Z"
   },
   {
    "duration": 41,
    "start_time": "2024-05-23T17:18:17.525Z"
   },
   {
    "duration": 38,
    "start_time": "2024-05-23T17:18:20.023Z"
   },
   {
    "duration": 42,
    "start_time": "2024-05-23T17:19:13.472Z"
   },
   {
    "duration": 42,
    "start_time": "2024-05-23T17:20:15.785Z"
   },
   {
    "duration": 81,
    "start_time": "2024-05-23T17:20:58.774Z"
   },
   {
    "duration": 49,
    "start_time": "2024-05-23T17:21:04.939Z"
   },
   {
    "duration": 49,
    "start_time": "2024-05-23T17:22:23.461Z"
   },
   {
    "duration": 47,
    "start_time": "2024-05-23T17:22:33.369Z"
   },
   {
    "duration": 33,
    "start_time": "2024-05-23T17:22:44.985Z"
   },
   {
    "duration": 112,
    "start_time": "2024-05-23T17:23:18.011Z"
   },
   {
    "duration": 33,
    "start_time": "2024-05-23T17:23:35.633Z"
   },
   {
    "duration": 39,
    "start_time": "2024-05-23T17:24:01.061Z"
   },
   {
    "duration": 37,
    "start_time": "2024-05-23T17:24:19.305Z"
   },
   {
    "duration": 40,
    "start_time": "2024-05-23T17:24:27.903Z"
   },
   {
    "duration": 26,
    "start_time": "2024-05-23T17:25:34.925Z"
   },
   {
    "duration": 14,
    "start_time": "2024-05-23T17:29:07.789Z"
   },
   {
    "duration": 15,
    "start_time": "2024-05-23T17:29:09.337Z"
   },
   {
    "duration": 13,
    "start_time": "2024-05-23T17:29:53.966Z"
   },
   {
    "duration": 15,
    "start_time": "2024-05-23T17:30:05.395Z"
   },
   {
    "duration": 24,
    "start_time": "2024-05-23T17:31:59.932Z"
   },
   {
    "duration": 22,
    "start_time": "2024-05-23T17:33:40.001Z"
   },
   {
    "duration": 19,
    "start_time": "2024-05-23T17:33:41.355Z"
   },
   {
    "duration": 84,
    "start_time": "2024-05-23T17:33:44.284Z"
   },
   {
    "duration": 14,
    "start_time": "2024-05-23T17:39:49.843Z"
   },
   {
    "duration": 3,
    "start_time": "2024-05-23T17:39:58.347Z"
   },
   {
    "duration": 278,
    "start_time": "2024-05-23T17:39:58.354Z"
   },
   {
    "duration": 22,
    "start_time": "2024-05-23T17:39:58.636Z"
   },
   {
    "duration": 4,
    "start_time": "2024-05-23T17:39:58.661Z"
   },
   {
    "duration": 3,
    "start_time": "2024-05-23T17:39:58.670Z"
   },
   {
    "duration": 15,
    "start_time": "2024-05-23T17:39:58.676Z"
   },
   {
    "duration": 13,
    "start_time": "2024-05-23T17:39:58.734Z"
   },
   {
    "duration": 22,
    "start_time": "2024-05-23T17:39:58.750Z"
   },
   {
    "duration": 58,
    "start_time": "2024-05-23T17:39:58.775Z"
   },
   {
    "duration": 12,
    "start_time": "2024-05-23T17:39:58.835Z"
   },
   {
    "duration": 140,
    "start_time": "2024-05-23T17:39:58.852Z"
   },
   {
    "duration": 21,
    "start_time": "2024-05-23T17:39:58.995Z"
   },
   {
    "duration": 10,
    "start_time": "2024-05-23T17:39:59.034Z"
   },
   {
    "duration": 52,
    "start_time": "2024-05-23T17:39:59.048Z"
   },
   {
    "duration": 48,
    "start_time": "2024-05-23T17:39:59.103Z"
   },
   {
    "duration": 11,
    "start_time": "2024-05-23T17:39:59.155Z"
   },
   {
    "duration": 125,
    "start_time": "2024-05-23T17:39:59.170Z"
   },
   {
    "duration": 12,
    "start_time": "2024-05-23T17:39:59.298Z"
   },
   {
    "duration": 4,
    "start_time": "2024-05-23T17:39:59.313Z"
   },
   {
    "duration": 4,
    "start_time": "2024-05-23T17:39:59.334Z"
   },
   {
    "duration": 4,
    "start_time": "2024-05-23T17:39:59.341Z"
   },
   {
    "duration": 3,
    "start_time": "2024-05-23T17:39:59.349Z"
   },
   {
    "duration": 4,
    "start_time": "2024-05-23T17:39:59.355Z"
   },
   {
    "duration": 6,
    "start_time": "2024-05-23T17:39:59.362Z"
   },
   {
    "duration": 4,
    "start_time": "2024-05-23T17:39:59.371Z"
   },
   {
    "duration": 55,
    "start_time": "2024-05-23T17:39:59.378Z"
   },
   {
    "duration": 4,
    "start_time": "2024-05-23T17:39:59.437Z"
   },
   {
    "duration": 3,
    "start_time": "2024-05-23T17:39:59.444Z"
   },
   {
    "duration": 3,
    "start_time": "2024-05-23T17:39:59.455Z"
   },
   {
    "duration": 3,
    "start_time": "2024-05-23T17:39:59.462Z"
   },
   {
    "duration": 3,
    "start_time": "2024-05-23T17:39:59.468Z"
   },
   {
    "duration": 3,
    "start_time": "2024-05-23T17:39:59.475Z"
   },
   {
    "duration": 3,
    "start_time": "2024-05-23T17:39:59.534Z"
   },
   {
    "duration": 4,
    "start_time": "2024-05-23T17:42:00.237Z"
   },
   {
    "duration": 273,
    "start_time": "2024-05-23T17:42:00.291Z"
   },
   {
    "duration": 14,
    "start_time": "2024-05-23T17:42:00.567Z"
   },
   {
    "duration": 14,
    "start_time": "2024-05-23T17:42:00.585Z"
   },
   {
    "duration": 40,
    "start_time": "2024-05-23T17:42:00.602Z"
   },
   {
    "duration": 14,
    "start_time": "2024-05-23T17:42:00.647Z"
   },
   {
    "duration": 22,
    "start_time": "2024-05-23T17:42:00.664Z"
   },
   {
    "duration": 62,
    "start_time": "2024-05-23T17:42:00.689Z"
   },
   {
    "duration": 12,
    "start_time": "2024-05-23T17:42:00.754Z"
   },
   {
    "duration": 128,
    "start_time": "2024-05-23T17:42:00.769Z"
   },
   {
    "duration": 34,
    "start_time": "2024-05-23T17:42:00.900Z"
   },
   {
    "duration": 11,
    "start_time": "2024-05-23T17:42:00.936Z"
   },
   {
    "duration": 54,
    "start_time": "2024-05-23T17:42:00.950Z"
   },
   {
    "duration": 48,
    "start_time": "2024-05-23T17:42:01.007Z"
   },
   {
    "duration": 11,
    "start_time": "2024-05-23T17:42:01.062Z"
   },
   {
    "duration": 148,
    "start_time": "2024-05-23T17:42:01.077Z"
   },
   {
    "duration": 15,
    "start_time": "2024-05-23T17:42:01.228Z"
   },
   {
    "duration": 4,
    "start_time": "2024-05-23T17:42:01.247Z"
   },
   {
    "duration": 3,
    "start_time": "2024-05-23T17:42:01.257Z"
   },
   {
    "duration": 4,
    "start_time": "2024-05-23T17:42:01.264Z"
   },
   {
    "duration": 4,
    "start_time": "2024-05-23T17:42:01.274Z"
   },
   {
    "duration": 4,
    "start_time": "2024-05-23T17:42:01.283Z"
   },
   {
    "duration": 7,
    "start_time": "2024-05-23T17:42:01.342Z"
   },
   {
    "duration": 4,
    "start_time": "2024-05-23T17:42:01.353Z"
   },
   {
    "duration": 7,
    "start_time": "2024-05-23T17:42:01.365Z"
   },
   {
    "duration": 4,
    "start_time": "2024-05-23T17:42:01.375Z"
   },
   {
    "duration": 3,
    "start_time": "2024-05-23T17:42:01.385Z"
   },
   {
    "duration": 4,
    "start_time": "2024-05-23T17:42:01.393Z"
   },
   {
    "duration": 33,
    "start_time": "2024-05-23T17:42:01.400Z"
   },
   {
    "duration": 8,
    "start_time": "2024-05-23T17:42:01.437Z"
   },
   {
    "duration": 4,
    "start_time": "2024-05-23T17:42:01.449Z"
   },
   {
    "duration": 4,
    "start_time": "2024-05-23T17:42:01.456Z"
   },
   {
    "duration": 55,
    "start_time": "2024-05-23T17:50:33.220Z"
   },
   {
    "duration": 81,
    "start_time": "2024-05-23T17:50:46.941Z"
   },
   {
    "duration": 90,
    "start_time": "2024-05-23T17:51:00.532Z"
   },
   {
    "duration": 61,
    "start_time": "2024-05-23T17:51:21.460Z"
   },
   {
    "duration": 6,
    "start_time": "2024-05-23T17:53:12.344Z"
   },
   {
    "duration": 25,
    "start_time": "2024-05-23T17:53:32.899Z"
   },
   {
    "duration": 46,
    "start_time": "2024-05-23T17:53:47.235Z"
   },
   {
    "duration": 29,
    "start_time": "2024-05-23T17:54:47.045Z"
   },
   {
    "duration": 5,
    "start_time": "2024-05-23T17:55:24.436Z"
   },
   {
    "duration": 290,
    "start_time": "2024-05-23T17:55:24.464Z"
   },
   {
    "duration": 14,
    "start_time": "2024-05-23T17:55:24.757Z"
   },
   {
    "duration": 14,
    "start_time": "2024-05-23T17:55:24.774Z"
   },
   {
    "duration": 39,
    "start_time": "2024-05-23T17:55:24.793Z"
   },
   {
    "duration": 14,
    "start_time": "2024-05-23T17:55:24.836Z"
   },
   {
    "duration": 26,
    "start_time": "2024-05-23T17:55:24.852Z"
   },
   {
    "duration": 58,
    "start_time": "2024-05-23T17:55:24.881Z"
   },
   {
    "duration": 11,
    "start_time": "2024-05-23T17:55:24.943Z"
   },
   {
    "duration": 133,
    "start_time": "2024-05-23T17:55:24.956Z"
   },
   {
    "duration": 59,
    "start_time": "2024-05-23T17:55:25.092Z"
   },
   {
    "duration": 19,
    "start_time": "2024-05-23T17:55:25.155Z"
   },
   {
    "duration": 11,
    "start_time": "2024-05-23T17:55:25.176Z"
   },
   {
    "duration": 88,
    "start_time": "2024-05-23T17:55:25.191Z"
   },
   {
    "duration": 24,
    "start_time": "2024-05-23T17:55:25.286Z"
   },
   {
    "duration": 12,
    "start_time": "2024-05-23T17:55:25.332Z"
   },
   {
    "duration": 120,
    "start_time": "2024-05-23T17:55:25.347Z"
   },
   {
    "duration": 12,
    "start_time": "2024-05-23T17:55:25.470Z"
   },
   {
    "duration": 50,
    "start_time": "2024-05-23T17:55:25.485Z"
   },
   {
    "duration": 0,
    "start_time": "2024-05-23T17:55:25.538Z"
   },
   {
    "duration": 0,
    "start_time": "2024-05-23T17:55:25.539Z"
   },
   {
    "duration": 0,
    "start_time": "2024-05-23T17:55:25.541Z"
   },
   {
    "duration": 0,
    "start_time": "2024-05-23T17:55:25.543Z"
   },
   {
    "duration": 0,
    "start_time": "2024-05-23T17:55:25.545Z"
   },
   {
    "duration": 0,
    "start_time": "2024-05-23T17:55:25.548Z"
   },
   {
    "duration": 0,
    "start_time": "2024-05-23T17:55:25.550Z"
   },
   {
    "duration": 0,
    "start_time": "2024-05-23T17:55:25.552Z"
   },
   {
    "duration": 1,
    "start_time": "2024-05-23T17:55:25.553Z"
   },
   {
    "duration": 0,
    "start_time": "2024-05-23T17:55:25.555Z"
   },
   {
    "duration": 0,
    "start_time": "2024-05-23T17:55:25.557Z"
   },
   {
    "duration": 0,
    "start_time": "2024-05-23T17:55:25.562Z"
   },
   {
    "duration": 0,
    "start_time": "2024-05-23T17:55:25.564Z"
   },
   {
    "duration": 0,
    "start_time": "2024-05-23T17:55:25.567Z"
   },
   {
    "duration": 332,
    "start_time": "2024-05-23T17:57:40.389Z"
   },
   {
    "duration": 101,
    "start_time": "2024-05-23T17:58:06.210Z"
   },
   {
    "duration": 81,
    "start_time": "2024-05-23T17:58:15.218Z"
   },
   {
    "duration": 93,
    "start_time": "2024-05-23T17:58:27.478Z"
   },
   {
    "duration": 71,
    "start_time": "2024-05-23T17:58:37.829Z"
   },
   {
    "duration": 93,
    "start_time": "2024-05-23T17:59:12.198Z"
   },
   {
    "duration": 43,
    "start_time": "2024-05-23T17:59:19.644Z"
   },
   {
    "duration": 37,
    "start_time": "2024-05-23T18:00:08.319Z"
   },
   {
    "duration": 32,
    "start_time": "2024-05-23T18:00:12.333Z"
   },
   {
    "duration": 29,
    "start_time": "2024-05-23T18:00:57.062Z"
   },
   {
    "duration": 30,
    "start_time": "2024-05-23T18:01:06.189Z"
   },
   {
    "duration": 25,
    "start_time": "2024-05-23T18:01:44.516Z"
   },
   {
    "duration": 14,
    "start_time": "2024-05-23T18:01:54.708Z"
   },
   {
    "duration": 48,
    "start_time": "2024-05-23T18:02:43.247Z"
   },
   {
    "duration": 37,
    "start_time": "2024-05-23T18:02:49.262Z"
   },
   {
    "duration": 40,
    "start_time": "2024-05-23T18:03:35.419Z"
   },
   {
    "duration": 67,
    "start_time": "2024-05-23T18:03:51.925Z"
   },
   {
    "duration": 30,
    "start_time": "2024-05-23T18:05:06.160Z"
   },
   {
    "duration": 28,
    "start_time": "2024-05-23T18:05:38.307Z"
   },
   {
    "duration": 29,
    "start_time": "2024-05-23T18:06:28.462Z"
   },
   {
    "duration": 33,
    "start_time": "2024-05-23T18:06:53.781Z"
   },
   {
    "duration": 33,
    "start_time": "2024-05-23T18:09:34.883Z"
   },
   {
    "duration": 51,
    "start_time": "2024-05-23T18:10:17.791Z"
   },
   {
    "duration": 44,
    "start_time": "2024-05-23T18:10:26.079Z"
   },
   {
    "duration": 42,
    "start_time": "2024-05-23T18:10:33.180Z"
   },
   {
    "duration": 44,
    "start_time": "2024-05-23T18:10:40.170Z"
   },
   {
    "duration": 39,
    "start_time": "2024-05-23T18:11:54.836Z"
   },
   {
    "duration": 335,
    "start_time": "2024-05-23T18:13:25.520Z"
   },
   {
    "duration": 354,
    "start_time": "2024-05-23T18:13:39.199Z"
   },
   {
    "duration": 290,
    "start_time": "2024-05-23T18:14:10.491Z"
   },
   {
    "duration": 41,
    "start_time": "2024-05-23T18:15:01.029Z"
   },
   {
    "duration": 28,
    "start_time": "2024-05-23T18:15:12.088Z"
   },
   {
    "duration": 18,
    "start_time": "2024-05-23T18:18:13.425Z"
   },
   {
    "duration": 354,
    "start_time": "2024-05-24T00:20:19.572Z"
   },
   {
    "duration": 5071,
    "start_time": "2024-05-24T00:20:29.820Z"
   },
   {
    "duration": 347,
    "start_time": "2024-05-24T00:20:34.896Z"
   },
   {
    "duration": 16,
    "start_time": "2024-05-24T00:20:35.247Z"
   },
   {
    "duration": 21,
    "start_time": "2024-05-24T00:20:35.267Z"
   },
   {
    "duration": 40,
    "start_time": "2024-05-24T00:20:35.293Z"
   },
   {
    "duration": 16,
    "start_time": "2024-05-24T00:20:35.336Z"
   },
   {
    "duration": 27,
    "start_time": "2024-05-24T00:20:35.356Z"
   },
   {
    "duration": 55,
    "start_time": "2024-05-24T00:20:35.390Z"
   },
   {
    "duration": 15,
    "start_time": "2024-05-24T00:20:35.448Z"
   },
   {
    "duration": 149,
    "start_time": "2024-05-24T00:20:35.466Z"
   },
   {
    "duration": 67,
    "start_time": "2024-05-24T00:20:35.618Z"
   },
   {
    "duration": 47,
    "start_time": "2024-05-24T00:20:35.689Z"
   },
   {
    "duration": 11,
    "start_time": "2024-05-24T00:20:35.741Z"
   },
   {
    "duration": 90,
    "start_time": "2024-05-24T00:20:35.760Z"
   },
   {
    "duration": 42,
    "start_time": "2024-05-24T00:20:35.854Z"
   },
   {
    "duration": 46,
    "start_time": "2024-05-24T00:20:35.900Z"
   },
   {
    "duration": 13,
    "start_time": "2024-05-24T00:20:35.949Z"
   },
   {
    "duration": 135,
    "start_time": "2024-05-24T00:20:35.965Z"
   },
   {
    "duration": 15,
    "start_time": "2024-05-24T00:20:36.103Z"
   },
   {
    "duration": 44,
    "start_time": "2024-05-24T00:20:36.134Z"
   },
   {
    "duration": 60,
    "start_time": "2024-05-24T00:20:36.181Z"
   },
   {
    "duration": 24,
    "start_time": "2024-05-24T00:20:36.245Z"
   },
   {
    "duration": 4,
    "start_time": "2024-05-24T00:20:36.272Z"
   },
   {
    "duration": 3,
    "start_time": "2024-05-24T00:20:36.279Z"
   },
   {
    "duration": 4,
    "start_time": "2024-05-24T00:20:36.285Z"
   },
   {
    "duration": 42,
    "start_time": "2024-05-24T00:20:36.292Z"
   },
   {
    "duration": 4,
    "start_time": "2024-05-24T00:20:36.337Z"
   },
   {
    "duration": 3,
    "start_time": "2024-05-24T00:20:36.344Z"
   },
   {
    "duration": 4,
    "start_time": "2024-05-24T00:20:36.350Z"
   },
   {
    "duration": 3,
    "start_time": "2024-05-24T00:20:36.357Z"
   },
   {
    "duration": 5,
    "start_time": "2024-05-24T00:20:36.363Z"
   },
   {
    "duration": 3,
    "start_time": "2024-05-24T00:20:36.371Z"
   },
   {
    "duration": 4,
    "start_time": "2024-05-24T00:20:36.433Z"
   },
   {
    "duration": 3,
    "start_time": "2024-05-24T00:20:36.440Z"
   },
   {
    "duration": 22,
    "start_time": "2024-05-24T00:20:48.778Z"
   },
   {
    "duration": 26,
    "start_time": "2024-05-24T00:20:55.655Z"
   },
   {
    "duration": 30,
    "start_time": "2024-05-24T00:22:36.374Z"
   },
   {
    "duration": 22,
    "start_time": "2024-05-24T00:22:49.104Z"
   },
   {
    "duration": 111,
    "start_time": "2024-05-24T00:24:30.923Z"
   },
   {
    "duration": 53,
    "start_time": "2024-05-24T00:25:32.445Z"
   },
   {
    "duration": 5,
    "start_time": "2024-05-24T00:26:12.860Z"
   },
   {
    "duration": 292,
    "start_time": "2024-05-24T00:26:12.870Z"
   },
   {
    "duration": 18,
    "start_time": "2024-05-24T00:26:13.165Z"
   },
   {
    "duration": 16,
    "start_time": "2024-05-24T00:26:13.186Z"
   },
   {
    "duration": 34,
    "start_time": "2024-05-24T00:26:13.208Z"
   },
   {
    "duration": 17,
    "start_time": "2024-05-24T00:26:13.246Z"
   },
   {
    "duration": 29,
    "start_time": "2024-05-24T00:26:13.266Z"
   },
   {
    "duration": 63,
    "start_time": "2024-05-24T00:26:13.298Z"
   },
   {
    "duration": 15,
    "start_time": "2024-05-24T00:26:13.364Z"
   },
   {
    "duration": 144,
    "start_time": "2024-05-24T00:26:13.383Z"
   },
   {
    "duration": 60,
    "start_time": "2024-05-24T00:26:13.534Z"
   },
   {
    "duration": 44,
    "start_time": "2024-05-24T00:26:13.598Z"
   },
   {
    "duration": 16,
    "start_time": "2024-05-24T00:26:13.645Z"
   },
   {
    "duration": 83,
    "start_time": "2024-05-24T00:26:13.671Z"
   },
   {
    "duration": 34,
    "start_time": "2024-05-24T00:26:13.758Z"
   },
   {
    "duration": 47,
    "start_time": "2024-05-24T00:26:13.796Z"
   },
   {
    "duration": 13,
    "start_time": "2024-05-24T00:26:13.847Z"
   },
   {
    "duration": 129,
    "start_time": "2024-05-24T00:26:13.863Z"
   },
   {
    "duration": 54,
    "start_time": "2024-05-24T00:26:13.995Z"
   },
   {
    "duration": 14,
    "start_time": "2024-05-24T00:26:14.055Z"
   },
   {
    "duration": 63,
    "start_time": "2024-05-24T00:26:14.072Z"
   },
   {
    "duration": 35,
    "start_time": "2024-05-24T00:26:14.140Z"
   },
   {
    "duration": 25,
    "start_time": "2024-05-24T00:26:14.178Z"
   },
   {
    "duration": 3,
    "start_time": "2024-05-24T00:26:14.236Z"
   },
   {
    "duration": 4,
    "start_time": "2024-05-24T00:26:14.242Z"
   },
   {
    "duration": 6,
    "start_time": "2024-05-24T00:26:14.249Z"
   },
   {
    "duration": 4,
    "start_time": "2024-05-24T00:26:14.259Z"
   },
   {
    "duration": 4,
    "start_time": "2024-05-24T00:26:14.266Z"
   },
   {
    "duration": 4,
    "start_time": "2024-05-24T00:26:14.273Z"
   },
   {
    "duration": 4,
    "start_time": "2024-05-24T00:26:14.280Z"
   },
   {
    "duration": 3,
    "start_time": "2024-05-24T00:26:14.334Z"
   },
   {
    "duration": 4,
    "start_time": "2024-05-24T00:26:14.341Z"
   },
   {
    "duration": 4,
    "start_time": "2024-05-24T00:26:14.347Z"
   },
   {
    "duration": 4,
    "start_time": "2024-05-24T00:26:14.354Z"
   },
   {
    "duration": 4,
    "start_time": "2024-05-24T00:26:14.361Z"
   },
   {
    "duration": 65,
    "start_time": "2024-05-24T00:27:13.343Z"
   },
   {
    "duration": 40,
    "start_time": "2024-05-24T00:27:30.719Z"
   },
   {
    "duration": 27,
    "start_time": "2024-05-24T00:29:04.126Z"
   },
   {
    "duration": 23,
    "start_time": "2024-05-24T00:29:13.260Z"
   },
   {
    "duration": 26,
    "start_time": "2024-05-24T00:29:16.039Z"
   },
   {
    "duration": 162,
    "start_time": "2024-05-24T00:36:24.847Z"
   },
   {
    "duration": 265,
    "start_time": "2024-05-24T00:37:51.261Z"
   },
   {
    "duration": 173,
    "start_time": "2024-05-24T00:38:08.435Z"
   },
   {
    "duration": 167,
    "start_time": "2024-05-24T00:38:20.481Z"
   },
   {
    "duration": 166,
    "start_time": "2024-05-24T00:38:33.449Z"
   },
   {
    "duration": 257,
    "start_time": "2024-05-24T00:39:45.077Z"
   },
   {
    "duration": 244,
    "start_time": "2024-05-24T00:40:07.062Z"
   },
   {
    "duration": 11,
    "start_time": "2024-05-24T00:41:47.281Z"
   },
   {
    "duration": 21,
    "start_time": "2024-05-24T01:02:57.690Z"
   },
   {
    "duration": 237,
    "start_time": "2024-05-24T01:03:52.742Z"
   },
   {
    "duration": 11,
    "start_time": "2024-05-24T01:05:26.051Z"
   },
   {
    "duration": 428,
    "start_time": "2024-05-24T01:05:30.084Z"
   },
   {
    "duration": 417,
    "start_time": "2024-05-24T01:05:52.747Z"
   },
   {
    "duration": 24,
    "start_time": "2024-05-24T01:19:59.645Z"
   },
   {
    "duration": 46,
    "start_time": "2024-05-24T01:20:18.711Z"
   },
   {
    "duration": 190,
    "start_time": "2024-05-24T01:22:37.671Z"
   },
   {
    "duration": 212,
    "start_time": "2024-05-24T01:22:56.997Z"
   },
   {
    "duration": 4,
    "start_time": "2024-05-24T01:23:29.803Z"
   },
   {
    "duration": 261,
    "start_time": "2024-05-24T01:23:29.812Z"
   },
   {
    "duration": 14,
    "start_time": "2024-05-24T01:23:30.076Z"
   },
   {
    "duration": 13,
    "start_time": "2024-05-24T01:23:30.093Z"
   },
   {
    "duration": 34,
    "start_time": "2024-05-24T01:23:30.110Z"
   },
   {
    "duration": 15,
    "start_time": "2024-05-24T01:23:30.147Z"
   },
   {
    "duration": 23,
    "start_time": "2024-05-24T01:23:30.165Z"
   },
   {
    "duration": 61,
    "start_time": "2024-05-24T01:23:30.191Z"
   },
   {
    "duration": 11,
    "start_time": "2024-05-24T01:23:30.255Z"
   },
   {
    "duration": 126,
    "start_time": "2024-05-24T01:23:30.269Z"
   },
   {
    "duration": 63,
    "start_time": "2024-05-24T01:23:30.398Z"
   },
   {
    "duration": 20,
    "start_time": "2024-05-24T01:23:30.463Z"
   },
   {
    "duration": 9,
    "start_time": "2024-05-24T01:23:30.486Z"
   },
   {
    "duration": 52,
    "start_time": "2024-05-24T01:23:30.533Z"
   },
   {
    "duration": 48,
    "start_time": "2024-05-24T01:23:30.588Z"
   },
   {
    "duration": 22,
    "start_time": "2024-05-24T01:23:30.639Z"
   },
   {
    "duration": 11,
    "start_time": "2024-05-24T01:23:30.665Z"
   },
   {
    "duration": 132,
    "start_time": "2024-05-24T01:23:30.680Z"
   },
   {
    "duration": 48,
    "start_time": "2024-05-24T01:23:30.814Z"
   },
   {
    "duration": 11,
    "start_time": "2024-05-24T01:23:30.865Z"
   },
   {
    "duration": 54,
    "start_time": "2024-05-24T01:23:30.880Z"
   },
   {
    "duration": 29,
    "start_time": "2024-05-24T01:23:30.937Z"
   },
   {
    "duration": 27,
    "start_time": "2024-05-24T01:23:30.969Z"
   },
   {
    "duration": 58,
    "start_time": "2024-05-24T01:23:30.999Z"
   },
   {
    "duration": 406,
    "start_time": "2024-05-24T01:23:31.061Z"
   },
   {
    "duration": 357248,
    "start_time": "2024-05-24T01:28:09.997Z"
   },
   {
    "duration": 21,
    "start_time": "2024-05-24T01:40:21.406Z"
   },
   {
    "duration": 40,
    "start_time": "2024-05-24T01:47:45.112Z"
   },
   {
    "duration": 306,
    "start_time": "2024-05-24T01:48:06.305Z"
   },
   {
    "duration": 93,
    "start_time": "2024-05-24T01:49:03.015Z"
   },
   {
    "duration": 66,
    "start_time": "2024-05-24T01:49:06.079Z"
   },
   {
    "duration": 28,
    "start_time": "2024-05-24T01:49:14.006Z"
   },
   {
    "duration": 427,
    "start_time": "2024-05-24T02:47:34.221Z"
   },
   {
    "duration": 5278,
    "start_time": "2024-05-24T02:47:50.739Z"
   },
   {
    "duration": 444,
    "start_time": "2024-05-24T02:47:56.026Z"
   },
   {
    "duration": 16,
    "start_time": "2024-05-24T02:47:56.473Z"
   },
   {
    "duration": 36,
    "start_time": "2024-05-24T02:47:56.493Z"
   },
   {
    "duration": 25,
    "start_time": "2024-05-24T02:47:56.536Z"
   },
   {
    "duration": 14,
    "start_time": "2024-05-24T02:47:56.566Z"
   },
   {
    "duration": 57,
    "start_time": "2024-05-24T02:47:56.583Z"
   },
   {
    "duration": 44,
    "start_time": "2024-05-24T02:47:56.644Z"
   },
   {
    "duration": 13,
    "start_time": "2024-05-24T02:47:56.692Z"
   },
   {
    "duration": 150,
    "start_time": "2024-05-24T02:47:56.727Z"
   },
   {
    "duration": 69,
    "start_time": "2024-05-24T02:47:56.880Z"
   },
   {
    "duration": 27,
    "start_time": "2024-05-24T02:47:56.953Z"
   },
   {
    "duration": 11,
    "start_time": "2024-05-24T02:47:56.983Z"
   },
   {
    "duration": 76,
    "start_time": "2024-05-24T02:47:57.031Z"
   },
   {
    "duration": 44,
    "start_time": "2024-05-24T02:47:57.125Z"
   },
   {
    "duration": 24,
    "start_time": "2024-05-24T02:47:57.173Z"
   },
   {
    "duration": 36,
    "start_time": "2024-05-24T02:47:57.200Z"
   },
   {
    "duration": 165,
    "start_time": "2024-05-24T02:47:57.239Z"
   },
   {
    "duration": 67,
    "start_time": "2024-05-24T02:47:57.407Z"
   },
   {
    "duration": 13,
    "start_time": "2024-05-24T02:47:57.478Z"
   },
   {
    "duration": 76,
    "start_time": "2024-05-24T02:47:57.494Z"
   },
   {
    "duration": 49,
    "start_time": "2024-05-24T02:47:57.577Z"
   },
   {
    "duration": 36,
    "start_time": "2024-05-24T02:47:57.629Z"
   },
   {
    "duration": 386,
    "start_time": "2024-05-24T02:47:57.672Z"
   },
   {
    "duration": 9,
    "start_time": "2024-05-24T02:48:31.763Z"
   },
   {
    "duration": 9,
    "start_time": "2024-05-24T02:48:40.603Z"
   },
   {
    "duration": 7,
    "start_time": "2024-05-24T02:48:45.059Z"
   },
   {
    "duration": 72,
    "start_time": "2024-05-24T02:48:53.559Z"
   },
   {
    "duration": 67,
    "start_time": "2024-05-24T02:49:43.402Z"
   },
   {
    "duration": 72,
    "start_time": "2024-05-24T02:51:04.430Z"
   },
   {
    "duration": 43,
    "start_time": "2024-05-24T02:52:07.329Z"
   },
   {
    "duration": 5,
    "start_time": "2024-05-24T02:52:45.355Z"
   },
   {
    "duration": 313,
    "start_time": "2024-05-24T02:52:45.370Z"
   },
   {
    "duration": 14,
    "start_time": "2024-05-24T02:52:45.687Z"
   },
   {
    "duration": 26,
    "start_time": "2024-05-24T02:52:45.704Z"
   },
   {
    "duration": 17,
    "start_time": "2024-05-24T02:52:45.734Z"
   },
   {
    "duration": 17,
    "start_time": "2024-05-24T02:52:45.759Z"
   },
   {
    "duration": 67,
    "start_time": "2024-05-24T02:52:45.780Z"
   },
   {
    "duration": 33,
    "start_time": "2024-05-24T02:52:45.850Z"
   },
   {
    "duration": 40,
    "start_time": "2024-05-24T02:52:45.886Z"
   },
   {
    "duration": 130,
    "start_time": "2024-05-24T02:52:45.929Z"
   },
   {
    "duration": 66,
    "start_time": "2024-05-24T02:52:46.062Z"
   },
   {
    "duration": 21,
    "start_time": "2024-05-24T02:52:46.132Z"
   },
   {
    "duration": 12,
    "start_time": "2024-05-24T02:52:46.157Z"
   },
   {
    "duration": 94,
    "start_time": "2024-05-24T02:52:46.173Z"
   },
   {
    "duration": 53,
    "start_time": "2024-05-24T02:52:46.274Z"
   },
   {
    "duration": 30,
    "start_time": "2024-05-24T02:52:46.331Z"
   },
   {
    "duration": 14,
    "start_time": "2024-05-24T02:52:46.365Z"
   },
   {
    "duration": 141,
    "start_time": "2024-05-24T02:52:46.383Z"
   },
   {
    "duration": 49,
    "start_time": "2024-05-24T02:52:46.527Z"
   },
   {
    "duration": 12,
    "start_time": "2024-05-24T02:52:46.581Z"
   },
   {
    "duration": 56,
    "start_time": "2024-05-24T02:52:46.597Z"
   },
   {
    "duration": 38,
    "start_time": "2024-05-24T02:52:46.656Z"
   },
   {
    "duration": 53,
    "start_time": "2024-05-24T02:52:46.697Z"
   },
   {
    "duration": 41,
    "start_time": "2024-05-24T02:52:46.754Z"
   },
   {
    "duration": 434,
    "start_time": "2024-05-24T02:52:46.799Z"
   },
   {
    "duration": 21,
    "start_time": "2024-05-24T02:52:47.235Z"
   },
   {
    "duration": 14,
    "start_time": "2024-05-24T02:52:47.260Z"
   },
   {
    "duration": 0,
    "start_time": "2024-05-24T02:52:47.278Z"
   },
   {
    "duration": 0,
    "start_time": "2024-05-24T02:52:47.281Z"
   },
   {
    "duration": 0,
    "start_time": "2024-05-24T02:52:47.284Z"
   },
   {
    "duration": 0,
    "start_time": "2024-05-24T02:52:47.325Z"
   },
   {
    "duration": 0,
    "start_time": "2024-05-24T02:52:47.328Z"
   },
   {
    "duration": 1,
    "start_time": "2024-05-24T02:52:47.330Z"
   },
   {
    "duration": 0,
    "start_time": "2024-05-24T02:52:47.333Z"
   },
   {
    "duration": 0,
    "start_time": "2024-05-24T02:52:47.335Z"
   },
   {
    "duration": 396,
    "start_time": "2024-05-24T02:53:17.054Z"
   },
   {
    "duration": 44,
    "start_time": "2024-05-24T02:55:23.103Z"
   },
   {
    "duration": 152,
    "start_time": "2024-05-24T02:56:31.878Z"
   },
   {
    "duration": 5,
    "start_time": "2024-05-24T02:56:50.048Z"
   },
   {
    "duration": 311,
    "start_time": "2024-05-24T02:56:50.058Z"
   },
   {
    "duration": 18,
    "start_time": "2024-05-24T02:56:50.372Z"
   },
   {
    "duration": 34,
    "start_time": "2024-05-24T02:56:50.394Z"
   },
   {
    "duration": 18,
    "start_time": "2024-05-24T02:56:50.434Z"
   },
   {
    "duration": 16,
    "start_time": "2024-05-24T02:56:50.457Z"
   },
   {
    "duration": 67,
    "start_time": "2024-05-24T02:56:50.477Z"
   },
   {
    "duration": 37,
    "start_time": "2024-05-24T02:56:50.550Z"
   },
   {
    "duration": 35,
    "start_time": "2024-05-24T02:56:50.591Z"
   },
   {
    "duration": 155,
    "start_time": "2024-05-24T02:56:50.629Z"
   },
   {
    "duration": 76,
    "start_time": "2024-05-24T02:56:50.788Z"
   },
   {
    "duration": 26,
    "start_time": "2024-05-24T02:56:50.867Z"
   },
   {
    "duration": 32,
    "start_time": "2024-05-24T02:56:50.897Z"
   },
   {
    "duration": 100,
    "start_time": "2024-05-24T02:56:50.937Z"
   },
   {
    "duration": 44,
    "start_time": "2024-05-24T02:56:51.042Z"
   },
   {
    "duration": 40,
    "start_time": "2024-05-24T02:56:51.090Z"
   },
   {
    "duration": 14,
    "start_time": "2024-05-24T02:56:51.135Z"
   },
   {
    "duration": 147,
    "start_time": "2024-05-24T02:56:51.153Z"
   },
   {
    "duration": 51,
    "start_time": "2024-05-24T02:56:51.303Z"
   },
   {
    "duration": 13,
    "start_time": "2024-05-24T02:56:51.358Z"
   },
   {
    "duration": 63,
    "start_time": "2024-05-24T02:56:51.375Z"
   },
   {
    "duration": 114,
    "start_time": "2024-05-24T02:56:51.441Z"
   },
   {
    "duration": 23,
    "start_time": "2024-05-24T02:56:51.558Z"
   },
   {
    "duration": 70,
    "start_time": "2024-05-24T02:56:51.584Z"
   },
   {
    "duration": 379,
    "start_time": "2024-05-24T02:56:51.657Z"
   },
   {
    "duration": 925,
    "start_time": "2024-05-24T02:56:52.039Z"
   },
   {
    "duration": 0,
    "start_time": "2024-05-24T02:56:52.967Z"
   },
   {
    "duration": 0,
    "start_time": "2024-05-24T02:56:52.969Z"
   },
   {
    "duration": 0,
    "start_time": "2024-05-24T02:56:52.972Z"
   },
   {
    "duration": 0,
    "start_time": "2024-05-24T02:56:52.974Z"
   },
   {
    "duration": 0,
    "start_time": "2024-05-24T02:56:52.977Z"
   },
   {
    "duration": 0,
    "start_time": "2024-05-24T02:56:52.979Z"
   },
   {
    "duration": 0,
    "start_time": "2024-05-24T02:56:52.981Z"
   },
   {
    "duration": 0,
    "start_time": "2024-05-24T02:56:52.983Z"
   },
   {
    "duration": 0,
    "start_time": "2024-05-24T02:56:52.985Z"
   },
   {
    "duration": 15,
    "start_time": "2024-05-24T02:57:35.129Z"
   },
   {
    "duration": 170,
    "start_time": "2024-05-24T03:08:52.516Z"
   },
   {
    "duration": 196,
    "start_time": "2024-05-24T03:09:14.097Z"
   },
   {
    "duration": 216,
    "start_time": "2024-05-24T03:09:22.546Z"
   },
   {
    "duration": 104596,
    "start_time": "2024-05-24T03:09:43.909Z"
   },
   {
    "duration": 11,
    "start_time": "2024-05-24T03:12:32.471Z"
   },
   {
    "duration": 133,
    "start_time": "2024-05-24T03:12:44.255Z"
   },
   {
    "duration": 89,
    "start_time": "2024-05-24T03:12:50.485Z"
   },
   {
    "duration": 156,
    "start_time": "2024-05-24T03:17:53.077Z"
   },
   {
    "duration": 18,
    "start_time": "2024-05-24T03:17:59.922Z"
   },
   {
    "duration": 20,
    "start_time": "2024-05-24T03:22:12.952Z"
   },
   {
    "duration": 15,
    "start_time": "2024-05-24T03:25:51.724Z"
   },
   {
    "duration": 45,
    "start_time": "2024-05-24T03:25:58.732Z"
   },
   {
    "duration": 38,
    "start_time": "2024-05-24T03:26:46.322Z"
   },
   {
    "duration": 248,
    "start_time": "2024-05-24T03:27:07.037Z"
   },
   {
    "duration": 22,
    "start_time": "2024-05-24T03:27:16.724Z"
   },
   {
    "duration": 199,
    "start_time": "2024-05-24T03:27:32.546Z"
   },
   {
    "duration": 175,
    "start_time": "2024-05-24T03:29:02.368Z"
   },
   {
    "duration": 191,
    "start_time": "2024-05-24T03:30:07.379Z"
   },
   {
    "duration": 271,
    "start_time": "2024-05-24T03:32:56.773Z"
   },
   {
    "duration": 652,
    "start_time": "2024-05-24T03:35:08.854Z"
   },
   {
    "duration": 18,
    "start_time": "2024-05-24T03:37:10.550Z"
   },
   {
    "duration": 792,
    "start_time": "2024-05-24T03:38:16.697Z"
   },
   {
    "duration": 3,
    "start_time": "2024-05-24T03:38:40.723Z"
   },
   {
    "duration": 632,
    "start_time": "2024-05-24T03:38:44.811Z"
   },
   {
    "duration": 96,
    "start_time": "2024-05-24T05:12:38.441Z"
   },
   {
    "duration": 4,
    "start_time": "2024-05-24T05:12:48.999Z"
   },
   {
    "duration": 291,
    "start_time": "2024-05-24T05:12:49.007Z"
   },
   {
    "duration": 27,
    "start_time": "2024-05-24T05:12:49.301Z"
   },
   {
    "duration": 11,
    "start_time": "2024-05-24T05:12:49.331Z"
   },
   {
    "duration": 17,
    "start_time": "2024-05-24T05:12:49.347Z"
   },
   {
    "duration": 14,
    "start_time": "2024-05-24T05:12:49.367Z"
   },
   {
    "duration": 54,
    "start_time": "2024-05-24T05:12:49.385Z"
   },
   {
    "duration": 26,
    "start_time": "2024-05-24T05:12:49.442Z"
   },
   {
    "duration": 12,
    "start_time": "2024-05-24T05:12:49.472Z"
   },
   {
    "duration": 147,
    "start_time": "2024-05-24T05:12:49.489Z"
   },
   {
    "duration": 57,
    "start_time": "2024-05-24T05:12:49.643Z"
   },
   {
    "duration": 36,
    "start_time": "2024-05-24T05:12:49.702Z"
   },
   {
    "duration": 15,
    "start_time": "2024-05-24T05:12:49.741Z"
   },
   {
    "duration": 103,
    "start_time": "2024-05-24T05:12:49.759Z"
   },
   {
    "duration": 45,
    "start_time": "2024-05-24T05:12:49.879Z"
   },
   {
    "duration": 39,
    "start_time": "2024-05-24T05:12:49.932Z"
   },
   {
    "duration": 18,
    "start_time": "2024-05-24T05:12:49.974Z"
   },
   {
    "duration": 145,
    "start_time": "2024-05-24T05:12:49.995Z"
   },
   {
    "duration": 45,
    "start_time": "2024-05-24T05:12:50.144Z"
   },
   {
    "duration": 12,
    "start_time": "2024-05-24T05:12:50.191Z"
   },
   {
    "duration": 36,
    "start_time": "2024-05-24T05:12:50.226Z"
   },
   {
    "duration": 94,
    "start_time": "2024-05-24T05:12:50.265Z"
   },
   {
    "duration": 23,
    "start_time": "2024-05-24T05:12:50.361Z"
   },
   {
    "duration": 64,
    "start_time": "2024-05-24T05:12:50.387Z"
   },
   {
    "duration": 378,
    "start_time": "2024-05-24T05:12:50.454Z"
   },
   {
    "duration": 15,
    "start_time": "2024-05-24T05:12:50.835Z"
   },
   {
    "duration": 94633,
    "start_time": "2024-05-24T05:12:50.852Z"
   },
   {
    "duration": 2958,
    "start_time": "2024-05-24T05:14:25.492Z"
   },
   {
    "duration": 0,
    "start_time": "2024-05-24T05:14:28.461Z"
   },
   {
    "duration": 0,
    "start_time": "2024-05-24T05:14:28.463Z"
   },
   {
    "duration": 0,
    "start_time": "2024-05-24T05:14:28.466Z"
   },
   {
    "duration": 0,
    "start_time": "2024-05-24T05:14:28.470Z"
   },
   {
    "duration": 0,
    "start_time": "2024-05-24T05:14:28.473Z"
   },
   {
    "duration": 0,
    "start_time": "2024-05-24T05:14:28.476Z"
   },
   {
    "duration": 0,
    "start_time": "2024-05-24T05:14:28.479Z"
   },
   {
    "duration": 0,
    "start_time": "2024-05-24T05:14:28.482Z"
   },
   {
    "duration": 159,
    "start_time": "2024-05-24T05:14:57.550Z"
   },
   {
    "duration": 165,
    "start_time": "2024-05-24T05:15:41.609Z"
   },
   {
    "duration": 120,
    "start_time": "2024-05-24T05:20:40.694Z"
   },
   {
    "duration": 179,
    "start_time": "2024-05-24T05:43:30.935Z"
   },
   {
    "duration": 176,
    "start_time": "2024-05-24T05:47:22.151Z"
   },
   {
    "duration": 270,
    "start_time": "2024-05-24T05:47:49.217Z"
   },
   {
    "duration": 5,
    "start_time": "2024-05-24T05:50:32.345Z"
   },
   {
    "duration": 20,
    "start_time": "2024-05-24T05:51:41.043Z"
   },
   {
    "duration": 15,
    "start_time": "2024-05-24T05:51:43.159Z"
   },
   {
    "duration": 56,
    "start_time": "2024-05-24T05:54:42.666Z"
   },
   {
    "duration": 75,
    "start_time": "2024-05-24T05:55:08.379Z"
   },
   {
    "duration": 63,
    "start_time": "2024-05-24T05:55:20.237Z"
   },
   {
    "duration": 71,
    "start_time": "2024-05-24T05:56:41.684Z"
   },
   {
    "duration": 75,
    "start_time": "2024-05-24T05:57:50.538Z"
   },
   {
    "duration": 39,
    "start_time": "2024-05-24T05:58:31.144Z"
   },
   {
    "duration": 49,
    "start_time": "2024-05-24T05:58:46.906Z"
   },
   {
    "duration": 43,
    "start_time": "2024-05-24T05:59:00.847Z"
   },
   {
    "duration": 40,
    "start_time": "2024-05-24T05:59:07.662Z"
   },
   {
    "duration": 63,
    "start_time": "2024-05-24T05:59:42.050Z"
   },
   {
    "duration": 8,
    "start_time": "2024-05-24T05:59:51.525Z"
   },
   {
    "duration": 326,
    "start_time": "2024-05-24T05:59:51.537Z"
   },
   {
    "duration": 15,
    "start_time": "2024-05-24T05:59:51.865Z"
   },
   {
    "duration": 12,
    "start_time": "2024-05-24T05:59:51.883Z"
   },
   {
    "duration": 35,
    "start_time": "2024-05-24T05:59:51.901Z"
   },
   {
    "duration": 18,
    "start_time": "2024-05-24T05:59:51.942Z"
   },
   {
    "duration": 23,
    "start_time": "2024-05-24T05:59:51.963Z"
   },
   {
    "duration": 54,
    "start_time": "2024-05-24T05:59:51.989Z"
   },
   {
    "duration": 21,
    "start_time": "2024-05-24T05:59:52.045Z"
   },
   {
    "duration": 126,
    "start_time": "2024-05-24T05:59:52.070Z"
   },
   {
    "duration": 63,
    "start_time": "2024-05-24T05:59:52.199Z"
   },
   {
    "duration": 21,
    "start_time": "2024-05-24T05:59:52.265Z"
   },
   {
    "duration": 36,
    "start_time": "2024-05-24T05:59:52.293Z"
   },
   {
    "duration": 57,
    "start_time": "2024-05-24T05:59:52.333Z"
   },
   {
    "duration": 51,
    "start_time": "2024-05-24T05:59:52.392Z"
   },
   {
    "duration": 24,
    "start_time": "2024-05-24T05:59:52.447Z"
   },
   {
    "duration": 12,
    "start_time": "2024-05-24T05:59:52.475Z"
   },
   {
    "duration": 145,
    "start_time": "2024-05-24T05:59:52.490Z"
   },
   {
    "duration": 45,
    "start_time": "2024-05-24T05:59:52.638Z"
   },
   {
    "duration": 14,
    "start_time": "2024-05-24T05:59:52.686Z"
   },
   {
    "duration": 58,
    "start_time": "2024-05-24T05:59:52.704Z"
   },
   {
    "duration": 147,
    "start_time": "2024-05-24T05:59:52.765Z"
   },
   {
    "duration": 36,
    "start_time": "2024-05-24T05:59:52.915Z"
   },
   {
    "duration": 38,
    "start_time": "2024-05-24T05:59:52.954Z"
   },
   {
    "duration": 524,
    "start_time": "2024-05-24T05:59:52.995Z"
   },
   {
    "duration": 0,
    "start_time": "2024-05-24T05:59:53.526Z"
   },
   {
    "duration": 0,
    "start_time": "2024-05-24T05:59:53.527Z"
   },
   {
    "duration": 0,
    "start_time": "2024-05-24T05:59:53.529Z"
   },
   {
    "duration": 0,
    "start_time": "2024-05-24T05:59:53.531Z"
   },
   {
    "duration": 1,
    "start_time": "2024-05-24T05:59:53.532Z"
   },
   {
    "duration": 0,
    "start_time": "2024-05-24T05:59:53.535Z"
   },
   {
    "duration": 0,
    "start_time": "2024-05-24T05:59:53.537Z"
   },
   {
    "duration": 0,
    "start_time": "2024-05-24T05:59:53.540Z"
   },
   {
    "duration": 0,
    "start_time": "2024-05-24T05:59:53.542Z"
   },
   {
    "duration": 0,
    "start_time": "2024-05-24T05:59:53.544Z"
   },
   {
    "duration": 0,
    "start_time": "2024-05-24T05:59:53.547Z"
   },
   {
    "duration": 0,
    "start_time": "2024-05-24T05:59:53.549Z"
   },
   {
    "duration": 0,
    "start_time": "2024-05-24T05:59:53.552Z"
   },
   {
    "duration": 5,
    "start_time": "2024-05-24T06:00:35.857Z"
   },
   {
    "duration": 289,
    "start_time": "2024-05-24T06:00:35.867Z"
   },
   {
    "duration": 17,
    "start_time": "2024-05-24T06:00:36.159Z"
   },
   {
    "duration": 14,
    "start_time": "2024-05-24T06:00:36.179Z"
   },
   {
    "duration": 46,
    "start_time": "2024-05-24T06:00:36.199Z"
   },
   {
    "duration": 15,
    "start_time": "2024-05-24T06:00:36.247Z"
   },
   {
    "duration": 27,
    "start_time": "2024-05-24T06:00:36.265Z"
   },
   {
    "duration": 64,
    "start_time": "2024-05-24T06:00:36.296Z"
   },
   {
    "duration": 14,
    "start_time": "2024-05-24T06:00:36.365Z"
   },
   {
    "duration": 151,
    "start_time": "2024-05-24T06:00:36.382Z"
   },
   {
    "duration": 56,
    "start_time": "2024-05-24T06:00:36.543Z"
   },
   {
    "duration": 35,
    "start_time": "2024-05-24T06:00:36.602Z"
   },
   {
    "duration": 12,
    "start_time": "2024-05-24T06:00:36.639Z"
   },
   {
    "duration": 70,
    "start_time": "2024-05-24T06:00:36.658Z"
   },
   {
    "duration": 36,
    "start_time": "2024-05-24T06:00:36.731Z"
   },
   {
    "duration": 26,
    "start_time": "2024-05-24T06:00:36.770Z"
   },
   {
    "duration": 39,
    "start_time": "2024-05-24T06:00:36.799Z"
   },
   {
    "duration": 128,
    "start_time": "2024-05-24T06:00:36.840Z"
   },
   {
    "duration": 60,
    "start_time": "2024-05-24T06:00:36.971Z"
   },
   {
    "duration": 21,
    "start_time": "2024-05-24T06:00:37.034Z"
   },
   {
    "duration": 32,
    "start_time": "2024-05-24T06:00:37.058Z"
   },
   {
    "duration": 147,
    "start_time": "2024-05-24T06:00:37.093Z"
   },
   {
    "duration": 25,
    "start_time": "2024-05-24T06:00:37.246Z"
   },
   {
    "duration": 39,
    "start_time": "2024-05-24T06:00:37.274Z"
   },
   {
    "duration": 359,
    "start_time": "2024-05-24T06:00:37.329Z"
   },
   {
    "duration": 0,
    "start_time": "2024-05-24T06:00:37.692Z"
   },
   {
    "duration": 0,
    "start_time": "2024-05-24T06:00:37.694Z"
   },
   {
    "duration": 0,
    "start_time": "2024-05-24T06:00:37.697Z"
   },
   {
    "duration": 0,
    "start_time": "2024-05-24T06:00:37.699Z"
   },
   {
    "duration": 0,
    "start_time": "2024-05-24T06:00:37.701Z"
   },
   {
    "duration": 0,
    "start_time": "2024-05-24T06:00:37.704Z"
   },
   {
    "duration": 0,
    "start_time": "2024-05-24T06:00:37.728Z"
   },
   {
    "duration": 0,
    "start_time": "2024-05-24T06:00:37.729Z"
   },
   {
    "duration": 0,
    "start_time": "2024-05-24T06:00:37.730Z"
   },
   {
    "duration": 0,
    "start_time": "2024-05-24T06:00:37.731Z"
   },
   {
    "duration": 0,
    "start_time": "2024-05-24T06:00:37.732Z"
   },
   {
    "duration": 0,
    "start_time": "2024-05-24T06:00:37.737Z"
   },
   {
    "duration": 0,
    "start_time": "2024-05-24T06:00:37.738Z"
   },
   {
    "duration": 316,
    "start_time": "2024-05-24T06:10:18.993Z"
   },
   {
    "duration": 326,
    "start_time": "2024-05-24T06:10:36.448Z"
   },
   {
    "duration": 428,
    "start_time": "2024-05-24T06:10:52.455Z"
   },
   {
    "duration": 359,
    "start_time": "2024-05-24T06:11:22.436Z"
   },
   {
    "duration": 5,
    "start_time": "2024-05-24T06:11:54.975Z"
   },
   {
    "duration": 318,
    "start_time": "2024-05-24T06:11:54.984Z"
   },
   {
    "duration": 18,
    "start_time": "2024-05-24T06:11:55.309Z"
   },
   {
    "duration": 14,
    "start_time": "2024-05-24T06:11:55.332Z"
   },
   {
    "duration": 16,
    "start_time": "2024-05-24T06:11:55.351Z"
   },
   {
    "duration": 15,
    "start_time": "2024-05-24T06:11:55.370Z"
   },
   {
    "duration": 29,
    "start_time": "2024-05-24T06:11:55.426Z"
   },
   {
    "duration": 31,
    "start_time": "2024-05-24T06:11:55.461Z"
   },
   {
    "duration": 12,
    "start_time": "2024-05-24T06:11:55.525Z"
   },
   {
    "duration": 141,
    "start_time": "2024-05-24T06:11:55.541Z"
   },
   {
    "duration": 69,
    "start_time": "2024-05-24T06:11:55.689Z"
   },
   {
    "duration": 24,
    "start_time": "2024-05-24T06:11:55.760Z"
   },
   {
    "duration": 39,
    "start_time": "2024-05-24T06:11:55.788Z"
   },
   {
    "duration": 101,
    "start_time": "2024-05-24T06:11:55.831Z"
   },
   {
    "duration": 37,
    "start_time": "2024-05-24T06:11:55.936Z"
   },
   {
    "duration": 52,
    "start_time": "2024-05-24T06:11:55.976Z"
   },
   {
    "duration": 14,
    "start_time": "2024-05-24T06:11:56.031Z"
   },
   {
    "duration": 152,
    "start_time": "2024-05-24T06:11:56.050Z"
   },
   {
    "duration": 60,
    "start_time": "2024-05-24T06:11:56.206Z"
   },
   {
    "duration": 13,
    "start_time": "2024-05-24T06:11:56.270Z"
   },
   {
    "duration": 63,
    "start_time": "2024-05-24T06:11:56.286Z"
   },
   {
    "duration": 150,
    "start_time": "2024-05-24T06:11:56.352Z"
   },
   {
    "duration": 38,
    "start_time": "2024-05-24T06:11:56.506Z"
   },
   {
    "duration": 50,
    "start_time": "2024-05-24T06:11:56.547Z"
   },
   {
    "duration": 432,
    "start_time": "2024-05-24T06:11:56.627Z"
   },
   {
    "duration": 18,
    "start_time": "2024-05-24T06:11:57.063Z"
   },
   {
    "duration": 319,
    "start_time": "2024-05-24T06:11:57.084Z"
   },
   {
    "duration": 0,
    "start_time": "2024-05-24T06:11:57.409Z"
   },
   {
    "duration": 0,
    "start_time": "2024-05-24T06:11:57.411Z"
   },
   {
    "duration": 0,
    "start_time": "2024-05-24T06:11:57.413Z"
   },
   {
    "duration": 0,
    "start_time": "2024-05-24T06:11:57.414Z"
   },
   {
    "duration": 0,
    "start_time": "2024-05-24T06:11:57.426Z"
   },
   {
    "duration": 0,
    "start_time": "2024-05-24T06:11:57.428Z"
   },
   {
    "duration": 0,
    "start_time": "2024-05-24T06:11:57.430Z"
   },
   {
    "duration": 0,
    "start_time": "2024-05-24T06:11:57.433Z"
   },
   {
    "duration": 0,
    "start_time": "2024-05-24T06:11:57.434Z"
   },
   {
    "duration": 0,
    "start_time": "2024-05-24T06:11:57.437Z"
   },
   {
    "duration": 0,
    "start_time": "2024-05-24T06:11:57.438Z"
   },
   {
    "duration": 0,
    "start_time": "2024-05-24T06:14:23.713Z"
   },
   {
    "duration": 0,
    "start_time": "2024-05-24T06:14:23.716Z"
   },
   {
    "duration": 0,
    "start_time": "2024-05-24T06:14:23.728Z"
   },
   {
    "duration": 0,
    "start_time": "2024-05-24T06:14:23.730Z"
   },
   {
    "duration": 0,
    "start_time": "2024-05-24T06:14:23.732Z"
   },
   {
    "duration": 0,
    "start_time": "2024-05-24T06:14:23.735Z"
   },
   {
    "duration": 0,
    "start_time": "2024-05-24T06:14:23.738Z"
   },
   {
    "duration": 0,
    "start_time": "2024-05-24T06:14:23.741Z"
   },
   {
    "duration": 0,
    "start_time": "2024-05-24T06:14:23.744Z"
   },
   {
    "duration": 0,
    "start_time": "2024-05-24T06:14:23.747Z"
   },
   {
    "duration": 0,
    "start_time": "2024-05-24T06:14:23.750Z"
   },
   {
    "duration": 1,
    "start_time": "2024-05-24T06:14:23.752Z"
   },
   {
    "duration": 0,
    "start_time": "2024-05-24T06:14:23.755Z"
   },
   {
    "duration": 0,
    "start_time": "2024-05-24T06:14:23.758Z"
   },
   {
    "duration": 0,
    "start_time": "2024-05-24T06:14:23.761Z"
   },
   {
    "duration": 0,
    "start_time": "2024-05-24T06:14:23.763Z"
   },
   {
    "duration": 0,
    "start_time": "2024-05-24T06:14:23.765Z"
   },
   {
    "duration": 0,
    "start_time": "2024-05-24T06:14:23.768Z"
   },
   {
    "duration": 0,
    "start_time": "2024-05-24T06:14:23.826Z"
   },
   {
    "duration": 0,
    "start_time": "2024-05-24T06:14:23.829Z"
   },
   {
    "duration": 0,
    "start_time": "2024-05-24T06:14:23.832Z"
   },
   {
    "duration": 0,
    "start_time": "2024-05-24T06:14:23.835Z"
   },
   {
    "duration": 0,
    "start_time": "2024-05-24T06:14:23.837Z"
   },
   {
    "duration": 0,
    "start_time": "2024-05-24T06:14:23.840Z"
   },
   {
    "duration": 0,
    "start_time": "2024-05-24T06:14:23.842Z"
   },
   {
    "duration": 0,
    "start_time": "2024-05-24T06:14:23.844Z"
   },
   {
    "duration": 0,
    "start_time": "2024-05-24T06:14:23.847Z"
   },
   {
    "duration": 0,
    "start_time": "2024-05-24T06:14:23.849Z"
   },
   {
    "duration": 0,
    "start_time": "2024-05-24T06:14:23.851Z"
   },
   {
    "duration": 0,
    "start_time": "2024-05-24T06:14:23.853Z"
   },
   {
    "duration": 0,
    "start_time": "2024-05-24T06:14:23.855Z"
   },
   {
    "duration": 0,
    "start_time": "2024-05-24T06:14:23.857Z"
   },
   {
    "duration": 0,
    "start_time": "2024-05-24T06:14:23.860Z"
   },
   {
    "duration": 0,
    "start_time": "2024-05-24T06:14:23.974Z"
   },
   {
    "duration": 0,
    "start_time": "2024-05-24T06:14:23.976Z"
   },
   {
    "duration": 0,
    "start_time": "2024-05-24T06:14:24.027Z"
   },
   {
    "duration": 0,
    "start_time": "2024-05-24T06:14:24.029Z"
   },
   {
    "duration": 0,
    "start_time": "2024-05-24T06:14:24.032Z"
   },
   {
    "duration": 9,
    "start_time": "2024-05-24T06:14:28.651Z"
   },
   {
    "duration": 390,
    "start_time": "2024-05-24T06:14:28.665Z"
   },
   {
    "duration": 19,
    "start_time": "2024-05-24T06:14:29.063Z"
   },
   {
    "duration": 17,
    "start_time": "2024-05-24T06:14:29.087Z"
   },
   {
    "duration": 18,
    "start_time": "2024-05-24T06:14:29.125Z"
   },
   {
    "duration": 17,
    "start_time": "2024-05-24T06:14:29.147Z"
   },
   {
    "duration": 61,
    "start_time": "2024-05-24T06:14:29.168Z"
   },
   {
    "duration": 29,
    "start_time": "2024-05-24T06:14:29.232Z"
   },
   {
    "duration": 15,
    "start_time": "2024-05-24T06:14:29.265Z"
   },
   {
    "duration": 164,
    "start_time": "2024-05-24T06:14:29.284Z"
   },
   {
    "duration": 77,
    "start_time": "2024-05-24T06:14:29.452Z"
   },
   {
    "duration": 31,
    "start_time": "2024-05-24T06:14:29.532Z"
   },
   {
    "duration": 12,
    "start_time": "2024-05-24T06:14:29.568Z"
   },
   {
    "duration": 109,
    "start_time": "2024-05-24T06:14:29.588Z"
   },
   {
    "duration": 57,
    "start_time": "2024-05-24T06:14:29.700Z"
   },
   {
    "duration": 24,
    "start_time": "2024-05-24T06:14:29.763Z"
   },
   {
    "duration": 39,
    "start_time": "2024-05-24T06:14:29.791Z"
   },
   {
    "duration": 148,
    "start_time": "2024-05-24T06:14:29.833Z"
   },
   {
    "duration": 51,
    "start_time": "2024-05-24T06:14:29.985Z"
   },
   {
    "duration": 17,
    "start_time": "2024-05-24T06:14:30.040Z"
   },
   {
    "duration": 35,
    "start_time": "2024-05-24T06:14:30.060Z"
   },
   {
    "duration": 137,
    "start_time": "2024-05-24T06:14:30.127Z"
   },
   {
    "duration": 27,
    "start_time": "2024-05-24T06:14:30.267Z"
   },
   {
    "duration": 74,
    "start_time": "2024-05-24T06:14:30.297Z"
   },
   {
    "duration": 414,
    "start_time": "2024-05-24T06:14:30.375Z"
   },
   {
    "duration": 17,
    "start_time": "2024-05-24T06:14:30.794Z"
   },
   {
    "duration": 102279,
    "start_time": "2024-05-24T06:14:30.814Z"
   },
   {
    "duration": 288,
    "start_time": "2024-05-24T06:16:13.097Z"
   },
   {
    "duration": 84,
    "start_time": "2024-05-24T06:16:13.388Z"
   },
   {
    "duration": 75,
    "start_time": "2024-05-24T06:16:13.475Z"
   },
   {
    "duration": 126,
    "start_time": "2024-05-24T06:16:13.553Z"
   },
   {
    "duration": 0,
    "start_time": "2024-05-24T06:16:13.683Z"
   },
   {
    "duration": 0,
    "start_time": "2024-05-24T06:16:13.685Z"
   },
   {
    "duration": 0,
    "start_time": "2024-05-24T06:16:13.687Z"
   },
   {
    "duration": 0,
    "start_time": "2024-05-24T06:16:13.689Z"
   },
   {
    "duration": 0,
    "start_time": "2024-05-24T06:16:13.690Z"
   },
   {
    "duration": 0,
    "start_time": "2024-05-24T06:16:13.692Z"
   },
   {
    "duration": 0,
    "start_time": "2024-05-24T06:16:13.694Z"
   },
   {
    "duration": 107,
    "start_time": "2024-05-24T06:19:42.338Z"
   },
   {
    "duration": 471,
    "start_time": "2024-05-24T06:19:58.270Z"
   },
   {
    "duration": 67,
    "start_time": "2024-05-24T06:20:17.629Z"
   },
   {
    "duration": 112,
    "start_time": "2024-05-24T06:21:48.248Z"
   },
   {
    "duration": 73,
    "start_time": "2024-05-24T06:26:38.014Z"
   },
   {
    "duration": 521,
    "start_time": "2024-05-24T06:26:48.717Z"
   },
   {
    "duration": 101,
    "start_time": "2024-05-24T06:27:15.742Z"
   },
   {
    "duration": 47,
    "start_time": "2024-05-24T06:28:48.659Z"
   },
   {
    "duration": 67,
    "start_time": "2024-05-24T06:28:59.093Z"
   },
   {
    "duration": 477,
    "start_time": "2024-05-24T06:29:46.453Z"
   },
   {
    "duration": 471,
    "start_time": "2024-05-24T06:30:21.995Z"
   },
   {
    "duration": 486,
    "start_time": "2024-05-24T06:30:33.940Z"
   },
   {
    "duration": 473,
    "start_time": "2024-05-24T06:32:06.802Z"
   },
   {
    "duration": 351,
    "start_time": "2024-05-24T06:33:36.585Z"
   },
   {
    "duration": 554,
    "start_time": "2024-05-24T06:33:47.507Z"
   },
   {
    "duration": 8,
    "start_time": "2024-05-24T06:52:13.071Z"
   },
   {
    "duration": 284,
    "start_time": "2024-05-24T06:52:13.085Z"
   },
   {
    "duration": 15,
    "start_time": "2024-05-24T06:52:13.373Z"
   },
   {
    "duration": 16,
    "start_time": "2024-05-24T06:52:13.392Z"
   },
   {
    "duration": 19,
    "start_time": "2024-05-24T06:52:13.428Z"
   },
   {
    "duration": 21,
    "start_time": "2024-05-24T06:52:13.452Z"
   },
   {
    "duration": 62,
    "start_time": "2024-05-24T06:52:13.477Z"
   },
   {
    "duration": 44,
    "start_time": "2024-05-24T06:52:13.549Z"
   },
   {
    "duration": 36,
    "start_time": "2024-05-24T06:52:13.597Z"
   },
   {
    "duration": 137,
    "start_time": "2024-05-24T06:52:13.636Z"
   },
   {
    "duration": 65,
    "start_time": "2024-05-24T06:52:13.776Z"
   },
   {
    "duration": 24,
    "start_time": "2024-05-24T06:52:13.844Z"
   },
   {
    "duration": 13,
    "start_time": "2024-05-24T06:52:13.872Z"
   },
   {
    "duration": 99,
    "start_time": "2024-05-24T06:52:13.888Z"
   },
   {
    "duration": 55,
    "start_time": "2024-05-24T06:52:13.990Z"
   },
   {
    "duration": 28,
    "start_time": "2024-05-24T06:52:14.049Z"
   },
   {
    "duration": 46,
    "start_time": "2024-05-24T06:52:14.080Z"
   },
   {
    "duration": 149,
    "start_time": "2024-05-24T06:52:14.129Z"
   },
   {
    "duration": 49,
    "start_time": "2024-05-24T06:52:14.282Z"
   },
   {
    "duration": 13,
    "start_time": "2024-05-24T06:52:14.334Z"
   },
   {
    "duration": 33,
    "start_time": "2024-05-24T06:52:14.351Z"
   },
   {
    "duration": 177,
    "start_time": "2024-05-24T06:52:14.388Z"
   },
   {
    "duration": 25,
    "start_time": "2024-05-24T06:52:14.568Z"
   },
   {
    "duration": 65,
    "start_time": "2024-05-24T06:52:14.597Z"
   },
   {
    "duration": 381,
    "start_time": "2024-05-24T06:52:14.665Z"
   },
   {
    "duration": 19,
    "start_time": "2024-05-24T06:52:15.057Z"
   },
   {
    "duration": 99256,
    "start_time": "2024-05-24T06:52:15.079Z"
   },
   {
    "duration": 89,
    "start_time": "2024-05-24T06:53:54.342Z"
   },
   {
    "duration": 300,
    "start_time": "2024-05-24T06:53:54.435Z"
   },
   {
    "duration": 89,
    "start_time": "2024-05-24T06:53:54.739Z"
   },
   {
    "duration": 68,
    "start_time": "2024-05-24T06:53:54.832Z"
   },
   {
    "duration": 601,
    "start_time": "2024-05-24T06:53:54.926Z"
   },
   {
    "duration": 532,
    "start_time": "2024-05-24T06:53:55.533Z"
   },
   {
    "duration": 6,
    "start_time": "2024-05-24T06:53:56.068Z"
   },
   {
    "duration": 4,
    "start_time": "2024-05-24T06:53:56.079Z"
   },
   {
    "duration": 4,
    "start_time": "2024-05-24T06:53:56.088Z"
   },
   {
    "duration": 5,
    "start_time": "2024-05-24T06:53:56.127Z"
   },
   {
    "duration": 5,
    "start_time": "2024-05-24T06:53:56.136Z"
   },
   {
    "duration": 8,
    "start_time": "2024-05-24T06:53:56.146Z"
   },
   {
    "duration": 81,
    "start_time": "2024-05-24T06:54:53.952Z"
   },
   {
    "duration": 52,
    "start_time": "2024-05-24T06:55:38.208Z"
   },
   {
    "duration": 39,
    "start_time": "2024-05-24T06:58:06.734Z"
   },
   {
    "duration": 132,
    "start_time": "2024-05-24T06:58:41.862Z"
   },
   {
    "duration": 35,
    "start_time": "2024-05-24T06:59:12.060Z"
   },
   {
    "duration": 72,
    "start_time": "2024-05-24T06:59:46.200Z"
   },
   {
    "duration": 46,
    "start_time": "2024-05-24T07:07:43.543Z"
   },
   {
    "duration": 46,
    "start_time": "2024-05-24T07:07:56.492Z"
   },
   {
    "duration": 128,
    "start_time": "2024-05-24T07:08:37.024Z"
   },
   {
    "duration": 133,
    "start_time": "2024-05-24T07:09:16.805Z"
   },
   {
    "duration": 122,
    "start_time": "2024-05-24T07:10:14.689Z"
   },
   {
    "duration": 128,
    "start_time": "2024-05-24T07:10:32.657Z"
   },
   {
    "duration": 147,
    "start_time": "2024-05-24T07:10:57.907Z"
   },
   {
    "duration": 132,
    "start_time": "2024-05-24T07:11:18.198Z"
   },
   {
    "duration": 36,
    "start_time": "2024-05-24T07:12:05.916Z"
   },
   {
    "duration": 49,
    "start_time": "2024-05-24T07:12:36.143Z"
   },
   {
    "duration": 41,
    "start_time": "2024-05-24T07:13:09.481Z"
   },
   {
    "duration": 47,
    "start_time": "2024-05-24T07:13:25.589Z"
   },
   {
    "duration": 20,
    "start_time": "2024-05-24T07:13:56.565Z"
   },
   {
    "duration": 5,
    "start_time": "2024-05-24T07:14:03.883Z"
   },
   {
    "duration": 304,
    "start_time": "2024-05-24T07:14:03.893Z"
   },
   {
    "duration": 26,
    "start_time": "2024-05-24T07:14:04.200Z"
   },
   {
    "duration": 14,
    "start_time": "2024-05-24T07:14:04.229Z"
   },
   {
    "duration": 16,
    "start_time": "2024-05-24T07:14:04.247Z"
   },
   {
    "duration": 14,
    "start_time": "2024-05-24T07:14:04.270Z"
   },
   {
    "duration": 26,
    "start_time": "2024-05-24T07:14:04.325Z"
   },
   {
    "duration": 26,
    "start_time": "2024-05-24T07:14:04.354Z"
   },
   {
    "duration": 45,
    "start_time": "2024-05-24T07:14:04.383Z"
   },
   {
    "duration": 130,
    "start_time": "2024-05-24T07:14:04.432Z"
   },
   {
    "duration": 68,
    "start_time": "2024-05-24T07:14:04.566Z"
   },
   {
    "duration": 22,
    "start_time": "2024-05-24T07:14:04.637Z"
   },
   {
    "duration": 10,
    "start_time": "2024-05-24T07:14:04.666Z"
   },
   {
    "duration": 95,
    "start_time": "2024-05-24T07:14:04.680Z"
   },
   {
    "duration": 48,
    "start_time": "2024-05-24T07:14:04.779Z"
   },
   {
    "duration": 25,
    "start_time": "2024-05-24T07:14:04.831Z"
   },
   {
    "duration": 12,
    "start_time": "2024-05-24T07:14:04.859Z"
   },
   {
    "duration": 165,
    "start_time": "2024-05-24T07:14:04.875Z"
   },
   {
    "duration": 46,
    "start_time": "2024-05-24T07:14:05.043Z"
   },
   {
    "duration": 33,
    "start_time": "2024-05-24T07:14:05.093Z"
   },
   {
    "duration": 44,
    "start_time": "2024-05-24T07:14:05.129Z"
   },
   {
    "duration": 172,
    "start_time": "2024-05-24T07:14:05.176Z"
   },
   {
    "duration": 37,
    "start_time": "2024-05-24T07:14:05.351Z"
   },
   {
    "duration": 82,
    "start_time": "2024-05-24T07:14:05.393Z"
   },
   {
    "duration": 74,
    "start_time": "2024-05-24T07:14:05.479Z"
   },
   {
    "duration": 15,
    "start_time": "2024-05-24T07:14:05.557Z"
   },
   {
    "duration": 13,
    "start_time": "2024-05-24T07:14:05.576Z"
   },
   {
    "duration": 291,
    "start_time": "2024-05-24T07:14:05.626Z"
   },
   {
    "duration": 62,
    "start_time": "2024-05-24T07:14:05.925Z"
   },
   {
    "duration": 56,
    "start_time": "2024-05-24T07:14:05.990Z"
   },
   {
    "duration": 27,
    "start_time": "2024-05-24T07:14:06.050Z"
   },
   {
    "duration": 564,
    "start_time": "2024-05-24T07:14:06.080Z"
   },
   {
    "duration": 504,
    "start_time": "2024-05-24T07:14:06.647Z"
   },
   {
    "duration": 4,
    "start_time": "2024-05-24T07:14:07.154Z"
   },
   {
    "duration": 4,
    "start_time": "2024-05-24T07:14:07.162Z"
   },
   {
    "duration": 4,
    "start_time": "2024-05-24T07:14:07.169Z"
   },
   {
    "duration": 4,
    "start_time": "2024-05-24T07:14:07.182Z"
   },
   {
    "duration": 4,
    "start_time": "2024-05-24T07:14:07.226Z"
   },
   {
    "duration": 4,
    "start_time": "2024-05-24T07:14:07.233Z"
   },
   {
    "duration": 36,
    "start_time": "2024-05-24T07:26:04.115Z"
   },
   {
    "duration": 20,
    "start_time": "2024-05-24T07:26:11.608Z"
   },
   {
    "duration": 39,
    "start_time": "2024-05-24T07:26:20.867Z"
   },
   {
    "duration": 17,
    "start_time": "2024-05-24T07:27:20.813Z"
   },
   {
    "duration": 16,
    "start_time": "2024-05-24T07:28:04.849Z"
   },
   {
    "duration": 17,
    "start_time": "2024-05-24T07:28:34.518Z"
   },
   {
    "duration": 15,
    "start_time": "2024-05-24T07:29:15.434Z"
   },
   {
    "duration": 45,
    "start_time": "2024-05-24T07:30:36.138Z"
   },
   {
    "duration": 171,
    "start_time": "2024-05-24T07:31:05.397Z"
   },
   {
    "duration": 37,
    "start_time": "2024-05-24T07:31:42.550Z"
   },
   {
    "duration": 62,
    "start_time": "2024-05-24T07:32:06.174Z"
   },
   {
    "duration": 50,
    "start_time": "2024-05-24T07:32:41.392Z"
   },
   {
    "duration": 12,
    "start_time": "2024-05-24T07:41:31.443Z"
   },
   {
    "duration": 11,
    "start_time": "2024-05-24T07:44:32.485Z"
   },
   {
    "duration": 52,
    "start_time": "2024-05-24T07:51:48.848Z"
   },
   {
    "duration": 332,
    "start_time": "2024-05-24T08:19:08.743Z"
   },
   {
    "duration": 433,
    "start_time": "2024-05-24T08:19:15.468Z"
   },
   {
    "duration": 17,
    "start_time": "2024-05-24T08:22:47.531Z"
   },
   {
    "duration": 20,
    "start_time": "2024-05-24T08:25:29.209Z"
   },
   {
    "duration": 47,
    "start_time": "2024-05-24T08:27:19.030Z"
   },
   {
    "duration": 306,
    "start_time": "2024-05-24T08:27:50.384Z"
   },
   {
    "duration": 587,
    "start_time": "2024-05-24T08:28:22.202Z"
   },
   {
    "duration": 4,
    "start_time": "2024-05-24T08:28:52.856Z"
   },
   {
    "duration": 281,
    "start_time": "2024-05-24T08:28:52.865Z"
   },
   {
    "duration": 9,
    "start_time": "2024-05-24T08:28:53.149Z"
   },
   {
    "duration": 9,
    "start_time": "2024-05-24T08:28:53.162Z"
   },
   {
    "duration": 14,
    "start_time": "2024-05-24T08:28:53.175Z"
   },
   {
    "duration": 12,
    "start_time": "2024-05-24T08:28:53.227Z"
   },
   {
    "duration": 16,
    "start_time": "2024-05-24T08:28:53.242Z"
   },
   {
    "duration": 15,
    "start_time": "2024-05-24T08:28:53.262Z"
   },
   {
    "duration": 69,
    "start_time": "2024-05-24T08:28:53.281Z"
   },
   {
    "duration": 30,
    "start_time": "2024-05-24T08:28:53.353Z"
   },
   {
    "duration": 44,
    "start_time": "2024-05-24T08:28:53.387Z"
   },
   {
    "duration": 137,
    "start_time": "2024-05-24T08:28:53.434Z"
   },
   {
    "duration": 64,
    "start_time": "2024-05-24T08:28:53.577Z"
   },
   {
    "duration": 20,
    "start_time": "2024-05-24T08:28:53.644Z"
   },
   {
    "duration": 13,
    "start_time": "2024-05-24T08:28:53.667Z"
   },
   {
    "duration": 95,
    "start_time": "2024-05-24T08:28:53.683Z"
   },
   {
    "duration": 52,
    "start_time": "2024-05-24T08:28:53.780Z"
   },
   {
    "duration": 24,
    "start_time": "2024-05-24T08:28:53.835Z"
   },
   {
    "duration": 14,
    "start_time": "2024-05-24T08:28:53.862Z"
   },
   {
    "duration": 146,
    "start_time": "2024-05-24T08:28:53.880Z"
   },
   {
    "duration": 43,
    "start_time": "2024-05-24T08:28:54.029Z"
   },
   {
    "duration": 12,
    "start_time": "2024-05-24T08:28:54.075Z"
   },
   {
    "duration": 73,
    "start_time": "2024-05-24T08:28:54.090Z"
   },
   {
    "duration": 160,
    "start_time": "2024-05-24T08:28:54.166Z"
   },
   {
    "duration": 36,
    "start_time": "2024-05-24T08:28:54.329Z"
   },
   {
    "duration": 81,
    "start_time": "2024-05-24T08:28:54.368Z"
   },
   {
    "duration": 616,
    "start_time": "2024-05-24T08:28:54.454Z"
   },
   {
    "duration": 268,
    "start_time": "2024-05-24T08:28:55.073Z"
   },
   {
    "duration": 12,
    "start_time": "2024-05-24T08:28:55.344Z"
   },
   {
    "duration": 146150,
    "start_time": "2024-05-24T08:28:55.359Z"
   },
   {
    "duration": 562,
    "start_time": "2024-05-24T08:31:21.512Z"
   },
   {
    "duration": 228,
    "start_time": "2024-05-24T08:31:22.078Z"
   },
   {
    "duration": 0,
    "start_time": "2024-05-24T08:31:22.310Z"
   },
   {
    "duration": 0,
    "start_time": "2024-05-24T08:31:22.312Z"
   },
   {
    "duration": 0,
    "start_time": "2024-05-24T08:31:22.326Z"
   },
   {
    "duration": 0,
    "start_time": "2024-05-24T08:31:22.328Z"
   },
   {
    "duration": 1,
    "start_time": "2024-05-24T08:31:22.330Z"
   },
   {
    "duration": 0,
    "start_time": "2024-05-24T08:31:22.333Z"
   },
   {
    "duration": 0,
    "start_time": "2024-05-24T08:31:22.336Z"
   },
   {
    "duration": 0,
    "start_time": "2024-05-24T08:31:22.338Z"
   },
   {
    "duration": 0,
    "start_time": "2024-05-24T08:31:22.340Z"
   },
   {
    "duration": 315,
    "start_time": "2024-05-24T08:36:42.270Z"
   },
   {
    "duration": 527,
    "start_time": "2024-05-24T08:37:45.553Z"
   },
   {
    "duration": 530,
    "start_time": "2024-05-24T08:38:03.470Z"
   },
   {
    "duration": 639,
    "start_time": "2024-05-24T08:38:11.666Z"
   },
   {
    "duration": 539,
    "start_time": "2024-05-24T08:38:33.104Z"
   },
   {
    "duration": 104,
    "start_time": "2024-05-24T08:40:05.634Z"
   },
   {
    "duration": 72,
    "start_time": "2024-05-24T08:40:13.416Z"
   },
   {
    "duration": 58,
    "start_time": "2024-05-24T08:40:37.875Z"
   },
   {
    "duration": 57,
    "start_time": "2024-05-24T08:40:54.341Z"
   },
   {
    "duration": 4,
    "start_time": "2024-05-24T08:41:10.843Z"
   },
   {
    "duration": 323,
    "start_time": "2024-05-24T08:41:10.852Z"
   },
   {
    "duration": 11,
    "start_time": "2024-05-24T08:41:11.178Z"
   },
   {
    "duration": 9,
    "start_time": "2024-05-24T08:41:11.193Z"
   },
   {
    "duration": 16,
    "start_time": "2024-05-24T08:41:11.227Z"
   },
   {
    "duration": 13,
    "start_time": "2024-05-24T08:41:11.247Z"
   },
   {
    "duration": 15,
    "start_time": "2024-05-24T08:41:11.264Z"
   },
   {
    "duration": 56,
    "start_time": "2024-05-24T08:41:11.282Z"
   },
   {
    "duration": 24,
    "start_time": "2024-05-24T08:41:11.342Z"
   },
   {
    "duration": 59,
    "start_time": "2024-05-24T08:41:11.369Z"
   },
   {
    "duration": 15,
    "start_time": "2024-05-24T08:41:11.432Z"
   },
   {
    "duration": 145,
    "start_time": "2024-05-24T08:41:11.450Z"
   },
   {
    "duration": 64,
    "start_time": "2024-05-24T08:41:11.599Z"
   },
   {
    "duration": 21,
    "start_time": "2024-05-24T08:41:11.670Z"
   },
   {
    "duration": 41,
    "start_time": "2024-05-24T08:41:11.695Z"
   },
   {
    "duration": 95,
    "start_time": "2024-05-24T08:41:11.740Z"
   },
   {
    "duration": 32,
    "start_time": "2024-05-24T08:41:11.840Z"
   },
   {
    "duration": 50,
    "start_time": "2024-05-24T08:41:11.876Z"
   },
   {
    "duration": 15,
    "start_time": "2024-05-24T08:41:11.929Z"
   },
   {
    "duration": 142,
    "start_time": "2024-05-24T08:41:11.947Z"
   },
   {
    "duration": 53,
    "start_time": "2024-05-24T08:41:12.092Z"
   },
   {
    "duration": 16,
    "start_time": "2024-05-24T08:41:12.148Z"
   },
   {
    "duration": 81,
    "start_time": "2024-05-24T08:41:12.169Z"
   },
   {
    "duration": 147,
    "start_time": "2024-05-24T08:41:12.253Z"
   },
   {
    "duration": 54,
    "start_time": "2024-05-24T08:41:12.403Z"
   },
   {
    "duration": 79,
    "start_time": "2024-05-24T08:41:12.460Z"
   },
   {
    "duration": 60,
    "start_time": "2024-05-24T08:41:12.542Z"
   },
   {
    "duration": 16,
    "start_time": "2024-05-24T08:41:12.627Z"
   },
   {
    "duration": 13,
    "start_time": "2024-05-24T08:41:12.647Z"
   },
   {
    "duration": 486,
    "start_time": "2024-05-24T08:41:12.663Z"
   },
   {
    "duration": 90,
    "start_time": "2024-05-24T08:41:13.153Z"
   },
   {
    "duration": 36,
    "start_time": "2024-05-24T08:41:13.248Z"
   },
   {
    "duration": 59,
    "start_time": "2024-05-24T08:41:13.288Z"
   },
   {
    "duration": 512,
    "start_time": "2024-05-24T08:41:13.350Z"
   },
   {
    "duration": 506,
    "start_time": "2024-05-24T08:41:13.865Z"
   },
   {
    "duration": 7,
    "start_time": "2024-05-24T08:41:14.375Z"
   },
   {
    "duration": 3,
    "start_time": "2024-05-24T08:41:14.385Z"
   },
   {
    "duration": 4,
    "start_time": "2024-05-24T08:41:14.392Z"
   },
   {
    "duration": 4,
    "start_time": "2024-05-24T08:41:14.428Z"
   },
   {
    "duration": 4,
    "start_time": "2024-05-24T08:41:14.436Z"
   },
   {
    "duration": 3,
    "start_time": "2024-05-24T08:41:14.448Z"
   },
   {
    "duration": 5,
    "start_time": "2024-05-24T08:43:07.398Z"
   },
   {
    "duration": 15,
    "start_time": "2024-05-24T08:44:15.014Z"
   },
   {
    "duration": 24,
    "start_time": "2024-05-24T08:50:40.146Z"
   },
   {
    "duration": 30,
    "start_time": "2024-05-24T08:50:46.290Z"
   },
   {
    "duration": 5,
    "start_time": "2024-05-25T01:03:25.786Z"
   },
   {
    "duration": 333,
    "start_time": "2024-05-25T01:03:57.695Z"
   },
   {
    "duration": 4994,
    "start_time": "2024-05-25T01:04:06.389Z"
   },
   {
    "duration": 440,
    "start_time": "2024-05-25T01:04:11.390Z"
   },
   {
    "duration": 16,
    "start_time": "2024-05-25T01:04:11.833Z"
   },
   {
    "duration": 13,
    "start_time": "2024-05-25T01:04:11.855Z"
   },
   {
    "duration": 27,
    "start_time": "2024-05-25T01:04:11.886Z"
   },
   {
    "duration": 18,
    "start_time": "2024-05-25T01:04:11.916Z"
   },
   {
    "duration": 14,
    "start_time": "2024-05-25T01:04:11.938Z"
   },
   {
    "duration": 56,
    "start_time": "2024-05-25T01:04:11.956Z"
   },
   {
    "duration": 25,
    "start_time": "2024-05-25T01:04:12.016Z"
   },
   {
    "duration": 27,
    "start_time": "2024-05-25T01:04:12.045Z"
   },
   {
    "duration": 49,
    "start_time": "2024-05-25T01:04:12.075Z"
   },
   {
    "duration": 133,
    "start_time": "2024-05-25T01:04:12.127Z"
   },
   {
    "duration": 67,
    "start_time": "2024-05-25T01:04:12.263Z"
   },
   {
    "duration": 22,
    "start_time": "2024-05-25T01:04:12.339Z"
   },
   {
    "duration": 48,
    "start_time": "2024-05-25T01:04:12.365Z"
   },
   {
    "duration": 56,
    "start_time": "2024-05-25T01:04:12.416Z"
   },
   {
    "duration": 53,
    "start_time": "2024-05-25T01:04:12.475Z"
   },
   {
    "duration": 24,
    "start_time": "2024-05-25T01:04:12.531Z"
   },
   {
    "duration": 14,
    "start_time": "2024-05-25T01:04:12.559Z"
   },
   {
    "duration": 170,
    "start_time": "2024-05-25T01:04:12.576Z"
   },
   {
    "duration": 47,
    "start_time": "2024-05-25T01:04:12.749Z"
   },
   {
    "duration": 12,
    "start_time": "2024-05-25T01:04:12.811Z"
   },
   {
    "duration": 57,
    "start_time": "2024-05-25T01:04:12.828Z"
   },
   {
    "duration": 161,
    "start_time": "2024-05-25T01:04:12.914Z"
   },
   {
    "duration": 56,
    "start_time": "2024-05-25T01:04:13.079Z"
   },
   {
    "duration": 80,
    "start_time": "2024-05-25T01:04:13.138Z"
   },
   {
    "duration": 59,
    "start_time": "2024-05-25T01:04:13.223Z"
   },
   {
    "duration": 36,
    "start_time": "2024-05-25T01:04:13.286Z"
   },
   {
    "duration": 13,
    "start_time": "2024-05-25T01:04:13.328Z"
   },
   {
    "duration": 357,
    "start_time": "2024-05-25T01:04:13.344Z"
   },
   {
    "duration": 32,
    "start_time": "2024-05-25T01:04:13.704Z"
   },
   {
    "duration": 90,
    "start_time": "2024-05-25T01:04:13.740Z"
   },
   {
    "duration": 32,
    "start_time": "2024-05-25T01:04:13.834Z"
   },
   {
    "duration": 60,
    "start_time": "2024-05-25T01:04:13.869Z"
   },
   {
    "duration": 566,
    "start_time": "2024-05-25T01:04:13.932Z"
   },
   {
    "duration": 6,
    "start_time": "2024-05-25T01:04:14.502Z"
   },
   {
    "duration": 5,
    "start_time": "2024-05-25T01:04:14.516Z"
   },
   {
    "duration": 10,
    "start_time": "2024-05-25T01:04:14.525Z"
   },
   {
    "duration": 5,
    "start_time": "2024-05-25T01:04:14.540Z"
   },
   {
    "duration": 7,
    "start_time": "2024-05-25T01:04:14.549Z"
   },
   {
    "duration": 3,
    "start_time": "2024-05-25T01:04:14.572Z"
   },
   {
    "duration": 4,
    "start_time": "2024-05-25T01:04:14.579Z"
   },
   {
    "duration": 3,
    "start_time": "2024-05-25T01:04:43.080Z"
   },
   {
    "duration": 351,
    "start_time": "2024-05-25T01:04:43.087Z"
   },
   {
    "duration": 13,
    "start_time": "2024-05-25T01:04:43.441Z"
   },
   {
    "duration": 11,
    "start_time": "2024-05-25T01:04:43.457Z"
   },
   {
    "duration": 42,
    "start_time": "2024-05-25T01:04:43.473Z"
   },
   {
    "duration": 20,
    "start_time": "2024-05-25T01:04:43.521Z"
   },
   {
    "duration": 18,
    "start_time": "2024-05-25T01:04:43.545Z"
   },
   {
    "duration": 49,
    "start_time": "2024-05-25T01:04:43.567Z"
   },
   {
    "duration": 29,
    "start_time": "2024-05-25T01:04:43.625Z"
   },
   {
    "duration": 36,
    "start_time": "2024-05-25T01:04:43.657Z"
   },
   {
    "duration": 17,
    "start_time": "2024-05-25T01:04:43.714Z"
   },
   {
    "duration": 141,
    "start_time": "2024-05-25T01:04:43.736Z"
   },
   {
    "duration": 79,
    "start_time": "2024-05-25T01:04:43.885Z"
   },
   {
    "duration": 25,
    "start_time": "2024-05-25T01:04:43.967Z"
   },
   {
    "duration": 18,
    "start_time": "2024-05-25T01:04:44.013Z"
   },
   {
    "duration": 79,
    "start_time": "2024-05-25T01:04:44.035Z"
   },
   {
    "duration": 40,
    "start_time": "2024-05-25T01:04:44.118Z"
   },
   {
    "duration": 32,
    "start_time": "2024-05-25T01:04:44.161Z"
   },
   {
    "duration": 18,
    "start_time": "2024-05-25T01:04:44.213Z"
   },
   {
    "duration": 135,
    "start_time": "2024-05-25T01:04:44.235Z"
   },
   {
    "duration": 46,
    "start_time": "2024-05-25T01:04:44.375Z"
   },
   {
    "duration": 15,
    "start_time": "2024-05-25T01:04:44.424Z"
   },
   {
    "duration": 78,
    "start_time": "2024-05-25T01:04:44.443Z"
   },
   {
    "duration": 178,
    "start_time": "2024-05-25T01:04:44.525Z"
   },
   {
    "duration": 41,
    "start_time": "2024-05-25T01:04:44.713Z"
   },
   {
    "duration": 82,
    "start_time": "2024-05-25T01:04:44.760Z"
   },
   {
    "duration": 80,
    "start_time": "2024-05-25T01:04:44.845Z"
   },
   {
    "duration": 18,
    "start_time": "2024-05-25T01:04:44.928Z"
   },
   {
    "duration": 14,
    "start_time": "2024-05-25T01:04:44.949Z"
   },
   {
    "duration": 352,
    "start_time": "2024-05-25T01:04:44.966Z"
   },
   {
    "duration": 19,
    "start_time": "2024-05-25T01:04:45.321Z"
   },
   {
    "duration": 89,
    "start_time": "2024-05-25T01:04:45.343Z"
   },
   {
    "duration": 29,
    "start_time": "2024-05-25T01:04:45.436Z"
   },
   {
    "duration": 60,
    "start_time": "2024-05-25T01:04:45.471Z"
   },
   {
    "duration": 500,
    "start_time": "2024-05-25T01:04:45.534Z"
   },
   {
    "duration": 5,
    "start_time": "2024-05-25T01:04:46.037Z"
   },
   {
    "duration": 4,
    "start_time": "2024-05-25T01:04:46.053Z"
   },
   {
    "duration": 4,
    "start_time": "2024-05-25T01:04:46.061Z"
   },
   {
    "duration": 6,
    "start_time": "2024-05-25T01:04:46.068Z"
   },
   {
    "duration": 3,
    "start_time": "2024-05-25T01:04:46.114Z"
   },
   {
    "duration": 6,
    "start_time": "2024-05-25T01:04:46.121Z"
   },
   {
    "duration": 3,
    "start_time": "2024-05-25T01:04:46.131Z"
   },
   {
    "duration": 4,
    "start_time": "2024-05-25T01:05:38.817Z"
   },
   {
    "duration": 351,
    "start_time": "2024-05-25T01:05:38.826Z"
   },
   {
    "duration": 12,
    "start_time": "2024-05-25T01:05:39.180Z"
   },
   {
    "duration": 21,
    "start_time": "2024-05-25T01:05:39.197Z"
   },
   {
    "duration": 16,
    "start_time": "2024-05-25T01:05:39.225Z"
   },
   {
    "duration": 15,
    "start_time": "2024-05-25T01:05:39.244Z"
   },
   {
    "duration": 52,
    "start_time": "2024-05-25T01:05:39.262Z"
   },
   {
    "duration": 17,
    "start_time": "2024-05-25T01:05:39.319Z"
   },
   {
    "duration": 32,
    "start_time": "2024-05-25T01:05:39.340Z"
   },
   {
    "duration": 34,
    "start_time": "2024-05-25T01:05:39.412Z"
   },
   {
    "duration": 16,
    "start_time": "2024-05-25T01:05:39.449Z"
   },
   {
    "duration": 144,
    "start_time": "2024-05-25T01:05:39.468Z"
   },
   {
    "duration": 56,
    "start_time": "2024-05-25T01:05:39.615Z"
   },
   {
    "duration": 41,
    "start_time": "2024-05-25T01:05:39.678Z"
   },
   {
    "duration": 14,
    "start_time": "2024-05-25T01:05:39.723Z"
   },
   {
    "duration": 87,
    "start_time": "2024-05-25T01:05:39.740Z"
   },
   {
    "duration": 40,
    "start_time": "2024-05-25T01:05:39.830Z"
   },
   {
    "duration": 50,
    "start_time": "2024-05-25T01:05:39.873Z"
   },
   {
    "duration": 15,
    "start_time": "2024-05-25T01:05:39.928Z"
   },
   {
    "duration": 142,
    "start_time": "2024-05-25T01:05:39.947Z"
   },
   {
    "duration": 50,
    "start_time": "2024-05-25T01:05:40.092Z"
   },
   {
    "duration": 13,
    "start_time": "2024-05-25T01:05:40.146Z"
   },
   {
    "duration": 69,
    "start_time": "2024-05-25T01:05:40.164Z"
   },
   {
    "duration": 163,
    "start_time": "2024-05-25T01:05:40.236Z"
   },
   {
    "duration": 36,
    "start_time": "2024-05-25T01:05:40.413Z"
   },
   {
    "duration": 95,
    "start_time": "2024-05-25T01:05:40.453Z"
   },
   {
    "duration": 82,
    "start_time": "2024-05-25T01:05:40.553Z"
   },
   {
    "duration": 17,
    "start_time": "2024-05-25T01:05:40.638Z"
   },
   {
    "duration": 14,
    "start_time": "2024-05-25T01:05:40.659Z"
   },
   {
    "duration": 366,
    "start_time": "2024-05-25T01:05:40.676Z"
   },
   {
    "duration": 18,
    "start_time": "2024-05-25T01:05:41.045Z"
   },
   {
    "duration": 88,
    "start_time": "2024-05-25T01:05:41.066Z"
   },
   {
    "duration": 56,
    "start_time": "2024-05-25T01:05:41.157Z"
   },
   {
    "duration": 30,
    "start_time": "2024-05-25T01:05:41.216Z"
   },
   {
    "duration": 635,
    "start_time": "2024-05-25T01:05:41.249Z"
   },
   {
    "duration": 4,
    "start_time": "2024-05-25T01:05:41.887Z"
   },
   {
    "duration": 20,
    "start_time": "2024-05-25T01:05:41.894Z"
   },
   {
    "duration": 3,
    "start_time": "2024-05-25T01:05:41.918Z"
   },
   {
    "duration": 4,
    "start_time": "2024-05-25T01:05:41.924Z"
   },
   {
    "duration": 4,
    "start_time": "2024-05-25T01:05:41.931Z"
   },
   {
    "duration": 3,
    "start_time": "2024-05-25T01:05:41.944Z"
   },
   {
    "duration": 4,
    "start_time": "2024-05-25T01:05:41.949Z"
   },
   {
    "duration": 16,
    "start_time": "2024-05-25T01:06:56.457Z"
   },
   {
    "duration": 15,
    "start_time": "2024-05-25T01:08:23.760Z"
   },
   {
    "duration": 89,
    "start_time": "2024-05-25T01:09:08.907Z"
   },
   {
    "duration": 4,
    "start_time": "2024-05-25T01:09:13.591Z"
   },
   {
    "duration": 340,
    "start_time": "2024-05-25T01:09:13.601Z"
   },
   {
    "duration": 11,
    "start_time": "2024-05-25T01:09:13.945Z"
   },
   {
    "duration": 18,
    "start_time": "2024-05-25T01:09:13.959Z"
   },
   {
    "duration": 38,
    "start_time": "2024-05-25T01:09:13.982Z"
   },
   {
    "duration": 16,
    "start_time": "2024-05-25T01:09:14.023Z"
   },
   {
    "duration": 16,
    "start_time": "2024-05-25T01:09:14.043Z"
   },
   {
    "duration": 17,
    "start_time": "2024-05-25T01:09:14.063Z"
   },
   {
    "duration": 26,
    "start_time": "2024-05-25T01:09:14.116Z"
   },
   {
    "duration": 26,
    "start_time": "2024-05-25T01:09:14.145Z"
   },
   {
    "duration": 38,
    "start_time": "2024-05-25T01:09:14.175Z"
   },
   {
    "duration": 93,
    "start_time": "2024-05-25T01:09:14.219Z"
   },
   {
    "duration": 666,
    "start_time": "2024-05-25T01:09:14.316Z"
   },
   {
    "duration": 0,
    "start_time": "2024-05-25T01:09:14.988Z"
   },
   {
    "duration": 0,
    "start_time": "2024-05-25T01:09:14.990Z"
   },
   {
    "duration": 0,
    "start_time": "2024-05-25T01:09:14.992Z"
   },
   {
    "duration": 0,
    "start_time": "2024-05-25T01:09:14.993Z"
   },
   {
    "duration": 0,
    "start_time": "2024-05-25T01:09:14.995Z"
   },
   {
    "duration": 0,
    "start_time": "2024-05-25T01:09:15.013Z"
   },
   {
    "duration": 0,
    "start_time": "2024-05-25T01:09:15.015Z"
   },
   {
    "duration": 0,
    "start_time": "2024-05-25T01:09:15.017Z"
   },
   {
    "duration": 0,
    "start_time": "2024-05-25T01:09:15.018Z"
   },
   {
    "duration": 0,
    "start_time": "2024-05-25T01:09:15.020Z"
   },
   {
    "duration": 0,
    "start_time": "2024-05-25T01:09:15.022Z"
   },
   {
    "duration": 0,
    "start_time": "2024-05-25T01:09:15.024Z"
   },
   {
    "duration": 0,
    "start_time": "2024-05-25T01:09:15.027Z"
   },
   {
    "duration": 0,
    "start_time": "2024-05-25T01:09:15.028Z"
   },
   {
    "duration": 0,
    "start_time": "2024-05-25T01:09:15.031Z"
   },
   {
    "duration": 0,
    "start_time": "2024-05-25T01:09:15.034Z"
   },
   {
    "duration": 0,
    "start_time": "2024-05-25T01:09:15.036Z"
   },
   {
    "duration": 0,
    "start_time": "2024-05-25T01:09:15.038Z"
   },
   {
    "duration": 0,
    "start_time": "2024-05-25T01:09:15.040Z"
   },
   {
    "duration": 0,
    "start_time": "2024-05-25T01:09:15.041Z"
   },
   {
    "duration": 0,
    "start_time": "2024-05-25T01:09:15.043Z"
   },
   {
    "duration": 0,
    "start_time": "2024-05-25T01:09:15.045Z"
   },
   {
    "duration": 0,
    "start_time": "2024-05-25T01:09:15.046Z"
   },
   {
    "duration": 0,
    "start_time": "2024-05-25T01:09:15.048Z"
   },
   {
    "duration": 0,
    "start_time": "2024-05-25T01:09:15.051Z"
   },
   {
    "duration": 0,
    "start_time": "2024-05-25T01:09:15.111Z"
   },
   {
    "duration": 0,
    "start_time": "2024-05-25T01:09:15.113Z"
   },
   {
    "duration": 0,
    "start_time": "2024-05-25T01:09:15.115Z"
   },
   {
    "duration": 0,
    "start_time": "2024-05-25T01:09:15.118Z"
   },
   {
    "duration": 95,
    "start_time": "2024-05-25T01:09:36.544Z"
   },
   {
    "duration": 4,
    "start_time": "2024-05-25T01:10:36.963Z"
   },
   {
    "duration": 281,
    "start_time": "2024-05-25T01:10:36.973Z"
   },
   {
    "duration": 10,
    "start_time": "2024-05-25T01:10:37.257Z"
   },
   {
    "duration": 15,
    "start_time": "2024-05-25T01:10:37.270Z"
   },
   {
    "duration": 13,
    "start_time": "2024-05-25T01:10:37.313Z"
   },
   {
    "duration": 15,
    "start_time": "2024-05-25T01:10:37.328Z"
   },
   {
    "duration": 16,
    "start_time": "2024-05-25T01:10:37.346Z"
   },
   {
    "duration": 51,
    "start_time": "2024-05-25T01:10:37.366Z"
   },
   {
    "duration": 20,
    "start_time": "2024-05-25T01:10:37.419Z"
   },
   {
    "duration": 26,
    "start_time": "2024-05-25T01:10:37.443Z"
   },
   {
    "duration": 43,
    "start_time": "2024-05-25T01:10:37.472Z"
   },
   {
    "duration": 65,
    "start_time": "2024-05-25T01:10:37.518Z"
   },
   {
    "duration": 105,
    "start_time": "2024-05-25T01:10:37.613Z"
   },
   {
    "duration": 21,
    "start_time": "2024-05-25T01:10:37.721Z"
   },
   {
    "duration": 10,
    "start_time": "2024-05-25T01:10:37.747Z"
   },
   {
    "duration": 78,
    "start_time": "2024-05-25T01:10:37.760Z"
   },
   {
    "duration": 49,
    "start_time": "2024-05-25T01:10:37.841Z"
   },
   {
    "duration": 34,
    "start_time": "2024-05-25T01:10:37.896Z"
   },
   {
    "duration": 14,
    "start_time": "2024-05-25T01:10:37.933Z"
   },
   {
    "duration": 131,
    "start_time": "2024-05-25T01:10:37.950Z"
   },
   {
    "duration": 48,
    "start_time": "2024-05-25T01:10:38.084Z"
   },
   {
    "duration": 15,
    "start_time": "2024-05-25T01:10:38.135Z"
   },
   {
    "duration": 67,
    "start_time": "2024-05-25T01:10:38.152Z"
   },
   {
    "duration": 149,
    "start_time": "2024-05-25T01:10:38.222Z"
   },
   {
    "duration": 56,
    "start_time": "2024-05-25T01:10:38.373Z"
   },
   {
    "duration": 51,
    "start_time": "2024-05-25T01:10:38.432Z"
   },
   {
    "duration": 82,
    "start_time": "2024-05-25T01:10:38.485Z"
   },
   {
    "duration": 14,
    "start_time": "2024-05-25T01:10:38.570Z"
   },
   {
    "duration": 12,
    "start_time": "2024-05-25T01:10:38.613Z"
   },
   {
    "duration": 340,
    "start_time": "2024-05-25T01:10:38.628Z"
   },
   {
    "duration": 18,
    "start_time": "2024-05-25T01:10:38.972Z"
   },
   {
    "duration": 74,
    "start_time": "2024-05-25T01:10:38.993Z"
   },
   {
    "duration": 55,
    "start_time": "2024-05-25T01:10:39.070Z"
   },
   {
    "duration": 28,
    "start_time": "2024-05-25T01:10:39.128Z"
   },
   {
    "duration": 482,
    "start_time": "2024-05-25T01:10:39.160Z"
   },
   {
    "duration": 4,
    "start_time": "2024-05-25T01:10:39.645Z"
   },
   {
    "duration": 6,
    "start_time": "2024-05-25T01:10:39.657Z"
   },
   {
    "duration": 4,
    "start_time": "2024-05-25T01:10:39.666Z"
   },
   {
    "duration": 5,
    "start_time": "2024-05-25T01:10:39.672Z"
   },
   {
    "duration": 4,
    "start_time": "2024-05-25T01:10:39.711Z"
   },
   {
    "duration": 5,
    "start_time": "2024-05-25T01:10:39.717Z"
   },
   {
    "duration": 3,
    "start_time": "2024-05-25T01:10:39.725Z"
   },
   {
    "duration": 245,
    "start_time": "2024-05-25T01:11:42.830Z"
   },
   {
    "duration": 130,
    "start_time": "2024-05-25T01:12:02.521Z"
   },
   {
    "duration": 114,
    "start_time": "2024-05-25T01:12:45.397Z"
   },
   {
    "duration": 105,
    "start_time": "2024-05-25T01:13:16.730Z"
   },
   {
    "duration": 35,
    "start_time": "2024-05-25T01:14:36.374Z"
   },
   {
    "duration": 55,
    "start_time": "2024-05-25T01:14:55.615Z"
   },
   {
    "duration": 67,
    "start_time": "2024-05-25T01:15:21.999Z"
   },
   {
    "duration": 94,
    "start_time": "2024-05-25T01:15:45.090Z"
   },
   {
    "duration": 92,
    "start_time": "2024-05-25T01:15:51.570Z"
   },
   {
    "duration": 14,
    "start_time": "2024-05-25T01:16:16.834Z"
   },
   {
    "duration": 69,
    "start_time": "2024-05-25T01:17:16.045Z"
   },
   {
    "duration": 14,
    "start_time": "2024-05-25T01:17:34.617Z"
   },
   {
    "duration": 30,
    "start_time": "2024-05-25T01:18:28.297Z"
   },
   {
    "duration": 37,
    "start_time": "2024-05-25T01:20:06.542Z"
   },
   {
    "duration": 4,
    "start_time": "2024-05-25T01:20:10.609Z"
   },
   {
    "duration": 303,
    "start_time": "2024-05-25T01:20:10.617Z"
   },
   {
    "duration": 12,
    "start_time": "2024-05-25T01:20:10.922Z"
   },
   {
    "duration": 14,
    "start_time": "2024-05-25T01:20:10.937Z"
   },
   {
    "duration": 20,
    "start_time": "2024-05-25T01:20:10.956Z"
   },
   {
    "duration": 14,
    "start_time": "2024-05-25T01:20:11.011Z"
   },
   {
    "duration": 14,
    "start_time": "2024-05-25T01:20:11.029Z"
   },
   {
    "duration": 12,
    "start_time": "2024-05-25T01:20:11.046Z"
   },
   {
    "duration": 57,
    "start_time": "2024-05-25T01:20:11.061Z"
   },
   {
    "duration": 25,
    "start_time": "2024-05-25T01:20:11.121Z"
   },
   {
    "duration": 11,
    "start_time": "2024-05-25T01:20:11.149Z"
   },
   {
    "duration": 112,
    "start_time": "2024-05-25T01:20:11.163Z"
   },
   {
    "duration": 67,
    "start_time": "2024-05-25T01:20:11.281Z"
   },
   {
    "duration": 23,
    "start_time": "2024-05-25T01:20:11.351Z"
   },
   {
    "duration": 9,
    "start_time": "2024-05-25T01:20:11.380Z"
   },
   {
    "duration": 37,
    "start_time": "2024-05-25T01:20:11.412Z"
   },
   {
    "duration": 24,
    "start_time": "2024-05-25T01:20:11.453Z"
   },
   {
    "duration": 54,
    "start_time": "2024-05-25T01:20:11.479Z"
   },
   {
    "duration": 21,
    "start_time": "2024-05-25T01:20:11.536Z"
   },
   {
    "duration": 99,
    "start_time": "2024-05-25T01:20:11.559Z"
   },
   {
    "duration": 31,
    "start_time": "2024-05-25T01:20:11.661Z"
   },
   {
    "duration": 24,
    "start_time": "2024-05-25T01:20:11.695Z"
   },
   {
    "duration": 31,
    "start_time": "2024-05-25T01:20:11.723Z"
   },
   {
    "duration": 881,
    "start_time": "2024-05-25T01:20:11.757Z"
   },
   {
    "duration": 0,
    "start_time": "2024-05-25T01:20:12.641Z"
   },
   {
    "duration": 0,
    "start_time": "2024-05-25T01:20:12.643Z"
   },
   {
    "duration": 0,
    "start_time": "2024-05-25T01:20:12.645Z"
   },
   {
    "duration": 0,
    "start_time": "2024-05-25T01:20:12.647Z"
   },
   {
    "duration": 0,
    "start_time": "2024-05-25T01:20:12.649Z"
   },
   {
    "duration": 0,
    "start_time": "2024-05-25T01:20:12.652Z"
   },
   {
    "duration": 0,
    "start_time": "2024-05-25T01:20:12.654Z"
   },
   {
    "duration": 0,
    "start_time": "2024-05-25T01:20:12.657Z"
   },
   {
    "duration": 0,
    "start_time": "2024-05-25T01:20:12.660Z"
   },
   {
    "duration": 0,
    "start_time": "2024-05-25T01:20:12.661Z"
   },
   {
    "duration": 0,
    "start_time": "2024-05-25T01:20:12.664Z"
   },
   {
    "duration": 1,
    "start_time": "2024-05-25T01:20:12.666Z"
   },
   {
    "duration": 0,
    "start_time": "2024-05-25T01:20:12.668Z"
   },
   {
    "duration": 0,
    "start_time": "2024-05-25T01:20:12.669Z"
   },
   {
    "duration": 0,
    "start_time": "2024-05-25T01:20:12.671Z"
   },
   {
    "duration": 0,
    "start_time": "2024-05-25T01:20:12.714Z"
   },
   {
    "duration": 0,
    "start_time": "2024-05-25T01:20:12.716Z"
   },
   {
    "duration": 0,
    "start_time": "2024-05-25T01:20:12.718Z"
   },
   {
    "duration": 119,
    "start_time": "2024-05-25T01:21:49.283Z"
   },
   {
    "duration": 27,
    "start_time": "2024-05-25T01:22:53.685Z"
   },
   {
    "duration": 46,
    "start_time": "2024-05-25T01:23:58.308Z"
   },
   {
    "duration": 72,
    "start_time": "2024-05-25T01:24:40.362Z"
   },
   {
    "duration": 60,
    "start_time": "2024-05-25T01:24:48.475Z"
   },
   {
    "duration": 16,
    "start_time": "2024-05-25T01:25:04.513Z"
   },
   {
    "duration": 5,
    "start_time": "2024-05-25T01:27:05.898Z"
   },
   {
    "duration": 295,
    "start_time": "2024-05-25T01:27:05.907Z"
   },
   {
    "duration": 12,
    "start_time": "2024-05-25T01:27:06.205Z"
   },
   {
    "duration": 15,
    "start_time": "2024-05-25T01:27:06.221Z"
   },
   {
    "duration": 14,
    "start_time": "2024-05-25T01:27:06.242Z"
   },
   {
    "duration": 55,
    "start_time": "2024-05-25T01:27:06.260Z"
   },
   {
    "duration": 15,
    "start_time": "2024-05-25T01:27:06.319Z"
   },
   {
    "duration": 13,
    "start_time": "2024-05-25T01:27:06.337Z"
   },
   {
    "duration": 64,
    "start_time": "2024-05-25T01:27:06.353Z"
   },
   {
    "duration": 34,
    "start_time": "2024-05-25T01:27:06.421Z"
   },
   {
    "duration": 14,
    "start_time": "2024-05-25T01:27:06.459Z"
   },
   {
    "duration": 104,
    "start_time": "2024-05-25T01:27:06.476Z"
   },
   {
    "duration": 73,
    "start_time": "2024-05-25T01:27:06.586Z"
   },
   {
    "duration": 25,
    "start_time": "2024-05-25T01:27:06.662Z"
   },
   {
    "duration": 13,
    "start_time": "2024-05-25T01:27:06.712Z"
   },
   {
    "duration": 50,
    "start_time": "2024-05-25T01:27:06.728Z"
   },
   {
    "duration": 52,
    "start_time": "2024-05-25T01:27:06.781Z"
   },
   {
    "duration": 26,
    "start_time": "2024-05-25T01:27:06.836Z"
   },
   {
    "duration": 12,
    "start_time": "2024-05-25T01:27:06.865Z"
   },
   {
    "duration": 85,
    "start_time": "2024-05-25T01:27:06.912Z"
   },
   {
    "duration": 33,
    "start_time": "2024-05-25T01:27:07.012Z"
   },
   {
    "duration": 13,
    "start_time": "2024-05-25T01:27:07.048Z"
   },
   {
    "duration": 62,
    "start_time": "2024-05-25T01:27:07.064Z"
   },
   {
    "duration": 150,
    "start_time": "2024-05-25T01:27:07.129Z"
   },
   {
    "duration": 52,
    "start_time": "2024-05-25T01:27:07.284Z"
   },
   {
    "duration": 49,
    "start_time": "2024-05-25T01:27:07.339Z"
   },
   {
    "duration": 66,
    "start_time": "2024-05-25T01:27:07.416Z"
   },
   {
    "duration": 29,
    "start_time": "2024-05-25T01:27:07.489Z"
   },
   {
    "duration": 353,
    "start_time": "2024-05-25T01:27:07.521Z"
   },
   {
    "duration": 22,
    "start_time": "2024-05-25T01:27:07.878Z"
   },
   {
    "duration": 63,
    "start_time": "2024-05-25T01:27:07.918Z"
   },
   {
    "duration": 57,
    "start_time": "2024-05-25T01:27:07.985Z"
   },
   {
    "duration": 33,
    "start_time": "2024-05-25T01:27:08.045Z"
   },
   {
    "duration": 521,
    "start_time": "2024-05-25T01:27:08.081Z"
   },
   {
    "duration": 12,
    "start_time": "2024-05-25T01:27:08.605Z"
   },
   {
    "duration": 3,
    "start_time": "2024-05-25T01:27:08.621Z"
   },
   {
    "duration": 4,
    "start_time": "2024-05-25T01:27:08.633Z"
   },
   {
    "duration": 3,
    "start_time": "2024-05-25T01:27:08.641Z"
   },
   {
    "duration": 3,
    "start_time": "2024-05-25T01:27:08.647Z"
   },
   {
    "duration": 4,
    "start_time": "2024-05-25T01:27:08.653Z"
   },
   {
    "duration": 52,
    "start_time": "2024-05-25T01:27:08.661Z"
   },
   {
    "duration": 61,
    "start_time": "2024-05-25T01:33:40.628Z"
   },
   {
    "duration": 150,
    "start_time": "2024-05-25T01:34:27.801Z"
   },
   {
    "duration": 40,
    "start_time": "2024-05-25T01:34:55.971Z"
   },
   {
    "duration": 780,
    "start_time": "2024-05-25T01:36:54.856Z"
   },
   {
    "duration": 10,
    "start_time": "2024-05-25T01:37:11.603Z"
   },
   {
    "duration": 9,
    "start_time": "2024-05-25T01:37:21.410Z"
   },
   {
    "duration": 4,
    "start_time": "2024-05-25T01:37:28.774Z"
   },
   {
    "duration": 303,
    "start_time": "2024-05-25T01:37:28.782Z"
   },
   {
    "duration": 10,
    "start_time": "2024-05-25T01:37:29.087Z"
   },
   {
    "duration": 15,
    "start_time": "2024-05-25T01:37:29.111Z"
   },
   {
    "duration": 12,
    "start_time": "2024-05-25T01:37:29.129Z"
   },
   {
    "duration": 16,
    "start_time": "2024-05-25T01:37:29.144Z"
   },
   {
    "duration": 52,
    "start_time": "2024-05-25T01:37:29.163Z"
   },
   {
    "duration": 13,
    "start_time": "2024-05-25T01:37:29.218Z"
   },
   {
    "duration": 18,
    "start_time": "2024-05-25T01:37:29.237Z"
   },
   {
    "duration": 62,
    "start_time": "2024-05-25T01:37:29.257Z"
   },
   {
    "duration": 11,
    "start_time": "2024-05-25T01:37:29.322Z"
   },
   {
    "duration": 108,
    "start_time": "2024-05-25T01:37:29.337Z"
   },
   {
    "duration": 64,
    "start_time": "2024-05-25T01:37:29.450Z"
   },
   {
    "duration": 19,
    "start_time": "2024-05-25T01:37:29.518Z"
   },
   {
    "duration": 10,
    "start_time": "2024-05-25T01:37:29.540Z"
   },
   {
    "duration": 72,
    "start_time": "2024-05-25T01:37:29.554Z"
   },
   {
    "duration": 25,
    "start_time": "2024-05-25T01:37:29.628Z"
   },
   {
    "duration": 23,
    "start_time": "2024-05-25T01:37:29.655Z"
   },
   {
    "duration": 37,
    "start_time": "2024-05-25T01:37:29.683Z"
   },
   {
    "duration": 92,
    "start_time": "2024-05-25T01:37:29.723Z"
   },
   {
    "duration": 31,
    "start_time": "2024-05-25T01:37:29.818Z"
   },
   {
    "duration": 12,
    "start_time": "2024-05-25T01:37:29.851Z"
   },
   {
    "duration": 65,
    "start_time": "2024-05-25T01:37:29.866Z"
   },
   {
    "duration": 122,
    "start_time": "2024-05-25T01:37:29.938Z"
   },
   {
    "duration": 50,
    "start_time": "2024-05-25T01:37:30.063Z"
   },
   {
    "duration": 40,
    "start_time": "2024-05-25T01:37:30.116Z"
   },
   {
    "duration": 9,
    "start_time": "2024-05-25T01:37:30.162Z"
   },
   {
    "duration": 0,
    "start_time": "2024-05-25T01:37:30.173Z"
   },
   {
    "duration": 0,
    "start_time": "2024-05-25T01:37:30.175Z"
   },
   {
    "duration": 0,
    "start_time": "2024-05-25T01:37:30.212Z"
   },
   {
    "duration": 0,
    "start_time": "2024-05-25T01:37:30.215Z"
   },
   {
    "duration": 0,
    "start_time": "2024-05-25T01:37:30.216Z"
   },
   {
    "duration": 0,
    "start_time": "2024-05-25T01:37:30.218Z"
   },
   {
    "duration": 0,
    "start_time": "2024-05-25T01:37:30.220Z"
   },
   {
    "duration": 0,
    "start_time": "2024-05-25T01:37:30.222Z"
   },
   {
    "duration": 0,
    "start_time": "2024-05-25T01:37:30.224Z"
   },
   {
    "duration": 0,
    "start_time": "2024-05-25T01:37:30.227Z"
   },
   {
    "duration": 0,
    "start_time": "2024-05-25T01:37:30.229Z"
   },
   {
    "duration": 0,
    "start_time": "2024-05-25T01:37:30.231Z"
   },
   {
    "duration": 0,
    "start_time": "2024-05-25T01:37:30.233Z"
   },
   {
    "duration": 0,
    "start_time": "2024-05-25T01:37:30.236Z"
   },
   {
    "duration": 8,
    "start_time": "2024-05-25T01:37:51.413Z"
   },
   {
    "duration": 10,
    "start_time": "2024-05-25T01:38:56.414Z"
   },
   {
    "duration": 9,
    "start_time": "2024-05-25T01:39:39.089Z"
   },
   {
    "duration": 3,
    "start_time": "2024-05-25T01:40:00.408Z"
   },
   {
    "duration": 298,
    "start_time": "2024-05-25T01:40:00.415Z"
   },
   {
    "duration": 11,
    "start_time": "2024-05-25T01:40:00.715Z"
   },
   {
    "duration": 15,
    "start_time": "2024-05-25T01:40:00.729Z"
   },
   {
    "duration": 15,
    "start_time": "2024-05-25T01:40:00.747Z"
   },
   {
    "duration": 53,
    "start_time": "2024-05-25T01:40:00.765Z"
   },
   {
    "duration": 13,
    "start_time": "2024-05-25T01:40:00.821Z"
   },
   {
    "duration": 12,
    "start_time": "2024-05-25T01:40:00.838Z"
   },
   {
    "duration": 62,
    "start_time": "2024-05-25T01:40:00.853Z"
   },
   {
    "duration": 29,
    "start_time": "2024-05-25T01:40:00.918Z"
   },
   {
    "duration": 24,
    "start_time": "2024-05-25T01:40:00.950Z"
   },
   {
    "duration": 89,
    "start_time": "2024-05-25T01:40:00.979Z"
   },
   {
    "duration": 71,
    "start_time": "2024-05-25T01:40:01.074Z"
   },
   {
    "duration": 21,
    "start_time": "2024-05-25T01:40:01.149Z"
   },
   {
    "duration": 10,
    "start_time": "2024-05-25T01:40:01.173Z"
   },
   {
    "duration": 36,
    "start_time": "2024-05-25T01:40:01.213Z"
   },
   {
    "duration": 23,
    "start_time": "2024-05-25T01:40:01.252Z"
   },
   {
    "duration": 46,
    "start_time": "2024-05-25T01:40:01.278Z"
   },
   {
    "duration": 12,
    "start_time": "2024-05-25T01:40:01.327Z"
   },
   {
    "duration": 117,
    "start_time": "2024-05-25T01:40:01.342Z"
   },
   {
    "duration": 31,
    "start_time": "2024-05-25T01:40:01.462Z"
   },
   {
    "duration": 34,
    "start_time": "2024-05-25T01:40:01.496Z"
   },
   {
    "duration": 33,
    "start_time": "2024-05-25T01:40:01.534Z"
   },
   {
    "duration": 149,
    "start_time": "2024-05-25T01:40:01.571Z"
   },
   {
    "duration": 27,
    "start_time": "2024-05-25T01:40:01.723Z"
   },
   {
    "duration": 69,
    "start_time": "2024-05-25T01:40:01.753Z"
   },
   {
    "duration": 9,
    "start_time": "2024-05-25T01:40:01.825Z"
   },
   {
    "duration": 0,
    "start_time": "2024-05-25T01:40:01.837Z"
   },
   {
    "duration": 0,
    "start_time": "2024-05-25T01:40:01.839Z"
   },
   {
    "duration": 0,
    "start_time": "2024-05-25T01:40:01.841Z"
   },
   {
    "duration": 0,
    "start_time": "2024-05-25T01:40:01.843Z"
   },
   {
    "duration": 0,
    "start_time": "2024-05-25T01:40:01.845Z"
   },
   {
    "duration": 0,
    "start_time": "2024-05-25T01:40:01.847Z"
   },
   {
    "duration": 0,
    "start_time": "2024-05-25T01:40:01.849Z"
   },
   {
    "duration": 0,
    "start_time": "2024-05-25T01:40:01.851Z"
   },
   {
    "duration": 0,
    "start_time": "2024-05-25T01:40:01.854Z"
   },
   {
    "duration": 0,
    "start_time": "2024-05-25T01:40:01.856Z"
   },
   {
    "duration": 0,
    "start_time": "2024-05-25T01:40:01.858Z"
   },
   {
    "duration": 0,
    "start_time": "2024-05-25T01:40:01.860Z"
   },
   {
    "duration": 0,
    "start_time": "2024-05-25T01:40:01.914Z"
   },
   {
    "duration": 0,
    "start_time": "2024-05-25T01:40:01.917Z"
   },
   {
    "duration": 10,
    "start_time": "2024-05-25T01:41:29.808Z"
   },
   {
    "duration": 53,
    "start_time": "2024-05-25T01:41:44.740Z"
   },
   {
    "duration": 79,
    "start_time": "2024-05-25T01:44:46.709Z"
   },
   {
    "duration": 67,
    "start_time": "2024-05-25T01:45:19.333Z"
   },
   {
    "duration": 81,
    "start_time": "2024-05-25T01:46:35.689Z"
   },
   {
    "duration": 67,
    "start_time": "2024-05-25T01:46:50.255Z"
   },
   {
    "duration": 20,
    "start_time": "2024-05-25T01:47:28.962Z"
   },
   {
    "duration": 53,
    "start_time": "2024-05-25T01:47:32.374Z"
   },
   {
    "duration": 28,
    "start_time": "2024-05-25T01:49:08.900Z"
   },
   {
    "duration": 42,
    "start_time": "2024-05-25T01:49:28.219Z"
   },
   {
    "duration": 32,
    "start_time": "2024-05-25T01:51:11.730Z"
   },
   {
    "duration": 23,
    "start_time": "2024-05-25T01:51:26.396Z"
   },
   {
    "duration": 13,
    "start_time": "2024-05-25T01:51:35.282Z"
   },
   {
    "duration": 36,
    "start_time": "2024-05-25T01:52:07.384Z"
   },
   {
    "duration": 36,
    "start_time": "2024-05-25T01:52:50.852Z"
   },
   {
    "duration": 38,
    "start_time": "2024-05-25T01:53:08.330Z"
   },
   {
    "duration": 16,
    "start_time": "2024-05-25T01:53:17.684Z"
   },
   {
    "duration": 18,
    "start_time": "2024-05-25T01:56:28.151Z"
   },
   {
    "duration": 17,
    "start_time": "2024-05-25T01:56:36.984Z"
   },
   {
    "duration": 17,
    "start_time": "2024-05-25T01:56:50.424Z"
   },
   {
    "duration": 20,
    "start_time": "2024-05-25T01:57:02.606Z"
   },
   {
    "duration": 33,
    "start_time": "2024-05-25T01:57:22.795Z"
   },
   {
    "duration": 35,
    "start_time": "2024-05-25T01:57:34.574Z"
   },
   {
    "duration": 42,
    "start_time": "2024-05-25T01:57:48.521Z"
   },
   {
    "duration": 5,
    "start_time": "2024-05-25T01:58:25.876Z"
   },
   {
    "duration": 15,
    "start_time": "2024-05-25T01:58:30.784Z"
   },
   {
    "duration": 27,
    "start_time": "2024-05-25T01:58:44.291Z"
   },
   {
    "duration": 37,
    "start_time": "2024-05-25T02:00:30.030Z"
   },
   {
    "duration": 38,
    "start_time": "2024-05-25T02:01:04.524Z"
   },
   {
    "duration": 40,
    "start_time": "2024-05-25T02:01:21.006Z"
   },
   {
    "duration": 44,
    "start_time": "2024-05-25T02:01:42.344Z"
   },
   {
    "duration": 474,
    "start_time": "2024-05-25T02:03:33.533Z"
   },
   {
    "duration": 4,
    "start_time": "2024-05-25T02:03:37.162Z"
   },
   {
    "duration": 276,
    "start_time": "2024-05-25T02:03:37.170Z"
   },
   {
    "duration": 12,
    "start_time": "2024-05-25T02:03:37.448Z"
   },
   {
    "duration": 14,
    "start_time": "2024-05-25T02:03:37.463Z"
   },
   {
    "duration": 41,
    "start_time": "2024-05-25T02:03:37.481Z"
   },
   {
    "duration": 13,
    "start_time": "2024-05-25T02:03:37.526Z"
   },
   {
    "duration": 14,
    "start_time": "2024-05-25T02:03:37.542Z"
   },
   {
    "duration": 53,
    "start_time": "2024-05-25T02:03:37.559Z"
   },
   {
    "duration": 19,
    "start_time": "2024-05-25T02:03:37.614Z"
   },
   {
    "duration": 24,
    "start_time": "2024-05-25T02:03:37.636Z"
   },
   {
    "duration": 11,
    "start_time": "2024-05-25T02:03:37.664Z"
   },
   {
    "duration": 67,
    "start_time": "2024-05-25T02:03:37.713Z"
   },
   {
    "duration": 70,
    "start_time": "2024-05-25T02:03:37.783Z"
   },
   {
    "duration": 18,
    "start_time": "2024-05-25T02:03:37.861Z"
   },
   {
    "duration": 32,
    "start_time": "2024-05-25T02:03:37.882Z"
   },
   {
    "duration": 46,
    "start_time": "2024-05-25T02:03:37.917Z"
   },
   {
    "duration": 48,
    "start_time": "2024-05-25T02:03:37.968Z"
   },
   {
    "duration": 22,
    "start_time": "2024-05-25T02:03:38.019Z"
   },
   {
    "duration": 12,
    "start_time": "2024-05-25T02:03:38.044Z"
   },
   {
    "duration": 118,
    "start_time": "2024-05-25T02:03:38.059Z"
   },
   {
    "duration": 42,
    "start_time": "2024-05-25T02:03:38.180Z"
   },
   {
    "duration": 12,
    "start_time": "2024-05-25T02:03:38.225Z"
   },
   {
    "duration": 28,
    "start_time": "2024-05-25T02:03:38.240Z"
   },
   {
    "duration": 149,
    "start_time": "2024-05-25T02:03:38.271Z"
   },
   {
    "duration": 28,
    "start_time": "2024-05-25T02:03:38.423Z"
   },
   {
    "duration": 69,
    "start_time": "2024-05-25T02:03:38.454Z"
   },
   {
    "duration": 54,
    "start_time": "2024-05-25T02:03:38.526Z"
   },
   {
    "duration": 62,
    "start_time": "2024-05-25T02:03:38.582Z"
   },
   {
    "duration": 8,
    "start_time": "2024-05-25T02:03:38.647Z"
   },
   {
    "duration": 0,
    "start_time": "2024-05-25T02:03:38.658Z"
   },
   {
    "duration": 0,
    "start_time": "2024-05-25T02:03:38.660Z"
   },
   {
    "duration": 0,
    "start_time": "2024-05-25T02:03:38.662Z"
   },
   {
    "duration": 0,
    "start_time": "2024-05-25T02:03:38.664Z"
   },
   {
    "duration": 0,
    "start_time": "2024-05-25T02:03:38.667Z"
   },
   {
    "duration": 0,
    "start_time": "2024-05-25T02:03:38.670Z"
   },
   {
    "duration": 0,
    "start_time": "2024-05-25T02:03:38.672Z"
   },
   {
    "duration": 0,
    "start_time": "2024-05-25T02:03:38.714Z"
   },
   {
    "duration": 0,
    "start_time": "2024-05-25T02:03:38.716Z"
   },
   {
    "duration": 0,
    "start_time": "2024-05-25T02:03:38.719Z"
   },
   {
    "duration": 0,
    "start_time": "2024-05-25T02:03:38.721Z"
   },
   {
    "duration": 0,
    "start_time": "2024-05-25T02:03:38.724Z"
   },
   {
    "duration": 0,
    "start_time": "2024-05-25T02:03:38.725Z"
   },
   {
    "duration": 0,
    "start_time": "2024-05-25T02:03:38.729Z"
   },
   {
    "duration": 46,
    "start_time": "2024-05-25T02:04:50.609Z"
   },
   {
    "duration": 4,
    "start_time": "2024-05-25T02:05:11.182Z"
   },
   {
    "duration": 264,
    "start_time": "2024-05-25T02:05:11.189Z"
   },
   {
    "duration": 9,
    "start_time": "2024-05-25T02:05:11.456Z"
   },
   {
    "duration": 14,
    "start_time": "2024-05-25T02:05:11.469Z"
   },
   {
    "duration": 14,
    "start_time": "2024-05-25T02:05:11.513Z"
   },
   {
    "duration": 15,
    "start_time": "2024-05-25T02:05:11.531Z"
   },
   {
    "duration": 15,
    "start_time": "2024-05-25T02:05:11.549Z"
   },
   {
    "duration": 54,
    "start_time": "2024-05-25T02:05:11.567Z"
   },
   {
    "duration": 17,
    "start_time": "2024-05-25T02:05:11.626Z"
   },
   {
    "duration": 26,
    "start_time": "2024-05-25T02:05:11.646Z"
   },
   {
    "duration": 46,
    "start_time": "2024-05-25T02:05:11.675Z"
   },
   {
    "duration": 107,
    "start_time": "2024-05-25T02:05:11.724Z"
   },
   {
    "duration": 58,
    "start_time": "2024-05-25T02:05:11.833Z"
   },
   {
    "duration": 36,
    "start_time": "2024-05-25T02:05:11.894Z"
   },
   {
    "duration": 10,
    "start_time": "2024-05-25T02:05:11.934Z"
   },
   {
    "duration": 66,
    "start_time": "2024-05-25T02:05:11.947Z"
   },
   {
    "duration": 25,
    "start_time": "2024-05-25T02:05:12.016Z"
   },
   {
    "duration": 24,
    "start_time": "2024-05-25T02:05:12.043Z"
   },
   {
    "duration": 42,
    "start_time": "2024-05-25T02:05:12.070Z"
   },
   {
    "duration": 81,
    "start_time": "2024-05-25T02:05:12.115Z"
   },
   {
    "duration": 31,
    "start_time": "2024-05-25T02:05:12.214Z"
   },
   {
    "duration": 11,
    "start_time": "2024-05-25T02:05:12.248Z"
   },
   {
    "duration": 58,
    "start_time": "2024-05-25T02:05:12.262Z"
   },
   {
    "duration": 123,
    "start_time": "2024-05-25T02:05:12.328Z"
   },
   {
    "duration": 26,
    "start_time": "2024-05-25T02:05:12.455Z"
   },
   {
    "duration": 65,
    "start_time": "2024-05-25T02:05:12.484Z"
   },
   {
    "duration": 82,
    "start_time": "2024-05-25T02:05:12.551Z"
   },
   {
    "duration": 37,
    "start_time": "2024-05-25T02:05:12.636Z"
   },
   {
    "duration": 70,
    "start_time": "2024-05-25T02:05:12.675Z"
   },
   {
    "duration": 12,
    "start_time": "2024-05-25T02:05:12.749Z"
   },
   {
    "duration": 359,
    "start_time": "2024-05-25T02:05:12.764Z"
   },
   {
    "duration": 14,
    "start_time": "2024-05-25T02:05:13.126Z"
   },
   {
    "duration": 87,
    "start_time": "2024-05-25T02:05:13.143Z"
   },
   {
    "duration": 27,
    "start_time": "2024-05-25T02:05:13.234Z"
   },
   {
    "duration": 53,
    "start_time": "2024-05-25T02:05:13.264Z"
   },
   {
    "duration": 492,
    "start_time": "2024-05-25T02:05:13.320Z"
   },
   {
    "duration": 3,
    "start_time": "2024-05-25T02:05:13.818Z"
   },
   {
    "duration": 4,
    "start_time": "2024-05-25T02:05:13.824Z"
   },
   {
    "duration": 4,
    "start_time": "2024-05-25T02:05:13.832Z"
   },
   {
    "duration": 4,
    "start_time": "2024-05-25T02:05:13.839Z"
   },
   {
    "duration": 4,
    "start_time": "2024-05-25T02:05:13.846Z"
   },
   {
    "duration": 4,
    "start_time": "2024-05-25T02:05:13.853Z"
   },
   {
    "duration": 53,
    "start_time": "2024-05-25T02:05:13.860Z"
   },
   {
    "duration": 32,
    "start_time": "2024-05-25T02:15:58.122Z"
   },
   {
    "duration": 38,
    "start_time": "2024-05-25T02:16:29.969Z"
   },
   {
    "duration": 45,
    "start_time": "2024-05-25T02:20:13.857Z"
   },
   {
    "duration": 31,
    "start_time": "2024-05-25T02:20:20.711Z"
   },
   {
    "duration": 329,
    "start_time": "2024-05-26T23:58:25.802Z"
   },
   {
    "duration": 5309,
    "start_time": "2024-05-26T23:58:37.689Z"
   },
   {
    "duration": 413,
    "start_time": "2024-05-26T23:58:43.003Z"
   },
   {
    "duration": 17,
    "start_time": "2024-05-26T23:58:43.418Z"
   },
   {
    "duration": 18,
    "start_time": "2024-05-26T23:58:43.440Z"
   },
   {
    "duration": 19,
    "start_time": "2024-05-26T23:58:43.462Z"
   },
   {
    "duration": 49,
    "start_time": "2024-05-26T23:58:43.485Z"
   },
   {
    "duration": 16,
    "start_time": "2024-05-26T23:58:43.538Z"
   },
   {
    "duration": 14,
    "start_time": "2024-05-26T23:58:43.557Z"
   },
   {
    "duration": 59,
    "start_time": "2024-05-26T23:58:43.575Z"
   },
   {
    "duration": 25,
    "start_time": "2024-05-26T23:58:43.640Z"
   },
   {
    "duration": 12,
    "start_time": "2024-05-26T23:58:43.671Z"
   },
   {
    "duration": 108,
    "start_time": "2024-05-26T23:58:43.687Z"
   },
   {
    "duration": 76,
    "start_time": "2024-05-26T23:58:43.798Z"
   },
   {
    "duration": 23,
    "start_time": "2024-05-26T23:58:43.877Z"
   },
   {
    "duration": 11,
    "start_time": "2024-05-26T23:58:43.932Z"
   },
   {
    "duration": 41,
    "start_time": "2024-05-26T23:58:43.948Z"
   },
   {
    "duration": 55,
    "start_time": "2024-05-26T23:58:43.993Z"
   },
   {
    "duration": 24,
    "start_time": "2024-05-26T23:58:44.051Z"
   },
   {
    "duration": 28,
    "start_time": "2024-05-26T23:58:44.078Z"
   },
   {
    "duration": 137,
    "start_time": "2024-05-26T23:58:44.109Z"
   },
   {
    "duration": 35,
    "start_time": "2024-05-26T23:58:44.250Z"
   },
   {
    "duration": 15,
    "start_time": "2024-05-26T23:58:44.288Z"
   },
   {
    "duration": 61,
    "start_time": "2024-05-26T23:58:44.307Z"
   },
   {
    "duration": 190,
    "start_time": "2024-05-26T23:58:44.372Z"
   },
   {
    "duration": 32,
    "start_time": "2024-05-26T23:58:44.565Z"
   },
   {
    "duration": 57,
    "start_time": "2024-05-26T23:58:44.601Z"
   },
   {
    "duration": 78,
    "start_time": "2024-05-26T23:58:44.662Z"
   },
   {
    "duration": 43,
    "start_time": "2024-05-26T23:58:44.749Z"
   },
   {
    "duration": 66,
    "start_time": "2024-05-26T23:58:44.795Z"
   },
   {
    "duration": 15,
    "start_time": "2024-05-26T23:58:44.864Z"
   },
   {
    "duration": 358,
    "start_time": "2024-05-26T23:58:44.882Z"
   },
   {
    "duration": 17,
    "start_time": "2024-05-26T23:58:45.244Z"
   },
   {
    "duration": 93,
    "start_time": "2024-05-26T23:58:45.264Z"
   },
   {
    "duration": 33,
    "start_time": "2024-05-26T23:58:45.361Z"
   },
   {
    "duration": 63,
    "start_time": "2024-05-26T23:58:45.398Z"
   },
   {
    "duration": 546,
    "start_time": "2024-05-26T23:58:45.464Z"
   },
   {
    "duration": 49,
    "start_time": "2024-05-26T23:58:46.014Z"
   },
   {
    "duration": 11,
    "start_time": "2024-05-26T23:58:46.066Z"
   },
   {
    "duration": 3,
    "start_time": "2024-05-26T23:58:46.080Z"
   },
   {
    "duration": 3,
    "start_time": "2024-05-26T23:58:46.087Z"
   },
   {
    "duration": 40,
    "start_time": "2024-05-26T23:58:46.094Z"
   },
   {
    "duration": 4,
    "start_time": "2024-05-26T23:58:46.137Z"
   },
   {
    "duration": 6,
    "start_time": "2024-05-26T23:58:46.144Z"
   },
   {
    "duration": 10,
    "start_time": "2024-05-26T23:59:28.934Z"
   },
   {
    "duration": 186,
    "start_time": "2024-05-26T23:59:42.595Z"
   },
   {
    "duration": 10,
    "start_time": "2024-05-27T00:07:13.374Z"
   },
   {
    "duration": 5,
    "start_time": "2024-05-27T00:08:15.329Z"
   },
   {
    "duration": 329,
    "start_time": "2024-05-27T00:08:15.340Z"
   },
   {
    "duration": 12,
    "start_time": "2024-05-27T00:08:15.673Z"
   },
   {
    "duration": 17,
    "start_time": "2024-05-27T00:08:15.689Z"
   },
   {
    "duration": 38,
    "start_time": "2024-05-27T00:08:15.710Z"
   },
   {
    "duration": 15,
    "start_time": "2024-05-27T00:08:15.753Z"
   },
   {
    "duration": 109,
    "start_time": "2024-05-27T00:08:15.772Z"
   },
   {
    "duration": 16,
    "start_time": "2024-05-27T00:08:15.885Z"
   },
   {
    "duration": 47,
    "start_time": "2024-05-27T00:08:15.904Z"
   },
   {
    "duration": 35,
    "start_time": "2024-05-27T00:08:15.957Z"
   },
   {
    "duration": 41,
    "start_time": "2024-05-27T00:08:15.995Z"
   },
   {
    "duration": 107,
    "start_time": "2024-05-27T00:08:16.042Z"
   },
   {
    "duration": 81,
    "start_time": "2024-05-27T00:08:16.152Z"
   },
   {
    "duration": 22,
    "start_time": "2024-05-27T00:08:16.236Z"
   },
   {
    "duration": 12,
    "start_time": "2024-05-27T00:08:16.266Z"
   },
   {
    "duration": 79,
    "start_time": "2024-05-27T00:08:16.284Z"
   },
   {
    "duration": 28,
    "start_time": "2024-05-27T00:08:16.369Z"
   },
   {
    "duration": 46,
    "start_time": "2024-05-27T00:08:16.400Z"
   },
   {
    "duration": 12,
    "start_time": "2024-05-27T00:08:16.450Z"
   },
   {
    "duration": 121,
    "start_time": "2024-05-27T00:08:16.466Z"
   },
   {
    "duration": 46,
    "start_time": "2024-05-27T00:08:16.592Z"
   },
   {
    "duration": 14,
    "start_time": "2024-05-27T00:08:16.641Z"
   },
   {
    "duration": 32,
    "start_time": "2024-05-27T00:08:16.659Z"
   },
   {
    "duration": 178,
    "start_time": "2024-05-27T00:08:16.695Z"
   },
   {
    "duration": 56,
    "start_time": "2024-05-27T00:08:16.876Z"
   },
   {
    "duration": 46,
    "start_time": "2024-05-27T00:08:16.935Z"
   },
   {
    "duration": 85,
    "start_time": "2024-05-27T00:08:16.984Z"
   },
   {
    "duration": 77,
    "start_time": "2024-05-27T00:08:17.073Z"
   },
   {
    "duration": 60,
    "start_time": "2024-05-27T00:08:17.156Z"
   },
   {
    "duration": 17,
    "start_time": "2024-05-27T00:08:17.224Z"
   },
   {
    "duration": 359,
    "start_time": "2024-05-27T00:08:17.244Z"
   },
   {
    "duration": 26,
    "start_time": "2024-05-27T00:08:17.608Z"
   },
   {
    "duration": 62,
    "start_time": "2024-05-27T00:08:17.638Z"
   },
   {
    "duration": 55,
    "start_time": "2024-05-27T00:08:17.704Z"
   },
   {
    "duration": 33,
    "start_time": "2024-05-27T00:08:17.762Z"
   },
   {
    "duration": 538,
    "start_time": "2024-05-27T00:08:17.798Z"
   },
   {
    "duration": 45,
    "start_time": "2024-05-27T00:08:18.340Z"
   },
   {
    "duration": 12,
    "start_time": "2024-05-27T00:08:18.389Z"
   },
   {
    "duration": 36,
    "start_time": "2024-05-27T00:08:18.405Z"
   },
   {
    "duration": 12,
    "start_time": "2024-05-27T00:08:18.444Z"
   },
   {
    "duration": 214,
    "start_time": "2024-05-27T00:08:18.460Z"
   },
   {
    "duration": 3,
    "start_time": "2024-05-27T00:08:18.685Z"
   },
   {
    "duration": 5,
    "start_time": "2024-05-27T00:08:18.692Z"
   },
   {
    "duration": 5,
    "start_time": "2024-05-27T00:08:18.700Z"
   },
   {
    "duration": 4,
    "start_time": "2024-05-27T00:08:18.735Z"
   },
   {
    "duration": 208,
    "start_time": "2024-05-27T00:08:39.846Z"
   },
   {
    "duration": 35,
    "start_time": "2024-05-27T00:11:54.947Z"
   },
   {
    "duration": 162,
    "start_time": "2024-05-27T00:12:38.171Z"
   },
   {
    "duration": 40,
    "start_time": "2024-05-27T00:13:17.686Z"
   },
   {
    "duration": 778,
    "start_time": "2024-05-27T00:16:35.351Z"
   },
   {
    "duration": 25,
    "start_time": "2024-05-27T00:18:24.677Z"
   },
   {
    "duration": 26,
    "start_time": "2024-05-27T00:19:36.597Z"
   },
   {
    "duration": 499,
    "start_time": "2024-05-27T00:21:40.773Z"
   },
   {
    "duration": 513,
    "start_time": "2024-05-27T00:23:57.722Z"
   },
   {
    "duration": 359,
    "start_time": "2024-05-27T00:26:33.249Z"
   },
   {
    "duration": 9,
    "start_time": "2024-05-27T00:31:01.376Z"
   },
   {
    "duration": 29,
    "start_time": "2024-05-27T00:33:04.955Z"
   },
   {
    "duration": 28,
    "start_time": "2024-05-27T00:33:47.674Z"
   },
   {
    "duration": 446,
    "start_time": "2024-05-27T00:35:28.403Z"
   },
   {
    "duration": 123,
    "start_time": "2024-05-27T00:37:44.105Z"
   },
   {
    "duration": 99,
    "start_time": "2024-05-27T00:37:58.114Z"
   },
   {
    "duration": 92,
    "start_time": "2024-05-27T00:38:05.802Z"
   },
   {
    "duration": 10,
    "start_time": "2024-05-27T00:38:39.356Z"
   },
   {
    "duration": 192,
    "start_time": "2024-05-27T00:39:28.570Z"
   },
   {
    "duration": 37,
    "start_time": "2024-05-27T01:06:30.624Z"
   },
   {
    "duration": 20,
    "start_time": "2024-05-27T01:07:07.674Z"
   },
   {
    "duration": 23,
    "start_time": "2024-05-27T01:07:56.749Z"
   },
   {
    "duration": 20,
    "start_time": "2024-05-27T01:08:06.132Z"
   },
   {
    "duration": 5,
    "start_time": "2024-05-27T01:08:13.102Z"
   },
   {
    "duration": 305,
    "start_time": "2024-05-27T01:08:13.116Z"
   },
   {
    "duration": 15,
    "start_time": "2024-05-27T01:08:13.425Z"
   },
   {
    "duration": 18,
    "start_time": "2024-05-27T01:08:13.444Z"
   },
   {
    "duration": 15,
    "start_time": "2024-05-27T01:08:13.466Z"
   },
   {
    "duration": 48,
    "start_time": "2024-05-27T01:08:13.485Z"
   },
   {
    "duration": 13,
    "start_time": "2024-05-27T01:08:13.537Z"
   },
   {
    "duration": 12,
    "start_time": "2024-05-27T01:08:13.553Z"
   },
   {
    "duration": 19,
    "start_time": "2024-05-27T01:08:13.568Z"
   },
   {
    "duration": 65,
    "start_time": "2024-05-27T01:08:13.590Z"
   },
   {
    "duration": 11,
    "start_time": "2024-05-27T01:08:13.663Z"
   },
   {
    "duration": 93,
    "start_time": "2024-05-27T01:08:13.677Z"
   },
   {
    "duration": 69,
    "start_time": "2024-05-27T01:08:13.773Z"
   },
   {
    "duration": 20,
    "start_time": "2024-05-27T01:08:13.845Z"
   },
   {
    "duration": 10,
    "start_time": "2024-05-27T01:08:13.868Z"
   },
   {
    "duration": 66,
    "start_time": "2024-05-27T01:08:13.881Z"
   },
   {
    "duration": 26,
    "start_time": "2024-05-27T01:08:13.950Z"
   },
   {
    "duration": 21,
    "start_time": "2024-05-27T01:08:13.979Z"
   },
   {
    "duration": 37,
    "start_time": "2024-05-27T01:08:14.004Z"
   },
   {
    "duration": 126,
    "start_time": "2024-05-27T01:08:14.043Z"
   },
   {
    "duration": 33,
    "start_time": "2024-05-27T01:08:14.172Z"
   },
   {
    "duration": 29,
    "start_time": "2024-05-27T01:08:14.208Z"
   },
   {
    "duration": 32,
    "start_time": "2024-05-27T01:08:14.240Z"
   },
   {
    "duration": 156,
    "start_time": "2024-05-27T01:08:14.276Z"
   },
   {
    "duration": 27,
    "start_time": "2024-05-27T01:08:14.436Z"
   },
   {
    "duration": 69,
    "start_time": "2024-05-27T01:08:14.465Z"
   },
   {
    "duration": 52,
    "start_time": "2024-05-27T01:08:14.537Z"
   },
   {
    "duration": 62,
    "start_time": "2024-05-27T01:08:14.593Z"
   },
   {
    "duration": 33,
    "start_time": "2024-05-27T01:08:14.665Z"
   },
   {
    "duration": 41,
    "start_time": "2024-05-27T01:08:14.700Z"
   },
   {
    "duration": 336,
    "start_time": "2024-05-27T01:08:14.744Z"
   },
   {
    "duration": 15,
    "start_time": "2024-05-27T01:08:15.084Z"
   },
   {
    "duration": 78,
    "start_time": "2024-05-27T01:08:15.102Z"
   },
   {
    "duration": 53,
    "start_time": "2024-05-27T01:08:15.183Z"
   },
   {
    "duration": 29,
    "start_time": "2024-05-27T01:08:15.239Z"
   },
   {
    "duration": 474,
    "start_time": "2024-05-27T01:08:15.272Z"
   },
   {
    "duration": 34,
    "start_time": "2024-05-27T01:08:15.749Z"
   },
   {
    "duration": 9,
    "start_time": "2024-05-27T01:08:15.786Z"
   },
   {
    "duration": 43,
    "start_time": "2024-05-27T01:08:15.798Z"
   },
   {
    "duration": 10,
    "start_time": "2024-05-27T01:08:15.845Z"
   },
   {
    "duration": 318,
    "start_time": "2024-05-27T01:08:15.858Z"
   },
   {
    "duration": 34,
    "start_time": "2024-05-27T01:08:16.179Z"
   },
   {
    "duration": 37,
    "start_time": "2024-05-27T01:08:16.215Z"
   },
   {
    "duration": 21,
    "start_time": "2024-05-27T01:08:16.255Z"
   },
   {
    "duration": 485,
    "start_time": "2024-05-27T01:08:16.279Z"
   },
   {
    "duration": 7,
    "start_time": "2024-05-27T01:08:16.768Z"
   },
   {
    "duration": 200,
    "start_time": "2024-05-27T01:08:16.779Z"
   },
   {
    "duration": 24,
    "start_time": "2024-05-27T01:08:16.982Z"
   },
   {
    "duration": 24,
    "start_time": "2024-05-27T01:08:17.032Z"
   },
   {
    "duration": 469,
    "start_time": "2024-05-27T01:08:17.059Z"
   },
   {
    "duration": 10,
    "start_time": "2024-05-27T01:08:17.531Z"
   },
   {
    "duration": 200,
    "start_time": "2024-05-27T01:08:17.545Z"
   },
   {
    "duration": 21,
    "start_time": "2024-05-27T01:08:17.748Z"
   },
   {
    "duration": 20,
    "start_time": "2024-05-27T01:08:17.772Z"
   },
   {
    "duration": 516,
    "start_time": "2024-05-27T01:08:17.795Z"
   },
   {
    "duration": 34,
    "start_time": "2024-05-27T01:08:18.314Z"
   },
   {
    "duration": 0,
    "start_time": "2024-05-27T01:08:18.350Z"
   },
   {
    "duration": 442,
    "start_time": "2024-05-27T01:08:53.882Z"
   },
   {
    "duration": 521,
    "start_time": "2024-05-27T01:09:08.785Z"
   },
   {
    "duration": 535,
    "start_time": "2024-05-27T01:09:26.524Z"
   },
   {
    "duration": 22,
    "start_time": "2024-05-27T01:11:33.594Z"
   },
   {
    "duration": 240,
    "start_time": "2024-05-27T01:12:35.680Z"
   },
   {
    "duration": 41,
    "start_time": "2024-05-27T01:14:02.535Z"
   },
   {
    "duration": 11,
    "start_time": "2024-05-27T01:14:20.946Z"
   },
   {
    "duration": 345,
    "start_time": "2024-05-27T14:28:41.974Z"
   },
   {
    "duration": 5251,
    "start_time": "2024-05-27T14:28:47.318Z"
   },
   {
    "duration": 403,
    "start_time": "2024-05-27T14:28:52.573Z"
   },
   {
    "duration": 12,
    "start_time": "2024-05-27T14:28:52.978Z"
   },
   {
    "duration": 17,
    "start_time": "2024-05-27T14:28:52.994Z"
   },
   {
    "duration": 21,
    "start_time": "2024-05-27T14:28:53.034Z"
   },
   {
    "duration": 16,
    "start_time": "2024-05-27T14:28:53.062Z"
   },
   {
    "duration": 15,
    "start_time": "2024-05-27T14:28:53.082Z"
   },
   {
    "duration": 16,
    "start_time": "2024-05-27T14:28:53.132Z"
   },
   {
    "duration": 21,
    "start_time": "2024-05-27T14:28:53.155Z"
   },
   {
    "duration": 24,
    "start_time": "2024-05-27T14:28:53.181Z"
   },
   {
    "duration": 14,
    "start_time": "2024-05-27T14:28:53.232Z"
   },
   {
    "duration": 135,
    "start_time": "2024-05-27T14:28:53.249Z"
   },
   {
    "duration": 70,
    "start_time": "2024-05-27T14:28:53.388Z"
   },
   {
    "duration": 24,
    "start_time": "2024-05-27T14:28:53.461Z"
   },
   {
    "duration": 9,
    "start_time": "2024-05-27T14:28:53.488Z"
   },
   {
    "duration": 70,
    "start_time": "2024-05-27T14:28:53.501Z"
   },
   {
    "duration": 25,
    "start_time": "2024-05-27T14:28:53.573Z"
   },
   {
    "duration": 51,
    "start_time": "2024-05-27T14:28:53.600Z"
   },
   {
    "duration": 17,
    "start_time": "2024-05-27T14:28:53.654Z"
   },
   {
    "duration": 118,
    "start_time": "2024-05-27T14:28:53.678Z"
   },
   {
    "duration": 47,
    "start_time": "2024-05-27T14:28:53.800Z"
   },
   {
    "duration": 18,
    "start_time": "2024-05-27T14:28:53.850Z"
   },
   {
    "duration": 31,
    "start_time": "2024-05-27T14:28:53.872Z"
   },
   {
    "duration": 166,
    "start_time": "2024-05-27T14:28:53.906Z"
   },
   {
    "duration": 28,
    "start_time": "2024-05-27T14:28:54.074Z"
   },
   {
    "duration": 75,
    "start_time": "2024-05-27T14:28:54.105Z"
   },
   {
    "duration": 88,
    "start_time": "2024-05-27T14:28:54.184Z"
   },
   {
    "duration": 56,
    "start_time": "2024-05-27T14:28:54.280Z"
   },
   {
    "duration": 43,
    "start_time": "2024-05-27T14:28:54.341Z"
   },
   {
    "duration": 12,
    "start_time": "2024-05-27T14:28:54.387Z"
   },
   {
    "duration": 379,
    "start_time": "2024-05-27T14:28:54.402Z"
   },
   {
    "duration": 16,
    "start_time": "2024-05-27T14:28:54.786Z"
   },
   {
    "duration": 100,
    "start_time": "2024-05-27T14:28:54.805Z"
   },
   {
    "duration": 46,
    "start_time": "2024-05-27T14:28:54.909Z"
   },
   {
    "duration": 30,
    "start_time": "2024-05-27T14:28:54.960Z"
   },
   {
    "duration": 498,
    "start_time": "2024-05-27T14:28:54.992Z"
   },
   {
    "duration": 51,
    "start_time": "2024-05-27T14:28:55.494Z"
   },
   {
    "duration": 11,
    "start_time": "2024-05-27T14:28:55.548Z"
   },
   {
    "duration": 12,
    "start_time": "2024-05-27T14:28:55.563Z"
   },
   {
    "duration": 10,
    "start_time": "2024-05-27T14:28:55.578Z"
   },
   {
    "duration": 253,
    "start_time": "2024-05-27T14:28:55.591Z"
   },
   {
    "duration": 47,
    "start_time": "2024-05-27T14:28:55.852Z"
   },
   {
    "duration": 43,
    "start_time": "2024-05-27T14:28:55.903Z"
   },
   {
    "duration": 25,
    "start_time": "2024-05-27T14:28:55.949Z"
   },
   {
    "duration": 472,
    "start_time": "2024-05-27T14:28:55.977Z"
   },
   {
    "duration": 11,
    "start_time": "2024-05-27T14:28:56.455Z"
   },
   {
    "duration": 215,
    "start_time": "2024-05-27T14:28:56.471Z"
   },
   {
    "duration": 28,
    "start_time": "2024-05-27T14:28:56.690Z"
   },
   {
    "duration": 33,
    "start_time": "2024-05-27T14:28:56.736Z"
   },
   {
    "duration": 493,
    "start_time": "2024-05-27T14:28:56.773Z"
   },
   {
    "duration": 10,
    "start_time": "2024-05-27T14:28:57.269Z"
   },
   {
    "duration": 290,
    "start_time": "2024-05-27T14:28:57.282Z"
   },
   {
    "duration": 21,
    "start_time": "2024-05-27T14:28:57.575Z"
   },
   {
    "duration": 51,
    "start_time": "2024-05-27T14:28:57.599Z"
   },
   {
    "duration": 480,
    "start_time": "2024-05-27T14:28:57.653Z"
   },
   {
    "duration": 14,
    "start_time": "2024-05-27T14:28:58.146Z"
   },
   {
    "duration": 187,
    "start_time": "2024-05-27T14:28:58.163Z"
   },
   {
    "duration": 7,
    "start_time": "2024-05-27T14:28:58.353Z"
   },
   {
    "duration": 3,
    "start_time": "2024-05-27T14:28:58.364Z"
   },
   {
    "duration": 122,
    "start_time": "2024-05-27T14:32:13.381Z"
   },
   {
    "duration": 35,
    "start_time": "2024-05-27T14:32:17.765Z"
   },
   {
    "duration": 941,
    "start_time": "2024-05-27T14:35:15.170Z"
   },
   {
    "duration": 14,
    "start_time": "2024-05-27T14:37:01.316Z"
   },
   {
    "duration": 44,
    "start_time": "2024-05-27T14:39:11.616Z"
   },
   {
    "duration": 56,
    "start_time": "2024-05-27T14:39:50.870Z"
   },
   {
    "duration": 31,
    "start_time": "2024-05-27T14:39:55.574Z"
   },
   {
    "duration": 49,
    "start_time": "2024-05-27T14:40:36.123Z"
   },
   {
    "duration": 309,
    "start_time": "2024-05-27T14:41:27.911Z"
   },
   {
    "duration": 66,
    "start_time": "2024-05-27T14:41:45.960Z"
   },
   {
    "duration": 21,
    "start_time": "2024-05-27T14:42:01.633Z"
   },
   {
    "duration": 7,
    "start_time": "2024-05-27T14:42:27.608Z"
   },
   {
    "duration": 37,
    "start_time": "2024-05-27T14:42:33.131Z"
   },
   {
    "duration": 24,
    "start_time": "2024-05-27T14:42:43.583Z"
   },
   {
    "duration": 7,
    "start_time": "2024-05-27T14:43:28.978Z"
   },
   {
    "duration": 47,
    "start_time": "2024-05-27T14:43:32.753Z"
   },
   {
    "duration": 41,
    "start_time": "2024-05-27T14:43:40.634Z"
   },
   {
    "duration": 17,
    "start_time": "2024-05-27T14:43:59.805Z"
   },
   {
    "duration": 16,
    "start_time": "2024-05-27T14:44:45.249Z"
   },
   {
    "duration": 7,
    "start_time": "2024-05-27T14:48:17.521Z"
   },
   {
    "duration": 9,
    "start_time": "2024-05-27T14:48:41.044Z"
   },
   {
    "duration": 6150,
    "start_time": "2024-05-27T16:10:34.160Z"
   },
   {
    "duration": 438,
    "start_time": "2024-05-27T16:10:40.314Z"
   },
   {
    "duration": 13,
    "start_time": "2024-05-27T16:10:40.756Z"
   },
   {
    "duration": 20,
    "start_time": "2024-05-27T16:10:40.772Z"
   },
   {
    "duration": 45,
    "start_time": "2024-05-27T16:10:40.797Z"
   },
   {
    "duration": 17,
    "start_time": "2024-05-27T16:10:40.846Z"
   },
   {
    "duration": 17,
    "start_time": "2024-05-27T16:10:40.866Z"
   },
   {
    "duration": 53,
    "start_time": "2024-05-27T16:10:40.887Z"
   },
   {
    "duration": 21,
    "start_time": "2024-05-27T16:10:40.944Z"
   },
   {
    "duration": 64,
    "start_time": "2024-05-27T16:10:40.969Z"
   },
   {
    "duration": 14,
    "start_time": "2024-05-27T16:10:41.036Z"
   },
   {
    "duration": 138,
    "start_time": "2024-05-27T16:10:41.054Z"
   },
   {
    "duration": 84,
    "start_time": "2024-05-27T16:10:41.196Z"
   },
   {
    "duration": 24,
    "start_time": "2024-05-27T16:10:41.290Z"
   },
   {
    "duration": 18,
    "start_time": "2024-05-27T16:10:41.334Z"
   },
   {
    "duration": 52,
    "start_time": "2024-05-27T16:10:41.357Z"
   },
   {
    "duration": 52,
    "start_time": "2024-05-27T16:10:41.412Z"
   },
   {
    "duration": 24,
    "start_time": "2024-05-27T16:10:41.469Z"
   },
   {
    "duration": 51,
    "start_time": "2024-05-27T16:10:41.497Z"
   },
   {
    "duration": 125,
    "start_time": "2024-05-27T16:10:41.552Z"
   },
   {
    "duration": 51,
    "start_time": "2024-05-27T16:10:41.682Z"
   },
   {
    "duration": 18,
    "start_time": "2024-05-27T16:10:41.737Z"
   },
   {
    "duration": 36,
    "start_time": "2024-05-27T16:10:41.761Z"
   },
   {
    "duration": 188,
    "start_time": "2024-05-27T16:10:41.801Z"
   },
   {
    "duration": 57,
    "start_time": "2024-05-27T16:10:41.993Z"
   },
   {
    "duration": 48,
    "start_time": "2024-05-27T16:10:42.055Z"
   },
   {
    "duration": 74,
    "start_time": "2024-05-27T16:10:42.134Z"
   },
   {
    "duration": 68,
    "start_time": "2024-05-27T16:10:42.212Z"
   },
   {
    "duration": 68,
    "start_time": "2024-05-27T16:10:42.284Z"
   },
   {
    "duration": 13,
    "start_time": "2024-05-27T16:10:42.357Z"
   },
   {
    "duration": 383,
    "start_time": "2024-05-27T16:10:42.374Z"
   },
   {
    "duration": 19,
    "start_time": "2024-05-27T16:10:42.761Z"
   },
   {
    "duration": 91,
    "start_time": "2024-05-27T16:10:42.783Z"
   },
   {
    "duration": 54,
    "start_time": "2024-05-27T16:10:42.880Z"
   },
   {
    "duration": 34,
    "start_time": "2024-05-27T16:10:42.939Z"
   },
   {
    "duration": 520,
    "start_time": "2024-05-27T16:10:42.976Z"
   },
   {
    "duration": 64,
    "start_time": "2024-05-27T16:10:43.499Z"
   },
   {
    "duration": 14,
    "start_time": "2024-05-27T16:10:43.572Z"
   },
   {
    "duration": 16,
    "start_time": "2024-05-27T16:10:43.590Z"
   },
   {
    "duration": 26,
    "start_time": "2024-05-27T16:10:43.610Z"
   },
   {
    "duration": 237,
    "start_time": "2024-05-27T16:10:43.648Z"
   },
   {
    "duration": 54,
    "start_time": "2024-05-27T16:10:43.888Z"
   },
   {
    "duration": 25,
    "start_time": "2024-05-27T16:10:43.945Z"
   },
   {
    "duration": 28,
    "start_time": "2024-05-27T16:10:43.973Z"
   },
   {
    "duration": 539,
    "start_time": "2024-05-27T16:10:44.004Z"
   },
   {
    "duration": 9,
    "start_time": "2024-05-27T16:10:44.547Z"
   },
   {
    "duration": 273,
    "start_time": "2024-05-27T16:10:44.560Z"
   },
   {
    "duration": 33,
    "start_time": "2024-05-27T16:10:44.836Z"
   },
   {
    "duration": 64,
    "start_time": "2024-05-27T16:10:44.872Z"
   },
   {
    "duration": 507,
    "start_time": "2024-05-27T16:10:44.940Z"
   },
   {
    "duration": 7,
    "start_time": "2024-05-27T16:10:45.451Z"
   },
   {
    "duration": 310,
    "start_time": "2024-05-27T16:10:45.462Z"
   },
   {
    "duration": 30,
    "start_time": "2024-05-27T16:10:45.777Z"
   },
   {
    "duration": 45,
    "start_time": "2024-05-27T16:10:45.813Z"
   },
   {
    "duration": 497,
    "start_time": "2024-05-27T16:10:45.866Z"
   },
   {
    "duration": 8,
    "start_time": "2024-05-27T16:10:46.367Z"
   },
   {
    "duration": 249,
    "start_time": "2024-05-27T16:10:46.379Z"
   },
   {
    "duration": 13,
    "start_time": "2024-05-27T16:10:46.635Z"
   },
   {
    "duration": 41,
    "start_time": "2024-05-27T16:10:46.653Z"
   },
   {
    "duration": 52,
    "start_time": "2024-05-27T16:10:46.698Z"
   },
   {
    "duration": 14,
    "start_time": "2024-05-27T16:10:46.753Z"
   },
   {
    "duration": 11,
    "start_time": "2024-05-27T16:10:46.771Z"
   },
   {
    "duration": 8,
    "start_time": "2024-05-27T16:10:46.785Z"
   },
   {
    "duration": 8,
    "start_time": "2024-05-27T16:20:05.404Z"
   },
   {
    "duration": 12,
    "start_time": "2024-05-28T08:58:18.116Z"
   },
   {
    "duration": 5,
    "start_time": "2024-05-28T08:58:24.487Z"
   },
   {
    "duration": 6,
    "start_time": "2024-05-28T08:58:41.552Z"
   },
   {
    "duration": 5,
    "start_time": "2024-05-28T08:58:57.544Z"
   },
   {
    "duration": 5,
    "start_time": "2024-05-28T09:00:09.959Z"
   },
   {
    "duration": 10,
    "start_time": "2024-05-28T09:00:32.533Z"
   },
   {
    "duration": 7,
    "start_time": "2024-05-28T09:00:42.250Z"
   },
   {
    "duration": 307,
    "start_time": "2024-05-28T09:04:40.269Z"
   },
   {
    "duration": 4771,
    "start_time": "2024-05-28T09:04:53.852Z"
   },
   {
    "duration": 376,
    "start_time": "2024-05-28T09:04:58.627Z"
   },
   {
    "duration": 12,
    "start_time": "2024-05-28T09:04:59.006Z"
   },
   {
    "duration": 22,
    "start_time": "2024-05-28T09:04:59.021Z"
   },
   {
    "duration": 16,
    "start_time": "2024-05-28T09:04:59.049Z"
   },
   {
    "duration": 16,
    "start_time": "2024-05-28T09:04:59.068Z"
   },
   {
    "duration": 51,
    "start_time": "2024-05-28T09:04:59.087Z"
   },
   {
    "duration": 11,
    "start_time": "2024-05-28T09:04:59.141Z"
   },
   {
    "duration": 19,
    "start_time": "2024-05-28T09:04:59.155Z"
   },
   {
    "duration": 64,
    "start_time": "2024-05-28T09:04:59.176Z"
   },
   {
    "duration": 12,
    "start_time": "2024-05-28T09:04:59.243Z"
   },
   {
    "duration": 99,
    "start_time": "2024-05-28T09:04:59.258Z"
   },
   {
    "duration": 56,
    "start_time": "2024-05-28T09:04:59.360Z"
   },
   {
    "duration": 19,
    "start_time": "2024-05-28T09:04:59.436Z"
   },
   {
    "duration": 10,
    "start_time": "2024-05-28T09:04:59.458Z"
   },
   {
    "duration": 71,
    "start_time": "2024-05-28T09:04:59.472Z"
   },
   {
    "duration": 24,
    "start_time": "2024-05-28T09:04:59.546Z"
   },
   {
    "duration": 22,
    "start_time": "2024-05-28T09:04:59.573Z"
   },
   {
    "duration": 36,
    "start_time": "2024-05-28T09:04:59.598Z"
   },
   {
    "duration": 102,
    "start_time": "2024-05-28T09:04:59.637Z"
   },
   {
    "duration": 31,
    "start_time": "2024-05-28T09:04:59.741Z"
   },
   {
    "duration": 74,
    "start_time": "2024-05-28T09:04:59.775Z"
   },
   {
    "duration": 12,
    "start_time": "2024-05-28T09:04:59.852Z"
   },
   {
    "duration": 31,
    "start_time": "2024-05-28T09:04:59.868Z"
   },
   {
    "duration": 132,
    "start_time": "2024-05-28T09:04:59.930Z"
   },
   {
    "duration": 27,
    "start_time": "2024-05-28T09:05:00.065Z"
   },
   {
    "duration": 63,
    "start_time": "2024-05-28T09:05:00.095Z"
   },
   {
    "duration": 78,
    "start_time": "2024-05-28T09:05:00.161Z"
   },
   {
    "duration": 39,
    "start_time": "2024-05-28T09:05:00.243Z"
   },
   {
    "duration": 62,
    "start_time": "2024-05-28T09:05:00.285Z"
   },
   {
    "duration": 11,
    "start_time": "2024-05-28T09:05:00.350Z"
   },
   {
    "duration": 336,
    "start_time": "2024-05-28T09:05:00.364Z"
   },
   {
    "duration": 27,
    "start_time": "2024-05-28T09:05:00.703Z"
   },
   {
    "duration": 59,
    "start_time": "2024-05-28T09:05:00.734Z"
   },
   {
    "duration": 57,
    "start_time": "2024-05-28T09:05:00.796Z"
   },
   {
    "duration": 28,
    "start_time": "2024-05-28T09:05:00.856Z"
   },
   {
    "duration": 527,
    "start_time": "2024-05-28T09:05:00.886Z"
   },
   {
    "duration": 47,
    "start_time": "2024-05-28T09:05:01.416Z"
   },
   {
    "duration": 9,
    "start_time": "2024-05-28T09:05:01.465Z"
   },
   {
    "duration": 10,
    "start_time": "2024-05-28T09:05:01.477Z"
   },
   {
    "duration": 9,
    "start_time": "2024-05-28T09:05:01.533Z"
   },
   {
    "duration": 207,
    "start_time": "2024-05-28T09:05:01.545Z"
   },
   {
    "duration": 47,
    "start_time": "2024-05-28T09:05:01.755Z"
   },
   {
    "duration": 40,
    "start_time": "2024-05-28T09:05:01.805Z"
   },
   {
    "duration": 21,
    "start_time": "2024-05-28T09:05:01.848Z"
   },
   {
    "duration": 466,
    "start_time": "2024-05-28T09:05:01.872Z"
   },
   {
    "duration": 8,
    "start_time": "2024-05-28T09:05:02.342Z"
   },
   {
    "duration": 211,
    "start_time": "2024-05-28T09:05:02.353Z"
   },
   {
    "duration": 24,
    "start_time": "2024-05-28T09:05:02.567Z"
   },
   {
    "duration": 51,
    "start_time": "2024-05-28T09:05:02.594Z"
   },
   {
    "duration": 472,
    "start_time": "2024-05-28T09:05:02.648Z"
   },
   {
    "duration": 12,
    "start_time": "2024-05-28T09:05:03.123Z"
   },
   {
    "duration": 266,
    "start_time": "2024-05-28T09:05:03.140Z"
   },
   {
    "duration": 29,
    "start_time": "2024-05-28T09:05:03.409Z"
   },
   {
    "duration": 21,
    "start_time": "2024-05-28T09:05:03.441Z"
   },
   {
    "duration": 459,
    "start_time": "2024-05-28T09:05:03.465Z"
   },
   {
    "duration": 7,
    "start_time": "2024-05-28T09:05:03.926Z"
   },
   {
    "duration": 196,
    "start_time": "2024-05-28T09:05:03.936Z"
   },
   {
    "duration": 8,
    "start_time": "2024-05-28T09:05:04.135Z"
   },
   {
    "duration": 36,
    "start_time": "2024-05-28T09:05:04.146Z"
   },
   {
    "duration": 49,
    "start_time": "2024-05-28T09:05:04.185Z"
   },
   {
    "duration": 13,
    "start_time": "2024-05-28T09:05:04.237Z"
   },
   {
    "duration": 7,
    "start_time": "2024-05-28T09:05:04.253Z"
   },
   {
    "duration": 9,
    "start_time": "2024-05-28T09:05:04.265Z"
   },
   {
    "duration": 66,
    "start_time": "2024-05-28T09:05:20.882Z"
   },
   {
    "duration": 81,
    "start_time": "2024-05-28T09:08:07.423Z"
   },
   {
    "duration": 104,
    "start_time": "2024-05-28T09:08:45.354Z"
   },
   {
    "duration": 76,
    "start_time": "2024-05-28T09:09:51.328Z"
   },
   {
    "duration": 83,
    "start_time": "2024-05-28T09:13:08.714Z"
   },
   {
    "duration": 1065,
    "start_time": "2024-05-28T09:13:34.872Z"
   },
   {
    "duration": 81,
    "start_time": "2024-05-28T09:13:47.789Z"
   },
   {
    "duration": 103,
    "start_time": "2024-05-28T09:15:14.069Z"
   },
   {
    "duration": 72,
    "start_time": "2024-05-28T09:16:28.001Z"
   },
   {
    "duration": 65,
    "start_time": "2024-05-28T09:16:46.674Z"
   },
   {
    "duration": 38,
    "start_time": "2024-05-28T09:19:28.771Z"
   },
   {
    "duration": 16,
    "start_time": "2024-05-28T09:28:22.955Z"
   },
   {
    "duration": 267,
    "start_time": "2024-05-28T09:28:28.903Z"
   },
   {
    "duration": 67,
    "start_time": "2024-05-28T09:28:48.810Z"
   },
   {
    "duration": 322,
    "start_time": "2024-05-29T02:13:42.155Z"
   },
   {
    "duration": 4852,
    "start_time": "2024-05-29T02:13:47.634Z"
   },
   {
    "duration": 333,
    "start_time": "2024-05-29T02:13:52.490Z"
   },
   {
    "duration": 12,
    "start_time": "2024-05-29T02:13:52.826Z"
   },
   {
    "duration": 16,
    "start_time": "2024-05-29T02:13:52.842Z"
   },
   {
    "duration": 16,
    "start_time": "2024-05-29T02:13:52.861Z"
   },
   {
    "duration": 15,
    "start_time": "2024-05-29T02:13:52.880Z"
   },
   {
    "duration": 15,
    "start_time": "2024-05-29T02:13:52.934Z"
   },
   {
    "duration": 13,
    "start_time": "2024-05-29T02:13:52.952Z"
   },
   {
    "duration": 19,
    "start_time": "2024-05-29T02:13:52.967Z"
   },
   {
    "duration": 63,
    "start_time": "2024-05-29T02:13:52.991Z"
   },
   {
    "duration": 12,
    "start_time": "2024-05-29T02:13:53.057Z"
   },
   {
    "duration": 101,
    "start_time": "2024-05-29T02:13:53.072Z"
   },
   {
    "duration": 67,
    "start_time": "2024-05-29T02:13:53.176Z"
   },
   {
    "duration": 18,
    "start_time": "2024-05-29T02:13:53.249Z"
   },
   {
    "duration": 10,
    "start_time": "2024-05-29T02:13:53.270Z"
   },
   {
    "duration": 77,
    "start_time": "2024-05-29T02:13:53.284Z"
   },
   {
    "duration": 28,
    "start_time": "2024-05-29T02:13:53.365Z"
   },
   {
    "duration": 42,
    "start_time": "2024-05-29T02:13:53.396Z"
   },
   {
    "duration": 12,
    "start_time": "2024-05-29T02:13:53.443Z"
   },
   {
    "duration": 112,
    "start_time": "2024-05-29T02:13:53.458Z"
   },
   {
    "duration": 30,
    "start_time": "2024-05-29T02:13:53.573Z"
   },
   {
    "duration": 93,
    "start_time": "2024-05-29T02:13:53.606Z"
   },
   {
    "duration": 99,
    "start_time": "2024-05-29T02:13:53.702Z"
   },
   {
    "duration": 39,
    "start_time": "2024-05-29T02:13:53.804Z"
   },
   {
    "duration": 33,
    "start_time": "2024-05-29T02:13:53.845Z"
   },
   {
    "duration": 152,
    "start_time": "2024-05-29T02:13:53.880Z"
   },
   {
    "duration": 28,
    "start_time": "2024-05-29T02:13:54.035Z"
   },
   {
    "duration": 68,
    "start_time": "2024-05-29T02:13:54.072Z"
   },
   {
    "duration": 55,
    "start_time": "2024-05-29T02:13:54.142Z"
   },
   {
    "duration": 61,
    "start_time": "2024-05-29T02:13:54.201Z"
   },
   {
    "duration": 32,
    "start_time": "2024-05-29T02:13:54.265Z"
   },
   {
    "duration": 14,
    "start_time": "2024-05-29T02:13:54.333Z"
   },
   {
    "duration": 330,
    "start_time": "2024-05-29T02:13:54.351Z"
   },
   {
    "duration": 15,
    "start_time": "2024-05-29T02:13:54.684Z"
   },
   {
    "duration": 71,
    "start_time": "2024-05-29T02:13:54.704Z"
   },
   {
    "duration": 389,
    "start_time": "2024-05-29T02:13:54.778Z"
   },
   {
    "duration": 0,
    "start_time": "2024-05-29T02:13:55.169Z"
   },
   {
    "duration": 0,
    "start_time": "2024-05-29T02:13:55.172Z"
   },
   {
    "duration": 1,
    "start_time": "2024-05-29T02:13:55.174Z"
   },
   {
    "duration": 0,
    "start_time": "2024-05-29T02:13:55.177Z"
   },
   {
    "duration": 0,
    "start_time": "2024-05-29T02:13:55.180Z"
   },
   {
    "duration": 0,
    "start_time": "2024-05-29T02:13:55.183Z"
   },
   {
    "duration": 0,
    "start_time": "2024-05-29T02:13:55.185Z"
   },
   {
    "duration": 0,
    "start_time": "2024-05-29T02:13:55.187Z"
   },
   {
    "duration": 0,
    "start_time": "2024-05-29T02:13:55.190Z"
   },
   {
    "duration": 0,
    "start_time": "2024-05-29T02:13:55.192Z"
   },
   {
    "duration": 0,
    "start_time": "2024-05-29T02:13:55.233Z"
   },
   {
    "duration": 0,
    "start_time": "2024-05-29T02:13:55.236Z"
   },
   {
    "duration": 0,
    "start_time": "2024-05-29T02:13:55.237Z"
   },
   {
    "duration": 1,
    "start_time": "2024-05-29T02:13:55.239Z"
   },
   {
    "duration": 0,
    "start_time": "2024-05-29T02:13:55.242Z"
   },
   {
    "duration": 0,
    "start_time": "2024-05-29T02:13:55.244Z"
   },
   {
    "duration": 0,
    "start_time": "2024-05-29T02:13:55.246Z"
   },
   {
    "duration": 0,
    "start_time": "2024-05-29T02:13:55.248Z"
   },
   {
    "duration": 0,
    "start_time": "2024-05-29T02:13:55.250Z"
   },
   {
    "duration": 0,
    "start_time": "2024-05-29T02:13:55.253Z"
   },
   {
    "duration": 0,
    "start_time": "2024-05-29T02:13:55.255Z"
   },
   {
    "duration": 0,
    "start_time": "2024-05-29T02:13:55.258Z"
   },
   {
    "duration": 0,
    "start_time": "2024-05-29T02:13:55.259Z"
   },
   {
    "duration": 0,
    "start_time": "2024-05-29T02:13:55.262Z"
   },
   {
    "duration": 0,
    "start_time": "2024-05-29T02:13:55.265Z"
   },
   {
    "duration": 0,
    "start_time": "2024-05-29T02:13:55.267Z"
   },
   {
    "duration": 0,
    "start_time": "2024-05-29T02:13:55.270Z"
   },
   {
    "duration": 0,
    "start_time": "2024-05-29T02:13:55.333Z"
   },
   {
    "duration": 0,
    "start_time": "2024-05-29T02:13:55.335Z"
   },
   {
    "duration": 16,
    "start_time": "2024-05-29T02:20:48.645Z"
   },
   {
    "duration": 490,
    "start_time": "2024-05-29T02:21:25.135Z"
   },
   {
    "duration": 17,
    "start_time": "2024-05-29T02:21:42.144Z"
   },
   {
    "duration": 45,
    "start_time": "2024-05-29T02:22:03.942Z"
   },
   {
    "duration": 379,
    "start_time": "2024-05-29T03:24:43.881Z"
   },
   {
    "duration": 5924,
    "start_time": "2024-05-29T03:24:51.377Z"
   },
   {
    "duration": 481,
    "start_time": "2024-05-29T03:24:57.306Z"
   },
   {
    "duration": 17,
    "start_time": "2024-05-29T03:24:57.790Z"
   },
   {
    "duration": 40,
    "start_time": "2024-05-29T03:24:57.810Z"
   },
   {
    "duration": 23,
    "start_time": "2024-05-29T03:24:57.856Z"
   },
   {
    "duration": 16,
    "start_time": "2024-05-29T03:24:57.882Z"
   },
   {
    "duration": 19,
    "start_time": "2024-05-29T03:24:57.912Z"
   },
   {
    "duration": 21,
    "start_time": "2024-05-29T03:24:57.938Z"
   },
   {
    "duration": 41,
    "start_time": "2024-05-29T03:24:57.967Z"
   },
   {
    "duration": 34,
    "start_time": "2024-05-29T03:24:58.017Z"
   },
   {
    "duration": 14,
    "start_time": "2024-05-29T03:24:58.054Z"
   },
   {
    "duration": 110,
    "start_time": "2024-05-29T03:24:58.071Z"
   },
   {
    "duration": 76,
    "start_time": "2024-05-29T03:24:58.184Z"
   },
   {
    "duration": 44,
    "start_time": "2024-05-29T03:24:58.268Z"
   },
   {
    "duration": 11,
    "start_time": "2024-05-29T03:24:58.315Z"
   },
   {
    "duration": 44,
    "start_time": "2024-05-29T03:24:58.329Z"
   },
   {
    "duration": 51,
    "start_time": "2024-05-29T03:24:58.376Z"
   },
   {
    "duration": 33,
    "start_time": "2024-05-29T03:24:58.430Z"
   },
   {
    "duration": 18,
    "start_time": "2024-05-29T03:24:58.466Z"
   },
   {
    "duration": 113,
    "start_time": "2024-05-29T03:24:58.505Z"
   },
   {
    "duration": 43,
    "start_time": "2024-05-29T03:24:58.624Z"
   },
   {
    "duration": 101,
    "start_time": "2024-05-29T03:24:58.676Z"
   },
   {
    "duration": 102,
    "start_time": "2024-05-29T03:24:58.780Z"
   },
   {
    "duration": 28,
    "start_time": "2024-05-29T03:24:58.885Z"
   },
   {
    "duration": 40,
    "start_time": "2024-05-29T03:24:58.916Z"
   },
   {
    "duration": 178,
    "start_time": "2024-05-29T03:24:58.960Z"
   },
   {
    "duration": 39,
    "start_time": "2024-05-29T03:24:59.143Z"
   },
   {
    "duration": 67,
    "start_time": "2024-05-29T03:24:59.185Z"
   },
   {
    "duration": 91,
    "start_time": "2024-05-29T03:24:59.255Z"
   },
   {
    "duration": 18,
    "start_time": "2024-05-29T03:24:59.350Z"
   },
   {
    "duration": 74,
    "start_time": "2024-05-29T03:24:59.371Z"
   },
   {
    "duration": 67,
    "start_time": "2024-05-29T03:24:59.449Z"
   },
   {
    "duration": 24,
    "start_time": "2024-05-29T03:24:59.522Z"
   },
   {
    "duration": 14,
    "start_time": "2024-05-29T03:24:59.550Z"
   },
   {
    "duration": 366,
    "start_time": "2024-05-29T03:24:59.567Z"
   },
   {
    "duration": 18,
    "start_time": "2024-05-29T03:24:59.937Z"
   },
   {
    "duration": 88,
    "start_time": "2024-05-29T03:24:59.959Z"
   },
   {
    "duration": 475,
    "start_time": "2024-05-29T03:25:00.051Z"
   },
   {
    "duration": 0,
    "start_time": "2024-05-29T03:25:00.534Z"
   },
   {
    "duration": 0,
    "start_time": "2024-05-29T03:25:00.537Z"
   },
   {
    "duration": 0,
    "start_time": "2024-05-29T03:25:00.539Z"
   },
   {
    "duration": 0,
    "start_time": "2024-05-29T03:25:00.542Z"
   },
   {
    "duration": 0,
    "start_time": "2024-05-29T03:25:00.544Z"
   },
   {
    "duration": 0,
    "start_time": "2024-05-29T03:25:00.547Z"
   },
   {
    "duration": 0,
    "start_time": "2024-05-29T03:25:00.549Z"
   },
   {
    "duration": 0,
    "start_time": "2024-05-29T03:25:00.551Z"
   },
   {
    "duration": 0,
    "start_time": "2024-05-29T03:25:00.554Z"
   },
   {
    "duration": 0,
    "start_time": "2024-05-29T03:25:00.557Z"
   },
   {
    "duration": 0,
    "start_time": "2024-05-29T03:25:00.562Z"
   },
   {
    "duration": 0,
    "start_time": "2024-05-29T03:25:00.565Z"
   },
   {
    "duration": 0,
    "start_time": "2024-05-29T03:25:00.567Z"
   },
   {
    "duration": 0,
    "start_time": "2024-05-29T03:25:00.605Z"
   },
   {
    "duration": 0,
    "start_time": "2024-05-29T03:25:00.608Z"
   },
   {
    "duration": 0,
    "start_time": "2024-05-29T03:25:00.612Z"
   },
   {
    "duration": 0,
    "start_time": "2024-05-29T03:25:00.615Z"
   },
   {
    "duration": 0,
    "start_time": "2024-05-29T03:25:00.618Z"
   },
   {
    "duration": 0,
    "start_time": "2024-05-29T03:25:00.620Z"
   },
   {
    "duration": 0,
    "start_time": "2024-05-29T03:25:00.622Z"
   },
   {
    "duration": 0,
    "start_time": "2024-05-29T03:25:00.627Z"
   },
   {
    "duration": 0,
    "start_time": "2024-05-29T03:25:00.629Z"
   },
   {
    "duration": 0,
    "start_time": "2024-05-29T03:25:00.632Z"
   },
   {
    "duration": 0,
    "start_time": "2024-05-29T03:25:00.634Z"
   },
   {
    "duration": 0,
    "start_time": "2024-05-29T03:25:00.637Z"
   },
   {
    "duration": 0,
    "start_time": "2024-05-29T03:25:00.639Z"
   },
   {
    "duration": 0,
    "start_time": "2024-05-29T03:25:00.642Z"
   },
   {
    "duration": 0,
    "start_time": "2024-05-29T03:25:00.645Z"
   },
   {
    "duration": 0,
    "start_time": "2024-05-29T03:25:00.647Z"
   },
   {
    "duration": 1080,
    "start_time": "2024-05-29T03:26:17.419Z"
   },
   {
    "duration": 67,
    "start_time": "2024-05-29T03:27:23.599Z"
   },
   {
    "duration": 94,
    "start_time": "2024-05-29T03:28:19.654Z"
   },
   {
    "duration": 158,
    "start_time": "2024-05-29T03:37:58.066Z"
   },
   {
    "duration": 285,
    "start_time": "2024-05-29T03:42:27.695Z"
   },
   {
    "duration": 68,
    "start_time": "2024-05-29T03:49:52.350Z"
   },
   {
    "duration": 171,
    "start_time": "2024-05-29T03:56:24.422Z"
   },
   {
    "duration": 5,
    "start_time": "2024-05-29T03:56:41.342Z"
   },
   {
    "duration": 414,
    "start_time": "2024-05-29T03:56:41.352Z"
   },
   {
    "duration": 12,
    "start_time": "2024-05-29T03:56:41.770Z"
   },
   {
    "duration": 18,
    "start_time": "2024-05-29T03:56:41.786Z"
   },
   {
    "duration": 40,
    "start_time": "2024-05-29T03:56:41.813Z"
   },
   {
    "duration": 15,
    "start_time": "2024-05-29T03:56:41.865Z"
   },
   {
    "duration": 16,
    "start_time": "2024-05-29T03:56:41.884Z"
   },
   {
    "duration": 18,
    "start_time": "2024-05-29T03:56:41.903Z"
   },
   {
    "duration": 31,
    "start_time": "2024-05-29T03:56:41.924Z"
   },
   {
    "duration": 25,
    "start_time": "2024-05-29T03:56:41.958Z"
   },
   {
    "duration": 11,
    "start_time": "2024-05-29T03:56:41.986Z"
   },
   {
    "duration": 80,
    "start_time": "2024-05-29T03:56:42.011Z"
   },
   {
    "duration": 82,
    "start_time": "2024-05-29T03:56:42.094Z"
   },
   {
    "duration": 32,
    "start_time": "2024-05-29T03:56:42.185Z"
   },
   {
    "duration": 19,
    "start_time": "2024-05-29T03:56:42.220Z"
   },
   {
    "duration": 43,
    "start_time": "2024-05-29T03:56:42.244Z"
   },
   {
    "duration": 48,
    "start_time": "2024-05-29T03:56:42.290Z"
   },
   {
    "duration": 32,
    "start_time": "2024-05-29T03:56:42.340Z"
   },
   {
    "duration": 13,
    "start_time": "2024-05-29T03:56:42.375Z"
   },
   {
    "duration": 130,
    "start_time": "2024-05-29T03:56:42.391Z"
   },
   {
    "duration": 51,
    "start_time": "2024-05-29T03:56:42.526Z"
   },
   {
    "duration": 99,
    "start_time": "2024-05-29T03:56:42.581Z"
   },
   {
    "duration": 97,
    "start_time": "2024-05-29T03:56:42.683Z"
   },
   {
    "duration": 28,
    "start_time": "2024-05-29T03:56:42.783Z"
   },
   {
    "duration": 38,
    "start_time": "2024-05-29T03:56:42.815Z"
   },
   {
    "duration": 182,
    "start_time": "2024-05-29T03:56:42.856Z"
   },
   {
    "duration": 35,
    "start_time": "2024-05-29T03:56:43.040Z"
   },
   {
    "duration": 52,
    "start_time": "2024-05-29T03:56:43.078Z"
   },
   {
    "duration": 250,
    "start_time": "2024-05-29T03:56:43.139Z"
   },
   {
    "duration": 194,
    "start_time": "2024-05-29T03:56:43.392Z"
   },
   {
    "duration": 27,
    "start_time": "2024-05-29T03:56:43.590Z"
   },
   {
    "duration": 56,
    "start_time": "2024-05-29T03:56:43.620Z"
   },
   {
    "duration": 63,
    "start_time": "2024-05-29T03:56:43.679Z"
   },
   {
    "duration": 45,
    "start_time": "2024-05-29T03:56:43.744Z"
   },
   {
    "duration": 17,
    "start_time": "2024-05-29T03:56:43.807Z"
   },
   {
    "duration": 372,
    "start_time": "2024-05-29T03:56:43.833Z"
   },
   {
    "duration": 31,
    "start_time": "2024-05-29T03:56:44.208Z"
   },
   {
    "duration": 68,
    "start_time": "2024-05-29T03:56:44.242Z"
   },
   {
    "duration": 75,
    "start_time": "2024-05-29T03:56:44.317Z"
   },
   {
    "duration": 0,
    "start_time": "2024-05-29T03:56:44.400Z"
   },
   {
    "duration": 0,
    "start_time": "2024-05-29T03:56:44.406Z"
   },
   {
    "duration": 0,
    "start_time": "2024-05-29T03:56:44.408Z"
   },
   {
    "duration": 0,
    "start_time": "2024-05-29T03:56:44.409Z"
   },
   {
    "duration": 0,
    "start_time": "2024-05-29T03:56:44.411Z"
   },
   {
    "duration": 0,
    "start_time": "2024-05-29T03:56:44.413Z"
   },
   {
    "duration": 0,
    "start_time": "2024-05-29T03:56:44.414Z"
   },
   {
    "duration": 0,
    "start_time": "2024-05-29T03:56:44.416Z"
   },
   {
    "duration": 0,
    "start_time": "2024-05-29T03:56:44.420Z"
   },
   {
    "duration": 0,
    "start_time": "2024-05-29T03:56:44.422Z"
   },
   {
    "duration": 0,
    "start_time": "2024-05-29T03:56:44.423Z"
   },
   {
    "duration": 0,
    "start_time": "2024-05-29T03:56:44.425Z"
   },
   {
    "duration": 0,
    "start_time": "2024-05-29T03:56:44.427Z"
   },
   {
    "duration": 0,
    "start_time": "2024-05-29T03:56:44.429Z"
   },
   {
    "duration": 0,
    "start_time": "2024-05-29T03:56:44.430Z"
   },
   {
    "duration": 0,
    "start_time": "2024-05-29T03:56:44.432Z"
   },
   {
    "duration": 0,
    "start_time": "2024-05-29T03:56:44.434Z"
   },
   {
    "duration": 0,
    "start_time": "2024-05-29T03:56:44.436Z"
   },
   {
    "duration": 0,
    "start_time": "2024-05-29T03:56:44.438Z"
   },
   {
    "duration": 0,
    "start_time": "2024-05-29T03:56:44.440Z"
   },
   {
    "duration": 0,
    "start_time": "2024-05-29T03:56:44.441Z"
   },
   {
    "duration": 0,
    "start_time": "2024-05-29T03:56:44.443Z"
   },
   {
    "duration": 0,
    "start_time": "2024-05-29T03:56:44.445Z"
   },
   {
    "duration": 0,
    "start_time": "2024-05-29T03:56:44.447Z"
   },
   {
    "duration": 1,
    "start_time": "2024-05-29T03:56:44.448Z"
   },
   {
    "duration": 0,
    "start_time": "2024-05-29T03:56:44.450Z"
   },
   {
    "duration": 0,
    "start_time": "2024-05-29T03:56:44.452Z"
   },
   {
    "duration": 0,
    "start_time": "2024-05-29T03:56:44.454Z"
   },
   {
    "duration": 0,
    "start_time": "2024-05-29T03:56:44.456Z"
   },
   {
    "duration": 51,
    "start_time": "2024-05-29T04:00:31.418Z"
   },
   {
    "duration": 176,
    "start_time": "2024-05-29T04:05:13.065Z"
   },
   {
    "duration": 42,
    "start_time": "2024-05-29T04:08:50.723Z"
   },
   {
    "duration": 120,
    "start_time": "2024-05-29T04:11:38.305Z"
   },
   {
    "duration": 9,
    "start_time": "2024-05-29T04:12:14.389Z"
   },
   {
    "duration": 7,
    "start_time": "2024-05-29T04:12:58.987Z"
   },
   {
    "duration": 359,
    "start_time": "2024-05-29T04:12:58.999Z"
   },
   {
    "duration": 10,
    "start_time": "2024-05-29T04:12:59.361Z"
   },
   {
    "duration": 37,
    "start_time": "2024-05-29T04:12:59.378Z"
   },
   {
    "duration": 22,
    "start_time": "2024-05-29T04:12:59.418Z"
   },
   {
    "duration": 18,
    "start_time": "2024-05-29T04:12:59.448Z"
   },
   {
    "duration": 18,
    "start_time": "2024-05-29T04:12:59.469Z"
   },
   {
    "duration": 15,
    "start_time": "2024-05-29T04:12:59.509Z"
   },
   {
    "duration": 21,
    "start_time": "2024-05-29T04:12:59.531Z"
   },
   {
    "duration": 35,
    "start_time": "2024-05-29T04:12:59.554Z"
   },
   {
    "duration": 23,
    "start_time": "2024-05-29T04:12:59.609Z"
   },
   {
    "duration": 100,
    "start_time": "2024-05-29T04:12:59.634Z"
   },
   {
    "duration": 73,
    "start_time": "2024-05-29T04:12:59.742Z"
   },
   {
    "duration": 25,
    "start_time": "2024-05-29T04:12:59.823Z"
   },
   {
    "duration": 12,
    "start_time": "2024-05-29T04:12:59.855Z"
   },
   {
    "duration": 53,
    "start_time": "2024-05-29T04:12:59.873Z"
   },
   {
    "duration": 31,
    "start_time": "2024-05-29T04:12:59.934Z"
   },
   {
    "duration": 28,
    "start_time": "2024-05-29T04:12:59.968Z"
   },
   {
    "duration": 17,
    "start_time": "2024-05-29T04:13:00.008Z"
   },
   {
    "duration": 101,
    "start_time": "2024-05-29T04:13:00.033Z"
   },
   {
    "duration": 40,
    "start_time": "2024-05-29T04:13:00.142Z"
   },
   {
    "duration": 98,
    "start_time": "2024-05-29T04:13:00.185Z"
   },
   {
    "duration": 90,
    "start_time": "2024-05-29T04:13:00.286Z"
   },
   {
    "duration": 16,
    "start_time": "2024-05-29T04:13:00.409Z"
   },
   {
    "duration": 41,
    "start_time": "2024-05-29T04:13:00.428Z"
   },
   {
    "duration": 193,
    "start_time": "2024-05-29T04:13:00.473Z"
   },
   {
    "duration": 51,
    "start_time": "2024-05-29T04:13:00.669Z"
   },
   {
    "duration": 58,
    "start_time": "2024-05-29T04:13:00.724Z"
   },
   {
    "duration": 292,
    "start_time": "2024-05-29T04:13:00.785Z"
   },
   {
    "duration": 194,
    "start_time": "2024-05-29T04:13:01.081Z"
   },
   {
    "duration": 36,
    "start_time": "2024-05-29T04:13:01.278Z"
   },
   {
    "duration": 56,
    "start_time": "2024-05-29T04:13:01.324Z"
   },
   {
    "duration": 63,
    "start_time": "2024-05-29T04:13:01.386Z"
   },
   {
    "duration": 64,
    "start_time": "2024-05-29T04:13:01.460Z"
   },
   {
    "duration": 51,
    "start_time": "2024-05-29T04:13:01.527Z"
   },
   {
    "duration": 194,
    "start_time": "2024-05-29T04:13:01.581Z"
   },
   {
    "duration": 12,
    "start_time": "2024-05-29T04:13:01.782Z"
   },
   {
    "duration": 112,
    "start_time": "2024-05-29T04:13:01.807Z"
   },
   {
    "duration": 91,
    "start_time": "2024-05-29T04:13:01.925Z"
   },
   {
    "duration": 185,
    "start_time": "2024-05-29T04:13:02.023Z"
   },
   {
    "duration": 1,
    "start_time": "2024-05-29T04:13:02.210Z"
   },
   {
    "duration": 0,
    "start_time": "2024-05-29T04:13:02.213Z"
   },
   {
    "duration": 0,
    "start_time": "2024-05-29T04:13:02.216Z"
   },
   {
    "duration": 0,
    "start_time": "2024-05-29T04:13:02.218Z"
   },
   {
    "duration": 0,
    "start_time": "2024-05-29T04:13:02.220Z"
   },
   {
    "duration": 0,
    "start_time": "2024-05-29T04:13:02.223Z"
   },
   {
    "duration": 0,
    "start_time": "2024-05-29T04:13:02.225Z"
   },
   {
    "duration": 0,
    "start_time": "2024-05-29T04:13:02.227Z"
   },
   {
    "duration": 0,
    "start_time": "2024-05-29T04:13:02.230Z"
   },
   {
    "duration": 0,
    "start_time": "2024-05-29T04:13:02.232Z"
   },
   {
    "duration": 0,
    "start_time": "2024-05-29T04:13:02.245Z"
   },
   {
    "duration": 0,
    "start_time": "2024-05-29T04:13:02.247Z"
   },
   {
    "duration": 0,
    "start_time": "2024-05-29T04:13:02.249Z"
   },
   {
    "duration": 0,
    "start_time": "2024-05-29T04:13:02.251Z"
   },
   {
    "duration": 0,
    "start_time": "2024-05-29T04:13:02.252Z"
   },
   {
    "duration": 0,
    "start_time": "2024-05-29T04:13:02.254Z"
   },
   {
    "duration": 0,
    "start_time": "2024-05-29T04:13:02.256Z"
   },
   {
    "duration": 0,
    "start_time": "2024-05-29T04:13:02.261Z"
   },
   {
    "duration": 0,
    "start_time": "2024-05-29T04:13:02.263Z"
   },
   {
    "duration": 0,
    "start_time": "2024-05-29T04:13:02.265Z"
   },
   {
    "duration": 0,
    "start_time": "2024-05-29T04:13:02.267Z"
   },
   {
    "duration": 0,
    "start_time": "2024-05-29T04:13:02.269Z"
   },
   {
    "duration": 0,
    "start_time": "2024-05-29T04:13:02.271Z"
   },
   {
    "duration": 0,
    "start_time": "2024-05-29T04:13:02.306Z"
   },
   {
    "duration": 1,
    "start_time": "2024-05-29T04:13:02.307Z"
   },
   {
    "duration": 0,
    "start_time": "2024-05-29T04:13:02.313Z"
   },
   {
    "duration": 0,
    "start_time": "2024-05-29T04:13:02.317Z"
   },
   {
    "duration": 0,
    "start_time": "2024-05-29T04:13:02.321Z"
   },
   {
    "duration": 0,
    "start_time": "2024-05-29T04:13:02.323Z"
   },
   {
    "duration": 82,
    "start_time": "2024-05-29T04:17:07.698Z"
   },
   {
    "duration": 105,
    "start_time": "2024-05-29T04:17:22.474Z"
   },
   {
    "duration": 29,
    "start_time": "2024-05-29T04:17:42.853Z"
   },
   {
    "duration": 32,
    "start_time": "2024-05-29T04:17:54.335Z"
   },
   {
    "duration": 11,
    "start_time": "2024-05-29T04:20:01.894Z"
   },
   {
    "duration": 4,
    "start_time": "2024-05-29T04:20:30.305Z"
   },
   {
    "duration": 341,
    "start_time": "2024-05-29T04:20:30.314Z"
   },
   {
    "duration": 10,
    "start_time": "2024-05-29T04:20:30.661Z"
   },
   {
    "duration": 39,
    "start_time": "2024-05-29T04:20:30.674Z"
   },
   {
    "duration": 15,
    "start_time": "2024-05-29T04:20:30.717Z"
   },
   {
    "duration": 17,
    "start_time": "2024-05-29T04:20:30.735Z"
   },
   {
    "duration": 54,
    "start_time": "2024-05-29T04:20:30.756Z"
   },
   {
    "duration": 14,
    "start_time": "2024-05-29T04:20:30.813Z"
   },
   {
    "duration": 23,
    "start_time": "2024-05-29T04:20:30.830Z"
   },
   {
    "duration": 58,
    "start_time": "2024-05-29T04:20:30.860Z"
   },
   {
    "duration": 11,
    "start_time": "2024-05-29T04:20:30.924Z"
   },
   {
    "duration": 103,
    "start_time": "2024-05-29T04:20:30.939Z"
   },
   {
    "duration": 67,
    "start_time": "2024-05-29T04:20:31.046Z"
   },
   {
    "duration": 35,
    "start_time": "2024-05-29T04:20:31.117Z"
   },
   {
    "duration": 13,
    "start_time": "2024-05-29T04:20:31.155Z"
   },
   {
    "duration": 58,
    "start_time": "2024-05-29T04:20:31.171Z"
   },
   {
    "duration": 26,
    "start_time": "2024-05-29T04:20:31.232Z"
   },
   {
    "duration": 56,
    "start_time": "2024-05-29T04:20:31.262Z"
   },
   {
    "duration": 16,
    "start_time": "2024-05-29T04:20:31.323Z"
   },
   {
    "duration": 112,
    "start_time": "2024-05-29T04:20:31.343Z"
   },
   {
    "duration": 53,
    "start_time": "2024-05-29T04:20:31.458Z"
   },
   {
    "duration": 109,
    "start_time": "2024-05-29T04:20:31.514Z"
   },
   {
    "duration": 106,
    "start_time": "2024-05-29T04:20:31.627Z"
   },
   {
    "duration": 15,
    "start_time": "2024-05-29T04:20:31.738Z"
   },
   {
    "duration": 76,
    "start_time": "2024-05-29T04:20:31.756Z"
   },
   {
    "duration": 175,
    "start_time": "2024-05-29T04:20:31.835Z"
   },
   {
    "duration": 33,
    "start_time": "2024-05-29T04:20:32.014Z"
   },
   {
    "duration": 74,
    "start_time": "2024-05-29T04:20:32.050Z"
   },
   {
    "duration": 282,
    "start_time": "2024-05-29T04:20:32.140Z"
   },
   {
    "duration": 195,
    "start_time": "2024-05-29T04:20:32.425Z"
   },
   {
    "duration": 32,
    "start_time": "2024-05-29T04:20:32.624Z"
   },
   {
    "duration": 68,
    "start_time": "2024-05-29T04:20:32.662Z"
   },
   {
    "duration": 59,
    "start_time": "2024-05-29T04:20:32.737Z"
   },
   {
    "duration": 61,
    "start_time": "2024-05-29T04:20:32.799Z"
   },
   {
    "duration": 50,
    "start_time": "2024-05-29T04:20:32.866Z"
   },
   {
    "duration": 200,
    "start_time": "2024-05-29T04:20:32.919Z"
   },
   {
    "duration": 14,
    "start_time": "2024-05-29T04:20:33.122Z"
   },
   {
    "duration": 118,
    "start_time": "2024-05-29T04:20:33.139Z"
   },
   {
    "duration": 74,
    "start_time": "2024-05-29T04:20:33.262Z"
   },
   {
    "duration": 30,
    "start_time": "2024-05-29T04:20:33.339Z"
   },
   {
    "duration": 53,
    "start_time": "2024-05-29T04:20:33.374Z"
   },
   {
    "duration": 489,
    "start_time": "2024-05-29T04:20:33.430Z"
   },
   {
    "duration": 36,
    "start_time": "2024-05-29T04:20:33.922Z"
   },
   {
    "duration": 10,
    "start_time": "2024-05-29T04:20:33.961Z"
   },
   {
    "duration": 11,
    "start_time": "2024-05-29T04:20:34.007Z"
   },
   {
    "duration": 46,
    "start_time": "2024-05-29T04:20:34.022Z"
   },
   {
    "duration": 0,
    "start_time": "2024-05-29T04:20:34.071Z"
   },
   {
    "duration": 0,
    "start_time": "2024-05-29T04:20:34.073Z"
   },
   {
    "duration": 0,
    "start_time": "2024-05-29T04:20:34.075Z"
   },
   {
    "duration": 1,
    "start_time": "2024-05-29T04:20:34.077Z"
   },
   {
    "duration": 0,
    "start_time": "2024-05-29T04:20:34.106Z"
   },
   {
    "duration": 0,
    "start_time": "2024-05-29T04:20:34.108Z"
   },
   {
    "duration": 0,
    "start_time": "2024-05-29T04:20:34.110Z"
   },
   {
    "duration": 0,
    "start_time": "2024-05-29T04:20:34.112Z"
   },
   {
    "duration": 0,
    "start_time": "2024-05-29T04:20:34.114Z"
   },
   {
    "duration": 0,
    "start_time": "2024-05-29T04:20:34.115Z"
   },
   {
    "duration": 0,
    "start_time": "2024-05-29T04:20:34.116Z"
   },
   {
    "duration": 0,
    "start_time": "2024-05-29T04:20:34.117Z"
   },
   {
    "duration": 0,
    "start_time": "2024-05-29T04:20:34.119Z"
   },
   {
    "duration": 0,
    "start_time": "2024-05-29T04:20:34.122Z"
   },
   {
    "duration": 0,
    "start_time": "2024-05-29T04:20:34.125Z"
   },
   {
    "duration": 0,
    "start_time": "2024-05-29T04:20:34.127Z"
   },
   {
    "duration": 0,
    "start_time": "2024-05-29T04:20:34.129Z"
   },
   {
    "duration": 0,
    "start_time": "2024-05-29T04:20:34.130Z"
   },
   {
    "duration": 0,
    "start_time": "2024-05-29T04:20:34.132Z"
   },
   {
    "duration": 0,
    "start_time": "2024-05-29T04:20:34.134Z"
   },
   {
    "duration": 0,
    "start_time": "2024-05-29T04:20:34.136Z"
   },
   {
    "duration": 0,
    "start_time": "2024-05-29T04:20:34.141Z"
   },
   {
    "duration": 0,
    "start_time": "2024-05-29T04:20:34.144Z"
   },
   {
    "duration": 196,
    "start_time": "2024-05-29T04:23:07.993Z"
   },
   {
    "duration": 182,
    "start_time": "2024-05-29T04:23:18.692Z"
   },
   {
    "duration": 190,
    "start_time": "2024-05-29T04:23:32.294Z"
   },
   {
    "duration": 4867,
    "start_time": "2024-05-29T06:21:43.743Z"
   },
   {
    "duration": 340,
    "start_time": "2024-05-29T06:21:48.615Z"
   },
   {
    "duration": 12,
    "start_time": "2024-05-29T06:21:48.958Z"
   },
   {
    "duration": 17,
    "start_time": "2024-05-29T06:21:48.973Z"
   },
   {
    "duration": 17,
    "start_time": "2024-05-29T06:21:49.013Z"
   },
   {
    "duration": 14,
    "start_time": "2024-05-29T06:21:49.033Z"
   },
   {
    "duration": 15,
    "start_time": "2024-05-29T06:21:49.050Z"
   },
   {
    "duration": 48,
    "start_time": "2024-05-29T06:21:49.068Z"
   },
   {
    "duration": 19,
    "start_time": "2024-05-29T06:21:49.120Z"
   },
   {
    "duration": 25,
    "start_time": "2024-05-29T06:21:49.145Z"
   },
   {
    "duration": 11,
    "start_time": "2024-05-29T06:21:49.210Z"
   },
   {
    "duration": 92,
    "start_time": "2024-05-29T06:21:49.224Z"
   },
   {
    "duration": 55,
    "start_time": "2024-05-29T06:21:49.319Z"
   },
   {
    "duration": 40,
    "start_time": "2024-05-29T06:21:49.382Z"
   },
   {
    "duration": 11,
    "start_time": "2024-05-29T06:21:49.427Z"
   },
   {
    "duration": 70,
    "start_time": "2024-05-29T06:21:49.441Z"
   },
   {
    "duration": 24,
    "start_time": "2024-05-29T06:21:49.514Z"
   },
   {
    "duration": 22,
    "start_time": "2024-05-29T06:21:49.541Z"
   },
   {
    "duration": 43,
    "start_time": "2024-05-29T06:21:49.566Z"
   },
   {
    "duration": 105,
    "start_time": "2024-05-29T06:21:49.612Z"
   },
   {
    "duration": 32,
    "start_time": "2024-05-29T06:21:49.720Z"
   },
   {
    "duration": 97,
    "start_time": "2024-05-29T06:21:49.755Z"
   },
   {
    "duration": 94,
    "start_time": "2024-05-29T06:21:49.855Z"
   },
   {
    "duration": 13,
    "start_time": "2024-05-29T06:21:49.952Z"
   },
   {
    "duration": 67,
    "start_time": "2024-05-29T06:21:49.968Z"
   },
   {
    "duration": 131,
    "start_time": "2024-05-29T06:21:50.038Z"
   },
   {
    "duration": 42,
    "start_time": "2024-05-29T06:21:50.172Z"
   },
   {
    "duration": 42,
    "start_time": "2024-05-29T06:21:50.217Z"
   },
   {
    "duration": 260,
    "start_time": "2024-05-29T06:21:50.262Z"
   },
   {
    "duration": 180,
    "start_time": "2024-05-29T06:21:50.529Z"
   },
   {
    "duration": 17,
    "start_time": "2024-05-29T06:21:50.712Z"
   },
   {
    "duration": 76,
    "start_time": "2024-05-29T06:21:50.733Z"
   },
   {
    "duration": 39,
    "start_time": "2024-05-29T06:21:50.812Z"
   },
   {
    "duration": 75,
    "start_time": "2024-05-29T06:21:50.855Z"
   },
   {
    "duration": 37,
    "start_time": "2024-05-29T06:21:50.933Z"
   },
   {
    "duration": 183,
    "start_time": "2024-05-29T06:21:50.974Z"
   },
   {
    "duration": 12,
    "start_time": "2024-05-29T06:21:51.160Z"
   },
   {
    "duration": 105,
    "start_time": "2024-05-29T06:21:51.177Z"
   },
   {
    "duration": 67,
    "start_time": "2024-05-29T06:21:51.284Z"
   },
   {
    "duration": 27,
    "start_time": "2024-05-29T06:21:51.354Z"
   },
   {
    "duration": 27,
    "start_time": "2024-05-29T06:21:51.414Z"
   },
   {
    "duration": 489,
    "start_time": "2024-05-29T06:21:51.444Z"
   },
   {
    "duration": 33,
    "start_time": "2024-05-29T06:21:51.937Z"
   },
   {
    "duration": 10,
    "start_time": "2024-05-29T06:21:51.973Z"
   },
   {
    "duration": 203,
    "start_time": "2024-05-29T06:21:52.009Z"
   },
   {
    "duration": 33,
    "start_time": "2024-05-29T06:21:52.215Z"
   },
   {
    "duration": 21,
    "start_time": "2024-05-29T06:21:52.251Z"
   },
   {
    "duration": 22,
    "start_time": "2024-05-29T06:21:52.309Z"
   },
   {
    "duration": 468,
    "start_time": "2024-05-29T06:21:52.333Z"
   },
   {
    "duration": 8,
    "start_time": "2024-05-29T06:21:52.809Z"
   },
   {
    "duration": 218,
    "start_time": "2024-05-29T06:21:52.821Z"
   },
   {
    "duration": 24,
    "start_time": "2024-05-29T06:21:53.044Z"
   },
   {
    "duration": 49,
    "start_time": "2024-05-29T06:21:53.070Z"
   },
   {
    "duration": 470,
    "start_time": "2024-05-29T06:21:53.121Z"
   },
   {
    "duration": 15,
    "start_time": "2024-05-29T06:21:53.594Z"
   },
   {
    "duration": 204,
    "start_time": "2024-05-29T06:21:53.611Z"
   },
   {
    "duration": 28,
    "start_time": "2024-05-29T06:21:53.819Z"
   },
   {
    "duration": 20,
    "start_time": "2024-05-29T06:21:53.854Z"
   },
   {
    "duration": 481,
    "start_time": "2024-05-29T06:21:53.877Z"
   },
   {
    "duration": 9,
    "start_time": "2024-05-29T06:21:54.361Z"
   },
   {
    "duration": 198,
    "start_time": "2024-05-29T06:21:54.372Z"
   },
   {
    "duration": 7,
    "start_time": "2024-05-29T06:21:54.575Z"
   },
   {
    "duration": 53,
    "start_time": "2024-05-29T06:21:54.586Z"
   },
   {
    "duration": 16,
    "start_time": "2024-05-29T06:21:54.641Z"
   },
   {
    "duration": 10,
    "start_time": "2024-05-29T06:21:54.660Z"
   },
   {
    "duration": 43,
    "start_time": "2024-05-29T06:21:54.673Z"
   },
   {
    "duration": 7,
    "start_time": "2024-05-29T06:21:54.720Z"
   },
   {
    "duration": 19,
    "start_time": "2024-05-29T08:35:53.070Z"
   },
   {
    "duration": 14,
    "start_time": "2024-05-29T08:36:10.317Z"
   },
   {
    "duration": 99,
    "start_time": "2024-05-29T08:38:56.415Z"
   },
   {
    "duration": 263,
    "start_time": "2024-05-29T08:38:56.567Z"
   },
   {
    "duration": 1252,
    "start_time": "2024-05-29T08:43:46.115Z"
   },
   {
    "duration": 365,
    "start_time": "2024-05-29T08:43:47.375Z"
   },
   {
    "duration": 11,
    "start_time": "2024-05-29T08:43:47.742Z"
   },
   {
    "duration": 16,
    "start_time": "2024-05-29T08:43:47.756Z"
   },
   {
    "duration": 42,
    "start_time": "2024-05-29T08:43:47.777Z"
   },
   {
    "duration": 16,
    "start_time": "2024-05-29T08:43:47.822Z"
   },
   {
    "duration": 16,
    "start_time": "2024-05-29T08:43:47.842Z"
   },
   {
    "duration": 48,
    "start_time": "2024-05-29T08:43:47.862Z"
   },
   {
    "duration": 19,
    "start_time": "2024-05-29T08:43:47.913Z"
   },
   {
    "duration": 26,
    "start_time": "2024-05-29T08:43:47.935Z"
   },
   {
    "duration": 50,
    "start_time": "2024-05-29T08:43:47.964Z"
   },
   {
    "duration": 73,
    "start_time": "2024-05-29T08:43:48.017Z"
   },
   {
    "duration": 67,
    "start_time": "2024-05-29T08:43:48.093Z"
   },
   {
    "duration": 42,
    "start_time": "2024-05-29T08:43:48.167Z"
   },
   {
    "duration": 10,
    "start_time": "2024-05-29T08:43:48.212Z"
   },
   {
    "duration": 37,
    "start_time": "2024-05-29T08:43:48.226Z"
   },
   {
    "duration": 53,
    "start_time": "2024-05-29T08:43:48.265Z"
   },
   {
    "duration": 23,
    "start_time": "2024-05-29T08:43:48.321Z"
   },
   {
    "duration": 12,
    "start_time": "2024-05-29T08:43:48.348Z"
   },
   {
    "duration": 119,
    "start_time": "2024-05-29T08:43:48.363Z"
   },
   {
    "duration": 43,
    "start_time": "2024-05-29T08:43:48.485Z"
   },
   {
    "duration": 93,
    "start_time": "2024-05-29T08:43:48.532Z"
   },
   {
    "duration": 100,
    "start_time": "2024-05-29T08:43:48.628Z"
   },
   {
    "duration": 13,
    "start_time": "2024-05-29T08:43:48.731Z"
   },
   {
    "duration": 67,
    "start_time": "2024-05-29T08:43:48.746Z"
   },
   {
    "duration": 127,
    "start_time": "2024-05-29T08:43:48.817Z"
   },
   {
    "duration": 27,
    "start_time": "2024-05-29T08:43:48.947Z"
   },
   {
    "duration": 67,
    "start_time": "2024-05-29T08:43:48.978Z"
   },
   {
    "duration": 261,
    "start_time": "2024-05-29T08:43:49.049Z"
   },
   {
    "duration": 171,
    "start_time": "2024-05-29T08:43:49.313Z"
   },
   {
    "duration": 30,
    "start_time": "2024-05-29T08:43:49.487Z"
   },
   {
    "duration": 44,
    "start_time": "2024-05-29T08:43:49.520Z"
   },
   {
    "duration": 67,
    "start_time": "2024-05-29T08:43:49.566Z"
   },
   {
    "duration": 70,
    "start_time": "2024-05-29T08:43:49.637Z"
   },
   {
    "duration": 38,
    "start_time": "2024-05-29T08:43:49.710Z"
   },
   {
    "duration": 179,
    "start_time": "2024-05-29T08:43:49.751Z"
   },
   {
    "duration": 15,
    "start_time": "2024-05-29T08:43:49.933Z"
   },
   {
    "duration": 113,
    "start_time": "2024-05-29T08:43:49.951Z"
   },
   {
    "duration": 72,
    "start_time": "2024-05-29T08:43:50.067Z"
   },
   {
    "duration": 27,
    "start_time": "2024-05-29T08:43:50.141Z"
   },
   {
    "duration": 26,
    "start_time": "2024-05-29T08:43:50.208Z"
   },
   {
    "duration": 500,
    "start_time": "2024-05-29T08:43:50.237Z"
   },
   {
    "duration": 87,
    "start_time": "2024-05-29T08:43:50.740Z"
   },
   {
    "duration": 12,
    "start_time": "2024-05-29T08:43:50.831Z"
   },
   {
    "duration": 313,
    "start_time": "2024-05-29T08:46:58.632Z"
   },
   {
    "duration": 1225,
    "start_time": "2024-05-29T08:47:05.533Z"
   },
   {
    "duration": 348,
    "start_time": "2024-05-29T08:47:06.761Z"
   },
   {
    "duration": 12,
    "start_time": "2024-05-29T08:47:07.111Z"
   },
   {
    "duration": 16,
    "start_time": "2024-05-29T08:47:07.126Z"
   },
   {
    "duration": 17,
    "start_time": "2024-05-29T08:47:07.148Z"
   },
   {
    "duration": 54,
    "start_time": "2024-05-29T08:47:07.167Z"
   },
   {
    "duration": 14,
    "start_time": "2024-05-29T08:47:07.225Z"
   },
   {
    "duration": 11,
    "start_time": "2024-05-29T08:47:07.243Z"
   },
   {
    "duration": 59,
    "start_time": "2024-05-29T08:47:07.257Z"
   },
   {
    "duration": 30,
    "start_time": "2024-05-29T08:47:07.320Z"
   },
   {
    "duration": 17,
    "start_time": "2024-05-29T08:47:07.353Z"
   },
   {
    "duration": 99,
    "start_time": "2024-05-29T08:47:07.374Z"
   },
   {
    "duration": 67,
    "start_time": "2024-05-29T08:47:07.476Z"
   },
   {
    "duration": 21,
    "start_time": "2024-05-29T08:47:07.550Z"
   },
   {
    "duration": 35,
    "start_time": "2024-05-29T08:47:07.574Z"
   },
   {
    "duration": 37,
    "start_time": "2024-05-29T08:47:07.612Z"
   },
   {
    "duration": 24,
    "start_time": "2024-05-29T08:47:07.652Z"
   },
   {
    "duration": 23,
    "start_time": "2024-05-29T08:47:07.708Z"
   },
   {
    "duration": 12,
    "start_time": "2024-05-29T08:47:07.734Z"
   },
   {
    "duration": 121,
    "start_time": "2024-05-29T08:47:07.749Z"
   },
   {
    "duration": 43,
    "start_time": "2024-05-29T08:47:07.872Z"
   },
   {
    "duration": 93,
    "start_time": "2024-05-29T08:47:07.920Z"
   },
   {
    "duration": 94,
    "start_time": "2024-05-29T08:47:08.016Z"
   },
   {
    "duration": 12,
    "start_time": "2024-05-29T08:47:08.113Z"
   },
   {
    "duration": 31,
    "start_time": "2024-05-29T08:47:08.129Z"
   },
   {
    "duration": 157,
    "start_time": "2024-05-29T08:47:08.163Z"
   },
   {
    "duration": 29,
    "start_time": "2024-05-29T08:47:08.323Z"
   },
   {
    "duration": 73,
    "start_time": "2024-05-29T08:47:08.354Z"
   },
   {
    "duration": 241,
    "start_time": "2024-05-29T08:47:08.430Z"
   },
   {
    "duration": 184,
    "start_time": "2024-05-29T08:47:08.673Z"
   },
   {
    "duration": 17,
    "start_time": "2024-05-29T08:47:08.861Z"
   },
   {
    "duration": 69,
    "start_time": "2024-05-29T08:47:08.881Z"
   },
   {
    "duration": 59,
    "start_time": "2024-05-29T08:47:08.953Z"
   },
   {
    "duration": 44,
    "start_time": "2024-05-29T08:47:09.015Z"
   },
   {
    "duration": 68,
    "start_time": "2024-05-29T08:47:09.062Z"
   },
   {
    "duration": 178,
    "start_time": "2024-05-29T08:47:09.134Z"
   },
   {
    "duration": 12,
    "start_time": "2024-05-29T08:47:09.315Z"
   },
   {
    "duration": 109,
    "start_time": "2024-05-29T08:47:09.331Z"
   },
   {
    "duration": 80,
    "start_time": "2024-05-29T08:47:09.443Z"
   },
   {
    "duration": 28,
    "start_time": "2024-05-29T08:47:09.528Z"
   },
   {
    "duration": 55,
    "start_time": "2024-05-29T08:47:09.566Z"
   },
   {
    "duration": 802,
    "start_time": "2024-05-29T08:47:09.624Z"
   },
   {
    "duration": 96,
    "start_time": "2024-05-29T08:47:10.430Z"
   },
   {
    "duration": 11,
    "start_time": "2024-05-29T08:47:10.529Z"
   },
   {
    "duration": 311,
    "start_time": "2024-05-29T08:48:30.766Z"
   },
   {
    "duration": 1284,
    "start_time": "2024-05-29T08:48:36.293Z"
   },
   {
    "duration": 360,
    "start_time": "2024-05-29T08:48:37.581Z"
   },
   {
    "duration": 12,
    "start_time": "2024-05-29T08:48:37.944Z"
   },
   {
    "duration": 18,
    "start_time": "2024-05-29T08:48:37.959Z"
   },
   {
    "duration": 41,
    "start_time": "2024-05-29T08:48:37.980Z"
   },
   {
    "duration": 19,
    "start_time": "2024-05-29T08:48:38.024Z"
   },
   {
    "duration": 14,
    "start_time": "2024-05-29T08:48:38.047Z"
   },
   {
    "duration": 51,
    "start_time": "2024-05-29T08:48:38.064Z"
   },
   {
    "duration": 24,
    "start_time": "2024-05-29T08:48:38.118Z"
   },
   {
    "duration": 25,
    "start_time": "2024-05-29T08:48:38.145Z"
   },
   {
    "duration": 44,
    "start_time": "2024-05-29T08:48:38.174Z"
   },
   {
    "duration": 94,
    "start_time": "2024-05-29T08:48:38.222Z"
   },
   {
    "duration": 59,
    "start_time": "2024-05-29T08:48:38.318Z"
   },
   {
    "duration": 41,
    "start_time": "2024-05-29T08:48:38.383Z"
   },
   {
    "duration": 11,
    "start_time": "2024-05-29T08:48:38.427Z"
   },
   {
    "duration": 35,
    "start_time": "2024-05-29T08:48:38.442Z"
   },
   {
    "duration": 26,
    "start_time": "2024-05-29T08:48:38.510Z"
   },
   {
    "duration": 23,
    "start_time": "2024-05-29T08:48:38.540Z"
   },
   {
    "duration": 44,
    "start_time": "2024-05-29T08:48:38.566Z"
   },
   {
    "duration": 106,
    "start_time": "2024-05-29T08:48:38.614Z"
   },
   {
    "duration": 34,
    "start_time": "2024-05-29T08:48:38.724Z"
   },
   {
    "duration": 110,
    "start_time": "2024-05-29T08:48:38.761Z"
   },
   {
    "duration": 93,
    "start_time": "2024-05-29T08:48:38.874Z"
   },
   {
    "duration": 40,
    "start_time": "2024-05-29T08:48:38.970Z"
   },
   {
    "duration": 37,
    "start_time": "2024-05-29T08:48:39.013Z"
   },
   {
    "duration": 147,
    "start_time": "2024-05-29T08:48:39.052Z"
   },
   {
    "duration": 29,
    "start_time": "2024-05-29T08:48:39.209Z"
   },
   {
    "duration": 68,
    "start_time": "2024-05-29T08:48:39.242Z"
   },
   {
    "duration": 244,
    "start_time": "2024-05-29T08:48:39.313Z"
   },
   {
    "duration": 184,
    "start_time": "2024-05-29T08:48:39.559Z"
   },
   {
    "duration": 19,
    "start_time": "2024-05-29T08:48:39.747Z"
   },
   {
    "duration": 72,
    "start_time": "2024-05-29T08:48:39.769Z"
   },
   {
    "duration": 39,
    "start_time": "2024-05-29T08:48:39.844Z"
   },
   {
    "duration": 45,
    "start_time": "2024-05-29T08:48:39.910Z"
   },
   {
    "duration": 66,
    "start_time": "2024-05-29T08:48:39.958Z"
   },
   {
    "duration": 185,
    "start_time": "2024-05-29T08:48:40.028Z"
   },
   {
    "duration": 13,
    "start_time": "2024-05-29T08:48:40.217Z"
   },
   {
    "duration": 114,
    "start_time": "2024-05-29T08:48:40.234Z"
   },
   {
    "duration": 73,
    "start_time": "2024-05-29T08:48:40.351Z"
   },
   {
    "duration": 28,
    "start_time": "2024-05-29T08:48:40.428Z"
   },
   {
    "duration": 59,
    "start_time": "2024-05-29T08:48:40.467Z"
   },
   {
    "duration": 486,
    "start_time": "2024-05-29T08:48:40.529Z"
   },
   {
    "duration": 35,
    "start_time": "2024-05-29T08:48:41.019Z"
   },
   {
    "duration": 9,
    "start_time": "2024-05-29T08:48:41.057Z"
   },
   {
    "duration": 125,
    "start_time": "2024-05-29T08:48:41.069Z"
   },
   {
    "duration": 261,
    "start_time": "2024-05-29T08:48:41.208Z"
   },
   {
    "duration": 46,
    "start_time": "2024-05-29T08:48:41.472Z"
   },
   {
    "duration": 23,
    "start_time": "2024-05-29T08:48:41.522Z"
   },
   {
    "duration": 21,
    "start_time": "2024-05-29T08:48:41.548Z"
   },
   {
    "duration": 494,
    "start_time": "2024-05-29T08:48:41.608Z"
   },
   {
    "duration": 8,
    "start_time": "2024-05-29T08:48:42.110Z"
   },
   {
    "duration": 204,
    "start_time": "2024-05-29T08:48:42.121Z"
   },
   {
    "duration": 26,
    "start_time": "2024-05-29T08:48:42.328Z"
   },
   {
    "duration": 54,
    "start_time": "2024-05-29T08:48:42.356Z"
   },
   {
    "duration": 695,
    "start_time": "2024-05-29T08:48:42.413Z"
   },
   {
    "duration": 10,
    "start_time": "2024-05-29T08:48:43.112Z"
   },
   {
    "duration": 385,
    "start_time": "2024-05-29T08:48:43.126Z"
   },
   {
    "duration": 28,
    "start_time": "2024-05-29T08:48:43.514Z"
   },
   {
    "duration": 78,
    "start_time": "2024-05-29T08:48:43.545Z"
   },
   {
    "duration": 676,
    "start_time": "2024-05-29T08:48:43.626Z"
   },
   {
    "duration": 7,
    "start_time": "2024-05-29T08:48:44.308Z"
   },
   {
    "duration": 193,
    "start_time": "2024-05-29T08:48:44.318Z"
   },
   {
    "duration": 8,
    "start_time": "2024-05-29T08:48:44.514Z"
   },
   {
    "duration": 35,
    "start_time": "2024-05-29T08:48:44.526Z"
   },
   {
    "duration": 57,
    "start_time": "2024-05-29T08:48:44.564Z"
   },
   {
    "duration": 14,
    "start_time": "2024-05-29T08:48:44.625Z"
   },
   {
    "duration": 9,
    "start_time": "2024-05-29T08:48:44.642Z"
   },
   {
    "duration": 7,
    "start_time": "2024-05-29T08:48:44.654Z"
   },
   {
    "duration": 23,
    "start_time": "2024-05-29T08:49:51.973Z"
   },
   {
    "duration": 12,
    "start_time": "2024-05-29T08:53:49.432Z"
   },
   {
    "duration": 21,
    "start_time": "2024-05-29T08:53:57.950Z"
   },
   {
    "duration": 177,
    "start_time": "2024-05-29T08:57:31.938Z"
   },
   {
    "duration": 947,
    "start_time": "2024-05-29T09:17:22.043Z"
   },
   {
    "duration": 6941,
    "start_time": "2024-05-29T09:17:57.953Z"
   },
   {
    "duration": 4966,
    "start_time": "2024-05-29T09:18:26.520Z"
   },
   {
    "duration": 1366,
    "start_time": "2024-05-29T09:18:39.745Z"
   },
   {
    "duration": 4810,
    "start_time": "2024-05-29T09:18:46.553Z"
   },
   {
    "duration": 31,
    "start_time": "2024-05-29T09:20:33.694Z"
   },
   {
    "duration": 382,
    "start_time": "2024-05-29T09:20:50.467Z"
   },
   {
    "duration": 20,
    "start_time": "2024-05-29T09:22:35.859Z"
   },
   {
    "duration": 20,
    "start_time": "2024-05-29T09:22:42.446Z"
   },
   {
    "duration": 295,
    "start_time": "2024-05-29T09:24:27.661Z"
   },
   {
    "duration": 257,
    "start_time": "2024-05-29T09:24:40.473Z"
   },
   {
    "duration": 290,
    "start_time": "2024-05-29T09:24:46.163Z"
   },
   {
    "duration": 536,
    "start_time": "2024-05-29T09:24:53.678Z"
   },
   {
    "duration": 258,
    "start_time": "2024-05-29T09:25:01.359Z"
   },
   {
    "duration": 281,
    "start_time": "2024-05-29T09:25:09.075Z"
   },
   {
    "duration": 7,
    "start_time": "2024-05-29T09:27:27.790Z"
   },
   {
    "duration": 3,
    "start_time": "2024-05-29T09:28:18.221Z"
   },
   {
    "duration": 288,
    "start_time": "2024-05-29T09:30:39.653Z"
   },
   {
    "duration": 15,
    "start_time": "2024-05-29T09:51:37.758Z"
   },
   {
    "duration": 24,
    "start_time": "2024-05-29T09:52:35.849Z"
   },
   {
    "duration": 116,
    "start_time": "2024-05-29T09:52:42.144Z"
   },
   {
    "duration": 15,
    "start_time": "2024-05-29T09:53:00.334Z"
   },
   {
    "duration": 963,
    "start_time": "2024-05-29T09:53:23.164Z"
   },
   {
    "duration": 12,
    "start_time": "2024-05-29T09:56:06.894Z"
   },
   {
    "duration": 11,
    "start_time": "2024-05-29T09:56:37.145Z"
   },
   {
    "duration": 147,
    "start_time": "2024-05-29T09:56:44.498Z"
   },
   {
    "duration": 308,
    "start_time": "2024-05-29T09:56:44.649Z"
   },
   {
    "duration": 9,
    "start_time": "2024-05-29T09:56:44.961Z"
   },
   {
    "duration": 35,
    "start_time": "2024-05-29T09:56:44.974Z"
   },
   {
    "duration": 17,
    "start_time": "2024-05-29T09:56:45.015Z"
   },
   {
    "duration": 15,
    "start_time": "2024-05-29T09:56:45.035Z"
   },
   {
    "duration": 14,
    "start_time": "2024-05-29T09:56:45.053Z"
   },
   {
    "duration": 52,
    "start_time": "2024-05-29T09:56:45.069Z"
   },
   {
    "duration": 18,
    "start_time": "2024-05-29T09:56:45.124Z"
   },
   {
    "duration": 26,
    "start_time": "2024-05-29T09:56:45.145Z"
   },
   {
    "duration": 17,
    "start_time": "2024-05-29T09:56:45.210Z"
   },
   {
    "duration": 85,
    "start_time": "2024-05-29T09:56:45.230Z"
   },
   {
    "duration": 56,
    "start_time": "2024-05-29T09:56:45.319Z"
   },
   {
    "duration": 37,
    "start_time": "2024-05-29T09:56:45.383Z"
   },
   {
    "duration": 10,
    "start_time": "2024-05-29T09:56:45.423Z"
   },
   {
    "duration": 35,
    "start_time": "2024-05-29T09:56:45.437Z"
   },
   {
    "duration": 58,
    "start_time": "2024-05-29T09:56:45.475Z"
   },
   {
    "duration": 25,
    "start_time": "2024-05-29T09:56:45.537Z"
   },
   {
    "duration": 13,
    "start_time": "2024-05-29T09:56:45.567Z"
   },
   {
    "duration": 80,
    "start_time": "2024-05-29T09:56:45.611Z"
   },
   {
    "duration": 33,
    "start_time": "2024-05-29T09:56:45.709Z"
   },
   {
    "duration": 96,
    "start_time": "2024-05-29T09:56:45.745Z"
   },
   {
    "duration": 93,
    "start_time": "2024-05-29T09:56:45.844Z"
   },
   {
    "duration": 12,
    "start_time": "2024-05-29T09:56:45.941Z"
   },
   {
    "duration": 66,
    "start_time": "2024-05-29T09:56:45.956Z"
   },
   {
    "duration": 128,
    "start_time": "2024-05-29T09:56:46.025Z"
   },
   {
    "duration": 26,
    "start_time": "2024-05-29T09:56:46.156Z"
   },
   {
    "duration": 60,
    "start_time": "2024-05-29T09:56:46.184Z"
   },
   {
    "duration": 238,
    "start_time": "2024-05-29T09:56:46.246Z"
   },
   {
    "duration": 188,
    "start_time": "2024-05-29T09:56:46.487Z"
   },
   {
    "duration": 29,
    "start_time": "2024-05-29T09:56:46.680Z"
   },
   {
    "duration": 43,
    "start_time": "2024-05-29T09:56:46.712Z"
   },
   {
    "duration": 65,
    "start_time": "2024-05-29T09:56:46.758Z"
   },
   {
    "duration": 42,
    "start_time": "2024-05-29T09:56:46.827Z"
   },
   {
    "duration": 71,
    "start_time": "2024-05-29T09:56:46.871Z"
   },
   {
    "duration": 175,
    "start_time": "2024-05-29T09:56:46.945Z"
   },
   {
    "duration": 13,
    "start_time": "2024-05-29T09:56:47.122Z"
   },
   {
    "duration": 115,
    "start_time": "2024-05-29T09:56:47.140Z"
   },
   {
    "duration": 11,
    "start_time": "2024-05-29T09:56:47.259Z"
   },
   {
    "duration": 999,
    "start_time": "2024-05-29T09:56:47.273Z"
   },
   {
    "duration": 11,
    "start_time": "2024-05-29T09:56:48.281Z"
   },
   {
    "duration": 303,
    "start_time": "2024-05-29T09:56:48.296Z"
   },
   {
    "duration": 297,
    "start_time": "2024-05-29T09:56:48.609Z"
   },
   {
    "duration": 10,
    "start_time": "2024-05-29T09:56:48.908Z"
   },
   {
    "duration": 213,
    "start_time": "2024-05-29T09:56:48.922Z"
   },
   {
    "duration": 105,
    "start_time": "2024-05-29T09:56:49.138Z"
   },
   {
    "duration": 0,
    "start_time": "2024-05-29T09:56:49.246Z"
   },
   {
    "duration": 0,
    "start_time": "2024-05-29T09:56:49.248Z"
   },
   {
    "duration": 0,
    "start_time": "2024-05-29T09:56:49.250Z"
   },
   {
    "duration": 0,
    "start_time": "2024-05-29T09:56:49.252Z"
   },
   {
    "duration": 0,
    "start_time": "2024-05-29T09:56:49.254Z"
   },
   {
    "duration": 0,
    "start_time": "2024-05-29T09:56:49.256Z"
   },
   {
    "duration": 0,
    "start_time": "2024-05-29T09:56:49.258Z"
   },
   {
    "duration": 0,
    "start_time": "2024-05-29T09:56:49.260Z"
   },
   {
    "duration": 0,
    "start_time": "2024-05-29T09:56:49.262Z"
   },
   {
    "duration": 0,
    "start_time": "2024-05-29T09:56:49.264Z"
   },
   {
    "duration": 0,
    "start_time": "2024-05-29T09:56:49.266Z"
   },
   {
    "duration": 0,
    "start_time": "2024-05-29T09:56:49.268Z"
   },
   {
    "duration": 0,
    "start_time": "2024-05-29T09:56:49.270Z"
   },
   {
    "duration": 0,
    "start_time": "2024-05-29T09:56:49.309Z"
   },
   {
    "duration": 0,
    "start_time": "2024-05-29T09:56:49.311Z"
   },
   {
    "duration": 0,
    "start_time": "2024-05-29T09:56:49.313Z"
   },
   {
    "duration": 0,
    "start_time": "2024-05-29T09:56:49.315Z"
   },
   {
    "duration": 0,
    "start_time": "2024-05-29T09:56:49.316Z"
   },
   {
    "duration": 1091,
    "start_time": "2024-05-29T09:58:56.963Z"
   },
   {
    "duration": 12,
    "start_time": "2024-05-29T10:00:21.550Z"
   },
   {
    "duration": 981,
    "start_time": "2024-05-29T10:00:23.985Z"
   },
   {
    "duration": 16,
    "start_time": "2024-05-29T10:00:44.931Z"
   },
   {
    "duration": 908,
    "start_time": "2024-05-29T10:00:48.042Z"
   },
   {
    "duration": 12,
    "start_time": "2024-05-29T10:01:01.236Z"
   },
   {
    "duration": 978,
    "start_time": "2024-05-29T10:01:04.675Z"
   },
   {
    "duration": 13,
    "start_time": "2024-05-29T10:01:12.862Z"
   },
   {
    "duration": 973,
    "start_time": "2024-05-29T10:01:16.687Z"
   },
   {
    "duration": 5,
    "start_time": "2024-05-29T10:04:15.444Z"
   },
   {
    "duration": 305,
    "start_time": "2024-05-29T10:04:15.452Z"
   },
   {
    "duration": 11,
    "start_time": "2024-05-29T10:04:15.760Z"
   },
   {
    "duration": 35,
    "start_time": "2024-05-29T10:04:15.775Z"
   },
   {
    "duration": 12,
    "start_time": "2024-05-29T10:04:15.816Z"
   },
   {
    "duration": 14,
    "start_time": "2024-05-29T10:04:15.831Z"
   },
   {
    "duration": 14,
    "start_time": "2024-05-29T10:04:15.848Z"
   },
   {
    "duration": 51,
    "start_time": "2024-05-29T10:04:15.865Z"
   },
   {
    "duration": 18,
    "start_time": "2024-05-29T10:04:15.921Z"
   },
   {
    "duration": 26,
    "start_time": "2024-05-29T10:04:15.943Z"
   },
   {
    "duration": 44,
    "start_time": "2024-05-29T10:04:15.971Z"
   },
   {
    "duration": 68,
    "start_time": "2024-05-29T10:04:16.018Z"
   },
   {
    "duration": 56,
    "start_time": "2024-05-29T10:04:16.109Z"
   },
   {
    "duration": 41,
    "start_time": "2024-05-29T10:04:16.168Z"
   },
   {
    "duration": 10,
    "start_time": "2024-05-29T10:04:16.213Z"
   },
   {
    "duration": 38,
    "start_time": "2024-05-29T10:04:16.226Z"
   },
   {
    "duration": 54,
    "start_time": "2024-05-29T10:04:16.266Z"
   },
   {
    "duration": 23,
    "start_time": "2024-05-29T10:04:16.322Z"
   },
   {
    "duration": 11,
    "start_time": "2024-05-29T10:04:16.347Z"
   },
   {
    "duration": 124,
    "start_time": "2024-05-29T10:04:16.361Z"
   },
   {
    "duration": 39,
    "start_time": "2024-05-29T10:04:16.488Z"
   },
   {
    "duration": 101,
    "start_time": "2024-05-29T10:04:16.529Z"
   },
   {
    "duration": 92,
    "start_time": "2024-05-29T10:04:16.635Z"
   },
   {
    "duration": 12,
    "start_time": "2024-05-29T10:04:16.734Z"
   },
   {
    "duration": 62,
    "start_time": "2024-05-29T10:04:16.749Z"
   },
   {
    "duration": 127,
    "start_time": "2024-05-29T10:04:16.814Z"
   },
   {
    "duration": 27,
    "start_time": "2024-05-29T10:04:16.944Z"
   },
   {
    "duration": 64,
    "start_time": "2024-05-29T10:04:16.974Z"
   },
   {
    "duration": 249,
    "start_time": "2024-05-29T10:04:17.042Z"
   },
   {
    "duration": 188,
    "start_time": "2024-05-29T10:04:17.309Z"
   },
   {
    "duration": 19,
    "start_time": "2024-05-29T10:04:17.509Z"
   },
   {
    "duration": 43,
    "start_time": "2024-05-29T10:04:17.531Z"
   },
   {
    "duration": 39,
    "start_time": "2024-05-29T10:04:17.608Z"
   },
   {
    "duration": 71,
    "start_time": "2024-05-29T10:04:17.651Z"
   },
   {
    "duration": 42,
    "start_time": "2024-05-29T10:04:17.725Z"
   },
   {
    "duration": 185,
    "start_time": "2024-05-29T10:04:17.770Z"
   },
   {
    "duration": 12,
    "start_time": "2024-05-29T10:04:17.958Z"
   },
   {
    "duration": 108,
    "start_time": "2024-05-29T10:04:17.974Z"
   },
   {
    "duration": 24,
    "start_time": "2024-05-29T10:04:18.086Z"
   },
   {
    "duration": 2732,
    "start_time": "2024-05-29T10:04:18.113Z"
   },
   {
    "duration": 1064,
    "start_time": "2024-05-29T10:04:20.847Z"
   },
   {
    "duration": 933,
    "start_time": "2024-05-29T10:04:21.914Z"
   },
   {
    "duration": 22,
    "start_time": "2024-05-29T10:04:22.849Z"
   },
   {
    "duration": 41,
    "start_time": "2024-05-29T10:04:22.874Z"
   },
   {
    "duration": 469,
    "start_time": "2024-05-29T10:04:22.918Z"
   },
   {
    "duration": 19,
    "start_time": "2024-05-29T10:04:23.390Z"
   },
   {
    "duration": 181,
    "start_time": "2024-05-29T10:04:23.412Z"
   },
   {
    "duration": 15,
    "start_time": "2024-05-29T10:04:23.596Z"
   },
   {
    "duration": 34,
    "start_time": "2024-05-29T10:04:23.614Z"
   },
   {
    "duration": 17,
    "start_time": "2024-05-29T10:04:23.651Z"
   },
   {
    "duration": 43,
    "start_time": "2024-05-29T10:04:23.671Z"
   },
   {
    "duration": 8,
    "start_time": "2024-05-29T10:04:23.717Z"
   },
   {
    "duration": 8,
    "start_time": "2024-05-29T10:04:23.728Z"
   },
   {
    "duration": 908,
    "start_time": "2024-05-29T10:05:13.563Z"
   },
   {
    "duration": 4,
    "start_time": "2024-05-29T10:23:03.011Z"
   },
   {
    "duration": 300,
    "start_time": "2024-05-29T10:23:03.019Z"
   },
   {
    "duration": 11,
    "start_time": "2024-05-29T10:23:03.323Z"
   },
   {
    "duration": 14,
    "start_time": "2024-05-29T10:23:03.339Z"
   },
   {
    "duration": 14,
    "start_time": "2024-05-29T10:23:03.356Z"
   },
   {
    "duration": 14,
    "start_time": "2024-05-29T10:23:03.408Z"
   },
   {
    "duration": 14,
    "start_time": "2024-05-29T10:23:03.425Z"
   },
   {
    "duration": 11,
    "start_time": "2024-05-29T10:23:03.442Z"
   },
   {
    "duration": 61,
    "start_time": "2024-05-29T10:23:03.460Z"
   },
   {
    "duration": 28,
    "start_time": "2024-05-29T10:23:03.524Z"
   },
   {
    "duration": 12,
    "start_time": "2024-05-29T10:23:03.555Z"
   },
   {
    "duration": 78,
    "start_time": "2024-05-29T10:23:03.610Z"
   },
   {
    "duration": 74,
    "start_time": "2024-05-29T10:23:03.690Z"
   },
   {
    "duration": 43,
    "start_time": "2024-05-29T10:23:03.766Z"
   },
   {
    "duration": 11,
    "start_time": "2024-05-29T10:23:03.811Z"
   },
   {
    "duration": 36,
    "start_time": "2024-05-29T10:23:03.825Z"
   },
   {
    "duration": 54,
    "start_time": "2024-05-29T10:23:03.864Z"
   },
   {
    "duration": 23,
    "start_time": "2024-05-29T10:23:03.920Z"
   },
   {
    "duration": 12,
    "start_time": "2024-05-29T10:23:03.946Z"
   },
   {
    "duration": 126,
    "start_time": "2024-05-29T10:23:03.961Z"
   },
   {
    "duration": 41,
    "start_time": "2024-05-29T10:23:04.089Z"
   },
   {
    "duration": 96,
    "start_time": "2024-05-29T10:23:04.132Z"
   },
   {
    "duration": 94,
    "start_time": "2024-05-29T10:23:04.231Z"
   },
   {
    "duration": 12,
    "start_time": "2024-05-29T10:23:04.334Z"
   },
   {
    "duration": 61,
    "start_time": "2024-05-29T10:23:04.349Z"
   },
   {
    "duration": 128,
    "start_time": "2024-05-29T10:23:04.413Z"
   },
   {
    "duration": 30,
    "start_time": "2024-05-29T10:23:04.548Z"
   },
   {
    "duration": 68,
    "start_time": "2024-05-29T10:23:04.581Z"
   },
   {
    "duration": 262,
    "start_time": "2024-05-29T10:23:04.652Z"
   },
   {
    "duration": 174,
    "start_time": "2024-05-29T10:23:04.917Z"
   },
   {
    "duration": 31,
    "start_time": "2024-05-29T10:23:05.094Z"
   },
   {
    "duration": 45,
    "start_time": "2024-05-29T10:23:05.130Z"
   },
   {
    "duration": 66,
    "start_time": "2024-05-29T10:23:05.178Z"
   },
   {
    "duration": 74,
    "start_time": "2024-05-29T10:23:05.247Z"
   },
   {
    "duration": 39,
    "start_time": "2024-05-29T10:23:05.324Z"
   },
   {
    "duration": 188,
    "start_time": "2024-05-29T10:23:05.366Z"
   },
   {
    "duration": 13,
    "start_time": "2024-05-29T10:23:05.557Z"
   },
   {
    "duration": 116,
    "start_time": "2024-05-29T10:23:05.574Z"
   },
   {
    "duration": 22,
    "start_time": "2024-05-29T10:23:05.694Z"
   },
   {
    "duration": 930,
    "start_time": "2024-05-29T10:23:05.720Z"
   },
   {
    "duration": 878,
    "start_time": "2024-05-29T10:23:06.653Z"
   },
   {
    "duration": 902,
    "start_time": "2024-05-29T10:23:07.534Z"
   },
   {
    "duration": 21,
    "start_time": "2024-05-29T10:23:08.441Z"
   },
   {
    "duration": 45,
    "start_time": "2024-05-29T10:23:08.465Z"
   },
   {
    "duration": 475,
    "start_time": "2024-05-29T10:23:08.513Z"
   },
   {
    "duration": 18,
    "start_time": "2024-05-29T10:23:08.990Z"
   },
   {
    "duration": 178,
    "start_time": "2024-05-29T10:23:09.011Z"
   },
   {
    "duration": 18,
    "start_time": "2024-05-29T10:23:09.192Z"
   },
   {
    "duration": 33,
    "start_time": "2024-05-29T10:23:09.213Z"
   },
   {
    "duration": 16,
    "start_time": "2024-05-29T10:23:09.248Z"
   },
   {
    "duration": 45,
    "start_time": "2024-05-29T10:23:09.267Z"
   },
   {
    "duration": 8,
    "start_time": "2024-05-29T10:23:09.314Z"
   },
   {
    "duration": 7,
    "start_time": "2024-05-29T10:23:09.325Z"
   },
   {
    "duration": 1525,
    "start_time": "2024-05-29T16:22:32.691Z"
   },
   {
    "duration": 845,
    "start_time": "2024-05-29T16:22:34.220Z"
   },
   {
    "duration": 16,
    "start_time": "2024-05-29T16:22:35.122Z"
   },
   {
    "duration": 79,
    "start_time": "2024-05-29T16:22:35.143Z"
   },
   {
    "duration": 25,
    "start_time": "2024-05-29T16:22:35.226Z"
   },
   {
    "duration": 74,
    "start_time": "2024-05-29T16:22:35.255Z"
   },
   {
    "duration": 17,
    "start_time": "2024-05-29T16:22:35.332Z"
   },
   {
    "duration": 71,
    "start_time": "2024-05-29T16:22:35.353Z"
   },
   {
    "duration": 23,
    "start_time": "2024-05-29T16:22:35.428Z"
   },
   {
    "duration": 87,
    "start_time": "2024-05-29T16:22:35.458Z"
   },
   {
    "duration": 74,
    "start_time": "2024-05-29T16:22:35.549Z"
   },
   {
    "duration": 215,
    "start_time": "2024-05-29T16:22:35.627Z"
   },
   {
    "duration": 118,
    "start_time": "2024-05-29T16:22:35.846Z"
   },
   {
    "duration": 75,
    "start_time": "2024-05-29T16:22:35.968Z"
   },
   {
    "duration": 17,
    "start_time": "2024-05-29T16:22:36.047Z"
   },
   {
    "duration": 86,
    "start_time": "2024-05-29T16:22:36.070Z"
   },
   {
    "duration": 33,
    "start_time": "2024-05-29T16:22:36.163Z"
   },
   {
    "duration": 31,
    "start_time": "2024-05-29T16:22:36.223Z"
   },
   {
    "duration": 16,
    "start_time": "2024-05-29T16:22:36.258Z"
   },
   {
    "duration": 193,
    "start_time": "2024-05-29T16:22:36.278Z"
   },
   {
    "duration": 48,
    "start_time": "2024-05-29T16:22:36.480Z"
   },
   {
    "duration": 121,
    "start_time": "2024-05-29T16:22:36.531Z"
   },
   {
    "duration": 125,
    "start_time": "2024-05-29T16:22:36.656Z"
   },
   {
    "duration": 41,
    "start_time": "2024-05-29T16:22:36.785Z"
   },
   {
    "duration": 38,
    "start_time": "2024-05-29T16:22:36.829Z"
   },
   {
    "duration": 167,
    "start_time": "2024-05-29T16:22:36.871Z"
   },
   {
    "duration": 40,
    "start_time": "2024-05-29T16:22:37.043Z"
   },
   {
    "duration": 48,
    "start_time": "2024-05-29T16:22:37.122Z"
   },
   {
    "duration": 351,
    "start_time": "2024-05-29T16:22:37.174Z"
   },
   {
    "duration": 218,
    "start_time": "2024-05-29T16:22:37.529Z"
   },
   {
    "duration": 21,
    "start_time": "2024-05-29T16:22:37.752Z"
   },
   {
    "duration": 80,
    "start_time": "2024-05-29T16:22:37.779Z"
   },
   {
    "duration": 79,
    "start_time": "2024-05-29T16:22:37.862Z"
   },
   {
    "duration": 85,
    "start_time": "2024-05-29T16:22:37.945Z"
   },
   {
    "duration": 50,
    "start_time": "2024-05-29T16:22:38.033Z"
   },
   {
    "duration": 202,
    "start_time": "2024-05-29T16:22:38.087Z"
   },
   {
    "duration": 30,
    "start_time": "2024-05-29T16:22:38.293Z"
   },
   {
    "duration": 129,
    "start_time": "2024-05-29T16:22:38.331Z"
   },
   {
    "duration": 17,
    "start_time": "2024-05-29T16:22:38.464Z"
   },
   {
    "duration": 1161,
    "start_time": "2024-05-29T16:22:38.486Z"
   },
   {
    "duration": 959,
    "start_time": "2024-05-29T16:22:39.650Z"
   },
   {
    "duration": 1062,
    "start_time": "2024-05-29T16:22:40.613Z"
   },
   {
    "duration": 460,
    "start_time": "2024-05-29T16:22:41.679Z"
   },
   {
    "duration": 0,
    "start_time": "2024-05-29T16:22:42.143Z"
   },
   {
    "duration": 0,
    "start_time": "2024-05-29T16:22:42.147Z"
   },
   {
    "duration": 0,
    "start_time": "2024-05-29T16:22:42.150Z"
   },
   {
    "duration": 0,
    "start_time": "2024-05-29T16:22:42.153Z"
   },
   {
    "duration": 0,
    "start_time": "2024-05-29T16:22:42.156Z"
   },
   {
    "duration": 0,
    "start_time": "2024-05-29T16:22:42.159Z"
   },
   {
    "duration": 0,
    "start_time": "2024-05-29T16:22:42.163Z"
   },
   {
    "duration": 0,
    "start_time": "2024-05-29T16:22:42.166Z"
   },
   {
    "duration": 0,
    "start_time": "2024-05-29T16:22:42.169Z"
   },
   {
    "duration": 0,
    "start_time": "2024-05-29T16:22:42.172Z"
   },
   {
    "duration": 28,
    "start_time": "2024-05-29T16:27:36.949Z"
   },
   {
    "duration": 43,
    "start_time": "2024-05-29T16:27:50.409Z"
   },
   {
    "duration": 20,
    "start_time": "2024-05-29T16:27:59.527Z"
   },
   {
    "duration": 17,
    "start_time": "2024-05-29T16:28:03.610Z"
   },
   {
    "duration": 6,
    "start_time": "2024-05-29T16:39:10.331Z"
   },
   {
    "duration": 451,
    "start_time": "2024-05-29T16:39:10.353Z"
   },
   {
    "duration": 25,
    "start_time": "2024-05-29T16:39:10.809Z"
   },
   {
    "duration": 24,
    "start_time": "2024-05-29T16:39:10.838Z"
   },
   {
    "duration": 20,
    "start_time": "2024-05-29T16:39:10.867Z"
   },
   {
    "duration": 45,
    "start_time": "2024-05-29T16:39:10.893Z"
   },
   {
    "duration": 20,
    "start_time": "2024-05-29T16:39:10.943Z"
   },
   {
    "duration": 16,
    "start_time": "2024-05-29T16:39:10.968Z"
   },
   {
    "duration": 28,
    "start_time": "2024-05-29T16:39:11.024Z"
   },
   {
    "duration": 38,
    "start_time": "2024-05-29T16:39:11.056Z"
   },
   {
    "duration": 43,
    "start_time": "2024-05-29T16:39:11.124Z"
   },
   {
    "duration": 118,
    "start_time": "2024-05-29T16:39:11.178Z"
   },
   {
    "duration": 77,
    "start_time": "2024-05-29T16:39:11.306Z"
   },
   {
    "duration": 40,
    "start_time": "2024-05-29T16:39:11.386Z"
   },
   {
    "duration": 12,
    "start_time": "2024-05-29T16:39:11.435Z"
   },
   {
    "duration": 73,
    "start_time": "2024-05-29T16:39:11.450Z"
   },
   {
    "duration": 33,
    "start_time": "2024-05-29T16:39:11.527Z"
   },
   {
    "duration": 32,
    "start_time": "2024-05-29T16:39:11.563Z"
   },
   {
    "duration": 36,
    "start_time": "2024-05-29T16:39:11.599Z"
   },
   {
    "duration": 150,
    "start_time": "2024-05-29T16:39:11.640Z"
   },
   {
    "duration": 55,
    "start_time": "2024-05-29T16:39:11.797Z"
   },
   {
    "duration": 108,
    "start_time": "2024-05-29T16:39:11.862Z"
   },
   {
    "duration": 118,
    "start_time": "2024-05-29T16:39:11.974Z"
   },
   {
    "duration": 37,
    "start_time": "2024-05-29T16:39:12.096Z"
   },
   {
    "duration": 38,
    "start_time": "2024-05-29T16:39:12.137Z"
   },
   {
    "duration": 190,
    "start_time": "2024-05-29T16:39:12.179Z"
   },
   {
    "duration": 53,
    "start_time": "2024-05-29T16:39:12.372Z"
   },
   {
    "duration": 57,
    "start_time": "2024-05-29T16:39:12.429Z"
   },
   {
    "duration": 334,
    "start_time": "2024-05-29T16:39:12.490Z"
   },
   {
    "duration": 243,
    "start_time": "2024-05-29T16:39:12.828Z"
   },
   {
    "duration": 34,
    "start_time": "2024-05-29T16:39:13.075Z"
   },
   {
    "duration": 70,
    "start_time": "2024-05-29T16:39:13.121Z"
   },
   {
    "duration": 55,
    "start_time": "2024-05-29T16:39:13.196Z"
   },
   {
    "duration": 69,
    "start_time": "2024-05-29T16:39:13.255Z"
   },
   {
    "duration": 93,
    "start_time": "2024-05-29T16:39:13.330Z"
   },
   {
    "duration": 413,
    "start_time": "2024-05-29T16:39:13.427Z"
   },
   {
    "duration": 17,
    "start_time": "2024-05-29T16:39:13.844Z"
   },
   {
    "duration": 260,
    "start_time": "2024-05-29T16:39:13.865Z"
   },
   {
    "duration": 20,
    "start_time": "2024-05-29T16:39:14.128Z"
   },
   {
    "duration": 1693,
    "start_time": "2024-05-29T16:39:14.152Z"
   },
   {
    "duration": 1090,
    "start_time": "2024-05-29T16:39:15.849Z"
   },
   {
    "duration": 1194,
    "start_time": "2024-05-29T16:39:16.950Z"
   },
   {
    "duration": 38,
    "start_time": "2024-05-29T16:39:18.148Z"
   },
   {
    "duration": 0,
    "start_time": "2024-05-29T16:39:18.189Z"
   },
   {
    "duration": 0,
    "start_time": "2024-05-29T16:39:18.195Z"
   },
   {
    "duration": 0,
    "start_time": "2024-05-29T16:39:18.198Z"
   },
   {
    "duration": 0,
    "start_time": "2024-05-29T16:39:18.201Z"
   },
   {
    "duration": 0,
    "start_time": "2024-05-29T16:39:18.203Z"
   },
   {
    "duration": 0,
    "start_time": "2024-05-29T16:39:18.204Z"
   },
   {
    "duration": 0,
    "start_time": "2024-05-29T16:39:18.205Z"
   },
   {
    "duration": 0,
    "start_time": "2024-05-29T16:39:18.225Z"
   },
   {
    "duration": 0,
    "start_time": "2024-05-29T16:39:18.227Z"
   },
   {
    "duration": 0,
    "start_time": "2024-05-29T16:39:18.229Z"
   },
   {
    "duration": 38,
    "start_time": "2024-05-29T16:40:04.480Z"
   },
   {
    "duration": 0,
    "start_time": "2024-05-29T16:40:04.523Z"
   },
   {
    "duration": 0,
    "start_time": "2024-05-29T16:40:04.526Z"
   },
   {
    "duration": 0,
    "start_time": "2024-05-29T16:40:04.540Z"
   },
   {
    "duration": 39,
    "start_time": "2024-05-29T16:40:04.544Z"
   },
   {
    "duration": 0,
    "start_time": "2024-05-29T16:40:04.587Z"
   },
   {
    "duration": 4816,
    "start_time": "2024-05-30T08:37:54.950Z"
   },
   {
    "duration": 343,
    "start_time": "2024-05-30T08:37:59.769Z"
   },
   {
    "duration": 12,
    "start_time": "2024-05-30T08:38:00.114Z"
   },
   {
    "duration": 19,
    "start_time": "2024-05-30T08:38:00.133Z"
   },
   {
    "duration": 17,
    "start_time": "2024-05-30T08:38:00.154Z"
   },
   {
    "duration": 14,
    "start_time": "2024-05-30T08:38:00.174Z"
   },
   {
    "duration": 55,
    "start_time": "2024-05-30T08:38:00.192Z"
   },
   {
    "duration": 12,
    "start_time": "2024-05-30T08:38:00.250Z"
   },
   {
    "duration": 19,
    "start_time": "2024-05-30T08:38:00.265Z"
   },
   {
    "duration": 61,
    "start_time": "2024-05-30T08:38:00.290Z"
   },
   {
    "duration": 11,
    "start_time": "2024-05-30T08:38:00.354Z"
   },
   {
    "duration": 102,
    "start_time": "2024-05-30T08:38:00.368Z"
   },
   {
    "duration": 63,
    "start_time": "2024-05-30T08:38:00.473Z"
   },
   {
    "duration": 21,
    "start_time": "2024-05-30T08:38:00.539Z"
   },
   {
    "duration": 10,
    "start_time": "2024-05-30T08:38:00.563Z"
   },
   {
    "duration": 72,
    "start_time": "2024-05-30T08:38:00.576Z"
   },
   {
    "duration": 24,
    "start_time": "2024-05-30T08:38:00.651Z"
   },
   {
    "duration": 22,
    "start_time": "2024-05-30T08:38:00.678Z"
   },
   {
    "duration": 40,
    "start_time": "2024-05-30T08:38:00.703Z"
   },
   {
    "duration": 100,
    "start_time": "2024-05-30T08:38:00.747Z"
   },
   {
    "duration": 32,
    "start_time": "2024-05-30T08:38:00.851Z"
   },
   {
    "duration": 100,
    "start_time": "2024-05-30T08:38:00.885Z"
   },
   {
    "duration": 93,
    "start_time": "2024-05-30T08:38:00.988Z"
   },
   {
    "duration": 12,
    "start_time": "2024-05-30T08:38:01.084Z"
   },
   {
    "duration": 62,
    "start_time": "2024-05-30T08:38:01.101Z"
   },
   {
    "duration": 129,
    "start_time": "2024-05-30T08:38:01.167Z"
   },
   {
    "duration": 47,
    "start_time": "2024-05-30T08:38:01.300Z"
   },
   {
    "duration": 38,
    "start_time": "2024-05-30T08:38:01.355Z"
   },
   {
    "duration": 260,
    "start_time": "2024-05-30T08:38:01.397Z"
   },
   {
    "duration": 177,
    "start_time": "2024-05-30T08:38:01.660Z"
   },
   {
    "duration": 18,
    "start_time": "2024-05-30T08:38:01.840Z"
   },
   {
    "duration": 76,
    "start_time": "2024-05-30T08:38:01.860Z"
   },
   {
    "duration": 38,
    "start_time": "2024-05-30T08:38:01.939Z"
   },
   {
    "duration": 75,
    "start_time": "2024-05-30T08:38:01.981Z"
   },
   {
    "duration": 39,
    "start_time": "2024-05-30T08:38:02.059Z"
   },
   {
    "duration": 183,
    "start_time": "2024-05-30T08:38:02.102Z"
   },
   {
    "duration": 11,
    "start_time": "2024-05-30T08:38:02.289Z"
   },
   {
    "duration": 107,
    "start_time": "2024-05-30T08:38:02.303Z"
   },
   {
    "duration": 21,
    "start_time": "2024-05-30T08:38:02.413Z"
   },
   {
    "duration": 966,
    "start_time": "2024-05-30T08:38:02.437Z"
   },
   {
    "duration": 1043,
    "start_time": "2024-05-30T08:38:03.406Z"
   },
   {
    "duration": 1392,
    "start_time": "2024-05-30T08:38:04.452Z"
   },
   {
    "duration": 432,
    "start_time": "2024-05-30T08:38:05.848Z"
   },
   {
    "duration": 0,
    "start_time": "2024-05-30T08:38:06.283Z"
   },
   {
    "duration": 0,
    "start_time": "2024-05-30T08:38:06.284Z"
   },
   {
    "duration": 0,
    "start_time": "2024-05-30T08:38:06.287Z"
   },
   {
    "duration": 0,
    "start_time": "2024-05-30T08:38:06.288Z"
   },
   {
    "duration": 0,
    "start_time": "2024-05-30T08:38:06.291Z"
   },
   {
    "duration": 0,
    "start_time": "2024-05-30T08:38:06.292Z"
   },
   {
    "duration": 0,
    "start_time": "2024-05-30T08:38:06.294Z"
   },
   {
    "duration": 0,
    "start_time": "2024-05-30T08:38:06.296Z"
   },
   {
    "duration": 0,
    "start_time": "2024-05-30T08:38:06.298Z"
   },
   {
    "duration": 0,
    "start_time": "2024-05-30T08:38:06.300Z"
   },
   {
    "duration": 23,
    "start_time": "2024-05-30T08:45:17.054Z"
   },
   {
    "duration": 22,
    "start_time": "2024-05-30T08:46:50.178Z"
   },
   {
    "duration": 21,
    "start_time": "2024-05-30T08:47:00.762Z"
   },
   {
    "duration": 4,
    "start_time": "2024-05-30T08:47:05.011Z"
   },
   {
    "duration": 294,
    "start_time": "2024-05-30T08:47:05.018Z"
   },
   {
    "duration": 23,
    "start_time": "2024-05-30T08:47:05.317Z"
   },
   {
    "duration": 14,
    "start_time": "2024-05-30T08:47:05.343Z"
   },
   {
    "duration": 12,
    "start_time": "2024-05-30T08:47:05.361Z"
   },
   {
    "duration": 15,
    "start_time": "2024-05-30T08:47:05.376Z"
   },
   {
    "duration": 14,
    "start_time": "2024-05-30T08:47:05.435Z"
   },
   {
    "duration": 12,
    "start_time": "2024-05-30T08:47:05.452Z"
   },
   {
    "duration": 18,
    "start_time": "2024-05-30T08:47:05.467Z"
   },
   {
    "duration": 69,
    "start_time": "2024-05-30T08:47:05.488Z"
   },
   {
    "duration": 12,
    "start_time": "2024-05-30T08:47:05.562Z"
   },
   {
    "duration": 92,
    "start_time": "2024-05-30T08:47:05.577Z"
   },
   {
    "duration": 67,
    "start_time": "2024-05-30T08:47:05.672Z"
   },
   {
    "duration": 20,
    "start_time": "2024-05-30T08:47:05.742Z"
   },
   {
    "duration": 10,
    "start_time": "2024-05-30T08:47:05.764Z"
   },
   {
    "duration": 67,
    "start_time": "2024-05-30T08:47:05.777Z"
   },
   {
    "duration": 26,
    "start_time": "2024-05-30T08:47:05.847Z"
   },
   {
    "duration": 21,
    "start_time": "2024-05-30T08:47:05.876Z"
   },
   {
    "duration": 37,
    "start_time": "2024-05-30T08:47:05.900Z"
   },
   {
    "duration": 107,
    "start_time": "2024-05-30T08:47:05.940Z"
   },
   {
    "duration": 31,
    "start_time": "2024-05-30T08:47:06.050Z"
   },
   {
    "duration": 97,
    "start_time": "2024-05-30T08:47:06.084Z"
   },
   {
    "duration": 98,
    "start_time": "2024-05-30T08:47:06.185Z"
   },
   {
    "duration": 12,
    "start_time": "2024-05-30T08:47:06.286Z"
   },
   {
    "duration": 64,
    "start_time": "2024-05-30T08:47:06.301Z"
   },
   {
    "duration": 140,
    "start_time": "2024-05-30T08:47:06.369Z"
   },
   {
    "duration": 44,
    "start_time": "2024-05-30T08:47:06.512Z"
   },
   {
    "duration": 41,
    "start_time": "2024-05-30T08:47:06.559Z"
   },
   {
    "duration": 230,
    "start_time": "2024-05-30T08:47:06.637Z"
   },
   {
    "duration": 184,
    "start_time": "2024-05-30T08:47:06.870Z"
   },
   {
    "duration": 18,
    "start_time": "2024-05-30T08:47:07.057Z"
   },
   {
    "duration": 75,
    "start_time": "2024-05-30T08:47:07.077Z"
   },
   {
    "duration": 39,
    "start_time": "2024-05-30T08:47:07.159Z"
   },
   {
    "duration": 68,
    "start_time": "2024-05-30T08:47:07.201Z"
   },
   {
    "duration": 62,
    "start_time": "2024-05-30T08:47:07.272Z"
   },
   {
    "duration": 165,
    "start_time": "2024-05-30T08:47:07.337Z"
   },
   {
    "duration": 11,
    "start_time": "2024-05-30T08:47:07.505Z"
   },
   {
    "duration": 99,
    "start_time": "2024-05-30T08:47:07.535Z"
   },
   {
    "duration": 8,
    "start_time": "2024-05-30T08:47:07.638Z"
   },
   {
    "duration": 0,
    "start_time": "2024-05-30T08:47:07.648Z"
   },
   {
    "duration": 0,
    "start_time": "2024-05-30T08:47:07.651Z"
   },
   {
    "duration": 0,
    "start_time": "2024-05-30T08:47:07.654Z"
   },
   {
    "duration": 0,
    "start_time": "2024-05-30T08:47:07.655Z"
   },
   {
    "duration": 0,
    "start_time": "2024-05-30T08:47:07.657Z"
   },
   {
    "duration": 0,
    "start_time": "2024-05-30T08:47:07.659Z"
   },
   {
    "duration": 0,
    "start_time": "2024-05-30T08:47:07.661Z"
   },
   {
    "duration": 0,
    "start_time": "2024-05-30T08:47:07.663Z"
   },
   {
    "duration": 0,
    "start_time": "2024-05-30T08:47:07.665Z"
   },
   {
    "duration": 0,
    "start_time": "2024-05-30T08:47:07.667Z"
   },
   {
    "duration": 0,
    "start_time": "2024-05-30T08:47:07.672Z"
   },
   {
    "duration": 0,
    "start_time": "2024-05-30T08:47:07.674Z"
   },
   {
    "duration": 0,
    "start_time": "2024-05-30T08:47:07.677Z"
   },
   {
    "duration": 0,
    "start_time": "2024-05-30T08:47:07.679Z"
   },
   {
    "duration": 1,
    "start_time": "2024-05-30T08:47:07.734Z"
   },
   {
    "duration": 6,
    "start_time": "2024-05-30T08:47:36.332Z"
   },
   {
    "duration": 334,
    "start_time": "2024-05-30T08:47:36.344Z"
   },
   {
    "duration": 10,
    "start_time": "2024-05-30T08:47:36.680Z"
   },
   {
    "duration": 14,
    "start_time": "2024-05-30T08:47:36.694Z"
   },
   {
    "duration": 15,
    "start_time": "2024-05-30T08:47:36.736Z"
   },
   {
    "duration": 15,
    "start_time": "2024-05-30T08:47:36.754Z"
   },
   {
    "duration": 14,
    "start_time": "2024-05-30T08:47:36.772Z"
   },
   {
    "duration": 55,
    "start_time": "2024-05-30T08:47:36.790Z"
   },
   {
    "duration": 17,
    "start_time": "2024-05-30T08:47:36.851Z"
   },
   {
    "duration": 27,
    "start_time": "2024-05-30T08:47:36.871Z"
   },
   {
    "duration": 12,
    "start_time": "2024-05-30T08:47:36.936Z"
   },
   {
    "duration": 99,
    "start_time": "2024-05-30T08:47:36.951Z"
   },
   {
    "duration": 56,
    "start_time": "2024-05-30T08:47:37.053Z"
   },
   {
    "duration": 32,
    "start_time": "2024-05-30T08:47:37.112Z"
   },
   {
    "duration": 10,
    "start_time": "2024-05-30T08:47:37.148Z"
   },
   {
    "duration": 35,
    "start_time": "2024-05-30T08:47:37.161Z"
   },
   {
    "duration": 57,
    "start_time": "2024-05-30T08:47:37.199Z"
   },
   {
    "duration": 21,
    "start_time": "2024-05-30T08:47:37.259Z"
   },
   {
    "duration": 10,
    "start_time": "2024-05-30T08:47:37.284Z"
   },
   {
    "duration": 116,
    "start_time": "2024-05-30T08:47:37.297Z"
   },
   {
    "duration": 44,
    "start_time": "2024-05-30T08:47:37.416Z"
   },
   {
    "duration": 106,
    "start_time": "2024-05-30T08:47:37.463Z"
   },
   {
    "duration": 89,
    "start_time": "2024-05-30T08:47:37.572Z"
   },
   {
    "duration": 14,
    "start_time": "2024-05-30T08:47:37.670Z"
   },
   {
    "duration": 64,
    "start_time": "2024-05-30T08:47:37.687Z"
   },
   {
    "duration": 128,
    "start_time": "2024-05-30T08:47:37.754Z"
   },
   {
    "duration": 51,
    "start_time": "2024-05-30T08:47:37.885Z"
   },
   {
    "duration": 40,
    "start_time": "2024-05-30T08:47:37.938Z"
   },
   {
    "duration": 255,
    "start_time": "2024-05-30T08:47:37.981Z"
   },
   {
    "duration": 168,
    "start_time": "2024-05-30T08:47:38.238Z"
   },
   {
    "duration": 29,
    "start_time": "2024-05-30T08:47:38.412Z"
   },
   {
    "duration": 43,
    "start_time": "2024-05-30T08:47:38.444Z"
   },
   {
    "duration": 63,
    "start_time": "2024-05-30T08:47:38.490Z"
   },
   {
    "duration": 43,
    "start_time": "2024-05-30T08:47:38.557Z"
   },
   {
    "duration": 38,
    "start_time": "2024-05-30T08:47:38.635Z"
   },
   {
    "duration": 176,
    "start_time": "2024-05-30T08:47:38.676Z"
   },
   {
    "duration": 12,
    "start_time": "2024-05-30T08:47:38.855Z"
   },
   {
    "duration": 110,
    "start_time": "2024-05-30T08:47:38.870Z"
   },
   {
    "duration": 8,
    "start_time": "2024-05-30T08:47:38.983Z"
   },
   {
    "duration": 0,
    "start_time": "2024-05-30T08:47:38.995Z"
   },
   {
    "duration": 0,
    "start_time": "2024-05-30T08:47:38.997Z"
   },
   {
    "duration": 0,
    "start_time": "2024-05-30T08:47:39.000Z"
   },
   {
    "duration": 0,
    "start_time": "2024-05-30T08:47:39.003Z"
   },
   {
    "duration": 0,
    "start_time": "2024-05-30T08:47:39.005Z"
   },
   {
    "duration": 0,
    "start_time": "2024-05-30T08:47:39.007Z"
   },
   {
    "duration": 0,
    "start_time": "2024-05-30T08:47:39.008Z"
   },
   {
    "duration": 0,
    "start_time": "2024-05-30T08:47:39.035Z"
   },
   {
    "duration": 0,
    "start_time": "2024-05-30T08:47:39.037Z"
   },
   {
    "duration": 0,
    "start_time": "2024-05-30T08:47:39.039Z"
   },
   {
    "duration": 0,
    "start_time": "2024-05-30T08:47:39.041Z"
   },
   {
    "duration": 0,
    "start_time": "2024-05-30T08:47:39.043Z"
   },
   {
    "duration": 0,
    "start_time": "2024-05-30T08:47:39.044Z"
   },
   {
    "duration": 0,
    "start_time": "2024-05-30T08:47:39.046Z"
   },
   {
    "duration": 0,
    "start_time": "2024-05-30T08:47:39.048Z"
   },
   {
    "duration": 5,
    "start_time": "2024-05-30T08:49:00.880Z"
   },
   {
    "duration": 291,
    "start_time": "2024-05-30T08:49:00.889Z"
   },
   {
    "duration": 10,
    "start_time": "2024-05-30T08:49:01.182Z"
   },
   {
    "duration": 44,
    "start_time": "2024-05-30T08:49:01.196Z"
   },
   {
    "duration": 13,
    "start_time": "2024-05-30T08:49:01.243Z"
   },
   {
    "duration": 14,
    "start_time": "2024-05-30T08:49:01.259Z"
   },
   {
    "duration": 13,
    "start_time": "2024-05-30T08:49:01.276Z"
   },
   {
    "duration": 51,
    "start_time": "2024-05-30T08:49:01.292Z"
   },
   {
    "duration": 18,
    "start_time": "2024-05-30T08:49:01.350Z"
   },
   {
    "duration": 25,
    "start_time": "2024-05-30T08:49:01.371Z"
   },
   {
    "duration": 11,
    "start_time": "2024-05-30T08:49:01.435Z"
   },
   {
    "duration": 95,
    "start_time": "2024-05-30T08:49:01.449Z"
   },
   {
    "duration": 56,
    "start_time": "2024-05-30T08:49:01.547Z"
   },
   {
    "duration": 39,
    "start_time": "2024-05-30T08:49:01.606Z"
   },
   {
    "duration": 10,
    "start_time": "2024-05-30T08:49:01.648Z"
   },
   {
    "duration": 37,
    "start_time": "2024-05-30T08:49:01.661Z"
   },
   {
    "duration": 57,
    "start_time": "2024-05-30T08:49:01.701Z"
   },
   {
    "duration": 24,
    "start_time": "2024-05-30T08:49:01.761Z"
   },
   {
    "duration": 11,
    "start_time": "2024-05-30T08:49:01.787Z"
   },
   {
    "duration": 116,
    "start_time": "2024-05-30T08:49:01.801Z"
   },
   {
    "duration": 32,
    "start_time": "2024-05-30T08:49:01.934Z"
   },
   {
    "duration": 99,
    "start_time": "2024-05-30T08:49:01.969Z"
   },
   {
    "duration": 99,
    "start_time": "2024-05-30T08:49:02.071Z"
   },
   {
    "duration": 12,
    "start_time": "2024-05-30T08:49:02.178Z"
   },
   {
    "duration": 64,
    "start_time": "2024-05-30T08:49:02.193Z"
   },
   {
    "duration": 135,
    "start_time": "2024-05-30T08:49:02.260Z"
   },
   {
    "duration": 42,
    "start_time": "2024-05-30T08:49:02.398Z"
   },
   {
    "duration": 40,
    "start_time": "2024-05-30T08:49:02.443Z"
   },
   {
    "duration": 250,
    "start_time": "2024-05-30T08:49:02.486Z"
   },
   {
    "duration": 173,
    "start_time": "2024-05-30T08:49:02.739Z"
   },
   {
    "duration": 31,
    "start_time": "2024-05-30T08:49:02.914Z"
   },
   {
    "duration": 44,
    "start_time": "2024-05-30T08:49:02.947Z"
   },
   {
    "duration": 62,
    "start_time": "2024-05-30T08:49:02.993Z"
   },
   {
    "duration": 42,
    "start_time": "2024-05-30T08:49:03.058Z"
   },
   {
    "duration": 65,
    "start_time": "2024-05-30T08:49:03.103Z"
   },
   {
    "duration": 180,
    "start_time": "2024-05-30T08:49:03.171Z"
   },
   {
    "duration": 12,
    "start_time": "2024-05-30T08:49:03.354Z"
   },
   {
    "duration": 113,
    "start_time": "2024-05-30T08:49:03.369Z"
   },
   {
    "duration": 9,
    "start_time": "2024-05-30T08:49:03.485Z"
   },
   {
    "duration": 0,
    "start_time": "2024-05-30T08:49:03.496Z"
   },
   {
    "duration": 0,
    "start_time": "2024-05-30T08:49:03.499Z"
   },
   {
    "duration": 0,
    "start_time": "2024-05-30T08:49:03.500Z"
   },
   {
    "duration": 0,
    "start_time": "2024-05-30T08:49:03.503Z"
   },
   {
    "duration": 0,
    "start_time": "2024-05-30T08:49:03.504Z"
   },
   {
    "duration": 0,
    "start_time": "2024-05-30T08:49:03.534Z"
   },
   {
    "duration": 0,
    "start_time": "2024-05-30T08:49:03.536Z"
   },
   {
    "duration": 0,
    "start_time": "2024-05-30T08:49:03.538Z"
   },
   {
    "duration": 0,
    "start_time": "2024-05-30T08:49:03.541Z"
   },
   {
    "duration": 0,
    "start_time": "2024-05-30T08:49:03.543Z"
   },
   {
    "duration": 0,
    "start_time": "2024-05-30T08:49:03.545Z"
   },
   {
    "duration": 0,
    "start_time": "2024-05-30T08:49:03.547Z"
   },
   {
    "duration": 0,
    "start_time": "2024-05-30T08:49:03.549Z"
   },
   {
    "duration": 0,
    "start_time": "2024-05-30T08:49:03.551Z"
   },
   {
    "duration": 0,
    "start_time": "2024-05-30T08:49:03.552Z"
   },
   {
    "duration": 4,
    "start_time": "2024-05-30T08:49:28.369Z"
   },
   {
    "duration": 300,
    "start_time": "2024-05-30T08:49:28.377Z"
   },
   {
    "duration": 10,
    "start_time": "2024-05-30T08:49:28.680Z"
   },
   {
    "duration": 41,
    "start_time": "2024-05-30T08:49:28.693Z"
   },
   {
    "duration": 14,
    "start_time": "2024-05-30T08:49:28.738Z"
   },
   {
    "duration": 14,
    "start_time": "2024-05-30T08:49:28.755Z"
   },
   {
    "duration": 16,
    "start_time": "2024-05-30T08:49:28.771Z"
   },
   {
    "duration": 52,
    "start_time": "2024-05-30T08:49:28.790Z"
   },
   {
    "duration": 21,
    "start_time": "2024-05-30T08:49:28.845Z"
   },
   {
    "duration": 27,
    "start_time": "2024-05-30T08:49:28.869Z"
   },
   {
    "duration": 11,
    "start_time": "2024-05-30T08:49:28.937Z"
   },
   {
    "duration": 100,
    "start_time": "2024-05-30T08:49:28.952Z"
   },
   {
    "duration": 60,
    "start_time": "2024-05-30T08:49:29.055Z"
   },
   {
    "duration": 33,
    "start_time": "2024-05-30T08:49:29.117Z"
   },
   {
    "duration": 10,
    "start_time": "2024-05-30T08:49:29.152Z"
   },
   {
    "duration": 73,
    "start_time": "2024-05-30T08:49:29.165Z"
   },
   {
    "duration": 25,
    "start_time": "2024-05-30T08:49:29.240Z"
   },
   {
    "duration": 24,
    "start_time": "2024-05-30T08:49:29.267Z"
   },
   {
    "duration": 11,
    "start_time": "2024-05-30T08:49:29.294Z"
   },
   {
    "duration": 104,
    "start_time": "2024-05-30T08:49:29.335Z"
   },
   {
    "duration": 39,
    "start_time": "2024-05-30T08:49:29.442Z"
   },
   {
    "duration": 109,
    "start_time": "2024-05-30T08:49:29.484Z"
   },
   {
    "duration": 96,
    "start_time": "2024-05-30T08:49:29.596Z"
   },
   {
    "duration": 12,
    "start_time": "2024-05-30T08:49:29.695Z"
   },
   {
    "duration": 29,
    "start_time": "2024-05-30T08:49:29.735Z"
   },
   {
    "duration": 135,
    "start_time": "2024-05-30T08:49:29.766Z"
   },
   {
    "duration": 43,
    "start_time": "2024-05-30T08:49:29.904Z"
   },
   {
    "duration": 41,
    "start_time": "2024-05-30T08:49:29.950Z"
   },
   {
    "duration": 257,
    "start_time": "2024-05-30T08:49:30.000Z"
   },
   {
    "duration": 175,
    "start_time": "2024-05-30T08:49:30.260Z"
   },
   {
    "duration": 18,
    "start_time": "2024-05-30T08:49:30.438Z"
   },
   {
    "duration": 75,
    "start_time": "2024-05-30T08:49:30.459Z"
   },
   {
    "duration": 41,
    "start_time": "2024-05-30T08:49:30.538Z"
   },
   {
    "duration": 66,
    "start_time": "2024-05-30T08:49:30.582Z"
   },
   {
    "duration": 37,
    "start_time": "2024-05-30T08:49:30.651Z"
   },
   {
    "duration": 194,
    "start_time": "2024-05-30T08:49:30.691Z"
   },
   {
    "duration": 12,
    "start_time": "2024-05-30T08:49:30.888Z"
   },
   {
    "duration": 113,
    "start_time": "2024-05-30T08:49:30.903Z"
   },
   {
    "duration": 12,
    "start_time": "2024-05-30T08:49:31.033Z"
   },
   {
    "duration": 919,
    "start_time": "2024-05-30T08:49:31.050Z"
   },
   {
    "duration": 953,
    "start_time": "2024-05-30T08:49:31.973Z"
   },
   {
    "duration": 935,
    "start_time": "2024-05-30T08:49:32.929Z"
   },
   {
    "duration": 23,
    "start_time": "2024-05-30T08:49:33.868Z"
   },
   {
    "duration": 0,
    "start_time": "2024-05-30T08:49:33.894Z"
   },
   {
    "duration": 0,
    "start_time": "2024-05-30T08:49:33.897Z"
   },
   {
    "duration": 0,
    "start_time": "2024-05-30T08:49:33.899Z"
   },
   {
    "duration": 0,
    "start_time": "2024-05-30T08:49:33.902Z"
   },
   {
    "duration": 0,
    "start_time": "2024-05-30T08:49:33.934Z"
   },
   {
    "duration": 0,
    "start_time": "2024-05-30T08:49:33.936Z"
   },
   {
    "duration": 0,
    "start_time": "2024-05-30T08:49:33.938Z"
   },
   {
    "duration": 0,
    "start_time": "2024-05-30T08:49:33.940Z"
   },
   {
    "duration": 0,
    "start_time": "2024-05-30T08:49:33.942Z"
   },
   {
    "duration": 0,
    "start_time": "2024-05-30T08:49:33.943Z"
   },
   {
    "duration": 0,
    "start_time": "2024-05-30T08:49:33.946Z"
   },
   {
    "duration": 4,
    "start_time": "2024-05-30T08:49:44.879Z"
   },
   {
    "duration": 290,
    "start_time": "2024-05-30T08:49:44.887Z"
   },
   {
    "duration": 11,
    "start_time": "2024-05-30T08:49:45.180Z"
   },
   {
    "duration": 43,
    "start_time": "2024-05-30T08:49:45.194Z"
   },
   {
    "duration": 13,
    "start_time": "2024-05-30T08:49:45.241Z"
   },
   {
    "duration": 14,
    "start_time": "2024-05-30T08:49:45.258Z"
   },
   {
    "duration": 14,
    "start_time": "2024-05-30T08:49:45.275Z"
   },
   {
    "duration": 52,
    "start_time": "2024-05-30T08:49:45.291Z"
   },
   {
    "duration": 19,
    "start_time": "2024-05-30T08:49:45.346Z"
   },
   {
    "duration": 28,
    "start_time": "2024-05-30T08:49:45.368Z"
   },
   {
    "duration": 11,
    "start_time": "2024-05-30T08:49:45.436Z"
   },
   {
    "duration": 103,
    "start_time": "2024-05-30T08:49:45.450Z"
   },
   {
    "duration": 59,
    "start_time": "2024-05-30T08:49:45.556Z"
   },
   {
    "duration": 31,
    "start_time": "2024-05-30T08:49:45.618Z"
   },
   {
    "duration": 10,
    "start_time": "2024-05-30T08:49:45.652Z"
   },
   {
    "duration": 73,
    "start_time": "2024-05-30T08:49:45.665Z"
   },
   {
    "duration": 27,
    "start_time": "2024-05-30T08:49:45.741Z"
   },
   {
    "duration": 24,
    "start_time": "2024-05-30T08:49:45.771Z"
   },
   {
    "duration": 40,
    "start_time": "2024-05-30T08:49:45.798Z"
   },
   {
    "duration": 102,
    "start_time": "2024-05-30T08:49:45.841Z"
   },
   {
    "duration": 38,
    "start_time": "2024-05-30T08:49:45.947Z"
   },
   {
    "duration": 106,
    "start_time": "2024-05-30T08:49:45.988Z"
   },
   {
    "duration": 96,
    "start_time": "2024-05-30T08:49:46.097Z"
   },
   {
    "duration": 41,
    "start_time": "2024-05-30T08:49:46.196Z"
   },
   {
    "duration": 33,
    "start_time": "2024-05-30T08:49:46.240Z"
   },
   {
    "duration": 142,
    "start_time": "2024-05-30T08:49:46.277Z"
   },
   {
    "duration": 36,
    "start_time": "2024-05-30T08:49:46.422Z"
   },
   {
    "duration": 41,
    "start_time": "2024-05-30T08:49:46.461Z"
   },
   {
    "duration": 230,
    "start_time": "2024-05-30T08:49:46.540Z"
   },
   {
    "duration": 181,
    "start_time": "2024-05-30T08:49:46.772Z"
   },
   {
    "duration": 18,
    "start_time": "2024-05-30T08:49:46.956Z"
   },
   {
    "duration": 71,
    "start_time": "2024-05-30T08:49:46.977Z"
   },
   {
    "duration": 40,
    "start_time": "2024-05-30T08:49:47.051Z"
   },
   {
    "duration": 75,
    "start_time": "2024-05-30T08:49:47.094Z"
   },
   {
    "duration": 36,
    "start_time": "2024-05-30T08:49:47.172Z"
   },
   {
    "duration": 186,
    "start_time": "2024-05-30T08:49:47.211Z"
   },
   {
    "duration": 13,
    "start_time": "2024-05-30T08:49:47.399Z"
   },
   {
    "duration": 105,
    "start_time": "2024-05-30T08:49:47.415Z"
   },
   {
    "duration": 12,
    "start_time": "2024-05-30T08:49:47.535Z"
   },
   {
    "duration": 933,
    "start_time": "2024-05-30T08:49:47.549Z"
   },
   {
    "duration": 952,
    "start_time": "2024-05-30T08:49:48.485Z"
   },
   {
    "duration": 1037,
    "start_time": "2024-05-30T08:49:49.442Z"
   },
   {
    "duration": 23,
    "start_time": "2024-05-30T08:49:50.481Z"
   },
   {
    "duration": 0,
    "start_time": "2024-05-30T08:49:50.507Z"
   },
   {
    "duration": 0,
    "start_time": "2024-05-30T08:49:50.509Z"
   },
   {
    "duration": 0,
    "start_time": "2024-05-30T08:49:50.536Z"
   },
   {
    "duration": 0,
    "start_time": "2024-05-30T08:49:50.538Z"
   },
   {
    "duration": 0,
    "start_time": "2024-05-30T08:49:50.541Z"
   },
   {
    "duration": 0,
    "start_time": "2024-05-30T08:49:50.543Z"
   },
   {
    "duration": 0,
    "start_time": "2024-05-30T08:49:50.546Z"
   },
   {
    "duration": 0,
    "start_time": "2024-05-30T08:49:50.548Z"
   },
   {
    "duration": 0,
    "start_time": "2024-05-30T08:49:50.550Z"
   },
   {
    "duration": 0,
    "start_time": "2024-05-30T08:49:50.552Z"
   },
   {
    "duration": 0,
    "start_time": "2024-05-30T08:49:50.555Z"
   },
   {
    "duration": 4,
    "start_time": "2024-05-30T08:50:17.438Z"
   },
   {
    "duration": 312,
    "start_time": "2024-05-30T08:50:17.446Z"
   },
   {
    "duration": 10,
    "start_time": "2024-05-30T08:50:17.760Z"
   },
   {
    "duration": 14,
    "start_time": "2024-05-30T08:50:17.773Z"
   },
   {
    "duration": 40,
    "start_time": "2024-05-30T08:50:17.794Z"
   },
   {
    "duration": 14,
    "start_time": "2024-05-30T08:50:17.837Z"
   },
   {
    "duration": 13,
    "start_time": "2024-05-30T08:50:17.855Z"
   },
   {
    "duration": 12,
    "start_time": "2024-05-30T08:50:17.871Z"
   },
   {
    "duration": 60,
    "start_time": "2024-05-30T08:50:17.886Z"
   },
   {
    "duration": 30,
    "start_time": "2024-05-30T08:50:17.949Z"
   },
   {
    "duration": 12,
    "start_time": "2024-05-30T08:50:17.982Z"
   },
   {
    "duration": 120,
    "start_time": "2024-05-30T08:50:17.997Z"
   },
   {
    "duration": 61,
    "start_time": "2024-05-30T08:50:18.135Z"
   },
   {
    "duration": 40,
    "start_time": "2024-05-30T08:50:18.203Z"
   },
   {
    "duration": 11,
    "start_time": "2024-05-30T08:50:18.245Z"
   },
   {
    "duration": 37,
    "start_time": "2024-05-30T08:50:18.259Z"
   },
   {
    "duration": 55,
    "start_time": "2024-05-30T08:50:18.298Z"
   },
   {
    "duration": 24,
    "start_time": "2024-05-30T08:50:18.356Z"
   },
   {
    "duration": 11,
    "start_time": "2024-05-30T08:50:18.383Z"
   },
   {
    "duration": 124,
    "start_time": "2024-05-30T08:50:18.397Z"
   },
   {
    "duration": 40,
    "start_time": "2024-05-30T08:50:18.523Z"
   },
   {
    "duration": 104,
    "start_time": "2024-05-30T08:50:18.566Z"
   },
   {
    "duration": 95,
    "start_time": "2024-05-30T08:50:18.673Z"
   },
   {
    "duration": 11,
    "start_time": "2024-05-30T08:50:18.771Z"
   },
   {
    "duration": 62,
    "start_time": "2024-05-30T08:50:18.785Z"
   },
   {
    "duration": 128,
    "start_time": "2024-05-30T08:50:18.850Z"
   },
   {
    "duration": 27,
    "start_time": "2024-05-30T08:50:18.981Z"
   },
   {
    "duration": 39,
    "start_time": "2024-05-30T08:50:19.035Z"
   },
   {
    "duration": 259,
    "start_time": "2024-05-30T08:50:19.077Z"
   },
   {
    "duration": 170,
    "start_time": "2024-05-30T08:50:19.339Z"
   },
   {
    "duration": 34,
    "start_time": "2024-05-30T08:50:19.512Z"
   },
   {
    "duration": 54,
    "start_time": "2024-05-30T08:50:19.553Z"
   },
   {
    "duration": 58,
    "start_time": "2024-05-30T08:50:19.610Z"
   },
   {
    "duration": 66,
    "start_time": "2024-05-30T08:50:19.671Z"
   },
   {
    "duration": 40,
    "start_time": "2024-05-30T08:50:19.740Z"
   },
   {
    "duration": 184,
    "start_time": "2024-05-30T08:50:19.784Z"
   },
   {
    "duration": 12,
    "start_time": "2024-05-30T08:50:19.972Z"
   },
   {
    "duration": 111,
    "start_time": "2024-05-30T08:50:19.987Z"
   },
   {
    "duration": 13,
    "start_time": "2024-05-30T08:50:20.100Z"
   },
   {
    "duration": 967,
    "start_time": "2024-05-30T08:50:20.117Z"
   },
   {
    "duration": 936,
    "start_time": "2024-05-30T08:50:21.093Z"
   },
   {
    "duration": 1018,
    "start_time": "2024-05-30T08:50:22.035Z"
   },
   {
    "duration": 22,
    "start_time": "2024-05-30T08:50:23.056Z"
   },
   {
    "duration": 22,
    "start_time": "2024-05-30T08:50:23.082Z"
   },
   {
    "duration": 484,
    "start_time": "2024-05-30T08:50:23.134Z"
   },
   {
    "duration": 16,
    "start_time": "2024-05-30T08:50:23.621Z"
   },
   {
    "duration": 180,
    "start_time": "2024-05-30T08:50:23.640Z"
   },
   {
    "duration": 17,
    "start_time": "2024-05-30T08:50:23.824Z"
   },
   {
    "duration": 23,
    "start_time": "2024-05-30T08:50:23.844Z"
   },
   {
    "duration": 0,
    "start_time": "2024-05-30T08:50:23.870Z"
   },
   {
    "duration": 0,
    "start_time": "2024-05-30T08:50:23.872Z"
   },
   {
    "duration": 0,
    "start_time": "2024-05-30T08:50:23.875Z"
   },
   {
    "duration": 0,
    "start_time": "2024-05-30T08:50:23.877Z"
   },
   {
    "duration": 4,
    "start_time": "2024-05-30T08:52:13.930Z"
   },
   {
    "duration": 308,
    "start_time": "2024-05-30T08:52:13.942Z"
   },
   {
    "duration": 11,
    "start_time": "2024-05-30T08:52:14.254Z"
   },
   {
    "duration": 17,
    "start_time": "2024-05-30T08:52:14.267Z"
   },
   {
    "duration": 53,
    "start_time": "2024-05-30T08:52:14.287Z"
   },
   {
    "duration": 15,
    "start_time": "2024-05-30T08:52:14.345Z"
   },
   {
    "duration": 14,
    "start_time": "2024-05-30T08:52:14.363Z"
   },
   {
    "duration": 13,
    "start_time": "2024-05-30T08:52:14.380Z"
   },
   {
    "duration": 18,
    "start_time": "2024-05-30T08:52:14.435Z"
   },
   {
    "duration": 30,
    "start_time": "2024-05-30T08:52:14.456Z"
   },
   {
    "duration": 11,
    "start_time": "2024-05-30T08:52:14.488Z"
   },
   {
    "duration": 100,
    "start_time": "2024-05-30T08:52:14.535Z"
   },
   {
    "duration": 58,
    "start_time": "2024-05-30T08:52:14.638Z"
   },
   {
    "duration": 40,
    "start_time": "2024-05-30T08:52:14.699Z"
   },
   {
    "duration": 10,
    "start_time": "2024-05-30T08:52:14.746Z"
   },
   {
    "duration": 39,
    "start_time": "2024-05-30T08:52:14.759Z"
   },
   {
    "duration": 53,
    "start_time": "2024-05-30T08:52:14.801Z"
   },
   {
    "duration": 26,
    "start_time": "2024-05-30T08:52:14.857Z"
   },
   {
    "duration": 11,
    "start_time": "2024-05-30T08:52:14.886Z"
   },
   {
    "duration": 105,
    "start_time": "2024-05-30T08:52:14.935Z"
   },
   {
    "duration": 33,
    "start_time": "2024-05-30T08:52:15.043Z"
   },
   {
    "duration": 100,
    "start_time": "2024-05-30T08:52:15.078Z"
   },
   {
    "duration": 96,
    "start_time": "2024-05-30T08:52:15.181Z"
   },
   {
    "duration": 12,
    "start_time": "2024-05-30T08:52:15.279Z"
   },
   {
    "duration": 60,
    "start_time": "2024-05-30T08:52:15.294Z"
   },
   {
    "duration": 135,
    "start_time": "2024-05-30T08:52:15.357Z"
   },
   {
    "duration": 43,
    "start_time": "2024-05-30T08:52:15.494Z"
   },
   {
    "duration": 40,
    "start_time": "2024-05-30T08:52:15.543Z"
   },
   {
    "duration": 261,
    "start_time": "2024-05-30T08:52:15.587Z"
   },
   {
    "duration": 178,
    "start_time": "2024-05-30T08:52:15.851Z"
   },
   {
    "duration": 20,
    "start_time": "2024-05-30T08:52:16.037Z"
   },
   {
    "duration": 44,
    "start_time": "2024-05-30T08:52:16.060Z"
   },
   {
    "duration": 66,
    "start_time": "2024-05-30T08:52:16.106Z"
   },
   {
    "duration": 89,
    "start_time": "2024-05-30T08:52:16.175Z"
   },
   {
    "duration": 40,
    "start_time": "2024-05-30T08:52:16.267Z"
   },
   {
    "duration": 188,
    "start_time": "2024-05-30T08:52:16.310Z"
   },
   {
    "duration": 12,
    "start_time": "2024-05-30T08:52:16.501Z"
   },
   {
    "duration": 107,
    "start_time": "2024-05-30T08:52:16.516Z"
   },
   {
    "duration": 13,
    "start_time": "2024-05-30T08:52:16.634Z"
   },
   {
    "duration": 945,
    "start_time": "2024-05-30T08:52:16.650Z"
   },
   {
    "duration": 936,
    "start_time": "2024-05-30T08:52:17.598Z"
   },
   {
    "duration": 921,
    "start_time": "2024-05-30T08:52:18.544Z"
   },
   {
    "duration": 7,
    "start_time": "2024-05-30T08:52:19.468Z"
   },
   {
    "duration": 21,
    "start_time": "2024-05-30T08:52:19.478Z"
   },
   {
    "duration": 54,
    "start_time": "2024-05-30T08:52:19.502Z"
   },
   {
    "duration": 564,
    "start_time": "2024-05-30T08:52:19.559Z"
   },
   {
    "duration": 9,
    "start_time": "2024-05-30T08:52:20.126Z"
   },
   {
    "duration": 186,
    "start_time": "2024-05-30T08:52:20.139Z"
   },
   {
    "duration": 7,
    "start_time": "2024-05-30T08:52:20.333Z"
   },
   {
    "duration": 38,
    "start_time": "2024-05-30T08:52:20.343Z"
   },
   {
    "duration": 0,
    "start_time": "2024-05-30T08:52:20.384Z"
   },
   {
    "duration": 0,
    "start_time": "2024-05-30T08:52:20.386Z"
   },
   {
    "duration": 0,
    "start_time": "2024-05-30T08:52:20.388Z"
   },
   {
    "duration": 0,
    "start_time": "2024-05-30T08:52:20.390Z"
   },
   {
    "duration": 4,
    "start_time": "2024-05-30T08:53:08.803Z"
   },
   {
    "duration": 305,
    "start_time": "2024-05-30T08:53:08.811Z"
   },
   {
    "duration": 10,
    "start_time": "2024-05-30T08:53:09.134Z"
   },
   {
    "duration": 15,
    "start_time": "2024-05-30T08:53:09.147Z"
   },
   {
    "duration": 13,
    "start_time": "2024-05-30T08:53:09.165Z"
   },
   {
    "duration": 55,
    "start_time": "2024-05-30T08:53:09.181Z"
   },
   {
    "duration": 14,
    "start_time": "2024-05-30T08:53:09.239Z"
   },
   {
    "duration": 11,
    "start_time": "2024-05-30T08:53:09.256Z"
   },
   {
    "duration": 18,
    "start_time": "2024-05-30T08:53:09.273Z"
   },
   {
    "duration": 29,
    "start_time": "2024-05-30T08:53:09.336Z"
   },
   {
    "duration": 11,
    "start_time": "2024-05-30T08:53:09.368Z"
   },
   {
    "duration": 117,
    "start_time": "2024-05-30T08:53:09.383Z"
   },
   {
    "duration": 84,
    "start_time": "2024-05-30T08:53:09.503Z"
   },
   {
    "duration": 21,
    "start_time": "2024-05-30T08:53:09.594Z"
   },
   {
    "duration": 23,
    "start_time": "2024-05-30T08:53:09.617Z"
   },
   {
    "duration": 39,
    "start_time": "2024-05-30T08:53:09.644Z"
   },
   {
    "duration": 58,
    "start_time": "2024-05-30T08:53:09.686Z"
   },
   {
    "duration": 27,
    "start_time": "2024-05-30T08:53:09.746Z"
   },
   {
    "duration": 11,
    "start_time": "2024-05-30T08:53:09.775Z"
   },
   {
    "duration": 126,
    "start_time": "2024-05-30T08:53:09.789Z"
   },
   {
    "duration": 45,
    "start_time": "2024-05-30T08:53:09.917Z"
   },
   {
    "duration": 96,
    "start_time": "2024-05-30T08:53:09.965Z"
   },
   {
    "duration": 106,
    "start_time": "2024-05-30T08:53:10.064Z"
   },
   {
    "duration": 12,
    "start_time": "2024-05-30T08:53:10.178Z"
   },
   {
    "duration": 59,
    "start_time": "2024-05-30T08:53:10.193Z"
   },
   {
    "duration": 127,
    "start_time": "2024-05-30T08:53:10.255Z"
   },
   {
    "duration": 50,
    "start_time": "2024-05-30T08:53:10.385Z"
   },
   {
    "duration": 39,
    "start_time": "2024-05-30T08:53:10.438Z"
   },
   {
    "duration": 257,
    "start_time": "2024-05-30T08:53:10.480Z"
   },
   {
    "duration": 168,
    "start_time": "2024-05-30T08:53:10.740Z"
   },
   {
    "duration": 28,
    "start_time": "2024-05-30T08:53:10.912Z"
   },
   {
    "duration": 43,
    "start_time": "2024-05-30T08:53:10.943Z"
   },
   {
    "duration": 73,
    "start_time": "2024-05-30T08:53:10.988Z"
   },
   {
    "duration": 42,
    "start_time": "2024-05-30T08:53:11.064Z"
   },
   {
    "duration": 37,
    "start_time": "2024-05-30T08:53:11.135Z"
   },
   {
    "duration": 182,
    "start_time": "2024-05-30T08:53:11.176Z"
   },
   {
    "duration": 12,
    "start_time": "2024-05-30T08:53:11.361Z"
   },
   {
    "duration": 111,
    "start_time": "2024-05-30T08:53:11.376Z"
   },
   {
    "duration": 12,
    "start_time": "2024-05-30T08:53:11.490Z"
   },
   {
    "duration": 969,
    "start_time": "2024-05-30T08:53:11.504Z"
   },
   {
    "duration": 873,
    "start_time": "2024-05-30T08:53:12.476Z"
   },
   {
    "duration": 907,
    "start_time": "2024-05-30T08:53:13.352Z"
   },
   {
    "duration": 7,
    "start_time": "2024-05-30T08:53:14.262Z"
   },
   {
    "duration": 20,
    "start_time": "2024-05-30T08:53:14.272Z"
   },
   {
    "duration": 50,
    "start_time": "2024-05-30T08:53:14.295Z"
   },
   {
    "duration": 472,
    "start_time": "2024-05-30T08:53:14.348Z"
   },
   {
    "duration": 14,
    "start_time": "2024-05-30T08:53:14.823Z"
   },
   {
    "duration": 280,
    "start_time": "2024-05-30T08:53:14.840Z"
   },
   {
    "duration": 14,
    "start_time": "2024-05-30T08:53:15.124Z"
   },
   {
    "duration": 33,
    "start_time": "2024-05-30T08:53:15.141Z"
   },
   {
    "duration": 15,
    "start_time": "2024-05-30T08:53:15.177Z"
   },
   {
    "duration": 47,
    "start_time": "2024-05-30T08:53:15.195Z"
   },
   {
    "duration": 10,
    "start_time": "2024-05-30T08:53:15.245Z"
   },
   {
    "duration": 8,
    "start_time": "2024-05-30T08:53:15.258Z"
   },
   {
    "duration": 4,
    "start_time": "2024-05-30T08:57:43.526Z"
   },
   {
    "duration": 318,
    "start_time": "2024-05-30T08:57:43.534Z"
   },
   {
    "duration": 11,
    "start_time": "2024-05-30T08:57:43.855Z"
   },
   {
    "duration": 14,
    "start_time": "2024-05-30T08:57:43.870Z"
   },
   {
    "duration": 48,
    "start_time": "2024-05-30T08:57:43.886Z"
   },
   {
    "duration": 15,
    "start_time": "2024-05-30T08:57:43.937Z"
   },
   {
    "duration": 14,
    "start_time": "2024-05-30T08:57:43.954Z"
   },
   {
    "duration": 12,
    "start_time": "2024-05-30T08:57:43.971Z"
   },
   {
    "duration": 55,
    "start_time": "2024-05-30T08:57:43.988Z"
   },
   {
    "duration": 29,
    "start_time": "2024-05-30T08:57:44.046Z"
   },
   {
    "duration": 13,
    "start_time": "2024-05-30T08:57:44.078Z"
   },
   {
    "duration": 126,
    "start_time": "2024-05-30T08:57:44.094Z"
   },
   {
    "duration": 125,
    "start_time": "2024-05-30T08:57:44.222Z"
   },
   {
    "duration": 21,
    "start_time": "2024-05-30T08:57:44.350Z"
   },
   {
    "duration": 10,
    "start_time": "2024-05-30T08:57:44.374Z"
   },
   {
    "duration": 83,
    "start_time": "2024-05-30T08:57:44.386Z"
   },
   {
    "duration": 65,
    "start_time": "2024-05-30T08:57:44.471Z"
   },
   {
    "duration": 24,
    "start_time": "2024-05-30T08:57:44.539Z"
   },
   {
    "duration": 10,
    "start_time": "2024-05-30T08:57:44.566Z"
   },
   {
    "duration": 148,
    "start_time": "2024-05-30T08:57:44.636Z"
   },
   {
    "duration": 72,
    "start_time": "2024-05-30T08:57:44.787Z"
   },
   {
    "duration": 136,
    "start_time": "2024-05-30T08:57:44.862Z"
   },
   {
    "duration": 103,
    "start_time": "2024-05-30T08:57:45.001Z"
   },
   {
    "duration": 12,
    "start_time": "2024-05-30T08:57:45.137Z"
   },
   {
    "duration": 32,
    "start_time": "2024-05-30T08:57:45.152Z"
   },
   {
    "duration": 153,
    "start_time": "2024-05-30T08:57:45.188Z"
   },
   {
    "duration": 27,
    "start_time": "2024-05-30T08:57:45.343Z"
   },
   {
    "duration": 68,
    "start_time": "2024-05-30T08:57:45.372Z"
   },
   {
    "duration": 232,
    "start_time": "2024-05-30T08:57:45.442Z"
   },
   {
    "duration": 183,
    "start_time": "2024-05-30T08:57:45.678Z"
   },
   {
    "duration": 17,
    "start_time": "2024-05-30T08:57:45.864Z"
   },
   {
    "duration": 79,
    "start_time": "2024-05-30T08:57:45.884Z"
   },
   {
    "duration": 43,
    "start_time": "2024-05-30T08:57:45.965Z"
   },
   {
    "duration": 66,
    "start_time": "2024-05-30T08:57:46.011Z"
   },
   {
    "duration": 62,
    "start_time": "2024-05-30T08:57:46.079Z"
   },
   {
    "duration": 194,
    "start_time": "2024-05-30T08:57:46.144Z"
   },
   {
    "duration": 15,
    "start_time": "2024-05-30T08:57:46.341Z"
   },
   {
    "duration": 103,
    "start_time": "2024-05-30T08:57:46.359Z"
   },
   {
    "duration": 12,
    "start_time": "2024-05-30T08:57:46.465Z"
   },
   {
    "duration": 1022,
    "start_time": "2024-05-30T08:57:46.480Z"
   },
   {
    "duration": 939,
    "start_time": "2024-05-30T08:57:47.505Z"
   },
   {
    "duration": 927,
    "start_time": "2024-05-30T08:57:48.447Z"
   },
   {
    "duration": 8,
    "start_time": "2024-05-30T08:57:49.377Z"
   },
   {
    "duration": 48,
    "start_time": "2024-05-30T08:57:49.387Z"
   },
   {
    "duration": 21,
    "start_time": "2024-05-30T08:57:49.439Z"
   },
   {
    "duration": 464,
    "start_time": "2024-05-30T08:57:49.463Z"
   },
   {
    "duration": 7,
    "start_time": "2024-05-30T08:57:49.930Z"
   },
   {
    "duration": 193,
    "start_time": "2024-05-30T08:57:49.939Z"
   },
   {
    "duration": 7,
    "start_time": "2024-05-30T08:57:50.135Z"
   },
   {
    "duration": 33,
    "start_time": "2024-05-30T08:57:50.145Z"
   },
   {
    "duration": 16,
    "start_time": "2024-05-30T08:57:50.181Z"
   },
   {
    "duration": 12,
    "start_time": "2024-05-30T08:57:50.235Z"
   },
   {
    "duration": 7,
    "start_time": "2024-05-30T08:57:50.252Z"
   },
   {
    "duration": 10,
    "start_time": "2024-05-30T08:57:50.263Z"
   },
   {
    "duration": 4,
    "start_time": "2024-05-30T08:58:59.059Z"
   },
   {
    "duration": 315,
    "start_time": "2024-05-30T08:58:59.066Z"
   },
   {
    "duration": 11,
    "start_time": "2024-05-30T08:58:59.383Z"
   },
   {
    "duration": 14,
    "start_time": "2024-05-30T08:58:59.397Z"
   },
   {
    "duration": 13,
    "start_time": "2024-05-30T08:58:59.436Z"
   },
   {
    "duration": 16,
    "start_time": "2024-05-30T08:58:59.452Z"
   },
   {
    "duration": 14,
    "start_time": "2024-05-30T08:58:59.470Z"
   },
   {
    "duration": 51,
    "start_time": "2024-05-30T08:58:59.487Z"
   },
   {
    "duration": 132,
    "start_time": "2024-05-30T08:58:59.542Z"
   },
   {
    "duration": 29,
    "start_time": "2024-05-30T08:58:59.677Z"
   },
   {
    "duration": 33,
    "start_time": "2024-05-30T08:58:59.708Z"
   },
   {
    "duration": 104,
    "start_time": "2024-05-30T08:58:59.744Z"
   },
   {
    "duration": 57,
    "start_time": "2024-05-30T08:58:59.855Z"
   },
   {
    "duration": 40,
    "start_time": "2024-05-30T08:58:59.915Z"
   },
   {
    "duration": 11,
    "start_time": "2024-05-30T08:58:59.957Z"
   },
   {
    "duration": 73,
    "start_time": "2024-05-30T08:58:59.971Z"
   },
   {
    "duration": 26,
    "start_time": "2024-05-30T08:59:00.047Z"
   },
   {
    "duration": 30,
    "start_time": "2024-05-30T08:59:00.075Z"
   },
   {
    "duration": 11,
    "start_time": "2024-05-30T08:59:00.135Z"
   },
   {
    "duration": 128,
    "start_time": "2024-05-30T08:59:00.149Z"
   },
   {
    "duration": 33,
    "start_time": "2024-05-30T08:59:00.281Z"
   },
   {
    "duration": 117,
    "start_time": "2024-05-30T08:59:00.317Z"
   },
   {
    "duration": 99,
    "start_time": "2024-05-30T08:59:00.437Z"
   },
   {
    "duration": 12,
    "start_time": "2024-05-30T08:59:00.538Z"
   },
   {
    "duration": 28,
    "start_time": "2024-05-30T08:59:00.553Z"
   },
   {
    "duration": 152,
    "start_time": "2024-05-30T08:59:00.584Z"
   },
   {
    "duration": 27,
    "start_time": "2024-05-30T08:59:00.739Z"
   },
   {
    "duration": 71,
    "start_time": "2024-05-30T08:59:00.769Z"
   },
   {
    "duration": 237,
    "start_time": "2024-05-30T08:59:00.843Z"
   },
   {
    "duration": 180,
    "start_time": "2024-05-30T08:59:01.083Z"
   },
   {
    "duration": 17,
    "start_time": "2024-05-30T08:59:01.266Z"
   },
   {
    "duration": 67,
    "start_time": "2024-05-30T08:59:01.286Z"
   },
   {
    "duration": 38,
    "start_time": "2024-05-30T08:59:01.356Z"
   },
   {
    "duration": 73,
    "start_time": "2024-05-30T08:59:01.397Z"
   },
   {
    "duration": 61,
    "start_time": "2024-05-30T08:59:01.473Z"
   },
   {
    "duration": 169,
    "start_time": "2024-05-30T08:59:01.537Z"
   },
   {
    "duration": 21,
    "start_time": "2024-05-30T08:59:01.717Z"
   },
   {
    "duration": 104,
    "start_time": "2024-05-30T08:59:01.741Z"
   },
   {
    "duration": 12,
    "start_time": "2024-05-30T08:59:01.848Z"
   },
   {
    "duration": 914,
    "start_time": "2024-05-30T08:59:01.863Z"
   },
   {
    "duration": 860,
    "start_time": "2024-05-30T08:59:02.780Z"
   },
   {
    "duration": 919,
    "start_time": "2024-05-30T08:59:03.643Z"
   },
   {
    "duration": 7,
    "start_time": "2024-05-30T08:59:04.566Z"
   },
   {
    "duration": 21,
    "start_time": "2024-05-30T08:59:04.576Z"
   },
   {
    "duration": 47,
    "start_time": "2024-05-30T08:59:04.601Z"
   },
   {
    "duration": 478,
    "start_time": "2024-05-30T08:59:04.651Z"
   },
   {
    "duration": 8,
    "start_time": "2024-05-30T08:59:05.136Z"
   },
   {
    "duration": 184,
    "start_time": "2024-05-30T08:59:05.147Z"
   },
   {
    "duration": 6,
    "start_time": "2024-05-30T08:59:05.335Z"
   },
   {
    "duration": 33,
    "start_time": "2024-05-30T08:59:05.345Z"
   },
   {
    "duration": 53,
    "start_time": "2024-05-30T08:59:05.381Z"
   },
   {
    "duration": 12,
    "start_time": "2024-05-30T08:59:05.437Z"
   },
   {
    "duration": 8,
    "start_time": "2024-05-30T08:59:05.451Z"
   },
   {
    "duration": 7,
    "start_time": "2024-05-30T08:59:05.462Z"
   },
   {
    "duration": 4,
    "start_time": "2024-05-30T09:05:30.490Z"
   },
   {
    "duration": 303,
    "start_time": "2024-05-30T09:05:30.497Z"
   },
   {
    "duration": 33,
    "start_time": "2024-05-30T09:05:30.802Z"
   },
   {
    "duration": 15,
    "start_time": "2024-05-30T09:05:30.838Z"
   },
   {
    "duration": 13,
    "start_time": "2024-05-30T09:05:30.859Z"
   },
   {
    "duration": 14,
    "start_time": "2024-05-30T09:05:30.875Z"
   },
   {
    "duration": 50,
    "start_time": "2024-05-30T09:05:30.892Z"
   },
   {
    "duration": 12,
    "start_time": "2024-05-30T09:05:30.946Z"
   },
   {
    "duration": 19,
    "start_time": "2024-05-30T09:05:30.960Z"
   },
   {
    "duration": 69,
    "start_time": "2024-05-30T09:05:30.982Z"
   },
   {
    "duration": 11,
    "start_time": "2024-05-30T09:05:31.054Z"
   },
   {
    "duration": 118,
    "start_time": "2024-05-30T09:05:31.068Z"
   },
   {
    "duration": 68,
    "start_time": "2024-05-30T09:05:31.189Z"
   },
   {
    "duration": 21,
    "start_time": "2024-05-30T09:05:31.263Z"
   },
   {
    "duration": 11,
    "start_time": "2024-05-30T09:05:31.287Z"
   },
   {
    "duration": 68,
    "start_time": "2024-05-30T09:05:31.301Z"
   },
   {
    "duration": 24,
    "start_time": "2024-05-30T09:05:31.372Z"
   },
   {
    "duration": 46,
    "start_time": "2024-05-30T09:05:31.399Z"
   },
   {
    "duration": 11,
    "start_time": "2024-05-30T09:05:31.448Z"
   },
   {
    "duration": 134,
    "start_time": "2024-05-30T09:05:31.462Z"
   },
   {
    "duration": 45,
    "start_time": "2024-05-30T09:05:31.599Z"
   },
   {
    "duration": 97,
    "start_time": "2024-05-30T09:05:31.647Z"
   },
   {
    "duration": 98,
    "start_time": "2024-05-30T09:05:31.747Z"
   },
   {
    "duration": 13,
    "start_time": "2024-05-30T09:05:31.848Z"
   },
   {
    "duration": 30,
    "start_time": "2024-05-30T09:05:31.864Z"
   },
   {
    "duration": 121,
    "start_time": "2024-05-30T09:05:31.934Z"
   },
   {
    "duration": 25,
    "start_time": "2024-05-30T09:05:32.058Z"
   },
   {
    "duration": 67,
    "start_time": "2024-05-30T09:05:32.086Z"
   },
   {
    "duration": 233,
    "start_time": "2024-05-30T09:05:32.156Z"
   },
   {
    "duration": 180,
    "start_time": "2024-05-30T09:05:32.392Z"
   },
   {
    "duration": 17,
    "start_time": "2024-05-30T09:05:32.575Z"
   },
   {
    "duration": 63,
    "start_time": "2024-05-30T09:05:32.595Z"
   },
   {
    "duration": 39,
    "start_time": "2024-05-30T09:05:32.661Z"
   },
   {
    "duration": 71,
    "start_time": "2024-05-30T09:05:32.703Z"
   },
   {
    "duration": 62,
    "start_time": "2024-05-30T09:05:32.777Z"
   },
   {
    "duration": 172,
    "start_time": "2024-05-30T09:05:32.842Z"
   },
   {
    "duration": 20,
    "start_time": "2024-05-30T09:05:33.017Z"
   },
   {
    "duration": 107,
    "start_time": "2024-05-30T09:05:33.041Z"
   },
   {
    "duration": 12,
    "start_time": "2024-05-30T09:05:33.153Z"
   },
   {
    "duration": 1008,
    "start_time": "2024-05-30T09:05:33.168Z"
   },
   {
    "duration": 854,
    "start_time": "2024-05-30T09:05:34.184Z"
   },
   {
    "duration": 932,
    "start_time": "2024-05-30T09:05:35.041Z"
   },
   {
    "duration": 7,
    "start_time": "2024-05-30T09:05:35.977Z"
   },
   {
    "duration": 21,
    "start_time": "2024-05-30T09:05:35.988Z"
   },
   {
    "duration": 23,
    "start_time": "2024-05-30T09:05:36.035Z"
   },
   {
    "duration": 481,
    "start_time": "2024-05-30T09:05:36.061Z"
   },
   {
    "duration": 8,
    "start_time": "2024-05-30T09:05:36.545Z"
   },
   {
    "duration": 199,
    "start_time": "2024-05-30T09:05:36.557Z"
   },
   {
    "duration": 6,
    "start_time": "2024-05-30T09:05:36.759Z"
   },
   {
    "duration": 33,
    "start_time": "2024-05-30T09:05:36.769Z"
   },
   {
    "duration": 18,
    "start_time": "2024-05-30T09:05:36.834Z"
   },
   {
    "duration": 11,
    "start_time": "2024-05-30T09:05:36.855Z"
   },
   {
    "duration": 7,
    "start_time": "2024-05-30T09:05:36.868Z"
   },
   {
    "duration": 8,
    "start_time": "2024-05-30T09:05:36.879Z"
   },
   {
    "duration": 6737,
    "start_time": "2024-05-30T17:39:45.764Z"
   },
   {
    "duration": 396,
    "start_time": "2024-05-30T17:39:52.507Z"
   },
   {
    "duration": 11,
    "start_time": "2024-05-30T17:39:52.906Z"
   },
   {
    "duration": 16,
    "start_time": "2024-05-30T17:39:52.920Z"
   },
   {
    "duration": 16,
    "start_time": "2024-05-30T17:39:52.939Z"
   },
   {
    "duration": 17,
    "start_time": "2024-05-30T17:39:52.990Z"
   },
   {
    "duration": 15,
    "start_time": "2024-05-30T17:39:53.010Z"
   },
   {
    "duration": 13,
    "start_time": "2024-05-30T17:39:53.029Z"
   },
   {
    "duration": 63,
    "start_time": "2024-05-30T17:39:53.045Z"
   },
   {
    "duration": 25,
    "start_time": "2024-05-30T17:39:53.115Z"
   },
   {
    "duration": 47,
    "start_time": "2024-05-30T17:39:53.143Z"
   },
   {
    "duration": 74,
    "start_time": "2024-05-30T17:39:53.194Z"
   },
   {
    "duration": 75,
    "start_time": "2024-05-30T17:39:53.271Z"
   },
   {
    "duration": 20,
    "start_time": "2024-05-30T17:39:53.348Z"
   },
   {
    "duration": 11,
    "start_time": "2024-05-30T17:39:53.392Z"
   },
   {
    "duration": 35,
    "start_time": "2024-05-30T17:39:53.406Z"
   },
   {
    "duration": 54,
    "start_time": "2024-05-30T17:39:53.444Z"
   },
   {
    "duration": 30,
    "start_time": "2024-05-30T17:39:53.501Z"
   },
   {
    "duration": 11,
    "start_time": "2024-05-30T17:39:53.535Z"
   },
   {
    "duration": 123,
    "start_time": "2024-05-30T17:39:53.549Z"
   },
   {
    "duration": 40,
    "start_time": "2024-05-30T17:39:53.674Z"
   },
   {
    "duration": 100,
    "start_time": "2024-05-30T17:39:53.717Z"
   },
   {
    "duration": 94,
    "start_time": "2024-05-30T17:39:53.820Z"
   },
   {
    "duration": 13,
    "start_time": "2024-05-30T17:39:53.917Z"
   },
   {
    "duration": 64,
    "start_time": "2024-05-30T17:39:53.934Z"
   },
   {
    "duration": 130,
    "start_time": "2024-05-30T17:39:54.001Z"
   },
   {
    "duration": 28,
    "start_time": "2024-05-30T17:39:54.134Z"
   },
   {
    "duration": 43,
    "start_time": "2024-05-30T17:39:54.198Z"
   },
   {
    "duration": 264,
    "start_time": "2024-05-30T17:39:54.243Z"
   },
   {
    "duration": 179,
    "start_time": "2024-05-30T17:39:54.510Z"
   },
   {
    "duration": 17,
    "start_time": "2024-05-30T17:39:54.692Z"
   },
   {
    "duration": 80,
    "start_time": "2024-05-30T17:39:54.712Z"
   },
   {
    "duration": 45,
    "start_time": "2024-05-30T17:39:54.796Z"
   },
   {
    "duration": 69,
    "start_time": "2024-05-30T17:39:54.844Z"
   },
   {
    "duration": 37,
    "start_time": "2024-05-30T17:39:54.916Z"
   },
   {
    "duration": 193,
    "start_time": "2024-05-30T17:39:54.956Z"
   },
   {
    "duration": 13,
    "start_time": "2024-05-30T17:39:55.152Z"
   },
   {
    "duration": 106,
    "start_time": "2024-05-30T17:39:55.168Z"
   },
   {
    "duration": 11,
    "start_time": "2024-05-30T17:39:55.290Z"
   },
   {
    "duration": 972,
    "start_time": "2024-05-30T17:39:55.305Z"
   },
   {
    "duration": 992,
    "start_time": "2024-05-30T17:39:56.280Z"
   },
   {
    "duration": 945,
    "start_time": "2024-05-30T17:39:57.276Z"
   },
   {
    "duration": 8,
    "start_time": "2024-05-30T17:39:58.224Z"
   },
   {
    "duration": 56,
    "start_time": "2024-05-30T17:39:58.236Z"
   },
   {
    "duration": 26,
    "start_time": "2024-05-30T17:39:58.296Z"
   },
   {
    "duration": 514,
    "start_time": "2024-05-30T17:39:58.326Z"
   },
   {
    "duration": 9,
    "start_time": "2024-05-30T17:39:58.844Z"
   },
   {
    "duration": 216,
    "start_time": "2024-05-30T17:39:58.856Z"
   },
   {
    "duration": 15,
    "start_time": "2024-05-30T17:39:59.075Z"
   },
   {
    "duration": 36,
    "start_time": "2024-05-30T17:39:59.093Z"
   },
   {
    "duration": 16,
    "start_time": "2024-05-30T17:39:59.132Z"
   },
   {
    "duration": 53,
    "start_time": "2024-05-30T17:39:59.151Z"
   },
   {
    "duration": 8,
    "start_time": "2024-05-30T17:39:59.208Z"
   },
   {
    "duration": 9,
    "start_time": "2024-05-30T17:39:59.224Z"
   }
  ],
  "kernelspec": {
   "display_name": "Python 3 (ipykernel)",
   "language": "python",
   "name": "python3"
  },
  "language_info": {
   "codemirror_mode": {
    "name": "ipython",
    "version": 3
   },
   "file_extension": ".py",
   "mimetype": "text/x-python",
   "name": "python",
   "nbconvert_exporter": "python",
   "pygments_lexer": "ipython3",
   "version": "3.9.19"
  },
  "toc": {
   "base_numbering": 1,
   "nav_menu": {},
   "number_sections": true,
   "sideBar": true,
   "skip_h1_title": false,
   "title_cell": "Table of Contents",
   "title_sidebar": "Contents",
   "toc_cell": false,
   "toc_position": {
    "height": "calc(100% - 180px)",
    "left": "10px",
    "top": "150px",
    "width": "253.2px"
   },
   "toc_section_display": true,
   "toc_window_display": true
  }
 },
 "nbformat": 4,
 "nbformat_minor": 2
}
